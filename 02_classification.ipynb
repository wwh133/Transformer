{
  "cells": [
    {
      "cell_type": "code",
      "execution_count": null,
      "metadata": {
        "id": "feFMgYKnoM3W"
      },
      "outputs": [],
      "source": [
        "# Uncomment and run this cell if you're on Colab or Kaggle\n",
        "# !git clone https://github.com/nlp-with-transformers/notebooks.git\n",
        "# %cd notebooks\n",
        "# from install import *\n",
        "# install_requirements(is_chapter2=True)"
      ]
    },
    {
      "cell_type": "code",
      "execution_count": null,
      "metadata": {
        "id": "4MNr-tDSoM3X"
      },
      "outputs": [],
      "source": [
        "# hide\n",
        "from utils import *\n",
        "setup_chapter()"
      ]
    },
    {
      "cell_type": "markdown",
      "metadata": {
        "id": "DSdY5odKoM3X"
      },
      "source": [
        "# Text Classification"
      ]
    },
    {
      "cell_type": "markdown",
      "metadata": {
        "id": "too8lCYDoM3Y"
      },
      "source": [
        "Text classification is one of the most common tasks in NLP; it can be used for a broad range of applications, such as tagging customer feedback into categories or routing support tickets according to their language. Chances are that your email program's spam filter is using text classification to protect your inbox from a deluge of unwanted junk!"
      ]
    },
    {
      "cell_type": "markdown",
      "metadata": {
        "id": "NTt3biTfoM3Y"
      },
      "source": [
        "Another common type of text classification is sentiment analysis, which (as we saw in <<chapter_introduction>>) aims to identify the polarity of a given text. For example, a company like Tesla might analyze Twitter posts like the one in <<tesla-tweet>> to determine whether people like its new car roofs or not."
      ]
    },
    {
      "cell_type": "markdown",
      "metadata": {
        "id": "lfYtOhOtoM3Y"
      },
      "source": [
        "<img alt=\"Tesla Tweet\" width=\"500\" caption=\"Analyzing Twitter content can yield useful feedback from customers (courtesy of Aditya Veluri)\" src=\"https://github.com/nlp-with-transformers/notebooks/blob/main/images/chapter02_tweet.png?raw=1\" id=\"tesla-tweet\"/>"
      ]
    },
    {
      "cell_type": "markdown",
      "metadata": {
        "id": "_sl_VFNxoM3Y"
      },
      "source": [
        "Now imagine that you are a data scientist who needs to build a system that can automatically identify emotional states such as \"anger\" or \"joy\" that people express about your company's product on Twitter. In this chapter, we'll tackle this task using a variant of BERT called DistilBERT.footnote:[V. Sanh et al., [\"DistilBERT, a Distilled Version of BERT: Smaller, Faster, Cheaper and Lighter\"](https://arxiv.org/abs/1910.01108), (2019).] The main advantage of this model is that it achieves comparable performance to BERT, while being significantly smaller and more efficient. This enables us to train a classifier in a few minutes, and if you want to train a larger BERT model you can simply change the checkpoint of the pretrained model. A _checkpoint_ corresponds to the set of weights that are loaded into a given transformer architecture.\n",
        "\n",
        "This will also be our first encounter with three of the core libraries from the Hugging Face ecosystem: image:images/logo.png[hf,13,13] Datasets, image:images/logo.png[hf,13,13] Tokenizers, and image:images/logo.png[hf,13,13] Transformers. As shown in  <<hf-libraries>>, these libraries will allow us to quickly go from raw text to a fine-tuned model that can be used for inference on new tweets. So, in the spirit of Optimus Prime, let's dive in, \"transform, and roll out!\"footnote:[Optimus Prime is the leader of a race of robots in the popular Transformers franchise for children (and for those who are young at heart!).]"
      ]
    },
    {
      "cell_type": "markdown",
      "metadata": {
        "id": "j89J_tXdoM3Y"
      },
      "source": [
        "<img alt=\"Hugging Face Pipeline\" caption=\"A typical pipeline for training transformer models with the image:images/logo.png[hf,13,13] Datasets, image:images/logo.png[hf,13,13] Tokenizers, and image:images/logo.png[hf,13,13] Transformers libraries\" src=\"https://github.com/nlp-with-transformers/notebooks/blob/main/images/chapter02_hf-libraries.png?raw=1\" id=\"hf-libraries\"/>"
      ]
    },
    {
      "cell_type": "markdown",
      "metadata": {
        "id": "IPjIlQ1uoM3Y"
      },
      "source": [
        "## The Dataset"
      ]
    },
    {
      "cell_type": "markdown",
      "metadata": {
        "id": "dHLA6O6doM3Z"
      },
      "source": [
        "To build our emotion detector we'll use a great dataset from an article that explored how emotions are represented in English Twitter messages.footnote:[E. Saravia et al., \"CARER: Contextualized Affect Representations for Emotion Recognition,\" _Proceedings of the 2018 Conference on Empirical Methods in Natural Language Processing_ (Oct–Nov 2018): 3687–3697, http://dx.doi.org/10.18653/v1/D18-1404.] Unlike most sentiment analysis datasets that involve just \"positive\" and \"negative\" polarities, this dataset contains six basic emotions: anger, disgust, fear, joy, sadness, and surprise. Given a tweet, our task will be to train a model that can classify it into one of these emotions."
      ]
    },
    {
      "cell_type": "markdown",
      "metadata": {
        "id": "Uny2ZwcLoM3Z"
      },
      "source": [
        "### A First Look at Hugging Face Datasets 【查找Hugging Face Hub 上数据集】"
      ]
    },
    {
      "cell_type": "markdown",
      "metadata": {
        "id": "XyEZQEttoM3Z"
      },
      "source": [
        "We will use image:images/logo.png[hf,13,13] Datasets to download the data from the [Hugging Face Hub](https://huggingface.co/datasets). We can use the `list_datasets()` function to see what datasets are available on the Hub:"
      ]
    },
    {
      "cell_type": "code",
      "source": [
        "!pip install datasets"
      ],
      "metadata": {
        "id": "et8bpD4_pOyU"
      },
      "execution_count": null,
      "outputs": []
    },
    {
      "cell_type": "code",
      "execution_count": 3,
      "metadata": {
        "id": "cQnns5RCoM3Z",
        "outputId": "9cd23201-64a9-4ba4-a8a5-8d3c9072b676",
        "colab": {
          "base_uri": "https://localhost:8080/"
        }
      },
      "outputs": [
        {
          "output_type": "stream",
          "name": "stderr",
          "text": [
            "<ipython-input-3-5bbe0ef773bc>:4: FutureWarning: list_datasets is deprecated and will be removed in the next major version of datasets. Use 'huggingface_hub.list_datasets' instead.\n",
            "  all_datasets = list_datasets()\n",
            "/usr/local/lib/python3.10/dist-packages/huggingface_hub/utils/_token.py:89: UserWarning: \n",
            "The secret `HF_TOKEN` does not exist in your Colab secrets.\n",
            "To authenticate with the Hugging Face Hub, create a token in your settings tab (https://huggingface.co/settings/tokens), set it as secret in your Google Colab and restart your session.\n",
            "You will be able to reuse this secret in all of your notebooks.\n",
            "Please note that authentication is recommended but still optional to access public models or datasets.\n",
            "  warnings.warn(\n"
          ]
        },
        {
          "output_type": "stream",
          "name": "stdout",
          "text": [
            "There are 141497 datasets currently available on the Hub\n",
            "The first 10 are: ['acronym_identification', 'ade_corpus_v2', 'UCLNLP/adversarial_qa', 'aeslc', 'afrikaans_ner_corpus', 'ag_news', 'allenai/ai2_arc', 'air_dialogue', 'ajgt_twitter_ar', 'allegro_reviews']\n"
          ]
        }
      ],
      "source": [
        "from datasets import list_datasets\n",
        "\n",
        "# 列出 Hugging Face Hub 上所有可用的数据集\n",
        "all_datasets = list_datasets()\n",
        "# 打印出当前可用的数据集总数\n",
        "print(f\"There are {len(all_datasets)} datasets currently available on the Hub\")\n",
        "# 打印出前十个数据集的名称\n",
        "print(f\"The first 10 are: {all_datasets[:10]}\")"
      ]
    },
    {
      "cell_type": "markdown",
      "metadata": {
        "id": "SziqlEbjoM3a"
      },
      "source": [
        "We see that each dataset is given a name, so let's load the `emotion` dataset with the `load_dataset()` function:"
      ]
    },
    {
      "cell_type": "code",
      "execution_count": 8,
      "metadata": {
        "id": "1b-EoVVwoM3a",
        "outputId": "c97ec826-246b-4bbc-b8b2-9830754fdd3a",
        "colab": {
          "base_uri": "https://localhost:8080/"
        }
      },
      "outputs": [
        {
          "output_type": "stream",
          "name": "stderr",
          "text": [
            "/usr/local/lib/python3.10/dist-packages/datasets/load.py:1486: FutureWarning: The repository for emotion contains custom code which must be executed to correctly load the dataset. You can inspect the repository content at https://hf.co/datasets/emotion\n",
            "You can avoid this message in future by passing the argument `trust_remote_code=True`.\n",
            "Passing `trust_remote_code=True` will be mandatory to load this dataset from the next major release of `datasets`.\n",
            "  warnings.warn(\n"
          ]
        }
      ],
      "source": [
        "# hide_output\n",
        "from datasets import load_dataset\n",
        "\n",
        "emotions = load_dataset(\"emotion\")"
      ]
    },
    {
      "cell_type": "markdown",
      "metadata": {
        "id": "EG7nJl_moM3a"
      },
      "source": [
        "If we look inside our `emotions` object:"
      ]
    },
    {
      "cell_type": "code",
      "execution_count": 9,
      "metadata": {
        "id": "Wr7ZUAKUoM3a",
        "outputId": "6881239f-616e-415e-d10b-7dabc79f63c6",
        "colab": {
          "base_uri": "https://localhost:8080/"
        }
      },
      "outputs": [
        {
          "output_type": "execute_result",
          "data": {
            "text/plain": [
              "DatasetDict({\n",
              "    train: Dataset({\n",
              "        features: ['text', 'label'],\n",
              "        num_rows: 16000\n",
              "    })\n",
              "    validation: Dataset({\n",
              "        features: ['text', 'label'],\n",
              "        num_rows: 2000\n",
              "    })\n",
              "    test: Dataset({\n",
              "        features: ['text', 'label'],\n",
              "        num_rows: 2000\n",
              "    })\n",
              "})"
            ]
          },
          "metadata": {},
          "execution_count": 9
        }
      ],
      "source": [
        "emotions"
      ]
    },
    {
      "cell_type": "markdown",
      "metadata": {
        "id": "QDKNPtA_oM3a"
      },
      "source": [
        "we see it is similar to a Python dictionary, with each key corresponding to a different split. And we can use the usual dictionary syntax to access an individual split:"
      ]
    },
    {
      "cell_type": "code",
      "execution_count": 6,
      "metadata": {
        "id": "xVuVW5JHoM3a",
        "outputId": "0a76794b-fc4d-40a6-c2fe-8163d5705e42",
        "colab": {
          "base_uri": "https://localhost:8080/"
        }
      },
      "outputs": [
        {
          "output_type": "execute_result",
          "data": {
            "text/plain": [
              "Dataset({\n",
              "    features: ['text', 'label'],\n",
              "    num_rows: 16000\n",
              "})"
            ]
          },
          "metadata": {},
          "execution_count": 6
        }
      ],
      "source": [
        "train_ds = emotions[\"train\"]\n",
        "train_ds"
      ]
    },
    {
      "cell_type": "markdown",
      "metadata": {
        "id": "EZK0BAx0oM3a"
      },
      "source": [
        "which returns an instance of the `Dataset` class. The `Dataset` object is one of the core data structures in image:images/logo.png[hf,13,13] Datasets, and we'll be exploring many of its features throughout the course of this book. For starters, it behaves like an ordinary Python array or list, so we can query its length:"
      ]
    },
    {
      "cell_type": "code",
      "execution_count": null,
      "metadata": {
        "id": "548L7vvxoM3a",
        "outputId": "70b8014f-0dbb-4ec4-c9c8-0108f706d4a6"
      },
      "outputs": [
        {
          "data": {
            "text/plain": [
              "16000"
            ]
          },
          "execution_count": null,
          "metadata": {},
          "output_type": "execute_result"
        }
      ],
      "source": [
        "len(train_ds)"
      ]
    },
    {
      "cell_type": "markdown",
      "metadata": {
        "id": "C9Jq4VkZoM3b"
      },
      "source": [
        "or access a single example by its index:"
      ]
    },
    {
      "cell_type": "code",
      "execution_count": null,
      "metadata": {
        "id": "GCEbm4DFoM3b",
        "outputId": "fe4b4143-0e92-452c-f52c-9bf2d47379c3"
      },
      "outputs": [
        {
          "data": {
            "text/plain": [
              "{'label': 0, 'text': 'i didnt feel humiliated'}"
            ]
          },
          "execution_count": null,
          "metadata": {},
          "output_type": "execute_result"
        }
      ],
      "source": [
        "train_ds[0]"
      ]
    },
    {
      "cell_type": "markdown",
      "metadata": {
        "id": "J_XwUJvloM3b"
      },
      "source": [
        "Here we see that a single row is represented as a dictionary, where the keys correspond to the column names:"
      ]
    },
    {
      "cell_type": "code",
      "execution_count": null,
      "metadata": {
        "id": "CNjQl7JsoM3b",
        "outputId": "552d6f92-5ee7-4b67-e742-9efa702158ed"
      },
      "outputs": [
        {
          "data": {
            "text/plain": [
              "['text', 'label']"
            ]
          },
          "execution_count": null,
          "metadata": {},
          "output_type": "execute_result"
        }
      ],
      "source": [
        "train_ds.column_names"
      ]
    },
    {
      "cell_type": "markdown",
      "metadata": {
        "id": "LNsjhNfsoM3b"
      },
      "source": [
        "and the values are the tweet and the emotion. This reflects the fact that image:images/logo.png[hf,13,13] Datasets is based on [_Apache Arrow_](https://arrow.apache.org/), which defines a typed columnar format that is more memory efficient than native Python. We can see what data types are being used under the hood by accessing the `features` attribute of a `Dataset` object:"
      ]
    },
    {
      "cell_type": "code",
      "execution_count": 7,
      "metadata": {
        "id": "ou5oyAPpoM3b",
        "outputId": "002cb48c-4f87-46b9-f9ea-51f94d5876e8",
        "colab": {
          "base_uri": "https://localhost:8080/"
        }
      },
      "outputs": [
        {
          "output_type": "stream",
          "name": "stdout",
          "text": [
            "{'text': Value(dtype='string', id=None), 'label': ClassLabel(names=['sadness', 'joy', 'love', 'anger', 'fear', 'surprise'], id=None)}\n"
          ]
        }
      ],
      "source": [
        "print(train_ds.features)"
      ]
    },
    {
      "cell_type": "markdown",
      "metadata": {
        "id": "DXXW0lymoM3b"
      },
      "source": [
        "In this case, the data type of the `text` column is `string`, while the `label` column is a special `ClassLabel` object that contains information about the class names and their mapping to integers. We can also access several rows with a slice:"
      ]
    },
    {
      "cell_type": "code",
      "execution_count": 8,
      "metadata": {
        "id": "85D8std7oM3b",
        "outputId": "9539273b-2e49-4f5c-c42f-2b5610b9a523",
        "colab": {
          "base_uri": "https://localhost:8080/"
        }
      },
      "outputs": [
        {
          "output_type": "stream",
          "name": "stdout",
          "text": [
            "{'text': ['i didnt feel humiliated', 'i can go from feeling so hopeless to so damned hopeful just from being around someone who cares and is awake', 'im grabbing a minute to post i feel greedy wrong', 'i am ever feeling nostalgic about the fireplace i will know that it is still on the property', 'i am feeling grouchy'], 'label': [0, 0, 3, 2, 3]}\n"
          ]
        }
      ],
      "source": [
        "print(train_ds[:5])"
      ]
    },
    {
      "cell_type": "markdown",
      "metadata": {
        "id": "MuJKxGREoM3c"
      },
      "source": [
        "Note that in this case, the dictionary values are now lists instead of individual elements. We can also get the full column by name:"
      ]
    },
    {
      "cell_type": "code",
      "execution_count": 10,
      "metadata": {
        "id": "XXPd4D8JoM3c",
        "outputId": "39257c82-2791-491b-8fda-6467db6ae34d",
        "colab": {
          "base_uri": "https://localhost:8080/"
        }
      },
      "outputs": [
        {
          "output_type": "stream",
          "name": "stdout",
          "text": [
            "['i didnt feel humiliated', 'i can go from feeling so hopeless to so damned hopeful just from being around someone who cares and is awake', 'im grabbing a minute to post i feel greedy wrong', 'i am ever feeling nostalgic about the fireplace i will know that it is still on the property', 'i am feeling grouchy']\n",
            "[0, 0, 3, 2, 3]\n"
          ]
        }
      ],
      "source": [
        "print(train_ds[\"text\"][:5])\n",
        "print(train_ds[\"label\"][:5])"
      ]
    },
    {
      "cell_type": "markdown",
      "metadata": {
        "id": "7gj71gqroM3c"
      },
      "source": [
        "Now that we've seen how to load and inspect data with image:images/logo.png[hf,13,13] Datasets, let's do a few sanity checks about the content of our tweets."
      ]
    },
    {
      "cell_type": "markdown",
      "metadata": {
        "id": "PD4cquYLoM3c"
      },
      "source": [
        "### Sidebar: What If My Dataset Is Not on the Hub?【如何加载不同格式数据集】"
      ]
    },
    {
      "cell_type": "markdown",
      "metadata": {
        "id": "U5SwoHlhoM3c"
      },
      "source": [
        "We'll be using the Hugging Face Hub to download datasets for most of the examples in this book. But in many cases, you'll find yourself working with data that is either stored on your laptop or on a remote server in your organization. image:images/logo.png[hf,13,13] Datasets provides several loading scripts to handle local and remote datasets. Examples for the most common data formats are shown in <<dataset-loading>>."
      ]
    },
    {
      "cell_type": "markdown",
      "metadata": {
        "id": "2-PSVg8uoM3c"
      },
      "source": [
        "```asciidoc\n",
        "[[dataset-loading]]\n",
        ".How to load datasets in various formats\n",
        "[options=\"header\"]\n",
        "|======\n",
        "| Data format | Loading script | Example\n",
        "| CSV | `csv` | `load_dataset(\"csv\", data_files=\"my_file.csv\")`\n",
        "| Text | `text` | `load_dataset(\"text\", data_files=\"my_file.txt\")`\n",
        "| JSON | `json` | `load_dataset(\"json\", data_files=\"my_file.jsonl\")`\n",
        "|======\n",
        "```"
      ]
    },
    {
      "cell_type": "markdown",
      "metadata": {
        "id": "gnVEwBGcoM3c"
      },
      "source": [
        "As you can see for each data format, we just need to pass the relevant loading script to the `load_dataset()` function, along with a `data_files` argument that specifies the path or URL to one or more files. For example, the source files for the `emotion` dataset are actually hosted on Dropbox, so an alternative way to load the dataset is to first download one of the splits:"
      ]
    },
    {
      "cell_type": "code",
      "execution_count": 5,
      "metadata": {
        "id": "rrwblnkWoM3c",
        "outputId": "59df5ffb-a64b-4ce0-8549-3f1c750a7016",
        "colab": {
          "base_uri": "https://localhost:8080/"
        }
      },
      "outputs": [
        {
          "output_type": "stream",
          "name": "stdout",
          "text": [
            "--2024-05-05 18:13:18--  https://huggingface.co/datasets/transformersbook/emotion-train-split/raw/main/train.txt\n",
            "Resolving huggingface.co (huggingface.co)... 3.163.189.114, 3.163.189.90, 3.163.189.37, ...\n",
            "Connecting to huggingface.co (huggingface.co)|3.163.189.114|:443... connected.\n",
            "HTTP request sent, awaiting response... 200 OK\n",
            "Length: 1658616 (1.6M) [text/plain]\n",
            "Saving to: ‘train.txt.1’\n",
            "\n",
            "train.txt.1         100%[===================>]   1.58M  8.56MB/s    in 0.2s    \n",
            "\n",
            "2024-05-05 18:13:18 (8.56 MB/s) - ‘train.txt.1’ saved [1658616/1658616]\n",
            "\n"
          ]
        }
      ],
      "source": [
        "#hide_output\n",
        "# The original URL used in the book is no longer available, so we use a different one\n",
        "dataset_url = \"https://huggingface.co/datasets/transformersbook/emotion-train-split/raw/main/train.txt\"\n",
        "!wget {dataset_url}"
      ]
    },
    {
      "cell_type": "markdown",
      "metadata": {
        "id": "CVhUFZ1JoM3c"
      },
      "source": [
        "If you’re wondering why there’s a `!` character in the preceding shell command, that’s because we’re running the commands in a Jupyter notebook. Simply remove the prefix if you want to download and unzip the dataset within a terminal. Now, if we peek at the first row of the _train.txt_ file:"
      ]
    },
    {
      "cell_type": "code",
      "execution_count": 6,
      "metadata": {
        "id": "YRUl287NoM3c",
        "outputId": "f0737df0-7204-4ddb-df7e-74e275c16c2a",
        "colab": {
          "base_uri": "https://localhost:8080/"
        }
      },
      "outputs": [
        {
          "output_type": "stream",
          "name": "stdout",
          "text": [
            "i didnt feel humiliated;sadness\n"
          ]
        }
      ],
      "source": [
        "!head -n 1 train.txt"
      ]
    },
    {
      "cell_type": "markdown",
      "metadata": {
        "id": "pr9Z1Dw1oM3f"
      },
      "source": [
        "we can see that here are no column headers and each tweet and emotion are separated by a semicolon. Nevertheless, this is quite similar to a CSV file, so we can load the dataset locally by using the `csv` script and pointing the `data_files` argument to the _train.txt_ file:"
      ]
    },
    {
      "cell_type": "code",
      "execution_count": 14,
      "metadata": {
        "id": "UcwjfLnPoM3h",
        "outputId": "12a2a6e3-addd-4fbf-99d5-d3eacfed2072",
        "colab": {
          "base_uri": "https://localhost:8080/"
        }
      },
      "outputs": [
        {
          "output_type": "execute_result",
          "data": {
            "text/plain": [
              "DatasetDict({\n",
              "    train: Dataset({\n",
              "        features: ['text', 'label'],\n",
              "        num_rows: 16000\n",
              "    })\n",
              "})"
            ]
          },
          "metadata": {},
          "execution_count": 14
        }
      ],
      "source": [
        "#hide_output\n",
        "emotions_local = load_dataset(\"csv\", data_files=\"train.txt\", sep=\";\",\n",
        "                              names=[\"text\", \"label\"])\n",
        "emotions_local"
      ]
    },
    {
      "cell_type": "markdown",
      "metadata": {
        "id": "3BAtiOFqoM3h"
      },
      "source": [
        "Here we've also specified the type of delimiter and the names of the columns. An even simpler approach is to just point the `data_files` argument to the URL itself:"
      ]
    },
    {
      "cell_type": "code",
      "execution_count": 10,
      "metadata": {
        "id": "amLVIl4eoM3h",
        "outputId": "041c0e5a-15e1-41a2-8aeb-4bcd9cc53a6a",
        "colab": {
          "base_uri": "https://localhost:8080/"
        }
      },
      "outputs": [
        {
          "output_type": "execute_result",
          "data": {
            "text/plain": [
              "DatasetDict({\n",
              "    train: Dataset({\n",
              "        features: ['text', 'label'],\n",
              "        num_rows: 16000\n",
              "    })\n",
              "})"
            ]
          },
          "metadata": {},
          "execution_count": 10
        }
      ],
      "source": [
        "#hide_output\n",
        "dataset_url = \"https://huggingface.co/datasets/transformersbook/emotion-train-split/raw/main/train.txt\"\n",
        "emotions_remote = load_dataset(\"csv\", data_files=dataset_url, sep=\";\",\n",
        "                               names=[\"text\", \"label\"])\n",
        "emotions_remote"
      ]
    },
    {
      "cell_type": "markdown",
      "metadata": {
        "id": "JQVzjK5uoM3h"
      },
      "source": [
        "which will automatically download and cache the dataset for you. As you can see, the `load_dataset()` function is very versatile. We recommend checking out the image:images/logo.png[hf,13,13] Datasets [documentation](https://huggingface.co/docs/datasets/loading.html) to get a complete overview."
      ]
    },
    {
      "cell_type": "markdown",
      "metadata": {
        "id": "xMoP8YtRoM3h"
      },
      "source": [
        "### End sidebar"
      ]
    },
    {
      "cell_type": "markdown",
      "metadata": {
        "id": "nGhAmXWxoM3i"
      },
      "source": [
        "### From Datasets to DataFrames【转格式】"
      ]
    },
    {
      "cell_type": "markdown",
      "metadata": {
        "id": "WW24sAMuoM3i"
      },
      "source": [
        "Although image:images/logo.png[hf,13,13] Datasets provides a lot of low-level functionality to slice and dice our data, it is often convenient to convert a `Dataset` object to a Pandas `DataFrame` so we can access high-level APIs for data visualization. To enable the conversion, image:images/logo.png[hf,13,13] Datasets provides a `set_format()` method that allows us to change the _output format_ of the `Dataset`. Note that this does not change the underlying _data format_ (which is an Arrow table), and you can switch to another format later if needed:"
      ]
    },
    {
      "cell_type": "code",
      "execution_count": 17,
      "metadata": {
        "id": "H5noCSVzoM3i",
        "outputId": "d4b2737a-0483-46c6-c151-f77e17ca7632",
        "colab": {
          "base_uri": "https://localhost:8080/",
          "height": 206
        }
      },
      "outputs": [
        {
          "output_type": "execute_result",
          "data": {
            "text/plain": [
              "                                                text  label\n",
              "0                            i didnt feel humiliated      0\n",
              "1  i can go from feeling so hopeless to so damned...      0\n",
              "2   im grabbing a minute to post i feel greedy wrong      3\n",
              "3  i am ever feeling nostalgic about the fireplac...      2\n",
              "4                               i am feeling grouchy      3"
            ],
            "text/html": [
              "\n",
              "  <div id=\"df-21129a42-a5b1-4f76-926e-183a4f92c7d3\" class=\"colab-df-container\">\n",
              "    <div>\n",
              "<style scoped>\n",
              "    .dataframe tbody tr th:only-of-type {\n",
              "        vertical-align: middle;\n",
              "    }\n",
              "\n",
              "    .dataframe tbody tr th {\n",
              "        vertical-align: top;\n",
              "    }\n",
              "\n",
              "    .dataframe thead th {\n",
              "        text-align: right;\n",
              "    }\n",
              "</style>\n",
              "<table border=\"1\" class=\"dataframe\">\n",
              "  <thead>\n",
              "    <tr style=\"text-align: right;\">\n",
              "      <th></th>\n",
              "      <th>text</th>\n",
              "      <th>label</th>\n",
              "    </tr>\n",
              "  </thead>\n",
              "  <tbody>\n",
              "    <tr>\n",
              "      <th>0</th>\n",
              "      <td>i didnt feel humiliated</td>\n",
              "      <td>0</td>\n",
              "    </tr>\n",
              "    <tr>\n",
              "      <th>1</th>\n",
              "      <td>i can go from feeling so hopeless to so damned...</td>\n",
              "      <td>0</td>\n",
              "    </tr>\n",
              "    <tr>\n",
              "      <th>2</th>\n",
              "      <td>im grabbing a minute to post i feel greedy wrong</td>\n",
              "      <td>3</td>\n",
              "    </tr>\n",
              "    <tr>\n",
              "      <th>3</th>\n",
              "      <td>i am ever feeling nostalgic about the fireplac...</td>\n",
              "      <td>2</td>\n",
              "    </tr>\n",
              "    <tr>\n",
              "      <th>4</th>\n",
              "      <td>i am feeling grouchy</td>\n",
              "      <td>3</td>\n",
              "    </tr>\n",
              "  </tbody>\n",
              "</table>\n",
              "</div>\n",
              "    <div class=\"colab-df-buttons\">\n",
              "\n",
              "  <div class=\"colab-df-container\">\n",
              "    <button class=\"colab-df-convert\" onclick=\"convertToInteractive('df-21129a42-a5b1-4f76-926e-183a4f92c7d3')\"\n",
              "            title=\"Convert this dataframe to an interactive table.\"\n",
              "            style=\"display:none;\">\n",
              "\n",
              "  <svg xmlns=\"http://www.w3.org/2000/svg\" height=\"24px\" viewBox=\"0 -960 960 960\">\n",
              "    <path d=\"M120-120v-720h720v720H120Zm60-500h600v-160H180v160Zm220 220h160v-160H400v160Zm0 220h160v-160H400v160ZM180-400h160v-160H180v160Zm440 0h160v-160H620v160ZM180-180h160v-160H180v160Zm440 0h160v-160H620v160Z\"/>\n",
              "  </svg>\n",
              "    </button>\n",
              "\n",
              "  <style>\n",
              "    .colab-df-container {\n",
              "      display:flex;\n",
              "      gap: 12px;\n",
              "    }\n",
              "\n",
              "    .colab-df-convert {\n",
              "      background-color: #E8F0FE;\n",
              "      border: none;\n",
              "      border-radius: 50%;\n",
              "      cursor: pointer;\n",
              "      display: none;\n",
              "      fill: #1967D2;\n",
              "      height: 32px;\n",
              "      padding: 0 0 0 0;\n",
              "      width: 32px;\n",
              "    }\n",
              "\n",
              "    .colab-df-convert:hover {\n",
              "      background-color: #E2EBFA;\n",
              "      box-shadow: 0px 1px 2px rgba(60, 64, 67, 0.3), 0px 1px 3px 1px rgba(60, 64, 67, 0.15);\n",
              "      fill: #174EA6;\n",
              "    }\n",
              "\n",
              "    .colab-df-buttons div {\n",
              "      margin-bottom: 4px;\n",
              "    }\n",
              "\n",
              "    [theme=dark] .colab-df-convert {\n",
              "      background-color: #3B4455;\n",
              "      fill: #D2E3FC;\n",
              "    }\n",
              "\n",
              "    [theme=dark] .colab-df-convert:hover {\n",
              "      background-color: #434B5C;\n",
              "      box-shadow: 0px 1px 3px 1px rgba(0, 0, 0, 0.15);\n",
              "      filter: drop-shadow(0px 1px 2px rgba(0, 0, 0, 0.3));\n",
              "      fill: #FFFFFF;\n",
              "    }\n",
              "  </style>\n",
              "\n",
              "    <script>\n",
              "      const buttonEl =\n",
              "        document.querySelector('#df-21129a42-a5b1-4f76-926e-183a4f92c7d3 button.colab-df-convert');\n",
              "      buttonEl.style.display =\n",
              "        google.colab.kernel.accessAllowed ? 'block' : 'none';\n",
              "\n",
              "      async function convertToInteractive(key) {\n",
              "        const element = document.querySelector('#df-21129a42-a5b1-4f76-926e-183a4f92c7d3');\n",
              "        const dataTable =\n",
              "          await google.colab.kernel.invokeFunction('convertToInteractive',\n",
              "                                                    [key], {});\n",
              "        if (!dataTable) return;\n",
              "\n",
              "        const docLinkHtml = 'Like what you see? Visit the ' +\n",
              "          '<a target=\"_blank\" href=https://colab.research.google.com/notebooks/data_table.ipynb>data table notebook</a>'\n",
              "          + ' to learn more about interactive tables.';\n",
              "        element.innerHTML = '';\n",
              "        dataTable['output_type'] = 'display_data';\n",
              "        await google.colab.output.renderOutput(dataTable, element);\n",
              "        const docLink = document.createElement('div');\n",
              "        docLink.innerHTML = docLinkHtml;\n",
              "        element.appendChild(docLink);\n",
              "      }\n",
              "    </script>\n",
              "  </div>\n",
              "\n",
              "\n",
              "<div id=\"df-ef26735c-66d3-4fd2-b014-73bf10b079c2\">\n",
              "  <button class=\"colab-df-quickchart\" onclick=\"quickchart('df-ef26735c-66d3-4fd2-b014-73bf10b079c2')\"\n",
              "            title=\"Suggest charts\"\n",
              "            style=\"display:none;\">\n",
              "\n",
              "<svg xmlns=\"http://www.w3.org/2000/svg\" height=\"24px\"viewBox=\"0 0 24 24\"\n",
              "     width=\"24px\">\n",
              "    <g>\n",
              "        <path d=\"M19 3H5c-1.1 0-2 .9-2 2v14c0 1.1.9 2 2 2h14c1.1 0 2-.9 2-2V5c0-1.1-.9-2-2-2zM9 17H7v-7h2v7zm4 0h-2V7h2v10zm4 0h-2v-4h2v4z\"/>\n",
              "    </g>\n",
              "</svg>\n",
              "  </button>\n",
              "\n",
              "<style>\n",
              "  .colab-df-quickchart {\n",
              "      --bg-color: #E8F0FE;\n",
              "      --fill-color: #1967D2;\n",
              "      --hover-bg-color: #E2EBFA;\n",
              "      --hover-fill-color: #174EA6;\n",
              "      --disabled-fill-color: #AAA;\n",
              "      --disabled-bg-color: #DDD;\n",
              "  }\n",
              "\n",
              "  [theme=dark] .colab-df-quickchart {\n",
              "      --bg-color: #3B4455;\n",
              "      --fill-color: #D2E3FC;\n",
              "      --hover-bg-color: #434B5C;\n",
              "      --hover-fill-color: #FFFFFF;\n",
              "      --disabled-bg-color: #3B4455;\n",
              "      --disabled-fill-color: #666;\n",
              "  }\n",
              "\n",
              "  .colab-df-quickchart {\n",
              "    background-color: var(--bg-color);\n",
              "    border: none;\n",
              "    border-radius: 50%;\n",
              "    cursor: pointer;\n",
              "    display: none;\n",
              "    fill: var(--fill-color);\n",
              "    height: 32px;\n",
              "    padding: 0;\n",
              "    width: 32px;\n",
              "  }\n",
              "\n",
              "  .colab-df-quickchart:hover {\n",
              "    background-color: var(--hover-bg-color);\n",
              "    box-shadow: 0 1px 2px rgba(60, 64, 67, 0.3), 0 1px 3px 1px rgba(60, 64, 67, 0.15);\n",
              "    fill: var(--button-hover-fill-color);\n",
              "  }\n",
              "\n",
              "  .colab-df-quickchart-complete:disabled,\n",
              "  .colab-df-quickchart-complete:disabled:hover {\n",
              "    background-color: var(--disabled-bg-color);\n",
              "    fill: var(--disabled-fill-color);\n",
              "    box-shadow: none;\n",
              "  }\n",
              "\n",
              "  .colab-df-spinner {\n",
              "    border: 2px solid var(--fill-color);\n",
              "    border-color: transparent;\n",
              "    border-bottom-color: var(--fill-color);\n",
              "    animation:\n",
              "      spin 1s steps(1) infinite;\n",
              "  }\n",
              "\n",
              "  @keyframes spin {\n",
              "    0% {\n",
              "      border-color: transparent;\n",
              "      border-bottom-color: var(--fill-color);\n",
              "      border-left-color: var(--fill-color);\n",
              "    }\n",
              "    20% {\n",
              "      border-color: transparent;\n",
              "      border-left-color: var(--fill-color);\n",
              "      border-top-color: var(--fill-color);\n",
              "    }\n",
              "    30% {\n",
              "      border-color: transparent;\n",
              "      border-left-color: var(--fill-color);\n",
              "      border-top-color: var(--fill-color);\n",
              "      border-right-color: var(--fill-color);\n",
              "    }\n",
              "    40% {\n",
              "      border-color: transparent;\n",
              "      border-right-color: var(--fill-color);\n",
              "      border-top-color: var(--fill-color);\n",
              "    }\n",
              "    60% {\n",
              "      border-color: transparent;\n",
              "      border-right-color: var(--fill-color);\n",
              "    }\n",
              "    80% {\n",
              "      border-color: transparent;\n",
              "      border-right-color: var(--fill-color);\n",
              "      border-bottom-color: var(--fill-color);\n",
              "    }\n",
              "    90% {\n",
              "      border-color: transparent;\n",
              "      border-bottom-color: var(--fill-color);\n",
              "    }\n",
              "  }\n",
              "</style>\n",
              "\n",
              "  <script>\n",
              "    async function quickchart(key) {\n",
              "      const quickchartButtonEl =\n",
              "        document.querySelector('#' + key + ' button');\n",
              "      quickchartButtonEl.disabled = true;  // To prevent multiple clicks.\n",
              "      quickchartButtonEl.classList.add('colab-df-spinner');\n",
              "      try {\n",
              "        const charts = await google.colab.kernel.invokeFunction(\n",
              "            'suggestCharts', [key], {});\n",
              "      } catch (error) {\n",
              "        console.error('Error during call to suggestCharts:', error);\n",
              "      }\n",
              "      quickchartButtonEl.classList.remove('colab-df-spinner');\n",
              "      quickchartButtonEl.classList.add('colab-df-quickchart-complete');\n",
              "    }\n",
              "    (() => {\n",
              "      let quickchartButtonEl =\n",
              "        document.querySelector('#df-ef26735c-66d3-4fd2-b014-73bf10b079c2 button');\n",
              "      quickchartButtonEl.style.display =\n",
              "        google.colab.kernel.accessAllowed ? 'block' : 'none';\n",
              "    })();\n",
              "  </script>\n",
              "</div>\n",
              "\n",
              "    </div>\n",
              "  </div>\n"
            ],
            "application/vnd.google.colaboratory.intrinsic+json": {
              "type": "dataframe",
              "variable_name": "df",
              "summary": "{\n  \"name\": \"df\",\n  \"rows\": 16000,\n  \"fields\": [\n    {\n      \"column\": \"text\",\n      \"properties\": {\n        \"dtype\": \"string\",\n        \"num_unique_values\": 15969,\n        \"samples\": [\n          \"i feel rather imbicilic or at least complacent\",\n          \"i was in the bathroom i had sat down to pee it was to make me feel submissive again per instructions\",\n          \"i am thrilled with the way my skin and hair feel if you are like me you are skeptical\"\n        ],\n        \"semantic_type\": \"\",\n        \"description\": \"\"\n      }\n    },\n    {\n      \"column\": \"label\",\n      \"properties\": {\n        \"dtype\": \"number\",\n        \"std\": 1,\n        \"min\": 0,\n        \"max\": 5,\n        \"num_unique_values\": 6,\n        \"samples\": [\n          0,\n          3,\n          1\n        ],\n        \"semantic_type\": \"\",\n        \"description\": \"\"\n      }\n    }\n  ]\n}"
            }
          },
          "metadata": {},
          "execution_count": 17
        }
      ],
      "source": [
        "import pandas as pd\n",
        "\n",
        "emotions.set_format(type=\"pandas\")\n",
        "df = emotions[\"train\"][:]\n",
        "df.head()"
      ]
    },
    {
      "cell_type": "markdown",
      "metadata": {
        "id": "IC3z4MZToM3i"
      },
      "source": [
        "As you can see, the column headers have been preserved and the first few rows match our previous views of the data. However, the labels are represented as integers, so let's use the `int2str()` method of the `label` feature to create a new column in our `DataFrame` with the corresponding label names:"
      ]
    },
    {
      "cell_type": "code",
      "execution_count": 18,
      "metadata": {
        "id": "QUDQuYxpoM3i",
        "outputId": "ba9b3480-1752-40ac-f697-19897a47b617",
        "colab": {
          "base_uri": "https://localhost:8080/",
          "height": 206
        }
      },
      "outputs": [
        {
          "output_type": "execute_result",
          "data": {
            "text/plain": [
              "                                                text  label label_name\n",
              "0                            i didnt feel humiliated      0    sadness\n",
              "1  i can go from feeling so hopeless to so damned...      0    sadness\n",
              "2   im grabbing a minute to post i feel greedy wrong      3      anger\n",
              "3  i am ever feeling nostalgic about the fireplac...      2       love\n",
              "4                               i am feeling grouchy      3      anger"
            ],
            "text/html": [
              "\n",
              "  <div id=\"df-85e38536-0ed0-4586-be4b-519a6bee1739\" class=\"colab-df-container\">\n",
              "    <div>\n",
              "<style scoped>\n",
              "    .dataframe tbody tr th:only-of-type {\n",
              "        vertical-align: middle;\n",
              "    }\n",
              "\n",
              "    .dataframe tbody tr th {\n",
              "        vertical-align: top;\n",
              "    }\n",
              "\n",
              "    .dataframe thead th {\n",
              "        text-align: right;\n",
              "    }\n",
              "</style>\n",
              "<table border=\"1\" class=\"dataframe\">\n",
              "  <thead>\n",
              "    <tr style=\"text-align: right;\">\n",
              "      <th></th>\n",
              "      <th>text</th>\n",
              "      <th>label</th>\n",
              "      <th>label_name</th>\n",
              "    </tr>\n",
              "  </thead>\n",
              "  <tbody>\n",
              "    <tr>\n",
              "      <th>0</th>\n",
              "      <td>i didnt feel humiliated</td>\n",
              "      <td>0</td>\n",
              "      <td>sadness</td>\n",
              "    </tr>\n",
              "    <tr>\n",
              "      <th>1</th>\n",
              "      <td>i can go from feeling so hopeless to so damned...</td>\n",
              "      <td>0</td>\n",
              "      <td>sadness</td>\n",
              "    </tr>\n",
              "    <tr>\n",
              "      <th>2</th>\n",
              "      <td>im grabbing a minute to post i feel greedy wrong</td>\n",
              "      <td>3</td>\n",
              "      <td>anger</td>\n",
              "    </tr>\n",
              "    <tr>\n",
              "      <th>3</th>\n",
              "      <td>i am ever feeling nostalgic about the fireplac...</td>\n",
              "      <td>2</td>\n",
              "      <td>love</td>\n",
              "    </tr>\n",
              "    <tr>\n",
              "      <th>4</th>\n",
              "      <td>i am feeling grouchy</td>\n",
              "      <td>3</td>\n",
              "      <td>anger</td>\n",
              "    </tr>\n",
              "  </tbody>\n",
              "</table>\n",
              "</div>\n",
              "    <div class=\"colab-df-buttons\">\n",
              "\n",
              "  <div class=\"colab-df-container\">\n",
              "    <button class=\"colab-df-convert\" onclick=\"convertToInteractive('df-85e38536-0ed0-4586-be4b-519a6bee1739')\"\n",
              "            title=\"Convert this dataframe to an interactive table.\"\n",
              "            style=\"display:none;\">\n",
              "\n",
              "  <svg xmlns=\"http://www.w3.org/2000/svg\" height=\"24px\" viewBox=\"0 -960 960 960\">\n",
              "    <path d=\"M120-120v-720h720v720H120Zm60-500h600v-160H180v160Zm220 220h160v-160H400v160Zm0 220h160v-160H400v160ZM180-400h160v-160H180v160Zm440 0h160v-160H620v160ZM180-180h160v-160H180v160Zm440 0h160v-160H620v160Z\"/>\n",
              "  </svg>\n",
              "    </button>\n",
              "\n",
              "  <style>\n",
              "    .colab-df-container {\n",
              "      display:flex;\n",
              "      gap: 12px;\n",
              "    }\n",
              "\n",
              "    .colab-df-convert {\n",
              "      background-color: #E8F0FE;\n",
              "      border: none;\n",
              "      border-radius: 50%;\n",
              "      cursor: pointer;\n",
              "      display: none;\n",
              "      fill: #1967D2;\n",
              "      height: 32px;\n",
              "      padding: 0 0 0 0;\n",
              "      width: 32px;\n",
              "    }\n",
              "\n",
              "    .colab-df-convert:hover {\n",
              "      background-color: #E2EBFA;\n",
              "      box-shadow: 0px 1px 2px rgba(60, 64, 67, 0.3), 0px 1px 3px 1px rgba(60, 64, 67, 0.15);\n",
              "      fill: #174EA6;\n",
              "    }\n",
              "\n",
              "    .colab-df-buttons div {\n",
              "      margin-bottom: 4px;\n",
              "    }\n",
              "\n",
              "    [theme=dark] .colab-df-convert {\n",
              "      background-color: #3B4455;\n",
              "      fill: #D2E3FC;\n",
              "    }\n",
              "\n",
              "    [theme=dark] .colab-df-convert:hover {\n",
              "      background-color: #434B5C;\n",
              "      box-shadow: 0px 1px 3px 1px rgba(0, 0, 0, 0.15);\n",
              "      filter: drop-shadow(0px 1px 2px rgba(0, 0, 0, 0.3));\n",
              "      fill: #FFFFFF;\n",
              "    }\n",
              "  </style>\n",
              "\n",
              "    <script>\n",
              "      const buttonEl =\n",
              "        document.querySelector('#df-85e38536-0ed0-4586-be4b-519a6bee1739 button.colab-df-convert');\n",
              "      buttonEl.style.display =\n",
              "        google.colab.kernel.accessAllowed ? 'block' : 'none';\n",
              "\n",
              "      async function convertToInteractive(key) {\n",
              "        const element = document.querySelector('#df-85e38536-0ed0-4586-be4b-519a6bee1739');\n",
              "        const dataTable =\n",
              "          await google.colab.kernel.invokeFunction('convertToInteractive',\n",
              "                                                    [key], {});\n",
              "        if (!dataTable) return;\n",
              "\n",
              "        const docLinkHtml = 'Like what you see? Visit the ' +\n",
              "          '<a target=\"_blank\" href=https://colab.research.google.com/notebooks/data_table.ipynb>data table notebook</a>'\n",
              "          + ' to learn more about interactive tables.';\n",
              "        element.innerHTML = '';\n",
              "        dataTable['output_type'] = 'display_data';\n",
              "        await google.colab.output.renderOutput(dataTable, element);\n",
              "        const docLink = document.createElement('div');\n",
              "        docLink.innerHTML = docLinkHtml;\n",
              "        element.appendChild(docLink);\n",
              "      }\n",
              "    </script>\n",
              "  </div>\n",
              "\n",
              "\n",
              "<div id=\"df-726a1c32-ff11-438e-978e-7fa354edacf0\">\n",
              "  <button class=\"colab-df-quickchart\" onclick=\"quickchart('df-726a1c32-ff11-438e-978e-7fa354edacf0')\"\n",
              "            title=\"Suggest charts\"\n",
              "            style=\"display:none;\">\n",
              "\n",
              "<svg xmlns=\"http://www.w3.org/2000/svg\" height=\"24px\"viewBox=\"0 0 24 24\"\n",
              "     width=\"24px\">\n",
              "    <g>\n",
              "        <path d=\"M19 3H5c-1.1 0-2 .9-2 2v14c0 1.1.9 2 2 2h14c1.1 0 2-.9 2-2V5c0-1.1-.9-2-2-2zM9 17H7v-7h2v7zm4 0h-2V7h2v10zm4 0h-2v-4h2v4z\"/>\n",
              "    </g>\n",
              "</svg>\n",
              "  </button>\n",
              "\n",
              "<style>\n",
              "  .colab-df-quickchart {\n",
              "      --bg-color: #E8F0FE;\n",
              "      --fill-color: #1967D2;\n",
              "      --hover-bg-color: #E2EBFA;\n",
              "      --hover-fill-color: #174EA6;\n",
              "      --disabled-fill-color: #AAA;\n",
              "      --disabled-bg-color: #DDD;\n",
              "  }\n",
              "\n",
              "  [theme=dark] .colab-df-quickchart {\n",
              "      --bg-color: #3B4455;\n",
              "      --fill-color: #D2E3FC;\n",
              "      --hover-bg-color: #434B5C;\n",
              "      --hover-fill-color: #FFFFFF;\n",
              "      --disabled-bg-color: #3B4455;\n",
              "      --disabled-fill-color: #666;\n",
              "  }\n",
              "\n",
              "  .colab-df-quickchart {\n",
              "    background-color: var(--bg-color);\n",
              "    border: none;\n",
              "    border-radius: 50%;\n",
              "    cursor: pointer;\n",
              "    display: none;\n",
              "    fill: var(--fill-color);\n",
              "    height: 32px;\n",
              "    padding: 0;\n",
              "    width: 32px;\n",
              "  }\n",
              "\n",
              "  .colab-df-quickchart:hover {\n",
              "    background-color: var(--hover-bg-color);\n",
              "    box-shadow: 0 1px 2px rgba(60, 64, 67, 0.3), 0 1px 3px 1px rgba(60, 64, 67, 0.15);\n",
              "    fill: var(--button-hover-fill-color);\n",
              "  }\n",
              "\n",
              "  .colab-df-quickchart-complete:disabled,\n",
              "  .colab-df-quickchart-complete:disabled:hover {\n",
              "    background-color: var(--disabled-bg-color);\n",
              "    fill: var(--disabled-fill-color);\n",
              "    box-shadow: none;\n",
              "  }\n",
              "\n",
              "  .colab-df-spinner {\n",
              "    border: 2px solid var(--fill-color);\n",
              "    border-color: transparent;\n",
              "    border-bottom-color: var(--fill-color);\n",
              "    animation:\n",
              "      spin 1s steps(1) infinite;\n",
              "  }\n",
              "\n",
              "  @keyframes spin {\n",
              "    0% {\n",
              "      border-color: transparent;\n",
              "      border-bottom-color: var(--fill-color);\n",
              "      border-left-color: var(--fill-color);\n",
              "    }\n",
              "    20% {\n",
              "      border-color: transparent;\n",
              "      border-left-color: var(--fill-color);\n",
              "      border-top-color: var(--fill-color);\n",
              "    }\n",
              "    30% {\n",
              "      border-color: transparent;\n",
              "      border-left-color: var(--fill-color);\n",
              "      border-top-color: var(--fill-color);\n",
              "      border-right-color: var(--fill-color);\n",
              "    }\n",
              "    40% {\n",
              "      border-color: transparent;\n",
              "      border-right-color: var(--fill-color);\n",
              "      border-top-color: var(--fill-color);\n",
              "    }\n",
              "    60% {\n",
              "      border-color: transparent;\n",
              "      border-right-color: var(--fill-color);\n",
              "    }\n",
              "    80% {\n",
              "      border-color: transparent;\n",
              "      border-right-color: var(--fill-color);\n",
              "      border-bottom-color: var(--fill-color);\n",
              "    }\n",
              "    90% {\n",
              "      border-color: transparent;\n",
              "      border-bottom-color: var(--fill-color);\n",
              "    }\n",
              "  }\n",
              "</style>\n",
              "\n",
              "  <script>\n",
              "    async function quickchart(key) {\n",
              "      const quickchartButtonEl =\n",
              "        document.querySelector('#' + key + ' button');\n",
              "      quickchartButtonEl.disabled = true;  // To prevent multiple clicks.\n",
              "      quickchartButtonEl.classList.add('colab-df-spinner');\n",
              "      try {\n",
              "        const charts = await google.colab.kernel.invokeFunction(\n",
              "            'suggestCharts', [key], {});\n",
              "      } catch (error) {\n",
              "        console.error('Error during call to suggestCharts:', error);\n",
              "      }\n",
              "      quickchartButtonEl.classList.remove('colab-df-spinner');\n",
              "      quickchartButtonEl.classList.add('colab-df-quickchart-complete');\n",
              "    }\n",
              "    (() => {\n",
              "      let quickchartButtonEl =\n",
              "        document.querySelector('#df-726a1c32-ff11-438e-978e-7fa354edacf0 button');\n",
              "      quickchartButtonEl.style.display =\n",
              "        google.colab.kernel.accessAllowed ? 'block' : 'none';\n",
              "    })();\n",
              "  </script>\n",
              "</div>\n",
              "\n",
              "    </div>\n",
              "  </div>\n"
            ],
            "application/vnd.google.colaboratory.intrinsic+json": {
              "type": "dataframe",
              "variable_name": "df",
              "summary": "{\n  \"name\": \"df\",\n  \"rows\": 16000,\n  \"fields\": [\n    {\n      \"column\": \"text\",\n      \"properties\": {\n        \"dtype\": \"string\",\n        \"num_unique_values\": 15969,\n        \"samples\": [\n          \"i feel rather imbicilic or at least complacent\",\n          \"i was in the bathroom i had sat down to pee it was to make me feel submissive again per instructions\",\n          \"i am thrilled with the way my skin and hair feel if you are like me you are skeptical\"\n        ],\n        \"semantic_type\": \"\",\n        \"description\": \"\"\n      }\n    },\n    {\n      \"column\": \"label\",\n      \"properties\": {\n        \"dtype\": \"number\",\n        \"std\": 1,\n        \"min\": 0,\n        \"max\": 5,\n        \"num_unique_values\": 6,\n        \"samples\": [\n          0,\n          3,\n          1\n        ],\n        \"semantic_type\": \"\",\n        \"description\": \"\"\n      }\n    },\n    {\n      \"column\": \"label_name\",\n      \"properties\": {\n        \"dtype\": \"category\",\n        \"num_unique_values\": 6,\n        \"samples\": [\n          \"sadness\",\n          \"anger\",\n          \"joy\"\n        ],\n        \"semantic_type\": \"\",\n        \"description\": \"\"\n      }\n    }\n  ]\n}"
            }
          },
          "metadata": {},
          "execution_count": 18
        }
      ],
      "source": [
        "def label_int2str(row):\n",
        "    return emotions[\"train\"].features[\"label\"].int2str(row)\n",
        "\n",
        "df[\"label_name\"] = df[\"label\"].apply(label_int2str)\n",
        "df.head()"
      ]
    },
    {
      "cell_type": "markdown",
      "metadata": {
        "id": "lOyCw91moM3i"
      },
      "source": [
        "Before diving into building a classifier, let's take a closer look at the dataset. As Andrej Karpathy notes in his famous blog post [\"A Recipe for Training Neural Networks\"](https://karpathy.github.io/2019/04/25/recipe), becoming \"one with the data\" is an essential step for training great models!"
      ]
    },
    {
      "cell_type": "markdown",
      "metadata": {
        "id": "xAy_qwYFoM3i"
      },
      "source": [
        "### Looking at the Class Distribution【类分布】"
      ]
    },
    {
      "cell_type": "markdown",
      "metadata": {
        "id": "OnNt42cmoM3i"
      },
      "source": [
        "Whenever you are working on text classification problems, it is a good idea to examine the distribution of examples across the classes. A dataset with a skewed class distribution might require a different treatment in terms of the training loss and evaluation metrics than a balanced one.\n",
        "\n",
        "With Pandas and Matplotlib, we can quickly visualize the class distribution as follows:"
      ]
    },
    {
      "cell_type": "code",
      "execution_count": 19,
      "metadata": {
        "id": "HfGe0WopoM3i",
        "outputId": "de09427f-60fd-477a-fa1b-1101feb4f7e0",
        "colab": {
          "base_uri": "https://localhost:8080/",
          "height": 452
        }
      },
      "outputs": [
        {
          "output_type": "display_data",
          "data": {
            "text/plain": [
              "<Figure size 640x480 with 1 Axes>"
            ],
            "image/png": "[encoded data removed]"
          },
          "metadata": {}
        }
      ],
      "source": [
        "import matplotlib.pyplot as plt\n",
        "\n",
        "df[\"label_name\"].value_counts(ascending=True).plot.barh()\n",
        "plt.title(\"Frequency of Classes\")\n",
        "plt.show()"
      ]
    },
    {
      "cell_type": "code",
      "source": [
        "import matplotlib.pyplot as plt\n",
        "\n",
        "# 假设 df 是一个包含 \"label_name\" 列的 DataFrame\n",
        "# 并且该列包含了您想要统计类别频率的标签\n",
        "\n",
        "# 计算每个类别的频率\n",
        "frequency = df[\"label_name\"].value_counts(ascending=True).sort_index()\n",
        "\n",
        "# 创建水平条形图\n",
        "ax = frequency.plot.barh()\n",
        "\n",
        "# 在每个条形上添加类别数量\n",
        "for index, value in enumerate(frequency):\n",
        "    ax.text(value, index, str(value), va='center', ha='center')\n",
        "\n",
        "# 设置标题\n",
        "plt.title(\"Frequency of Classes\")\n",
        "\n",
        "# 显示图表\n",
        "plt.show()"
      ],
      "metadata": {
        "id": "gWar5SVIsJUf",
        "outputId": "9a40e0ea-5b33-4f7e-8413-188d79139481",
        "colab": {
          "base_uri": "https://localhost:8080/",
          "height": 452
        }
      },
      "execution_count": 21,
      "outputs": [
        {
          "output_type": "display_data",
          "data": {
            "text/plain": [
              "<Figure size 640x480 with 1 Axes>"
            ],
            "image/png": "[encoded data removed]"
          },
          "metadata": {}
        }
      ]
    },
    {
      "cell_type": "markdown",
      "metadata": {
        "id": "H8rZGWLqoM3j"
      },
      "source": [
        "In this case, we can see that the dataset is heavily imbalanced; the `joy` and `sadness` classes appear frequently, whereas `love` and `surprise` are about 5–10 times rarer. There are several ways to deal with imbalanced data, including:\n",
        "\n",
        "* Randomly oversample the minority class.\n",
        "* Randomly undersample the majority class.\n",
        "* Gather more labeled data from the underrepresented classes."
      ]
    },
    {
      "cell_type": "markdown",
      "metadata": {
        "id": "dj9N1cDxoM3j"
      },
      "source": [
        "To keep things simple in this chapter, we'll work with the raw, unbalanced class frequencies. If you want to learn more about these sampling techniques, we recommend checking out the [Imbalanced-learn library](https://imbalanced-learn.org/stable/). Just make sure that you don't apply sampling methods _before_ creating your train/test splits, or you'll get plenty of leakage between them!\n",
        "\n",
        "Now that we've looked at the classes, let's take a look at the tweets themselves."
      ]
    },
    {
      "cell_type": "markdown",
      "metadata": {
        "id": "6eVwCpodoM3j"
      },
      "source": [
        "### How Long Are Our Tweets?【Transformer输入限制：最大上下文大小】"
      ]
    },
    {
      "cell_type": "markdown",
      "metadata": {
        "id": "uTts3bvZoM3j"
      },
      "source": [
        "Transformer models have a maximum input sequence length that is referred to as the _maximum context size_. For applications using DistilBERT, the maximum context size is 512 tokens, which amounts to a few paragraphs of text. As we'll see in the next section, a token is an atomic piece of text; for now, we'll treat a token as a single word. We can get a rough estimate of tweet lengths per emotion by looking at the distribution of words per tweet:"
      ]
    },
    {
      "cell_type": "code",
      "source": [
        "import matplotlib.pyplot as plt\n",
        "import seaborn as sns\n",
        "import pandas as pd"
      ],
      "metadata": {
        "id": "JlFU7PjkuwWu"
      },
      "execution_count": 26,
      "outputs": []
    },
    {
      "cell_type": "code",
      "source": [
        "#没用\n",
        "import matplotlib\n",
        "matplotlib.rcParams['font.family'] = 'STIXGeneral'"
      ],
      "metadata": {
        "id": "bAPYumRCv1O0",
        "outputId": "d542f2b9-e5b6-49eb-c43c-1b3a0f9a6e10",
        "colab": {
          "base_uri": "https://localhost:8080/",
          "height": 106
        }
      },
      "execution_count": 40,
      "outputs": [
        {
          "output_type": "error",
          "ename": "SyntaxError",
          "evalue": "invalid syntax (<ipython-input-40-acea6ab1a31e>, line 1)",
          "traceback": [
            "\u001b[0;36m  File \u001b[0;32m\"<ipython-input-40-acea6ab1a31e>\"\u001b[0;36m, line \u001b[0;32m1\u001b[0m\n\u001b[0;31m    @title 没有\u001b[0m\n\u001b[0m           ^\u001b[0m\n\u001b[0;31mSyntaxError\u001b[0m\u001b[0;31m:\u001b[0m invalid syntax\n"
          ]
        }
      ]
    },
    {
      "cell_type": "code",
      "execution_count": 41,
      "metadata": {
        "id": "vSK-A0rMoM3j",
        "outputId": "a7d89212-8540-442d-b5ee-b16fd22666fd",
        "colab": {
          "base_uri": "https://localhost:8080/",
          "height": 440
        }
      },
      "outputs": [
        {
          "output_type": "display_data",
          "data": {
            "text/plain": [
              "<Figure size 640x480 with 1 Axes>"
            ],
            "image/png": "[encoded data removed]"
          },
          "metadata": {}
        }
      ],
      "source": [
        "df[\"Words Per Tweet\"] = df[\"text\"].str.split().apply(len)\n",
        "df.boxplot(\"Words Per Tweet\", by=\"label_name\", grid=False, showfliers=False,\n",
        "           color=\"black\")\n",
        "plt.suptitle(\"\")\n",
        "plt.xlabel(\"\")\n",
        "plt.show()"
      ]
    },
    {
      "cell_type": "markdown",
      "metadata": {
        "id": "D55Xoxo9oM3j"
      },
      "source": [
        "From the plot we see that for each emotion, most tweets are around 15 words long and the longest tweets are well below DistilBERT's maximum context size. Texts that are longer than a model's context size need to be truncated, which can lead to a loss in performance if the truncated text contains crucial information; in this case, it looks like that won't be an issue."
      ]
    },
    {
      "cell_type": "markdown",
      "metadata": {
        "id": "2KyBaPn6oM3k"
      },
      "source": [
        "Let's now figure out how we can convert these raw texts into a format suitable for image:images/logo.png[hf,13,13] Transformers! While we're at it, let's also reset the output format of our dataset since we don't need the `DataFrame` format anymore: 【重置数据集的输出格式】"
      ]
    },
    {
      "cell_type": "code",
      "execution_count": 43,
      "metadata": {
        "id": "ZCbM6GEgoM3k"
      },
      "outputs": [],
      "source": [
        "emotions.reset_format()"
      ]
    },
    {
      "cell_type": "markdown",
      "metadata": {
        "id": "XgguZBk0oM3k"
      },
      "source": [
        "## From Text to Tokens"
      ]
    },
    {
      "cell_type": "markdown",
      "metadata": {
        "id": "nj_VtFcWoM3k"
      },
      "source": [
        "Transformer models like DistilBERT cannot receive raw strings as input; instead, they assume the text has been _tokenized_ and _encoded_ as numerical vectors. Tokenization is the step of breaking down a string into the atomic units used in the model. There are several tokenization strategies one can adopt, and the optimal splitting of words into subunits is usually learned from the corpus. Before looking at the tokenizer used for DistilBERT, let's consider two extreme cases: _character_ and _word_ tokenization."
      ]
    },
    {
      "cell_type": "markdown",
      "metadata": {
        "id": "_m9t0bsaoM3k"
      },
      "source": [
        "### Character Tokenization【字符词元化】"
      ]
    },
    {
      "cell_type": "markdown",
      "metadata": {
        "id": "Se56bIfLoM3k"
      },
      "source": [
        "The simplest tokenization scheme is to feed each character individually to the model. In Python, `str` objects are really arrays under the hood, which allows us to quickly implement character-level tokenization with just one line of code:\n",
        "\n",
        "## 分成字符"
      ]
    },
    {
      "cell_type": "code",
      "execution_count": 3,
      "metadata": {
        "id": "XiH0AJ9UoM3k",
        "outputId": "9e7fffff-af86-4565-d852-17be88e59ae4",
        "colab": {
          "base_uri": "https://localhost:8080/"
        }
      },
      "outputs": [
        {
          "output_type": "stream",
          "name": "stdout",
          "text": [
            "['T', 'o', 'k', 'e', 'n', 'i', 'z', 'i', 'n', 'g', ' ', 't', 'e', 'x', 't', ' ', 'i', 's', ' ', 'a', ' ', 'c', 'o', 'r', 'e', ' ', 't', 'a', 's', 'k', ' ', 'o', 'f', ' ', 'N', 'L', 'P', '.']\n"
          ]
        }
      ],
      "source": [
        "text = \"Tokenizing text is a core task of NLP.\"\n",
        "tokenized_text = list(text)\n",
        "print(tokenized_text)"
      ]
    },
    {
      "cell_type": "markdown",
      "metadata": {
        "id": "fN8JxpYpoM3k"
      },
      "source": [
        "This is a good start, but we're not done yet. Our model expects each character to be  converted to an integer, a process sometimes called _numericalization_. One simple way to do this is by encoding each unique token (which are characters in this case) with a unique integer:\n",
        "\n",
        "## 映射表"
      ]
    },
    {
      "cell_type": "code",
      "execution_count": 37,
      "metadata": {
        "id": "Sisex1SToM3k",
        "outputId": "c5abe2ad-7a34-43ef-9f83-b49b13e1a8a0",
        "colab": {
          "base_uri": "https://localhost:8080/"
        }
      },
      "outputs": [
        {
          "output_type": "stream",
          "name": "stdout",
          "text": [
            "{' ': 0, '.': 1, 'L': 2, 'N': 3, 'P': 4, 'T': 5, 'a': 6, 'c': 7, 'e': 8, 'f': 9, 'g': 10, 'i': 11, 'k': 12, 'n': 13, 'o': 14, 'r': 15, 's': 16, 't': 17, 'x': 18, 'z': 19}\n"
          ]
        }
      ],
      "source": [
        "token2idx = {ch: idx for idx, ch in enumerate(sorted(set(tokenized_text)))}\n",
        "print(token2idx)"
      ]
    },
    {
      "cell_type": "markdown",
      "metadata": {
        "id": "8yA5YXvmoM3k"
      },
      "source": [
        "This gives us a mapping from each character in our vocabulary to a unique integer. We can now use `token2idx` to transform the tokenized text to a list of integers:\n",
        "## 映射"
      ]
    },
    {
      "cell_type": "code",
      "execution_count": 38,
      "metadata": {
        "id": "WH7JUdrJoM3l",
        "outputId": "63e4e72e-2016-42b6-81a1-31d785ed4770",
        "colab": {
          "base_uri": "https://localhost:8080/"
        }
      },
      "outputs": [
        {
          "output_type": "stream",
          "name": "stdout",
          "text": [
            "[5, 14, 12, 8, 13, 11, 19, 11, 13, 10, 0, 17, 8, 18, 17, 0, 11, 16, 0, 6, 0, 7, 14, 15, 8, 0, 17, 6, 16, 12, 0, 14, 9, 0, 3, 2, 4, 1]\n"
          ]
        }
      ],
      "source": [
        "input_ids = [token2idx[token] for token in tokenized_text]\n",
        "print(input_ids)"
      ]
    },
    {
      "cell_type": "markdown",
      "metadata": {
        "id": "iwiQP1nEoM3l"
      },
      "source": [
        "Each token has now been mapped to a unique numerical identifier (hence the name `input_ids`). The last step is to convert `input_ids` to a 2D tensor of one-hot vectors. One-hot vectors are frequently used in machine learning to encode categorical data, which can be either ordinal or nominal. For example, suppose we wanted to encode the names of characters in the _Transformers_ TV series. One way to do this would be to map each name to a unique ID, as follows:\n",
        "\n",
        "## 独热向量：防止虚假的数字顺序关系"
      ]
    },
    {
      "cell_type": "code",
      "execution_count": 47,
      "metadata": {
        "id": "vRQGc52_oM3l",
        "outputId": "64fb70eb-1a33-4472-eb05-9916506c081a",
        "colab": {
          "base_uri": "https://localhost:8080/",
          "height": 143
        }
      },
      "outputs": [
        {
          "output_type": "execute_result",
          "data": {
            "text/plain": [
              "            Name  Label ID\n",
              "0      Bumblebee         0\n",
              "1  Optimus Prime         1\n",
              "2       Megatron         2"
            ],
            "text/html": [
              "\n",
              "  <div id=\"df-b7c2c438-d959-445f-bffc-b990c033c87a\" class=\"colab-df-container\">\n",
              "    <div>\n",
              "<style scoped>\n",
              "    .dataframe tbody tr th:only-of-type {\n",
              "        vertical-align: middle;\n",
              "    }\n",
              "\n",
              "    .dataframe tbody tr th {\n",
              "        vertical-align: top;\n",
              "    }\n",
              "\n",
              "    .dataframe thead th {\n",
              "        text-align: right;\n",
              "    }\n",
              "</style>\n",
              "<table border=\"1\" class=\"dataframe\">\n",
              "  <thead>\n",
              "    <tr style=\"text-align: right;\">\n",
              "      <th></th>\n",
              "      <th>Name</th>\n",
              "      <th>Label ID</th>\n",
              "    </tr>\n",
              "  </thead>\n",
              "  <tbody>\n",
              "    <tr>\n",
              "      <th>0</th>\n",
              "      <td>Bumblebee</td>\n",
              "      <td>0</td>\n",
              "    </tr>\n",
              "    <tr>\n",
              "      <th>1</th>\n",
              "      <td>Optimus Prime</td>\n",
              "      <td>1</td>\n",
              "    </tr>\n",
              "    <tr>\n",
              "      <th>2</th>\n",
              "      <td>Megatron</td>\n",
              "      <td>2</td>\n",
              "    </tr>\n",
              "  </tbody>\n",
              "</table>\n",
              "</div>\n",
              "    <div class=\"colab-df-buttons\">\n",
              "\n",
              "  <div class=\"colab-df-container\">\n",
              "    <button class=\"colab-df-convert\" onclick=\"convertToInteractive('df-b7c2c438-d959-445f-bffc-b990c033c87a')\"\n",
              "            title=\"Convert this dataframe to an interactive table.\"\n",
              "            style=\"display:none;\">\n",
              "\n",
              "  <svg xmlns=\"http://www.w3.org/2000/svg\" height=\"24px\" viewBox=\"0 -960 960 960\">\n",
              "    <path d=\"M120-120v-720h720v720H120Zm60-500h600v-160H180v160Zm220 220h160v-160H400v160Zm0 220h160v-160H400v160ZM180-400h160v-160H180v160Zm440 0h160v-160H620v160ZM180-180h160v-160H180v160Zm440 0h160v-160H620v160Z\"/>\n",
              "  </svg>\n",
              "    </button>\n",
              "\n",
              "  <style>\n",
              "    .colab-df-container {\n",
              "      display:flex;\n",
              "      gap: 12px;\n",
              "    }\n",
              "\n",
              "    .colab-df-convert {\n",
              "      background-color: #E8F0FE;\n",
              "      border: none;\n",
              "      border-radius: 50%;\n",
              "      cursor: pointer;\n",
              "      display: none;\n",
              "      fill: #1967D2;\n",
              "      height: 32px;\n",
              "      padding: 0 0 0 0;\n",
              "      width: 32px;\n",
              "    }\n",
              "\n",
              "    .colab-df-convert:hover {\n",
              "      background-color: #E2EBFA;\n",
              "      box-shadow: 0px 1px 2px rgba(60, 64, 67, 0.3), 0px 1px 3px 1px rgba(60, 64, 67, 0.15);\n",
              "      fill: #174EA6;\n",
              "    }\n",
              "\n",
              "    .colab-df-buttons div {\n",
              "      margin-bottom: 4px;\n",
              "    }\n",
              "\n",
              "    [theme=dark] .colab-df-convert {\n",
              "      background-color: #3B4455;\n",
              "      fill: #D2E3FC;\n",
              "    }\n",
              "\n",
              "    [theme=dark] .colab-df-convert:hover {\n",
              "      background-color: #434B5C;\n",
              "      box-shadow: 0px 1px 3px 1px rgba(0, 0, 0, 0.15);\n",
              "      filter: drop-shadow(0px 1px 2px rgba(0, 0, 0, 0.3));\n",
              "      fill: #FFFFFF;\n",
              "    }\n",
              "  </style>\n",
              "\n",
              "    <script>\n",
              "      const buttonEl =\n",
              "        document.querySelector('#df-b7c2c438-d959-445f-bffc-b990c033c87a button.colab-df-convert');\n",
              "      buttonEl.style.display =\n",
              "        google.colab.kernel.accessAllowed ? 'block' : 'none';\n",
              "\n",
              "      async function convertToInteractive(key) {\n",
              "        const element = document.querySelector('#df-b7c2c438-d959-445f-bffc-b990c033c87a');\n",
              "        const dataTable =\n",
              "          await google.colab.kernel.invokeFunction('convertToInteractive',\n",
              "                                                    [key], {});\n",
              "        if (!dataTable) return;\n",
              "\n",
              "        const docLinkHtml = 'Like what you see? Visit the ' +\n",
              "          '<a target=\"_blank\" href=https://colab.research.google.com/notebooks/data_table.ipynb>data table notebook</a>'\n",
              "          + ' to learn more about interactive tables.';\n",
              "        element.innerHTML = '';\n",
              "        dataTable['output_type'] = 'display_data';\n",
              "        await google.colab.output.renderOutput(dataTable, element);\n",
              "        const docLink = document.createElement('div');\n",
              "        docLink.innerHTML = docLinkHtml;\n",
              "        element.appendChild(docLink);\n",
              "      }\n",
              "    </script>\n",
              "  </div>\n",
              "\n",
              "\n",
              "<div id=\"df-33af0af0-7d4e-40ee-a1e8-fddccb0b2513\">\n",
              "  <button class=\"colab-df-quickchart\" onclick=\"quickchart('df-33af0af0-7d4e-40ee-a1e8-fddccb0b2513')\"\n",
              "            title=\"Suggest charts\"\n",
              "            style=\"display:none;\">\n",
              "\n",
              "<svg xmlns=\"http://www.w3.org/2000/svg\" height=\"24px\"viewBox=\"0 0 24 24\"\n",
              "     width=\"24px\">\n",
              "    <g>\n",
              "        <path d=\"M19 3H5c-1.1 0-2 .9-2 2v14c0 1.1.9 2 2 2h14c1.1 0 2-.9 2-2V5c0-1.1-.9-2-2-2zM9 17H7v-7h2v7zm4 0h-2V7h2v10zm4 0h-2v-4h2v4z\"/>\n",
              "    </g>\n",
              "</svg>\n",
              "  </button>\n",
              "\n",
              "<style>\n",
              "  .colab-df-quickchart {\n",
              "      --bg-color: #E8F0FE;\n",
              "      --fill-color: #1967D2;\n",
              "      --hover-bg-color: #E2EBFA;\n",
              "      --hover-fill-color: #174EA6;\n",
              "      --disabled-fill-color: #AAA;\n",
              "      --disabled-bg-color: #DDD;\n",
              "  }\n",
              "\n",
              "  [theme=dark] .colab-df-quickchart {\n",
              "      --bg-color: #3B4455;\n",
              "      --fill-color: #D2E3FC;\n",
              "      --hover-bg-color: #434B5C;\n",
              "      --hover-fill-color: #FFFFFF;\n",
              "      --disabled-bg-color: #3B4455;\n",
              "      --disabled-fill-color: #666;\n",
              "  }\n",
              "\n",
              "  .colab-df-quickchart {\n",
              "    background-color: var(--bg-color);\n",
              "    border: none;\n",
              "    border-radius: 50%;\n",
              "    cursor: pointer;\n",
              "    display: none;\n",
              "    fill: var(--fill-color);\n",
              "    height: 32px;\n",
              "    padding: 0;\n",
              "    width: 32px;\n",
              "  }\n",
              "\n",
              "  .colab-df-quickchart:hover {\n",
              "    background-color: var(--hover-bg-color);\n",
              "    box-shadow: 0 1px 2px rgba(60, 64, 67, 0.3), 0 1px 3px 1px rgba(60, 64, 67, 0.15);\n",
              "    fill: var(--button-hover-fill-color);\n",
              "  }\n",
              "\n",
              "  .colab-df-quickchart-complete:disabled,\n",
              "  .colab-df-quickchart-complete:disabled:hover {\n",
              "    background-color: var(--disabled-bg-color);\n",
              "    fill: var(--disabled-fill-color);\n",
              "    box-shadow: none;\n",
              "  }\n",
              "\n",
              "  .colab-df-spinner {\n",
              "    border: 2px solid var(--fill-color);\n",
              "    border-color: transparent;\n",
              "    border-bottom-color: var(--fill-color);\n",
              "    animation:\n",
              "      spin 1s steps(1) infinite;\n",
              "  }\n",
              "\n",
              "  @keyframes spin {\n",
              "    0% {\n",
              "      border-color: transparent;\n",
              "      border-bottom-color: var(--fill-color);\n",
              "      border-left-color: var(--fill-color);\n",
              "    }\n",
              "    20% {\n",
              "      border-color: transparent;\n",
              "      border-left-color: var(--fill-color);\n",
              "      border-top-color: var(--fill-color);\n",
              "    }\n",
              "    30% {\n",
              "      border-color: transparent;\n",
              "      border-left-color: var(--fill-color);\n",
              "      border-top-color: var(--fill-color);\n",
              "      border-right-color: var(--fill-color);\n",
              "    }\n",
              "    40% {\n",
              "      border-color: transparent;\n",
              "      border-right-color: var(--fill-color);\n",
              "      border-top-color: var(--fill-color);\n",
              "    }\n",
              "    60% {\n",
              "      border-color: transparent;\n",
              "      border-right-color: var(--fill-color);\n",
              "    }\n",
              "    80% {\n",
              "      border-color: transparent;\n",
              "      border-right-color: var(--fill-color);\n",
              "      border-bottom-color: var(--fill-color);\n",
              "    }\n",
              "    90% {\n",
              "      border-color: transparent;\n",
              "      border-bottom-color: var(--fill-color);\n",
              "    }\n",
              "  }\n",
              "</style>\n",
              "\n",
              "  <script>\n",
              "    async function quickchart(key) {\n",
              "      const quickchartButtonEl =\n",
              "        document.querySelector('#' + key + ' button');\n",
              "      quickchartButtonEl.disabled = true;  // To prevent multiple clicks.\n",
              "      quickchartButtonEl.classList.add('colab-df-spinner');\n",
              "      try {\n",
              "        const charts = await google.colab.kernel.invokeFunction(\n",
              "            'suggestCharts', [key], {});\n",
              "      } catch (error) {\n",
              "        console.error('Error during call to suggestCharts:', error);\n",
              "      }\n",
              "      quickchartButtonEl.classList.remove('colab-df-spinner');\n",
              "      quickchartButtonEl.classList.add('colab-df-quickchart-complete');\n",
              "    }\n",
              "    (() => {\n",
              "      let quickchartButtonEl =\n",
              "        document.querySelector('#df-33af0af0-7d4e-40ee-a1e8-fddccb0b2513 button');\n",
              "      quickchartButtonEl.style.display =\n",
              "        google.colab.kernel.accessAllowed ? 'block' : 'none';\n",
              "    })();\n",
              "  </script>\n",
              "</div>\n",
              "\n",
              "  <div id=\"id_5f7b55b0-2a11-4674-b66c-78b85a95e73b\">\n",
              "    <style>\n",
              "      .colab-df-generate {\n",
              "        background-color: #E8F0FE;\n",
              "        border: none;\n",
              "        border-radius: 50%;\n",
              "        cursor: pointer;\n",
              "        display: none;\n",
              "        fill: #1967D2;\n",
              "        height: 32px;\n",
              "        padding: 0 0 0 0;\n",
              "        width: 32px;\n",
              "      }\n",
              "\n",
              "      .colab-df-generate:hover {\n",
              "        background-color: #E2EBFA;\n",
              "        box-shadow: 0px 1px 2px rgba(60, 64, 67, 0.3), 0px 1px 3px 1px rgba(60, 64, 67, 0.15);\n",
              "        fill: #174EA6;\n",
              "      }\n",
              "\n",
              "      [theme=dark] .colab-df-generate {\n",
              "        background-color: #3B4455;\n",
              "        fill: #D2E3FC;\n",
              "      }\n",
              "\n",
              "      [theme=dark] .colab-df-generate:hover {\n",
              "        background-color: #434B5C;\n",
              "        box-shadow: 0px 1px 3px 1px rgba(0, 0, 0, 0.15);\n",
              "        filter: drop-shadow(0px 1px 2px rgba(0, 0, 0, 0.3));\n",
              "        fill: #FFFFFF;\n",
              "      }\n",
              "    </style>\n",
              "    <button class=\"colab-df-generate\" onclick=\"generateWithVariable('categorical_df')\"\n",
              "            title=\"Generate code using this dataframe.\"\n",
              "            style=\"display:none;\">\n",
              "\n",
              "  <svg xmlns=\"http://www.w3.org/2000/svg\" height=\"24px\"viewBox=\"0 0 24 24\"\n",
              "       width=\"24px\">\n",
              "    <path d=\"M7,19H8.4L18.45,9,17,7.55,7,17.6ZM5,21V16.75L18.45,3.32a2,2,0,0,1,2.83,0l1.4,1.43a1.91,1.91,0,0,1,.58,1.4,1.91,1.91,0,0,1-.58,1.4L9.25,21ZM18.45,9,17,7.55Zm-12,3A5.31,5.31,0,0,0,4.9,8.1,5.31,5.31,0,0,0,1,6.5,5.31,5.31,0,0,0,4.9,4.9,5.31,5.31,0,0,0,6.5,1,5.31,5.31,0,0,0,8.1,4.9,5.31,5.31,0,0,0,12,6.5,5.46,5.46,0,0,0,6.5,12Z\"/>\n",
              "  </svg>\n",
              "    </button>\n",
              "    <script>\n",
              "      (() => {\n",
              "      const buttonEl =\n",
              "        document.querySelector('#id_5f7b55b0-2a11-4674-b66c-78b85a95e73b button.colab-df-generate');\n",
              "      buttonEl.style.display =\n",
              "        google.colab.kernel.accessAllowed ? 'block' : 'none';\n",
              "\n",
              "      buttonEl.onclick = () => {\n",
              "        google.colab.notebook.generateWithVariable('categorical_df');\n",
              "      }\n",
              "      })();\n",
              "    </script>\n",
              "  </div>\n",
              "\n",
              "    </div>\n",
              "  </div>\n"
            ],
            "application/vnd.google.colaboratory.intrinsic+json": {
              "type": "dataframe",
              "variable_name": "categorical_df",
              "summary": "{\n  \"name\": \"categorical_df\",\n  \"rows\": 3,\n  \"fields\": [\n    {\n      \"column\": \"Name\",\n      \"properties\": {\n        \"dtype\": \"string\",\n        \"num_unique_values\": 3,\n        \"samples\": [\n          \"Bumblebee\",\n          \"Optimus Prime\",\n          \"Megatron\"\n        ],\n        \"semantic_type\": \"\",\n        \"description\": \"\"\n      }\n    },\n    {\n      \"column\": \"Label ID\",\n      \"properties\": {\n        \"dtype\": \"number\",\n        \"std\": 1,\n        \"min\": 0,\n        \"max\": 2,\n        \"num_unique_values\": 3,\n        \"samples\": [\n          0,\n          1,\n          2\n        ],\n        \"semantic_type\": \"\",\n        \"description\": \"\"\n      }\n    }\n  ]\n}"
            }
          },
          "metadata": {},
          "execution_count": 47
        }
      ],
      "source": [
        "categorical_df = pd.DataFrame(\n",
        "    {\"Name\": [\"Bumblebee\", \"Optimus Prime\", \"Megatron\"], \"Label ID\": [0,1,2]})\n",
        "categorical_df"
      ]
    },
    {
      "cell_type": "markdown",
      "metadata": {
        "id": "tUCZ7-UVoM3l"
      },
      "source": [
        "The problem with this approach is that it creates a fictitious ordering between the names, and neural networks are _really_ good at learning these kinds of relationships. So instead, we can create a new column for each category and assign a 1 where the category is true, and a 0 otherwise. In Pandas, this can be implemented with the `get_dummies()` function as follows:"
      ]
    },
    {
      "cell_type": "code",
      "execution_count": 49,
      "metadata": {
        "id": "Wy-BonKzoM3l",
        "outputId": "26b74e64-165f-4e34-bd57-5d8533b30cee",
        "colab": {
          "base_uri": "https://localhost:8080/",
          "height": 143
        }
      },
      "outputs": [
        {
          "output_type": "execute_result",
          "data": {
            "text/plain": [
              "   Bumblebee  Megatron  Optimus Prime\n",
              "0       True     False          False\n",
              "1      False     False           True\n",
              "2      False      True          False"
            ],
            "text/html": [
              "\n",
              "  <div id=\"df-e34ea9e7-dd10-4e19-962d-1257f737f477\" class=\"colab-df-container\">\n",
              "    <div>\n",
              "<style scoped>\n",
              "    .dataframe tbody tr th:only-of-type {\n",
              "        vertical-align: middle;\n",
              "    }\n",
              "\n",
              "    .dataframe tbody tr th {\n",
              "        vertical-align: top;\n",
              "    }\n",
              "\n",
              "    .dataframe thead th {\n",
              "        text-align: right;\n",
              "    }\n",
              "</style>\n",
              "<table border=\"1\" class=\"dataframe\">\n",
              "  <thead>\n",
              "    <tr style=\"text-align: right;\">\n",
              "      <th></th>\n",
              "      <th>Bumblebee</th>\n",
              "      <th>Megatron</th>\n",
              "      <th>Optimus Prime</th>\n",
              "    </tr>\n",
              "  </thead>\n",
              "  <tbody>\n",
              "    <tr>\n",
              "      <th>0</th>\n",
              "      <td>True</td>\n",
              "      <td>False</td>\n",
              "      <td>False</td>\n",
              "    </tr>\n",
              "    <tr>\n",
              "      <th>1</th>\n",
              "      <td>False</td>\n",
              "      <td>False</td>\n",
              "      <td>True</td>\n",
              "    </tr>\n",
              "    <tr>\n",
              "      <th>2</th>\n",
              "      <td>False</td>\n",
              "      <td>True</td>\n",
              "      <td>False</td>\n",
              "    </tr>\n",
              "  </tbody>\n",
              "</table>\n",
              "</div>\n",
              "    <div class=\"colab-df-buttons\">\n",
              "\n",
              "  <div class=\"colab-df-container\">\n",
              "    <button class=\"colab-df-convert\" onclick=\"convertToInteractive('df-e34ea9e7-dd10-4e19-962d-1257f737f477')\"\n",
              "            title=\"Convert this dataframe to an interactive table.\"\n",
              "            style=\"display:none;\">\n",
              "\n",
              "  <svg xmlns=\"http://www.w3.org/2000/svg\" height=\"24px\" viewBox=\"0 -960 960 960\">\n",
              "    <path d=\"M120-120v-720h720v720H120Zm60-500h600v-160H180v160Zm220 220h160v-160H400v160Zm0 220h160v-160H400v160ZM180-400h160v-160H180v160Zm440 0h160v-160H620v160ZM180-180h160v-160H180v160Zm440 0h160v-160H620v160Z\"/>\n",
              "  </svg>\n",
              "    </button>\n",
              "\n",
              "  <style>\n",
              "    .colab-df-container {\n",
              "      display:flex;\n",
              "      gap: 12px;\n",
              "    }\n",
              "\n",
              "    .colab-df-convert {\n",
              "      background-color: #E8F0FE;\n",
              "      border: none;\n",
              "      border-radius: 50%;\n",
              "      cursor: pointer;\n",
              "      display: none;\n",
              "      fill: #1967D2;\n",
              "      height: 32px;\n",
              "      padding: 0 0 0 0;\n",
              "      width: 32px;\n",
              "    }\n",
              "\n",
              "    .colab-df-convert:hover {\n",
              "      background-color: #E2EBFA;\n",
              "      box-shadow: 0px 1px 2px rgba(60, 64, 67, 0.3), 0px 1px 3px 1px rgba(60, 64, 67, 0.15);\n",
              "      fill: #174EA6;\n",
              "    }\n",
              "\n",
              "    .colab-df-buttons div {\n",
              "      margin-bottom: 4px;\n",
              "    }\n",
              "\n",
              "    [theme=dark] .colab-df-convert {\n",
              "      background-color: #3B4455;\n",
              "      fill: #D2E3FC;\n",
              "    }\n",
              "\n",
              "    [theme=dark] .colab-df-convert:hover {\n",
              "      background-color: #434B5C;\n",
              "      box-shadow: 0px 1px 3px 1px rgba(0, 0, 0, 0.15);\n",
              "      filter: drop-shadow(0px 1px 2px rgba(0, 0, 0, 0.3));\n",
              "      fill: #FFFFFF;\n",
              "    }\n",
              "  </style>\n",
              "\n",
              "    <script>\n",
              "      const buttonEl =\n",
              "        document.querySelector('#df-e34ea9e7-dd10-4e19-962d-1257f737f477 button.colab-df-convert');\n",
              "      buttonEl.style.display =\n",
              "        google.colab.kernel.accessAllowed ? 'block' : 'none';\n",
              "\n",
              "      async function convertToInteractive(key) {\n",
              "        const element = document.querySelector('#df-e34ea9e7-dd10-4e19-962d-1257f737f477');\n",
              "        const dataTable =\n",
              "          await google.colab.kernel.invokeFunction('convertToInteractive',\n",
              "                                                    [key], {});\n",
              "        if (!dataTable) return;\n",
              "\n",
              "        const docLinkHtml = 'Like what you see? Visit the ' +\n",
              "          '<a target=\"_blank\" href=https://colab.research.google.com/notebooks/data_table.ipynb>data table notebook</a>'\n",
              "          + ' to learn more about interactive tables.';\n",
              "        element.innerHTML = '';\n",
              "        dataTable['output_type'] = 'display_data';\n",
              "        await google.colab.output.renderOutput(dataTable, element);\n",
              "        const docLink = document.createElement('div');\n",
              "        docLink.innerHTML = docLinkHtml;\n",
              "        element.appendChild(docLink);\n",
              "      }\n",
              "    </script>\n",
              "  </div>\n",
              "\n",
              "\n",
              "<div id=\"df-9872337e-e987-4854-bbf6-375ded447c1c\">\n",
              "  <button class=\"colab-df-quickchart\" onclick=\"quickchart('df-9872337e-e987-4854-bbf6-375ded447c1c')\"\n",
              "            title=\"Suggest charts\"\n",
              "            style=\"display:none;\">\n",
              "\n",
              "<svg xmlns=\"http://www.w3.org/2000/svg\" height=\"24px\"viewBox=\"0 0 24 24\"\n",
              "     width=\"24px\">\n",
              "    <g>\n",
              "        <path d=\"M19 3H5c-1.1 0-2 .9-2 2v14c0 1.1.9 2 2 2h14c1.1 0 2-.9 2-2V5c0-1.1-.9-2-2-2zM9 17H7v-7h2v7zm4 0h-2V7h2v10zm4 0h-2v-4h2v4z\"/>\n",
              "    </g>\n",
              "</svg>\n",
              "  </button>\n",
              "\n",
              "<style>\n",
              "  .colab-df-quickchart {\n",
              "      --bg-color: #E8F0FE;\n",
              "      --fill-color: #1967D2;\n",
              "      --hover-bg-color: #E2EBFA;\n",
              "      --hover-fill-color: #174EA6;\n",
              "      --disabled-fill-color: #AAA;\n",
              "      --disabled-bg-color: #DDD;\n",
              "  }\n",
              "\n",
              "  [theme=dark] .colab-df-quickchart {\n",
              "      --bg-color: #3B4455;\n",
              "      --fill-color: #D2E3FC;\n",
              "      --hover-bg-color: #434B5C;\n",
              "      --hover-fill-color: #FFFFFF;\n",
              "      --disabled-bg-color: #3B4455;\n",
              "      --disabled-fill-color: #666;\n",
              "  }\n",
              "\n",
              "  .colab-df-quickchart {\n",
              "    background-color: var(--bg-color);\n",
              "    border: none;\n",
              "    border-radius: 50%;\n",
              "    cursor: pointer;\n",
              "    display: none;\n",
              "    fill: var(--fill-color);\n",
              "    height: 32px;\n",
              "    padding: 0;\n",
              "    width: 32px;\n",
              "  }\n",
              "\n",
              "  .colab-df-quickchart:hover {\n",
              "    background-color: var(--hover-bg-color);\n",
              "    box-shadow: 0 1px 2px rgba(60, 64, 67, 0.3), 0 1px 3px 1px rgba(60, 64, 67, 0.15);\n",
              "    fill: var(--button-hover-fill-color);\n",
              "  }\n",
              "\n",
              "  .colab-df-quickchart-complete:disabled,\n",
              "  .colab-df-quickchart-complete:disabled:hover {\n",
              "    background-color: var(--disabled-bg-color);\n",
              "    fill: var(--disabled-fill-color);\n",
              "    box-shadow: none;\n",
              "  }\n",
              "\n",
              "  .colab-df-spinner {\n",
              "    border: 2px solid var(--fill-color);\n",
              "    border-color: transparent;\n",
              "    border-bottom-color: var(--fill-color);\n",
              "    animation:\n",
              "      spin 1s steps(1) infinite;\n",
              "  }\n",
              "\n",
              "  @keyframes spin {\n",
              "    0% {\n",
              "      border-color: transparent;\n",
              "      border-bottom-color: var(--fill-color);\n",
              "      border-left-color: var(--fill-color);\n",
              "    }\n",
              "    20% {\n",
              "      border-color: transparent;\n",
              "      border-left-color: var(--fill-color);\n",
              "      border-top-color: var(--fill-color);\n",
              "    }\n",
              "    30% {\n",
              "      border-color: transparent;\n",
              "      border-left-color: var(--fill-color);\n",
              "      border-top-color: var(--fill-color);\n",
              "      border-right-color: var(--fill-color);\n",
              "    }\n",
              "    40% {\n",
              "      border-color: transparent;\n",
              "      border-right-color: var(--fill-color);\n",
              "      border-top-color: var(--fill-color);\n",
              "    }\n",
              "    60% {\n",
              "      border-color: transparent;\n",
              "      border-right-color: var(--fill-color);\n",
              "    }\n",
              "    80% {\n",
              "      border-color: transparent;\n",
              "      border-right-color: var(--fill-color);\n",
              "      border-bottom-color: var(--fill-color);\n",
              "    }\n",
              "    90% {\n",
              "      border-color: transparent;\n",
              "      border-bottom-color: var(--fill-color);\n",
              "    }\n",
              "  }\n",
              "</style>\n",
              "\n",
              "  <script>\n",
              "    async function quickchart(key) {\n",
              "      const quickchartButtonEl =\n",
              "        document.querySelector('#' + key + ' button');\n",
              "      quickchartButtonEl.disabled = true;  // To prevent multiple clicks.\n",
              "      quickchartButtonEl.classList.add('colab-df-spinner');\n",
              "      try {\n",
              "        const charts = await google.colab.kernel.invokeFunction(\n",
              "            'suggestCharts', [key], {});\n",
              "      } catch (error) {\n",
              "        console.error('Error during call to suggestCharts:', error);\n",
              "      }\n",
              "      quickchartButtonEl.classList.remove('colab-df-spinner');\n",
              "      quickchartButtonEl.classList.add('colab-df-quickchart-complete');\n",
              "    }\n",
              "    (() => {\n",
              "      let quickchartButtonEl =\n",
              "        document.querySelector('#df-9872337e-e987-4854-bbf6-375ded447c1c button');\n",
              "      quickchartButtonEl.style.display =\n",
              "        google.colab.kernel.accessAllowed ? 'block' : 'none';\n",
              "    })();\n",
              "  </script>\n",
              "</div>\n",
              "\n",
              "    </div>\n",
              "  </div>\n"
            ],
            "application/vnd.google.colaboratory.intrinsic+json": {
              "type": "dataframe",
              "summary": "{\n  \"name\": \"pd\",\n  \"rows\": 3,\n  \"fields\": [\n    {\n      \"column\": \"Bumblebee\",\n      \"properties\": {\n        \"dtype\": \"boolean\",\n        \"num_unique_values\": 2,\n        \"samples\": [\n          false,\n          true\n        ],\n        \"semantic_type\": \"\",\n        \"description\": \"\"\n      }\n    },\n    {\n      \"column\": \"Megatron\",\n      \"properties\": {\n        \"dtype\": \"boolean\",\n        \"num_unique_values\": 2,\n        \"samples\": [\n          true,\n          false\n        ],\n        \"semantic_type\": \"\",\n        \"description\": \"\"\n      }\n    },\n    {\n      \"column\": \"Optimus Prime\",\n      \"properties\": {\n        \"dtype\": \"boolean\",\n        \"num_unique_values\": 2,\n        \"samples\": [\n          true,\n          false\n        ],\n        \"semantic_type\": \"\",\n        \"description\": \"\"\n      }\n    }\n  ]\n}"
            }
          },
          "metadata": {},
          "execution_count": 49
        }
      ],
      "source": [
        "pd.get_dummies(categorical_df[\"Name\"])"
      ]
    },
    {
      "cell_type": "markdown",
      "metadata": {
        "id": "MHGO8h31oM3l"
      },
      "source": [
        "The rows of this `DataFrame` are the one-hot vectors, which have a single \"hot\" entry with a 1 and 0s everywhere else. Now, looking at our `input_ids`, we have a similar problem: the elements create an ordinal scale. This means that adding or subtracting two IDs is a meaningless operation, since the result is a new ID that represents another random token.\n",
        "\n",
        "On the other hand, the result of adding two one-hot encodings can easily be interpreted: the two entries that are \"hot\" indicate that the corresponding tokens co-occur. We can create the one-hot encodings in PyTorch by converting `input_ids` to a tensor and applying the `one_hot()` function as follows:"
      ]
    },
    {
      "cell_type": "code",
      "execution_count": 39,
      "metadata": {
        "id": "D7hf0nWEoM3l",
        "outputId": "53097450-bd84-47ad-e4d0-2496766dbd26",
        "colab": {
          "base_uri": "https://localhost:8080/"
        }
      },
      "outputs": [
        {
          "output_type": "execute_result",
          "data": {
            "text/plain": [
              "torch.Size([38, 20])"
            ]
          },
          "metadata": {},
          "execution_count": 39
        }
      ],
      "source": [
        "import torch\n",
        "import torch.nn.functional as F\n",
        "\n",
        "input_ids = torch.tensor(input_ids)\n",
        "one_hot_encodings = F.one_hot(input_ids, num_classes=len(token2idx))\n",
        "one_hot_encodings.shape"
      ]
    },
    {
      "cell_type": "markdown",
      "metadata": {
        "id": "kjmvk-xioM3m"
      },
      "source": [
        "For each of the 38 input tokens we now have a one-hot vector with 20 dimensions, since our vocabulary consists of 20 unique characters.\n",
        "\n",
        "\n",
        "> 38个字符，20种字符\n",
        "\n"
      ]
    },
    {
      "cell_type": "markdown",
      "metadata": {
        "id": "T2Bcn6TeoM3m"
      },
      "source": [
        "> Warning: It's important to always set `num_classes` in the `one_hot()` function because otherwise the one-hot vectors may end up being shorter than the length of the vocabulary (and need to be padded with zeros manually). In TensorFlow, the equivalent function is `tf.one_hot()`, where the `depth` argument plays the role of `num_classes`."
      ]
    },
    {
      "cell_type": "markdown",
      "metadata": {
        "id": "mnMyRDGRoM3m"
      },
      "source": [
        "By examining the first vector, we can verify that a 1 appears in the location indicated by `input_ids[0]`:"
      ]
    },
    {
      "cell_type": "code",
      "execution_count": 51,
      "metadata": {
        "id": "6-ghCZWXoM3m",
        "outputId": "cd536259-0300-4f93-8204-d3921092a4cb",
        "colab": {
          "base_uri": "https://localhost:8080/"
        }
      },
      "outputs": [
        {
          "output_type": "stream",
          "name": "stdout",
          "text": [
            "Token: T\n",
            "Tensor index: 5\n",
            "One-hot: tensor([0, 0, 0, 0, 0, 1, 0, 0, 0, 0, 0, 0, 0, 0, 0, 0, 0, 0, 0, 0])\n"
          ]
        }
      ],
      "source": [
        "print(f\"Token: {tokenized_text[0]}\")\n",
        "print(f\"Tensor index: {input_ids[0]}\")\n",
        "print(f\"One-hot: {one_hot_encodings[0]}\")"
      ]
    },
    {
      "cell_type": "markdown",
      "metadata": {
        "id": "-KBXl21SoM3m"
      },
      "source": [
        "From our simple example we can see that character-level tokenization ignores any structure in the text and treats the whole string as a stream of characters. Although this helps deal with misspellings and rare words, the main drawback is that linguistic structures such as words need to be _learned_ from the data. This requires significant compute, memory, and data. For this reason, character tokenization is rarely used in practice. Instead, some structure of the text is preserved during the tokenization step. _Word tokenization_ is a straightforward approach to achieve this, so let's take a look at how it works."
      ]
    },
    {
      "cell_type": "markdown",
      "metadata": {
        "id": "VaZNOYCzoM3m"
      },
      "source": [
        "### Word Tokenization【**单词词元化！！！**】:"
      ]
    },
    {
      "cell_type": "markdown",
      "metadata": {
        "id": "IMNCAIQkoM3m"
      },
      "source": [
        "Instead of splitting the text into characters, we can split it into words and map each word to an integer. Using words from the outset enables the model to skip the step of learning words from characters, and thereby reduces the complexity of the training process."
      ]
    },
    {
      "cell_type": "markdown",
      "metadata": {
        "id": "UsT9ewSqoM3m"
      },
      "source": [
        "One simple class of word tokenizers uses whitespace to tokenize the text. We can do this by applying Python's `split()` function directly on the raw text (just like we did to measure the tweet lengths):"
      ]
    },
    {
      "cell_type": "code",
      "source": [
        "text"
      ],
      "metadata": {
        "id": "K5VqpbUPyjYp",
        "outputId": "f6599bd5-8789-42a0-b4af-8e9660a73fb8",
        "colab": {
          "base_uri": "https://localhost:8080/",
          "height": 36
        }
      },
      "execution_count": 52,
      "outputs": [
        {
          "output_type": "execute_result",
          "data": {
            "text/plain": [
              "'Tokenizing text is a core task of NLP.'"
            ],
            "application/vnd.google.colaboratory.intrinsic+json": {
              "type": "string"
            }
          },
          "metadata": {},
          "execution_count": 52
        }
      ]
    },
    {
      "cell_type": "code",
      "execution_count": 53,
      "metadata": {
        "id": "gbWrO0BhoM3m",
        "outputId": "65a9e138-9318-405c-f8d6-3c18783baf2a",
        "colab": {
          "base_uri": "https://localhost:8080/"
        }
      },
      "outputs": [
        {
          "output_type": "stream",
          "name": "stdout",
          "text": [
            "['Tokenizing', 'text', 'is', 'a', 'core', 'task', 'of', 'NLP.']\n"
          ]
        }
      ],
      "source": [
        "tokenized_text = text.split()\n",
        "print(tokenized_text)"
      ]
    },
    {
      "cell_type": "markdown",
      "metadata": {
        "id": "WTlC65e8oM3n"
      },
      "source": [
        "From here we can take the same steps we took for the character tokenizer to map each word to an ID. However, we can already see one potential problem with this tokenization scheme: punctuation is not accounted for, so `NLP.` is treated as a single token. Given that words can include declinations, conjugations, or misspellings, the size of the vocabulary can easily grow into the millions! 【缺点：词表太大】\n",
        "\n",
        "\n",
        "> note: Some word tokenizers have extra rules for punctuation. One can also apply stemming or lemmatization, which normalizes words to their stem (e.g., \"great\", \"greater\", and \"greatest\" all become \"great\"), at the expense of losing some information in the text."
      ]
    },
    {
      "cell_type": "markdown",
      "metadata": {
        "id": "Y-A0j-IXoM3n"
      },
      "source": [
        "Having a large vocabulary is a problem because it requires neural networks to have an enormous number of parameters. To illustrate this, suppose we have 1 million unique words and want to compress the 1-million-dimensional input vectors to 1-thousand-dimensional vectors in the first layer of our neural network. This is a standard step in most NLP architectures, and the resulting weight matrix of this first layer would contain 1 million $\\times$ 1 thousand = 1 billion weights. This is already comparable to the largest GPT-2 model,footnote:[GPT-2 is the successor of GPT, and it captivated the public's attention with its impressive ability to generate realistic text. We'll explore GPT-2 in detail in <<chapter_summarization>>.] which has around 1.5 billion parameters in total!"
      ]
    },
    {
      "cell_type": "markdown",
      "metadata": {
        "id": "aRyofR2hoM3n"
      },
      "source": [
        "Naturally, we want to avoid being so wasteful with our model parameters since models are expensive to train, and larger models are more difficult to maintain. A common approach is to limit the vocabulary and discard rare words by considering, say, the 100,000 most common words in the corpus. Words that are not part of the vocabulary are classified as \"unknown\" and mapped to a shared `UNK` token. This means that we lose some potentially important information in the process of word tokenization, since the model has no information about words associated with `UNK`.\n",
        "\n",
        "Wouldn't it be nice if there was a compromise between character and word tokenization that preserved all the input information _and_ some of the input structure? There is: _subword tokenization_."
      ]
    },
    {
      "cell_type": "markdown",
      "metadata": {
        "id": "z8NPavMEoM3n"
      },
      "source": [
        "### Subword Tokenization【子词词元化】"
      ]
    },
    {
      "cell_type": "markdown",
      "metadata": {
        "id": "ds3rfl2LoM3n"
      },
      "source": [
        "The basic idea behind subword tokenization is to combine the best aspects of character and word tokenization. On the one hand, we want to split rare words into smaller units to allow the model to deal with complex words and misspellings. On the other hand, we want to keep frequent words as unique entities so that we can keep the length of our inputs to a manageable size. The main distinguishing feature of subword tokenization (as well as word tokenization) is that it is _learned_ from the pretraining corpus using a mix of statistical rules and algorithms.\n",
        "\n",
        "There are several subword tokenization algorithms that are commonly used in NLP, but let's start with **WordPiece**,footnote:[M. Schuster and K. Nakajima, \"Japanese and Korean Voice Search,\" _2012 IEEE International Conference on Acoustics, Speech and Signal Processing_ (2012): 5149–5152, https://doi.org/10.1109/ICASSP.2012.6289079.] which is **used by the BERT and DistilBERT tokenizers**. The easiest way to understand how WordPiece works is to see it in action. image:images/logo.png[hf,13,13] Transformers provides a convenient `AutoTokenizer` class that allows you to quickly load the tokenizer associated with a pretrained model—we just call its `from_pretrained()` method, providing the ID of a model on the Hub or a local file path. Let's start by **loading the tokenizer for DistilBERT**:【加载DistilBERT的词元分析器】"
      ]
    },
    {
      "cell_type": "code",
      "execution_count": 17,
      "metadata": {
        "id": "By4O56Y5oM3n"
      },
      "outputs": [],
      "source": [
        "# hide_output\n",
        "from transformers import AutoTokenizer\n",
        "\n",
        "model_ckpt = \"distilbert-base-uncased\"\n",
        "tokenizer = AutoTokenizer.from_pretrained(model_ckpt)"
      ]
    },
    {
      "cell_type": "markdown",
      "metadata": {
        "id": "y2nq9lPXoM3n"
      },
      "source": [
        "The `AutoTokenizer` class belongs to a larger set of [\"auto\" classes](https://huggingface.co/docs/transformers/model_doc/auto) whose job is to automatically retrieve the model's configuration, pretrained weights, or vocabulary from the name of the checkpoint. This allows you to quickly switch between models, but if you wish to load the specific class manually you can do so as well. For example, we could have loaded the DistilBERT tokenizer as follows:\n",
        "\n",
        "```python\n",
        "from transformers import DistilBertTokenizer\n",
        "\n",
        "distilbert_tokenizer = DistilBertTokenizer.from_pretrained(model_ckpt)\n",
        "```"
      ]
    },
    {
      "cell_type": "markdown",
      "metadata": {
        "id": "JHVryYDPoM3o"
      },
      "source": [
        "> note: When you run the `AutoTokenizer.from_pretrained()` method for the first time you will see a progress bar that shows which parameters of the pretrained tokenizer are loaded from the Hugging Face Hub. When you run the code a second time, it will load the tokenizer from the cache, usually located at _~/.cache/huggingface/_."
      ]
    },
    {
      "cell_type": "markdown",
      "metadata": {
        "id": "0g0lwkdaoM3o"
      },
      "source": [
        "Let's examine how this tokenizer works by feeding it our simple \"Tokenizing text is a core task of NLP.\" example text:"
      ]
    },
    {
      "cell_type": "code",
      "execution_count": 18,
      "metadata": {
        "id": "9cuG08fsoM3o",
        "outputId": "25b866a0-1419-4e49-c006-607bddcc8638",
        "colab": {
          "base_uri": "https://localhost:8080/"
        }
      },
      "outputs": [
        {
          "output_type": "stream",
          "name": "stdout",
          "text": [
            "{'input_ids': [101, 19204, 6026, 3793, 2003, 1037, 4563, 4708, 1997, 17953, 2361, 1012, 102], 'attention_mask': [1, 1, 1, 1, 1, 1, 1, 1, 1, 1, 1, 1, 1]}\n"
          ]
        }
      ],
      "source": [
        "encoded_text = tokenizer(text)\n",
        "print(encoded_text)"
      ]
    },
    {
      "cell_type": "markdown",
      "metadata": {
        "id": "543L6kjLoM3o"
      },
      "source": [
        "Just like we saw with character tokenization, we can see that the words have been mapped to unique integers in the `input_ids` field. We'll discuss the role of the `attention_mask` field in the next section. Now that we have the `input_ids`, we can convert them back into tokens by using the tokenizer's `convert_ids_to_tokens()` method:"
      ]
    },
    {
      "cell_type": "code",
      "execution_count": 19,
      "metadata": {
        "id": "fJZdHsjdoM3o",
        "outputId": "2ff67835-d951-44f9-ec3c-b7620d96c6ff",
        "colab": {
          "base_uri": "https://localhost:8080/"
        }
      },
      "outputs": [
        {
          "output_type": "stream",
          "name": "stdout",
          "text": [
            "Tokenizing text is a core task of NLP.\n",
            "['[CLS]', 'token', '##izing', 'text', 'is', 'a', 'core', 'task', 'of', 'nl', '##p', '.', '[SEP]']\n"
          ]
        }
      ],
      "source": [
        "print(text)\n",
        "\n",
        "tokens = tokenizer.convert_ids_to_tokens(encoded_text.input_ids)\n",
        "print(tokens)"
      ]
    },
    {
      "cell_type": "markdown",
      "metadata": {
        "id": "6pBZ65gjoM3o"
      },
      "source": [
        "We can observe three things here. First, some special `[CLS]` and `[SEP]` tokens have been added to the start and end of the sequence. These tokens differ from model to model, but their main role is to indicate the start and end of a sequence. Second, the tokens have each been lowercased, which is a feature of this particular checkpoint. Finally, we can see that \"tokenizing\" and \"NLP\" have been split into two tokens, which makes sense since they are not common words. The `##` prefix in `##izing` and `##p` means that the preceding string is not whitespace; any token with this prefix should be merged with the previous token when you convert the tokens back to a string. The `AutoTokenizer` class has a `convert_tokens_to_string()` method for doing just that, so let's apply it to our tokens:"
      ]
    },
    {
      "cell_type": "code",
      "execution_count": 20,
      "metadata": {
        "id": "Qfx_0brIoM3o",
        "outputId": "8ae0f463-20a1-4deb-eb3c-a46d6495542d",
        "colab": {
          "base_uri": "https://localhost:8080/"
        }
      },
      "outputs": [
        {
          "output_type": "stream",
          "name": "stdout",
          "text": [
            "Tokenizing text is a core task of NLP.\n",
            "[CLS] tokenizing text is a core task of nlp. [SEP]\n"
          ]
        }
      ],
      "source": [
        "print(text)\n",
        "print(tokenizer.convert_tokens_to_string(tokens))"
      ]
    },
    {
      "cell_type": "markdown",
      "metadata": {
        "id": "4j0aUCCeoM3o"
      },
      "source": [
        "The `AutoTokenizer` class also has several attributes that provide information about the tokenizer. For example, we can inspect the vocabulary size:【词表大小】"
      ]
    },
    {
      "cell_type": "code",
      "execution_count": 21,
      "metadata": {
        "id": "2-ykoQXhoM3o",
        "outputId": "f3e20ef2-7965-4e5e-82c1-4fa6eac5de29",
        "colab": {
          "base_uri": "https://localhost:8080/"
        }
      },
      "outputs": [
        {
          "output_type": "execute_result",
          "data": {
            "text/plain": [
              "30522"
            ]
          },
          "metadata": {},
          "execution_count": 21
        }
      ],
      "source": [
        "tokenizer.vocab_size"
      ]
    },
    {
      "cell_type": "markdown",
      "metadata": {
        "id": "FihAQgrqoM3p"
      },
      "source": [
        "and the corresponding model's maximum context size:【最大上下文】"
      ]
    },
    {
      "cell_type": "code",
      "execution_count": 22,
      "metadata": {
        "id": "PzfOz1yhoM3p",
        "outputId": "50af3842-bd31-407d-ae83-fef3970894df",
        "colab": {
          "base_uri": "https://localhost:8080/"
        }
      },
      "outputs": [
        {
          "output_type": "execute_result",
          "data": {
            "text/plain": [
              "1000000000000000019884624838656"
            ]
          },
          "metadata": {},
          "execution_count": 22
        }
      ],
      "source": [
        "tokenizer.model_max_length"
      ]
    },
    {
      "cell_type": "markdown",
      "metadata": {
        "id": "pFoCSnPsoM3p"
      },
      "source": [
        "Another interesting attribute to know about is the names of the fields that the model expects in its forward pass:"
      ]
    },
    {
      "cell_type": "code",
      "execution_count": 23,
      "metadata": {
        "id": "GZw9TcMzoM3p",
        "outputId": "44ae7f90-ea95-424f-cfb2-df50b98e5775",
        "colab": {
          "base_uri": "https://localhost:8080/"
        }
      },
      "outputs": [
        {
          "output_type": "execute_result",
          "data": {
            "text/plain": [
              "['input_ids', 'attention_mask']"
            ]
          },
          "metadata": {},
          "execution_count": 23
        }
      ],
      "source": [
        "tokenizer.model_input_names"
      ]
    },
    {
      "cell_type": "markdown",
      "metadata": {
        "id": "hNvqGPhloM3p"
      },
      "source": [
        "Now that we have a basic understanding of the tokenization process for a single string, let's see how we can tokenize the whole dataset!"
      ]
    },
    {
      "cell_type": "markdown",
      "metadata": {
        "id": "0wwJZsv_oM3p"
      },
      "source": [
        "> warning: When using pretrained models, it is _really_ important to make sure that you use the same tokenizer that the model was trained with. From the model's perspective, switching the tokenizer is like shuffling the vocabulary. If everyone around you started swapping random words like \"house\" for \"cat,\" you'd have a hard time understanding what was going on too!"
      ]
    },
    {
      "cell_type": "markdown",
      "metadata": {
        "id": "fplZ6KUyoM3p"
      },
      "source": [
        "### Tokenizing the Whole Dataset【词元化整个数据集】"
      ]
    },
    {
      "cell_type": "markdown",
      "metadata": {
        "id": "YnI535imoM3p"
      },
      "source": [
        "To tokenize the whole corpus, we'll use the `map()` method of our `DatasetDict` object. We'll encounter this method many times throughout this book, as it provides a convenient way to apply a processing function to each element in a dataset. As we'll soon see, the `map()` method can also be used to create new rows and columns.\n",
        "\n",
        "To get started, the first thing we need is a processing function to tokenize our examples with:"
      ]
    },
    {
      "cell_type": "code",
      "execution_count": 24,
      "metadata": {
        "id": "PstnYcZMoM3p"
      },
      "outputs": [],
      "source": [
        "def tokenize(batch):\n",
        "    return tokenizer(batch[\"text\"], padding=True, truncation=True)"
      ]
    },
    {
      "cell_type": "markdown",
      "metadata": {
        "id": "KhcBaGFRoM3q"
      },
      "source": [
        "This function applies the tokenizer to a batch of examples; `padding=True`【0填充】 will pad the examples with zeros to the size of the longest one in a batch, and `truncation=True`【截断为模型最大上下文大小】 will truncate the examples to the model's maximum context size. To see `tokenize()` in action, let's pass a batch of two examples from the training set:"
      ]
    },
    {
      "cell_type": "code",
      "execution_count": 67,
      "metadata": {
        "id": "88AW6U4UoM3q",
        "outputId": "2d1e6293-a1b1-475b-93cb-f062b15bc86f",
        "colab": {
          "base_uri": "https://localhost:8080/"
        }
      },
      "outputs": [
        {
          "output_type": "stream",
          "name": "stderr",
          "text": [
            "Asking to truncate to max_length but no maximum length is provided and the model has no predefined maximum length. Default to no truncation.\n"
          ]
        },
        {
          "output_type": "stream",
          "name": "stdout",
          "text": [
            "{'input_ids': [[101, 1045, 2134, 2102, 2514, 26608, 102, 0, 0, 0, 0, 0, 0, 0, 0, 0, 0, 0, 0, 0, 0, 0, 0], [101, 1045, 2064, 2175, 2013, 3110, 2061, 20625, 2000, 2061, 9636, 17772, 2074, 2013, 2108, 2105, 2619, 2040, 14977, 1998, 2003, 8300, 102]], 'attention_mask': [[1, 1, 1, 1, 1, 1, 1, 0, 0, 0, 0, 0, 0, 0, 0, 0, 0, 0, 0, 0, 0, 0, 0], [1, 1, 1, 1, 1, 1, 1, 1, 1, 1, 1, 1, 1, 1, 1, 1, 1, 1, 1, 1, 1, 1, 1]]}\n"
          ]
        }
      ],
      "source": [
        "print(tokenize(emotions[\"train\"][:2]))"
      ]
    },
    {
      "cell_type": "markdown",
      "metadata": {
        "id": "KqBfdcqooM3q"
      },
      "source": [
        "Here we can see the result of padding: the first element of `input_ids` is shorter than the second, so zeros have been added to that element to make them the same length. These zeros have a corresponding `[PAD]` token in the vocabulary, and the set of special tokens also includes the `[CLS]`【头】 and `[SEP]`【尾】 tokens that we encountered earlier:"
      ]
    },
    {
      "cell_type": "code",
      "execution_count": 27,
      "metadata": {
        "id": "fqrJksaGoM3q",
        "outputId": "eb097d21-3595-47f8-fbb9-702e14b1b93f",
        "colab": {
          "base_uri": "https://localhost:8080/",
          "height": 112
        }
      },
      "outputs": [
        {
          "output_type": "execute_result",
          "data": {
            "text/plain": [
              "                      0      1      2      3       4\n",
              "Special Token     [PAD]  [UNK]  [CLS]  [SEP]  [MASK]\n",
              "Special Token ID      0    100    101    102     103"
            ],
            "text/html": [
              "\n",
              "  <div id=\"df-a1da2321-b27b-479f-9563-bd435d977dbd\" class=\"colab-df-container\">\n",
              "    <div>\n",
              "<style scoped>\n",
              "    .dataframe tbody tr th:only-of-type {\n",
              "        vertical-align: middle;\n",
              "    }\n",
              "\n",
              "    .dataframe tbody tr th {\n",
              "        vertical-align: top;\n",
              "    }\n",
              "\n",
              "    .dataframe thead th {\n",
              "        text-align: right;\n",
              "    }\n",
              "</style>\n",
              "<table border=\"1\" class=\"dataframe\">\n",
              "  <thead>\n",
              "    <tr style=\"text-align: right;\">\n",
              "      <th></th>\n",
              "      <th>0</th>\n",
              "      <th>1</th>\n",
              "      <th>2</th>\n",
              "      <th>3</th>\n",
              "      <th>4</th>\n",
              "    </tr>\n",
              "  </thead>\n",
              "  <tbody>\n",
              "    <tr>\n",
              "      <th>Special Token</th>\n",
              "      <td>[PAD]</td>\n",
              "      <td>[UNK]</td>\n",
              "      <td>[CLS]</td>\n",
              "      <td>[SEP]</td>\n",
              "      <td>[MASK]</td>\n",
              "    </tr>\n",
              "    <tr>\n",
              "      <th>Special Token ID</th>\n",
              "      <td>0</td>\n",
              "      <td>100</td>\n",
              "      <td>101</td>\n",
              "      <td>102</td>\n",
              "      <td>103</td>\n",
              "    </tr>\n",
              "  </tbody>\n",
              "</table>\n",
              "</div>\n",
              "    <div class=\"colab-df-buttons\">\n",
              "\n",
              "  <div class=\"colab-df-container\">\n",
              "    <button class=\"colab-df-convert\" onclick=\"convertToInteractive('df-a1da2321-b27b-479f-9563-bd435d977dbd')\"\n",
              "            title=\"Convert this dataframe to an interactive table.\"\n",
              "            style=\"display:none;\">\n",
              "\n",
              "  <svg xmlns=\"http://www.w3.org/2000/svg\" height=\"24px\" viewBox=\"0 -960 960 960\">\n",
              "    <path d=\"M120-120v-720h720v720H120Zm60-500h600v-160H180v160Zm220 220h160v-160H400v160Zm0 220h160v-160H400v160ZM180-400h160v-160H180v160Zm440 0h160v-160H620v160ZM180-180h160v-160H180v160Zm440 0h160v-160H620v160Z\"/>\n",
              "  </svg>\n",
              "    </button>\n",
              "\n",
              "  <style>\n",
              "    .colab-df-container {\n",
              "      display:flex;\n",
              "      gap: 12px;\n",
              "    }\n",
              "\n",
              "    .colab-df-convert {\n",
              "      background-color: #E8F0FE;\n",
              "      border: none;\n",
              "      border-radius: 50%;\n",
              "      cursor: pointer;\n",
              "      display: none;\n",
              "      fill: #1967D2;\n",
              "      height: 32px;\n",
              "      padding: 0 0 0 0;\n",
              "      width: 32px;\n",
              "    }\n",
              "\n",
              "    .colab-df-convert:hover {\n",
              "      background-color: #E2EBFA;\n",
              "      box-shadow: 0px 1px 2px rgba(60, 64, 67, 0.3), 0px 1px 3px 1px rgba(60, 64, 67, 0.15);\n",
              "      fill: #174EA6;\n",
              "    }\n",
              "\n",
              "    .colab-df-buttons div {\n",
              "      margin-bottom: 4px;\n",
              "    }\n",
              "\n",
              "    [theme=dark] .colab-df-convert {\n",
              "      background-color: #3B4455;\n",
              "      fill: #D2E3FC;\n",
              "    }\n",
              "\n",
              "    [theme=dark] .colab-df-convert:hover {\n",
              "      background-color: #434B5C;\n",
              "      box-shadow: 0px 1px 3px 1px rgba(0, 0, 0, 0.15);\n",
              "      filter: drop-shadow(0px 1px 2px rgba(0, 0, 0, 0.3));\n",
              "      fill: #FFFFFF;\n",
              "    }\n",
              "  </style>\n",
              "\n",
              "    <script>\n",
              "      const buttonEl =\n",
              "        document.querySelector('#df-a1da2321-b27b-479f-9563-bd435d977dbd button.colab-df-convert');\n",
              "      buttonEl.style.display =\n",
              "        google.colab.kernel.accessAllowed ? 'block' : 'none';\n",
              "\n",
              "      async function convertToInteractive(key) {\n",
              "        const element = document.querySelector('#df-a1da2321-b27b-479f-9563-bd435d977dbd');\n",
              "        const dataTable =\n",
              "          await google.colab.kernel.invokeFunction('convertToInteractive',\n",
              "                                                    [key], {});\n",
              "        if (!dataTable) return;\n",
              "\n",
              "        const docLinkHtml = 'Like what you see? Visit the ' +\n",
              "          '<a target=\"_blank\" href=https://colab.research.google.com/notebooks/data_table.ipynb>data table notebook</a>'\n",
              "          + ' to learn more about interactive tables.';\n",
              "        element.innerHTML = '';\n",
              "        dataTable['output_type'] = 'display_data';\n",
              "        await google.colab.output.renderOutput(dataTable, element);\n",
              "        const docLink = document.createElement('div');\n",
              "        docLink.innerHTML = docLinkHtml;\n",
              "        element.appendChild(docLink);\n",
              "      }\n",
              "    </script>\n",
              "  </div>\n",
              "\n",
              "\n",
              "<div id=\"df-890d2c93-6bf4-49bd-bb42-cb8803171fe6\">\n",
              "  <button class=\"colab-df-quickchart\" onclick=\"quickchart('df-890d2c93-6bf4-49bd-bb42-cb8803171fe6')\"\n",
              "            title=\"Suggest charts\"\n",
              "            style=\"display:none;\">\n",
              "\n",
              "<svg xmlns=\"http://www.w3.org/2000/svg\" height=\"24px\"viewBox=\"0 0 24 24\"\n",
              "     width=\"24px\">\n",
              "    <g>\n",
              "        <path d=\"M19 3H5c-1.1 0-2 .9-2 2v14c0 1.1.9 2 2 2h14c1.1 0 2-.9 2-2V5c0-1.1-.9-2-2-2zM9 17H7v-7h2v7zm4 0h-2V7h2v10zm4 0h-2v-4h2v4z\"/>\n",
              "    </g>\n",
              "</svg>\n",
              "  </button>\n",
              "\n",
              "<style>\n",
              "  .colab-df-quickchart {\n",
              "      --bg-color: #E8F0FE;\n",
              "      --fill-color: #1967D2;\n",
              "      --hover-bg-color: #E2EBFA;\n",
              "      --hover-fill-color: #174EA6;\n",
              "      --disabled-fill-color: #AAA;\n",
              "      --disabled-bg-color: #DDD;\n",
              "  }\n",
              "\n",
              "  [theme=dark] .colab-df-quickchart {\n",
              "      --bg-color: #3B4455;\n",
              "      --fill-color: #D2E3FC;\n",
              "      --hover-bg-color: #434B5C;\n",
              "      --hover-fill-color: #FFFFFF;\n",
              "      --disabled-bg-color: #3B4455;\n",
              "      --disabled-fill-color: #666;\n",
              "  }\n",
              "\n",
              "  .colab-df-quickchart {\n",
              "    background-color: var(--bg-color);\n",
              "    border: none;\n",
              "    border-radius: 50%;\n",
              "    cursor: pointer;\n",
              "    display: none;\n",
              "    fill: var(--fill-color);\n",
              "    height: 32px;\n",
              "    padding: 0;\n",
              "    width: 32px;\n",
              "  }\n",
              "\n",
              "  .colab-df-quickchart:hover {\n",
              "    background-color: var(--hover-bg-color);\n",
              "    box-shadow: 0 1px 2px rgba(60, 64, 67, 0.3), 0 1px 3px 1px rgba(60, 64, 67, 0.15);\n",
              "    fill: var(--button-hover-fill-color);\n",
              "  }\n",
              "\n",
              "  .colab-df-quickchart-complete:disabled,\n",
              "  .colab-df-quickchart-complete:disabled:hover {\n",
              "    background-color: var(--disabled-bg-color);\n",
              "    fill: var(--disabled-fill-color);\n",
              "    box-shadow: none;\n",
              "  }\n",
              "\n",
              "  .colab-df-spinner {\n",
              "    border: 2px solid var(--fill-color);\n",
              "    border-color: transparent;\n",
              "    border-bottom-color: var(--fill-color);\n",
              "    animation:\n",
              "      spin 1s steps(1) infinite;\n",
              "  }\n",
              "\n",
              "  @keyframes spin {\n",
              "    0% {\n",
              "      border-color: transparent;\n",
              "      border-bottom-color: var(--fill-color);\n",
              "      border-left-color: var(--fill-color);\n",
              "    }\n",
              "    20% {\n",
              "      border-color: transparent;\n",
              "      border-left-color: var(--fill-color);\n",
              "      border-top-color: var(--fill-color);\n",
              "    }\n",
              "    30% {\n",
              "      border-color: transparent;\n",
              "      border-left-color: var(--fill-color);\n",
              "      border-top-color: var(--fill-color);\n",
              "      border-right-color: var(--fill-color);\n",
              "    }\n",
              "    40% {\n",
              "      border-color: transparent;\n",
              "      border-right-color: var(--fill-color);\n",
              "      border-top-color: var(--fill-color);\n",
              "    }\n",
              "    60% {\n",
              "      border-color: transparent;\n",
              "      border-right-color: var(--fill-color);\n",
              "    }\n",
              "    80% {\n",
              "      border-color: transparent;\n",
              "      border-right-color: var(--fill-color);\n",
              "      border-bottom-color: var(--fill-color);\n",
              "    }\n",
              "    90% {\n",
              "      border-color: transparent;\n",
              "      border-bottom-color: var(--fill-color);\n",
              "    }\n",
              "  }\n",
              "</style>\n",
              "\n",
              "  <script>\n",
              "    async function quickchart(key) {\n",
              "      const quickchartButtonEl =\n",
              "        document.querySelector('#' + key + ' button');\n",
              "      quickchartButtonEl.disabled = true;  // To prevent multiple clicks.\n",
              "      quickchartButtonEl.classList.add('colab-df-spinner');\n",
              "      try {\n",
              "        const charts = await google.colab.kernel.invokeFunction(\n",
              "            'suggestCharts', [key], {});\n",
              "      } catch (error) {\n",
              "        console.error('Error during call to suggestCharts:', error);\n",
              "      }\n",
              "      quickchartButtonEl.classList.remove('colab-df-spinner');\n",
              "      quickchartButtonEl.classList.add('colab-df-quickchart-complete');\n",
              "    }\n",
              "    (() => {\n",
              "      let quickchartButtonEl =\n",
              "        document.querySelector('#df-890d2c93-6bf4-49bd-bb42-cb8803171fe6 button');\n",
              "      quickchartButtonEl.style.display =\n",
              "        google.colab.kernel.accessAllowed ? 'block' : 'none';\n",
              "    })();\n",
              "  </script>\n",
              "</div>\n",
              "\n",
              "    </div>\n",
              "  </div>\n"
            ],
            "application/vnd.google.colaboratory.intrinsic+json": {
              "type": "dataframe",
              "summary": "{\n  \"name\": \"df\",\n  \"rows\": 2,\n  \"fields\": [\n    {\n      \"column\": 0,\n      \"properties\": {\n        \"dtype\": \"string\",\n        \"num_unique_values\": 2,\n        \"samples\": [\n          0,\n          \"[PAD]\"\n        ],\n        \"semantic_type\": \"\",\n        \"description\": \"\"\n      }\n    },\n    {\n      \"column\": 1,\n      \"properties\": {\n        \"dtype\": \"string\",\n        \"num_unique_values\": 2,\n        \"samples\": [\n          100,\n          \"[UNK]\"\n        ],\n        \"semantic_type\": \"\",\n        \"description\": \"\"\n      }\n    },\n    {\n      \"column\": 2,\n      \"properties\": {\n        \"dtype\": \"string\",\n        \"num_unique_values\": 2,\n        \"samples\": [\n          101,\n          \"[CLS]\"\n        ],\n        \"semantic_type\": \"\",\n        \"description\": \"\"\n      }\n    },\n    {\n      \"column\": 3,\n      \"properties\": {\n        \"dtype\": \"string\",\n        \"num_unique_values\": 2,\n        \"samples\": [\n          102,\n          \"[SEP]\"\n        ],\n        \"semantic_type\": \"\",\n        \"description\": \"\"\n      }\n    },\n    {\n      \"column\": 4,\n      \"properties\": {\n        \"dtype\": \"string\",\n        \"num_unique_values\": 2,\n        \"samples\": [\n          103,\n          \"[MASK]\"\n        ],\n        \"semantic_type\": \"\",\n        \"description\": \"\"\n      }\n    }\n  ]\n}"
            }
          },
          "metadata": {},
          "execution_count": 27
        }
      ],
      "source": [
        "#hide_input\n",
        "tokens2ids = list(zip(tokenizer.all_special_tokens, tokenizer.all_special_ids))\n",
        "data = sorted(tokens2ids, key=lambda x : x[-1])\n",
        "df = pd.DataFrame(data, columns=[\"Special Token\", \"Special Token ID\"])\n",
        "df.T"
      ]
    },
    {
      "cell_type": "markdown",
      "metadata": {
        "id": "HqDoSeRyoM3q"
      },
      "source": [
        "Also note that in addition to returning the encoded tweets as `input_ids`, the tokenizer returns a list of `attention_mask` arrays. This is because we do not want the model to get confused by the additional padding tokens: the attention mask allows the model to ignore the padded parts of the input. <<attention-mask>> provides a visual explanation of how the input IDs and attention masks are padded.\n",
        "\n",
        "<img alt=\"attention-mask\" caption=\"For each batch, the input sequences are padded to the maximum sequence length in the batch; the attention mask is used in the model to ignore the padded areas of the input tensors\" src=\"https://github.com/nlp-with-transformers/notebooks/blob/main/images/chapter02_attention-mask.png?raw=1\" id=\"attention-mask\"/>"
      ]
    },
    {
      "cell_type": "markdown",
      "metadata": {
        "id": "Oj7aLn9xoM3q"
      },
      "source": [
        "Once we've defined a processing function, we can apply it across all the splits in the corpus in a single line of code:"
      ]
    },
    {
      "cell_type": "code",
      "execution_count": 28,
      "metadata": {
        "id": "CBCb4-NsoM3q",
        "outputId": "9ce0bae3-415c-45e2-c241-132e83256aa7",
        "colab": {
          "base_uri": "https://localhost:8080/",
          "height": 393,
          "referenced_widgets": [
            "d8f919a209ae42a88f98cb57b4f8febe",
            "b044ad412d404999b7cb9e495b51d6e6",
            "f82ef47b35b14d2897db9c5b72c43260",
            "88d3a8d5d0a14eacac1f2a6c4c433a9d",
            "ca3212e206084c6a9cc6cc7b7becec6a",
            "cb81855e8ba54a0eb14d88ae0e60a63e",
            "dbcb99e039a4481eb867c559a67214c6",
            "0bdff71508344c08829cd186cda2870f",
            "aafcfee67f8e4839a7e243c9baf42b4a",
            "49fbd184caa14b3ea8ca9c032c71a1fd",
            "b8e2475a81104555acdd5f519decb54d",
            "cedc3f61e483466a910400c2a5974b61",
            "09ccc9e4ae8440c88e0e84b4284cb7d8",
            "75a0de4207e740d991178f2562533c86",
            "fa6f4c888f78413db1aa428d6f5f6f73",
            "8c1df4bc43694e6abfaea28c30c8056b",
            "e1a428b9660846be9b8df39ddf93f12d",
            "a0ce297764e546aba11f8b6db5733712",
            "228af2f0b62d45cda341c36e26cd902f",
            "087226b9fb32410797fb314188cc3c61",
            "7bc92cc9aca44d2b9abe9428c7ce5a8c",
            "d1b3be3f591e4245a3fc2215e4af21cf",
            "b1a8d64a68b541e8b79035e687c8a541",
            "6358b1833bb643aa85022991ddc55cea",
            "773e81562091453bb24989da1255be62",
            "52ff82b10d914a88be1c040d87e6ec52",
            "35de2223b230428d8e67c96ff96b9af7",
            "9b7e0df770734b0f91c01b0857916685",
            "f194914c2de04b2a9e62c7ce89b70dac",
            "e4377531368745229c5e2cec5542c77e",
            "abc40f878d09491a809176fe6c1c8984",
            "8d732677293740dfb5b916556fb46cee",
            "0d0f3ebefacb47168222b5229ac940b3"
          ]
        }
      },
      "outputs": [
        {
          "output_type": "display_data",
          "data": {
            "text/plain": [
              "Map:   0%|          | 0/16000 [00:00<?, ? examples/s]"
            ],
            "application/vnd.jupyter.widget-view+json": {
              "version_major": 2,
              "version_minor": 0,
              "model_id": "d8f919a209ae42a88f98cb57b4f8febe"
            }
          },
          "metadata": {}
        },
        {
          "output_type": "stream",
          "name": "stderr",
          "text": [
            "Asking to truncate to max_length but no maximum length is provided and the model has no predefined maximum length. Default to no truncation.\n"
          ]
        },
        {
          "output_type": "display_data",
          "data": {
            "text/plain": [
              "Map:   0%|          | 0/2000 [00:00<?, ? examples/s]"
            ],
            "application/vnd.jupyter.widget-view+json": {
              "version_major": 2,
              "version_minor": 0,
              "model_id": "cedc3f61e483466a910400c2a5974b61"
            }
          },
          "metadata": {}
        },
        {
          "output_type": "display_data",
          "data": {
            "text/plain": [
              "Map:   0%|          | 0/2000 [00:00<?, ? examples/s]"
            ],
            "application/vnd.jupyter.widget-view+json": {
              "version_major": 2,
              "version_minor": 0,
              "model_id": "b1a8d64a68b541e8b79035e687c8a541"
            }
          },
          "metadata": {}
        },
        {
          "output_type": "execute_result",
          "data": {
            "text/plain": [
              "DatasetDict({\n",
              "    train: Dataset({\n",
              "        features: ['text', 'label', 'input_ids', 'attention_mask'],\n",
              "        num_rows: 16000\n",
              "    })\n",
              "    validation: Dataset({\n",
              "        features: ['text', 'label', 'input_ids', 'attention_mask'],\n",
              "        num_rows: 2000\n",
              "    })\n",
              "    test: Dataset({\n",
              "        features: ['text', 'label', 'input_ids', 'attention_mask'],\n",
              "        num_rows: 2000\n",
              "    })\n",
              "})"
            ]
          },
          "metadata": {},
          "execution_count": 28
        }
      ],
      "source": [
        "# hide_output\n",
        "emotions_encoded = emotions.map(tokenize, batched=True, batch_size=None)\n",
        "emotions_encoded"
      ]
    },
    {
      "cell_type": "markdown",
      "metadata": {
        "id": "z-lTrZ8uoM3q"
      },
      "source": [
        "By default, the `map()` method operates individually on every example in the corpus, so setting `batched=True` will encode the tweets in batches. Because we've set `batch_size=None`, our `tokenize()` function will be applied on the full dataset as a single batch. This ensures that the input tensors and attention masks have the same shape globally, and we can see that this operation has added new `input_ids` and `attention_mask` columns to the dataset:"
      ]
    },
    {
      "cell_type": "code",
      "execution_count": 70,
      "metadata": {
        "id": "fymF7-AzoM3q",
        "outputId": "866cc1ba-0727-44bb-9658-37481a0c38ec",
        "colab": {
          "base_uri": "https://localhost:8080/"
        }
      },
      "outputs": [
        {
          "output_type": "stream",
          "name": "stdout",
          "text": [
            "['text', 'label', 'input_ids', 'attention_mask']\n"
          ]
        }
      ],
      "source": [
        "print(emotions_encoded[\"train\"].column_names)"
      ]
    },
    {
      "cell_type": "markdown",
      "metadata": {
        "id": "3Q5tH_3boM3q"
      },
      "source": [
        "> Note: In later chapters, we'll see how _data collators_ can be used to dynamically pad the tensors in each batch. Padding globally will come in handy in the next section, where we extract a feature matrix from the whole corpus."
      ]
    },
    {
      "cell_type": "code",
      "source": [
        "print(emotions_encoded[\"train\"][:2])"
      ],
      "metadata": {
        "id": "WZkQEJyV2xtl",
        "outputId": "e2bccaf3-7d70-4e55-b9f8-2f6b2bd6fa34",
        "colab": {
          "base_uri": "https://localhost:8080/"
        }
      },
      "execution_count": 73,
      "outputs": [
        {
          "output_type": "stream",
          "name": "stdout",
          "text": [
            "{'text': ['i didnt feel humiliated', 'i can go from feeling so hopeless to so damned hopeful just from being around someone who cares and is awake'], 'label': [0, 0], 'input_ids': [[101, 1045, 2134, 2102, 2514, 26608, 102, 0, 0, 0, 0, 0, 0, 0, 0, 0, 0, 0, 0, 0, 0, 0, 0, 0, 0, 0, 0, 0, 0, 0, 0, 0, 0, 0, 0, 0, 0, 0, 0, 0, 0, 0, 0, 0, 0, 0, 0, 0, 0, 0, 0, 0, 0, 0, 0, 0, 0, 0, 0, 0, 0, 0, 0, 0, 0, 0, 0, 0, 0, 0, 0, 0, 0, 0, 0, 0, 0, 0, 0, 0, 0, 0, 0, 0, 0, 0, 0], [101, 1045, 2064, 2175, 2013, 3110, 2061, 20625, 2000, 2061, 9636, 17772, 2074, 2013, 2108, 2105, 2619, 2040, 14977, 1998, 2003, 8300, 102, 0, 0, 0, 0, 0, 0, 0, 0, 0, 0, 0, 0, 0, 0, 0, 0, 0, 0, 0, 0, 0, 0, 0, 0, 0, 0, 0, 0, 0, 0, 0, 0, 0, 0, 0, 0, 0, 0, 0, 0, 0, 0, 0, 0, 0, 0, 0, 0, 0, 0, 0, 0, 0, 0, 0, 0, 0, 0, 0, 0, 0, 0, 0, 0]], 'attention_mask': [[1, 1, 1, 1, 1, 1, 1, 0, 0, 0, 0, 0, 0, 0, 0, 0, 0, 0, 0, 0, 0, 0, 0, 0, 0, 0, 0, 0, 0, 0, 0, 0, 0, 0, 0, 0, 0, 0, 0, 0, 0, 0, 0, 0, 0, 0, 0, 0, 0, 0, 0, 0, 0, 0, 0, 0, 0, 0, 0, 0, 0, 0, 0, 0, 0, 0, 0, 0, 0, 0, 0, 0, 0, 0, 0, 0, 0, 0, 0, 0, 0, 0, 0, 0, 0, 0, 0], [1, 1, 1, 1, 1, 1, 1, 1, 1, 1, 1, 1, 1, 1, 1, 1, 1, 1, 1, 1, 1, 1, 1, 0, 0, 0, 0, 0, 0, 0, 0, 0, 0, 0, 0, 0, 0, 0, 0, 0, 0, 0, 0, 0, 0, 0, 0, 0, 0, 0, 0, 0, 0, 0, 0, 0, 0, 0, 0, 0, 0, 0, 0, 0, 0, 0, 0, 0, 0, 0, 0, 0, 0, 0, 0, 0, 0, 0, 0, 0, 0, 0, 0, 0, 0, 0, 0]]}\n"
          ]
        }
      ]
    },
    {
      "cell_type": "markdown",
      "metadata": {
        "id": "PAbxaYOmoM3r"
      },
      "source": [
        "## Training a Text Classifier【训练文本分类器】"
      ]
    },
    {
      "cell_type": "markdown",
      "metadata": {
        "id": "PiG-T2oLoM3r"
      },
      "source": [
        "As discussed in <<chapter_introduction>>, models like DistilBERT are pretrained to predict masked words in a sequence of text. However, we can't use these language models directly for text classification; we need to modify them slightly. To understand what modifications are necessary, let's take a look at the architecture of an encoder-based model like DistilBERT, which is depicted in <<encoder-classifier>>."
      ]
    },
    {
      "cell_type": "markdown",
      "metadata": {
        "id": "9RYDcpA6oM3r"
      },
      "source": [
        "<img alt=\"encoder-classifier\" caption=\"The architecture used for sequence classification with an encoder-based transformer; it consists of the model's pretrained body (blue) combined with a custom classification head (orange)\" src=\"https://github.com/nlp-with-transformers/notebooks/blob/main/images/chapter02_encoder-classifier.png?raw=1\" id=\"encoder-classifier\"/>"
      ]
    },
    {
      "cell_type": "markdown",
      "metadata": {
        "id": "fxSNBEuaoM3r"
      },
      "source": [
        "First, the text is tokenized and represented as one-hot vectors called _token encodings_. The size of the tokenizer vocabulary determines the dimension of the token encodings, and it usually consists of 20k–200k unique tokens. Next, these token encodings are converted to _token embeddings_, which are vectors living in a lower-dimensional space. The token embeddings are then passed through the encoder block layers to yield a _hidden state_ for each input token. For the pretraining objective of language modeling,&#x2060;footnote:[In the case of DistilBERT, it's guessing the masked tokens.] each hidden state is fed to a layer that predicts the masked input tokens. For the classification task, we replace the language modeling layer with a classification layer."
      ]
    },
    {
      "cell_type": "markdown",
      "metadata": {
        "id": "BP4LzzmDoM3r"
      },
      "source": [
        "> note: In practice, PyTorch skips the step of creating one-hot vectors for token encodings because multiplying a matrix with a one-hot vector is the same as selecting a column from the matrix. This can be done directly by getting the column with the token ID from the matrix. We'll see this in <<chapter_anatomy>> when we use the `nn.Embedding` class."
      ]
    },
    {
      "cell_type": "markdown",
      "metadata": {
        "id": "FhhHxFS7oM3r"
      },
      "source": [
        "We have two options to train such a model on our Twitter dataset:\n",
        "\n",
        "- _Feature extraction_:: We use the hidden states as features and just train a classifier on them, without modifying the pretrained model.\n",
        "- _Fine-tuning_:: We train the whole model end-to-end, which also updates the parameters of the pretrained model.\n",
        "\n",
        "In the following sections we explore both options for DistilBERT and examine their trade-offs."
      ]
    },
    {
      "cell_type": "markdown",
      "metadata": {
        "id": "g16J6J2PoM3r"
      },
      "source": [
        "### Transformers as Feature Extractors【特征提取器】"
      ]
    },
    {
      "cell_type": "markdown",
      "metadata": {
        "id": "VT2hHtGCoM3r"
      },
      "source": [
        "\n",
        "Using a transformer as a feature extractor is fairly simple. As shown in <<encoder-features>>, we **freeze the body's weights during training** and use the hidden states as features for the classifier. The advantage of this approach is that we can quickly train a small or shallow model. Such a model could be a neural classification layer or a method that does not rely on gradients, such as a random forest. This method is especially convenient if GPUs are unavailable, since the hidden states only need to be precomputed once."
      ]
    },
    {
      "cell_type": "markdown",
      "metadata": {
        "id": "w2vux1VZoM3r"
      },
      "source": [
        "<img alt=\"encoder-features\" caption=\"In the feature-based approach, the DistilBERT model is frozen and just provides features for a classifier\" src=\"https://github.com/nlp-with-transformers/notebooks/blob/main/images/chapter02_encoder-feature-based.png?raw=1\" id=\"encoder-features\"/>"
      ]
    },
    {
      "cell_type": "markdown",
      "metadata": {
        "id": "1FFrhgFLoM3r"
      },
      "source": [
        "#### Using pretrained models"
      ]
    },
    {
      "cell_type": "markdown",
      "metadata": {
        "id": "X_dMDkOeoM3s"
      },
      "source": [
        "\n",
        "We will use another convenient auto class from image:images/logo.png[hf,13,13] Transformers called `AutoModel`. Similar to the `AutoTokenizer` class, `AutoModel` has a `from_pretrained()` method to load the weights of a pretrained model. Let's use this method to load the DistilBERT checkpoint:"
      ]
    },
    {
      "cell_type": "code",
      "execution_count": 40,
      "metadata": {
        "id": "JSXA3_U2oM3s",
        "outputId": "c3622b87-36ac-47c9-ea52-b16c782698f7",
        "colab": {
          "base_uri": "https://localhost:8080/"
        }
      },
      "outputs": [
        {
          "output_type": "stream",
          "name": "stderr",
          "text": [
            "/usr/local/lib/python3.10/dist-packages/huggingface_hub/file_download.py:1132: FutureWarning: `resume_download` is deprecated and will be removed in version 1.0.0. Downloads always resume when possible. If you want to force a new download, use `force_download=True`.\n",
            "  warnings.warn(\n"
          ]
        }
      ],
      "source": [
        "# hide_output\n",
        "from transformers import AutoModel\n",
        "\n",
        "model_ckpt = \"distilbert-base-uncased\"\n",
        "device = torch.device(\"cuda\" if torch.cuda.is_available() else \"cpu\")\n",
        "model = AutoModel.from_pretrained(model_ckpt).to(device)"
      ]
    },
    {
      "cell_type": "markdown",
      "metadata": {
        "id": "pxbbSB4uoM3s"
      },
      "source": [
        "Here we've used PyTorch to check whether a GPU is available or not, and then chained the PyTorch `nn.Module.to()` method to the model loader. This ensures that the model will run on the GPU if we have one. If not, the model will run on the CPU, which can be considerably slower."
      ]
    },
    {
      "cell_type": "markdown",
      "metadata": {
        "id": "_bpWQfWJoM3s"
      },
      "source": [
        "The `AutoModel` class **converts the token encodings to embeddings**, and then feeds them through the encoder stack to return the hidden states. Let's take a look at how we can extract these states from our corpus."
      ]
    },
    {
      "cell_type": "markdown",
      "metadata": {
        "id": "QHvRh2cqoM3s"
      },
      "source": [
        "### Sidebar: Interoperability Between Frameworks"
      ]
    },
    {
      "cell_type": "markdown",
      "metadata": {
        "id": "USmb9AtXoM3s"
      },
      "source": [
        "Although the code in this book is mostly written in PyTorch, image:images/logo.png[hf,13,13] Transformers provides tight interoperability with TensorFlow and JAX. This means that you only need to change a few lines of code to load a pretrained model in your favorite deep learning framework! For example, we can load DistilBERT in TensorFlow by using the `TFAutoModel` class as follows:"
      ]
    },
    {
      "cell_type": "code",
      "execution_count": null,
      "metadata": {
        "id": "eRIE052koM3s",
        "outputId": "2e7c9bb1-579a-4a5d-d6dc-4c788c12946d"
      },
      "outputs": [
        {
          "name": "stderr",
          "output_type": "stream",
          "text": [
            "2021-10-23 17:03:51.654626: W tensorflow/stream_executor/platform/default/dso_loader.cc:64] Could not load dynamic library 'libcudnn.so.8'; dlerror: libcudnn.so.8: cannot open shared object file: No such file or directory\n",
            "2021-10-23 17:03:51.654664: W tensorflow/core/common_runtime/gpu/gpu_device.cc:1835] Cannot dlopen some GPU libraries. Please make sure the missing libraries mentioned above are installed properly if you would like to use GPU. Follow the guide at https://www.tensorflow.org/install/gpu for how to download and setup the required libraries for your platform.\n",
            "Skipping registering GPU devices...\n",
            "2021-10-23 17:03:51.655491: I tensorflow/core/platform/cpu_feature_guard.cc:142] This TensorFlow binary is optimized with oneAPI Deep Neural Network Library (oneDNN) to use the following CPU instructions in performance-critical operations:  AVX2 AVX512F FMA\n",
            "To enable them in other operations, rebuild TensorFlow with the appropriate compiler flags.\n",
            "2021-10-23 17:03:51.680031: W tensorflow/python/util/util.cc:348] Sets are not currently considered sequences, but this may change in the future, so consider avoiding using them.\n"
          ]
        }
      ],
      "source": [
        "#hide_output\n",
        "from transformers import TFAutoModel\n",
        "\n",
        "tf_model = TFAutoModel.from_pretrained(model_ckpt)"
      ]
    },
    {
      "cell_type": "markdown",
      "metadata": {
        "id": "eqGNbR3ZoM3s"
      },
      "source": [
        "This interoperability is especially useful when a model is only released in one framework, but you'd like to use it in another. For example, the [XLM-RoBERTa model](https://huggingface.co/xlm-roberta-base) that we'll encounter in <<chapter_ner>> only has PyTorch weights, so if you try to load it in TensorFlow as we did before:\n",
        "\n",
        "```python\n",
        "tf_xlmr = TFAutoModel.from_pretrained(\"xlm-roberta-base\")\n",
        "```\n",
        "\n",
        "you'll get an error. In these cases, you can specify a `from_pt=True` argument to the `TfAutoModel.from_pretrained()` function, and the library will automatically download and convert the PyTorch weights for you:"
      ]
    },
    {
      "cell_type": "code",
      "execution_count": null,
      "metadata": {
        "id": "ktyymZmnoM3s"
      },
      "outputs": [],
      "source": [
        "                                # pt变tf\n",
        "tf_xlmr = TFAutoModel.from_pretrained(\"xlm-roberta-base\", from_pt=True)"
      ]
    },
    {
      "cell_type": "markdown",
      "metadata": {
        "id": "LbBbhfHboM3t"
      },
      "source": [
        "As you can see, it is very simple to switch between frameworks in image:images/logo.png[hf,13,13] Transformers! In most cases, you can just add a \"TF\" prefix to the classes and you'll get the equivalent TensorFlow 2.0 classes. When we use the `\"pt\"` string (e.g., in the following section), which is short for PyTorch, just replace it with \"`tf\"`, which is short for TensorFlow."
      ]
    },
    {
      "cell_type": "markdown",
      "metadata": {
        "id": "PExyDWhMoM3t"
      },
      "source": [
        "### End sidebar"
      ]
    },
    {
      "cell_type": "markdown",
      "metadata": {
        "id": "atqz_HCCoM3t"
      },
      "source": [
        "#### Extracting the last hidden states"
      ]
    },
    {
      "cell_type": "markdown",
      "metadata": {
        "id": "cjJkTBGUoM3t"
      },
      "source": [
        "To warm up, let's retrieve the last hidden states for a single string. The first thing we need to do is encode the string and convert the tokens to PyTorch tensors. This can be done by providing the `return_tensors=\"pt\"` argument to the tokenizer as follows:"
      ]
    },
    {
      "cell_type": "code",
      "execution_count": 75,
      "metadata": {
        "id": "Wddtd9b-oM3t",
        "outputId": "2cf555f0-bf1d-47e1-db77-9726e7fcb8d1",
        "colab": {
          "base_uri": "https://localhost:8080/"
        }
      },
      "outputs": [
        {
          "output_type": "stream",
          "name": "stdout",
          "text": [
            "Input tensor shape: torch.Size([1, 6])\n"
          ]
        }
      ],
      "source": [
        "text = \"this is a test\"\n",
        "inputs = tokenizer(text, return_tensors=\"pt\")\n",
        "\n",
        "\n",
        "print(f\"Input tensor shape: {inputs['input_ids'].size()}\")"
      ]
    },
    {
      "cell_type": "markdown",
      "metadata": {
        "id": "oilj3XmHoM3t"
      },
      "source": [
        "As we can see, the resulting tensor has the shape `[batch_size, n_tokens]`. Now that we have the encodings as a tensor, the final step is to place them on the same device as the model and pass the inputs as follows:"
      ]
    },
    {
      "cell_type": "code",
      "execution_count": 76,
      "metadata": {
        "id": "XDqaAMukoM3t",
        "outputId": "54c63164-026f-4ad9-f981-17d0b3d5a333",
        "colab": {
          "base_uri": "https://localhost:8080/"
        }
      },
      "outputs": [
        {
          "output_type": "stream",
          "name": "stdout",
          "text": [
            "BaseModelOutput(last_hidden_state=tensor([[[-0.1565, -0.1862,  0.0528,  ..., -0.1188,  0.0662,  0.5470],\n",
            "         [-0.3575, -0.6484, -0.0618,  ..., -0.3040,  0.3508,  0.5221],\n",
            "         [-0.2772, -0.4459,  0.1818,  ..., -0.0948, -0.0076,  0.9958],\n",
            "         [-0.2841, -0.3917,  0.3753,  ..., -0.2151, -0.1173,  1.0526],\n",
            "         [ 0.2661, -0.5094, -0.3180,  ..., -0.4203,  0.0144, -0.2149],\n",
            "         [ 0.9441,  0.0112, -0.4714,  ...,  0.1439, -0.7288, -0.1619]]],\n",
            "       device='cuda:0'), hidden_states=None, attentions=None)\n"
          ]
        }
      ],
      "source": [
        "inputs = {k:v.to(device) for k,v in inputs.items()}\n",
        "with torch.no_grad():\n",
        "    outputs = model(**inputs)\n",
        "print(outputs)"
      ]
    },
    {
      "cell_type": "markdown",
      "metadata": {
        "id": "iG7YSwJ9oM3t"
      },
      "source": [
        "Here we've used the `torch.no_grad()` context manager to **disable the automatic calculation of the gradient**【禁用梯度自动计算】. This is useful for inference since it reduces the memory footprint of the computations. Depending on the model configuration, the output can contain several objects, such as the hidden states, losses, or attentions, arranged in a class similar to a `namedtuple` in Python. In our example, the model output is an instance of `BaseModelOutput`, and we can simply access its attributes by name. The current model returns only one attribute, which is the last hidden state（最终隐藏状态）, so let's examine its shape:"
      ]
    },
    {
      "cell_type": "code",
      "execution_count": null,
      "metadata": {
        "id": "fhpTo0LBoM3t",
        "outputId": "81c852a1-6eac-43ad-9170-655e27fd09cc"
      },
      "outputs": [
        {
          "data": {
            "text/plain": [
              "torch.Size([1, 6, 768])"
            ]
          },
          "execution_count": null,
          "metadata": {},
          "output_type": "execute_result"
        }
      ],
      "source": [
        "outputs.last_hidden_state.size()"
      ]
    },
    {
      "cell_type": "markdown",
      "metadata": {
        "id": "K4iOxXuCoM3t"
      },
      "source": [
        "Looking at the hidden state tensor, we see that it has the shape `[batch_size, n_tokens, hidden_dim]`. In other words, a 768-dimensional vector is returned for each of the 6 input tokens. For **classification tasks**, it is common practice to just **use the hidden state associated with the `[CLS]` token as the input feature**. Since this token appears at the start of each sequence, we can extract it by simply indexing into `outputs.last_hidden_state` as follows:"
      ]
    },
    {
      "cell_type": "code",
      "execution_count": 77,
      "metadata": {
        "id": "KpgKa27eoM3u",
        "outputId": "13d8bc44-75d8-4fbe-906a-16dcacd6157b",
        "colab": {
          "base_uri": "https://localhost:8080/"
        }
      },
      "outputs": [
        {
          "output_type": "execute_result",
          "data": {
            "text/plain": [
              "torch.Size([1, 768])"
            ]
          },
          "metadata": {},
          "execution_count": 77
        }
      ],
      "source": [
        "outputs.last_hidden_state[:,0].size()"
      ]
    },
    {
      "cell_type": "markdown",
      "metadata": {
        "id": "r8cepeSeoM3u"
      },
      "source": [
        "Now that we know how to get the last hidden state for a single string, let's do the same thing for the whole dataset by creating a new `hidden_state` column that stores all these vectors. As we did with the tokenizer, we'll use the `map()` method of `DatasetDict` to extract all the hidden states in one go. The first thing we need to do is wrap the previous steps in a processing function:"
      ]
    },
    {
      "cell_type": "code",
      "execution_count": 32,
      "metadata": {
        "id": "dAk7TladoM3u"
      },
      "outputs": [],
      "source": [
        "def extract_hidden_states(batch):\n",
        "    # Place model inputs on the GPU\n",
        "    inputs = {k:v.to(device) for k,v in batch.items()\n",
        "              if k in tokenizer.model_input_names}\n",
        "    # Extract last hidden states\n",
        "    with torch.no_grad():\n",
        "        last_hidden_state = model(**inputs).last_hidden_state\n",
        "    # Return vector for [CLS] token\n",
        "    return {\"hidden_state\": last_hidden_state[:,0].cpu().numpy()}"
      ]
    },
    {
      "cell_type": "markdown",
      "metadata": {
        "id": "cLjkdnWgoM3u"
      },
      "source": [
        "The only difference between this function and our previous logic is the final step where we place the final hidden state back on the CPU as a NumPy array. The `map()` method requires the processing function to return Python or NumPy objects when we're using batched inputs.\n",
        "\n",
        "Since our model expects tensors as inputs, the next thing to do is convert the `input_ids` and `attention_mask` columns to the `\"torch\"` format, as follows:"
      ]
    },
    {
      "cell_type": "code",
      "source": [
        "emotions_encoded"
      ],
      "metadata": {
        "id": "8sHXlHvV7S1S",
        "outputId": "ead0a118-9a0b-4775-e056-5c1543aecbaa",
        "colab": {
          "base_uri": "https://localhost:8080/"
        }
      },
      "execution_count": 29,
      "outputs": [
        {
          "output_type": "execute_result",
          "data": {
            "text/plain": [
              "DatasetDict({\n",
              "    train: Dataset({\n",
              "        features: ['text', 'label', 'input_ids', 'attention_mask'],\n",
              "        num_rows: 16000\n",
              "    })\n",
              "    validation: Dataset({\n",
              "        features: ['text', 'label', 'input_ids', 'attention_mask'],\n",
              "        num_rows: 2000\n",
              "    })\n",
              "    test: Dataset({\n",
              "        features: ['text', 'label', 'input_ids', 'attention_mask'],\n",
              "        num_rows: 2000\n",
              "    })\n",
              "})"
            ]
          },
          "metadata": {},
          "execution_count": 29
        }
      ]
    },
    {
      "cell_type": "code",
      "execution_count": 30,
      "metadata": {
        "id": "SwQ4bx9poM3u"
      },
      "outputs": [],
      "source": [
        "emotions_encoded.set_format(\"torch\",\n",
        "               columns=[\"input_ids\", \"attention_mask\", \"label\"]) # 需要转换为 PyTorch 张量的列"
      ]
    },
    {
      "cell_type": "markdown",
      "metadata": {
        "id": "h01hn1RNoM3u"
      },
      "source": [
        "We can then go ahead and extract the hidden states across all splits in one go:"
      ]
    },
    {
      "cell_type": "code",
      "execution_count": 41,
      "metadata": {
        "id": "bwCsP4UxoM3u",
        "outputId": "b5055d6b-daa5-4f3f-cc20-46d719dae504",
        "colab": {
          "base_uri": "https://localhost:8080/",
          "height": 113,
          "referenced_widgets": [
            "8fc296193c8f475da0e2c9f07377f9da",
            "15f41d6a1306483c987e1581ddaf106c",
            "ed56c09db48c42dca94aa86d7fa0a082",
            "7ae5f7207de84063a9b332ad9b385056",
            "a26ac4df0da0412da26128a0fdc9a058",
            "55817a47e0d747948c83ee6e2ab1cd28",
            "db5c63c95aae42b5b979c6a9bcec0c22",
            "55b2f1161cb74071bf277ef52fc90564",
            "9864018f410b4568b485f20162f1c41e",
            "76fe35d56ee142828696ef6b38a3d3b5",
            "9c1320fffea4407495ff4ba936f2fd66",
            "cb64ed1235b14014932474db0d34b392",
            "9eec545b3e31408d90d2f9da9703cc96",
            "ae3d37bfc7be4822bcd8955e057c5891",
            "89e060c6789e4bad8ca5db4452944073",
            "c3267d1750254f1fbdee18952c4932a9",
            "df8145b6bbab430184fa7cfa8aa19ea8",
            "bdbc89cc48114bcea0f105fb7abea704",
            "586ddac17f364a69a80d69bec77ad10b",
            "7f82eaa463fc494c9665e755f9d191d2",
            "6949374552d14272b388543ea7c97b38",
            "82103e912ca944c9bec787c2a8b8de70",
            "5413e63d424d4e05ad84b42410597051",
            "90dfde14734a4de3b1361fdee49eeb51",
            "8e9f0312fac74b2fa016da6ef3f86a6d",
            "180230d26740434fbc630170495fed31",
            "27162f83c3f741aca5f118d2776d6a74",
            "cdda209c64b443059ec46f214fe92508",
            "f0f2a1c459f648fd9ec3c636073f80b2",
            "4e9070ec04f441d9a922a6a0b9c1c153",
            "5f6b6d541a1b435d92d7e904449cd135",
            "930dad85df604fcc9281d0861c8aab81",
            "fa2e6051f0d84dab918c3526c9322cc9"
          ]
        }
      },
      "outputs": [
        {
          "output_type": "display_data",
          "data": {
            "text/plain": [
              "Map:   0%|          | 0/16000 [00:00<?, ? examples/s]"
            ],
            "application/vnd.jupyter.widget-view+json": {
              "version_major": 2,
              "version_minor": 0,
              "model_id": "8fc296193c8f475da0e2c9f07377f9da"
            }
          },
          "metadata": {}
        },
        {
          "output_type": "display_data",
          "data": {
            "text/plain": [
              "Map:   0%|          | 0/2000 [00:00<?, ? examples/s]"
            ],
            "application/vnd.jupyter.widget-view+json": {
              "version_major": 2,
              "version_minor": 0,
              "model_id": "cb64ed1235b14014932474db0d34b392"
            }
          },
          "metadata": {}
        },
        {
          "output_type": "display_data",
          "data": {
            "text/plain": [
              "Map:   0%|          | 0/2000 [00:00<?, ? examples/s]"
            ],
            "application/vnd.jupyter.widget-view+json": {
              "version_major": 2,
              "version_minor": 0,
              "model_id": "5413e63d424d4e05ad84b42410597051"
            }
          },
          "metadata": {}
        }
      ],
      "source": [
        "#hide_output\n",
        "emotions_hidden = emotions_encoded.map(extract_hidden_states, batched=True)"
      ]
    },
    {
      "cell_type": "markdown",
      "metadata": {
        "id": "pm3EXIOxoM3u"
      },
      "source": [
        "Note that we did not set `batch_size=None` in this case, so the **default `batch_size=1000`** is used instead. As expected, applying the +extract_&#x200b;hid&#x2060;den_&#x200b;states()+ function has added a new `hidden_state` column to our dataset:"
      ]
    },
    {
      "cell_type": "code",
      "execution_count": null,
      "metadata": {
        "id": "Tb8y2viqoM3u",
        "outputId": "84ed9f3f-b6c1-4796-e2ec-0f5dfecb8595"
      },
      "outputs": [
        {
          "data": {
            "text/plain": [
              "['attention_mask', 'hidden_state', 'input_ids', 'label', 'text']"
            ]
          },
          "execution_count": null,
          "metadata": {},
          "output_type": "execute_result"
        }
      ],
      "source": [
        "emotions_hidden[\"train\"].column_names"
      ]
    },
    {
      "cell_type": "markdown",
      "metadata": {
        "id": "KnYiUNs_oM3u"
      },
      "source": [
        "Now that we have the hidden states associated with each tweet, the next step is to train a classifier on them. To do that, we'll need a feature matrix - let's take a look."
      ]
    },
    {
      "cell_type": "markdown",
      "metadata": {
        "id": "qYBYjAOKoM3v"
      },
      "source": [
        "#### Creating a feature matrix【特征矩阵】"
      ]
    },
    {
      "cell_type": "markdown",
      "metadata": {
        "id": "teCR1QaaoM3v"
      },
      "source": [
        "The preprocessed dataset now contains all the information we need to train a classifier on it. We will use the hidden states as input features and the labels as targets. We can easily create the corresponding arrays in the well-known Scikit-Learn format as follows:"
      ]
    },
    {
      "cell_type": "code",
      "execution_count": 42,
      "metadata": {
        "id": "yFb8gUrpoM3v",
        "outputId": "a01f76b6-b765-4f3a-9462-a4ccba7472e4",
        "colab": {
          "base_uri": "https://localhost:8080/"
        }
      },
      "outputs": [
        {
          "output_type": "execute_result",
          "data": {
            "text/plain": [
              "((16000, 768), (2000, 768))"
            ]
          },
          "metadata": {},
          "execution_count": 42
        }
      ],
      "source": [
        "import numpy as np\n",
        "\n",
        "X_train = np.array(emotions_hidden[\"train\"][\"hidden_state\"])\n",
        "X_valid = np.array(emotions_hidden[\"validation\"][\"hidden_state\"])\n",
        "y_train = np.array(emotions_hidden[\"train\"][\"label\"])\n",
        "y_valid = np.array(emotions_hidden[\"validation\"][\"label\"])\n",
        "X_train.shape, X_valid.shape"
      ]
    },
    {
      "cell_type": "markdown",
      "metadata": {
        "id": "C2wqzaRdoM3v"
      },
      "source": [
        "Before we train a model on the hidden states, it's good practice to perform a sanity check to ensure that they provide a useful representation of the emotions we want to classify. In the next section, we'll see how visualizing the features provides a fast way to achieve this."
      ]
    },
    {
      "cell_type": "markdown",
      "metadata": {
        "id": "ZNnBb8h2oM3v"
      },
      "source": [
        "#### Visualizing the training set"
      ]
    },
    {
      "cell_type": "markdown",
      "metadata": {
        "id": "j9Zlhrf0oM3v"
      },
      "source": [
        "Since visualizing the hidden states in **768 dimensions** is tricky to say the least, we'll use the powerful **UMAP**footnote:[L. McInnes, J. Healy, and J. Melville, [\"UMAP: Uniform Manifold Approximation and Projection for Dimension Reduction\"](https://arxiv.org/abs/1802.03426), (2018).] algorithm to **project the vectors down to 2D**.  Since UMAP works best when the features are scaled to lie in the [0,1] interval, we'll first apply a `MinMaxScaler` and then use the UMAP implementation from the `umap-learn` library to reduce the hidden states:"
      ]
    },
    {
      "cell_type": "code",
      "source": [
        "# !pip install umap"
      ],
      "metadata": {
        "id": "D6u-iT1E8RVF"
      },
      "execution_count": null,
      "outputs": []
    },
    {
      "cell_type": "code",
      "source": [
        "!pip install umap-learn"
      ],
      "metadata": {
        "id": "2eUYKeVo8si8",
        "outputId": "17280905-8821-45dd-8289-502eb1c18441",
        "colab": {
          "base_uri": "https://localhost:8080/",
          "height": 413
        }
      },
      "execution_count": 86,
      "outputs": [
        {
          "output_type": "stream",
          "name": "stdout",
          "text": [
            "Collecting umap-learn\n",
            "  Downloading umap_learn-0.5.6-py3-none-any.whl (85 kB)\n",
            "\u001b[?25l     \u001b[90m━━━━━━━━━━━━━━━━━━━━━━━━━━━━━━━━━━━━━━━━\u001b[0m \u001b[32m0.0/85.7 kB\u001b[0m \u001b[31m?\u001b[0m eta \u001b[36m-:--:--\u001b[0m\r\u001b[2K     \u001b[91m━━━━━━━━━━━━━━━━━━━━━━━━━━━━━━━━━━━━━━\u001b[0m\u001b[90m╺\u001b[0m\u001b[90m━\u001b[0m \u001b[32m81.9/85.7 kB\u001b[0m \u001b[31m2.8 MB/s\u001b[0m eta \u001b[36m0:00:01\u001b[0m\r\u001b[2K     \u001b[90m━━━━━━━━━━━━━━━━━━━━━━━━━━━━━━━━━━━━━━━━\u001b[0m \u001b[32m85.7/85.7 kB\u001b[0m \u001b[31m2.2 MB/s\u001b[0m eta \u001b[36m0:00:00\u001b[0m\n",
            "\u001b[?25hRequirement already satisfied: numpy>=1.17 in /usr/local/lib/python3.10/dist-packages (from umap-learn) (1.25.2)\n",
            "Requirement already satisfied: scipy>=1.3.1 in /usr/local/lib/python3.10/dist-packages (from umap-learn) (1.11.4)\n",
            "Requirement already satisfied: scikit-learn>=0.22 in /usr/local/lib/python3.10/dist-packages (from umap-learn) (1.2.2)\n",
            "Requirement already satisfied: numba>=0.51.2 in /usr/local/lib/python3.10/dist-packages (from umap-learn) (0.58.1)\n",
            "Collecting pynndescent>=0.5 (from umap-learn)\n",
            "  Downloading pynndescent-0.5.12-py3-none-any.whl (56 kB)\n",
            "\u001b[?25l     \u001b[90m━━━━━━━━━━━━━━━━━━━━━━━━━━━━━━━━━━━━━━━━\u001b[0m \u001b[32m0.0/56.8 kB\u001b[0m \u001b[31m?\u001b[0m eta \u001b[36m-:--:--\u001b[0m\r\u001b[2K     \u001b[90m━━━━━━━━━━━━━━━━━━━━━━━━━━━━━━━━━━━━━━━━\u001b[0m \u001b[32m56.8/56.8 kB\u001b[0m \u001b[31m5.3 MB/s\u001b[0m eta \u001b[36m0:00:00\u001b[0m\n",
            "\u001b[?25hRequirement already satisfied: tqdm in /usr/local/lib/python3.10/dist-packages (from umap-learn) (4.66.2)\n",
            "Requirement already satisfied: llvmlite<0.42,>=0.41.0dev0 in /usr/local/lib/python3.10/dist-packages (from numba>=0.51.2->umap-learn) (0.41.1)\n",
            "Requirement already satisfied: joblib>=0.11 in /usr/local/lib/python3.10/dist-packages (from pynndescent>=0.5->umap-learn) (1.4.0)\n",
            "Requirement already satisfied: threadpoolctl>=2.0.0 in /usr/local/lib/python3.10/dist-packages (from scikit-learn>=0.22->umap-learn) (3.5.0)\n",
            "Installing collected packages: pynndescent, umap-learn\n",
            "Successfully installed pynndescent-0.5.12 umap-learn-0.5.6\n"
          ]
        },
        {
          "output_type": "display_data",
          "data": {
            "application/vnd.colab-display-data+json": {
              "pip_warning": {
                "packages": [
                  "umap"
                ]
              },
              "id": "f8794769e7b44ff7920ea9727008b286"
            }
          },
          "metadata": {}
        }
      ]
    },
    {
      "cell_type": "code",
      "execution_count": 43,
      "metadata": {
        "id": "tjKF_OBcoM3v",
        "outputId": "e50435a9-1e3c-43f5-fca9-4b5c61f3ca9d",
        "colab": {
          "base_uri": "https://localhost:8080/",
          "height": 206
        }
      },
      "outputs": [
        {
          "output_type": "execute_result",
          "data": {
            "text/plain": [
              "          X         Y  label\n",
              "0  3.979239  6.033729      0\n",
              "1 -3.378134  5.379065      0\n",
              "2  4.770940  2.544602      3\n",
              "3 -2.544488  3.395877      2\n",
              "4 -3.574571  3.594380      3"
            ],
            "text/html": [
              "\n",
              "  <div id=\"df-e566ccdf-d9c3-4ea4-a403-b462a10e424c\" class=\"colab-df-container\">\n",
              "    <div>\n",
              "<style scoped>\n",
              "    .dataframe tbody tr th:only-of-type {\n",
              "        vertical-align: middle;\n",
              "    }\n",
              "\n",
              "    .dataframe tbody tr th {\n",
              "        vertical-align: top;\n",
              "    }\n",
              "\n",
              "    .dataframe thead th {\n",
              "        text-align: right;\n",
              "    }\n",
              "</style>\n",
              "<table border=\"1\" class=\"dataframe\">\n",
              "  <thead>\n",
              "    <tr style=\"text-align: right;\">\n",
              "      <th></th>\n",
              "      <th>X</th>\n",
              "      <th>Y</th>\n",
              "      <th>label</th>\n",
              "    </tr>\n",
              "  </thead>\n",
              "  <tbody>\n",
              "    <tr>\n",
              "      <th>0</th>\n",
              "      <td>3.979239</td>\n",
              "      <td>6.033729</td>\n",
              "      <td>0</td>\n",
              "    </tr>\n",
              "    <tr>\n",
              "      <th>1</th>\n",
              "      <td>-3.378134</td>\n",
              "      <td>5.379065</td>\n",
              "      <td>0</td>\n",
              "    </tr>\n",
              "    <tr>\n",
              "      <th>2</th>\n",
              "      <td>4.770940</td>\n",
              "      <td>2.544602</td>\n",
              "      <td>3</td>\n",
              "    </tr>\n",
              "    <tr>\n",
              "      <th>3</th>\n",
              "      <td>-2.544488</td>\n",
              "      <td>3.395877</td>\n",
              "      <td>2</td>\n",
              "    </tr>\n",
              "    <tr>\n",
              "      <th>4</th>\n",
              "      <td>-3.574571</td>\n",
              "      <td>3.594380</td>\n",
              "      <td>3</td>\n",
              "    </tr>\n",
              "  </tbody>\n",
              "</table>\n",
              "</div>\n",
              "    <div class=\"colab-df-buttons\">\n",
              "\n",
              "  <div class=\"colab-df-container\">\n",
              "    <button class=\"colab-df-convert\" onclick=\"convertToInteractive('df-e566ccdf-d9c3-4ea4-a403-b462a10e424c')\"\n",
              "            title=\"Convert this dataframe to an interactive table.\"\n",
              "            style=\"display:none;\">\n",
              "\n",
              "  <svg xmlns=\"http://www.w3.org/2000/svg\" height=\"24px\" viewBox=\"0 -960 960 960\">\n",
              "    <path d=\"M120-120v-720h720v720H120Zm60-500h600v-160H180v160Zm220 220h160v-160H400v160Zm0 220h160v-160H400v160ZM180-400h160v-160H180v160Zm440 0h160v-160H620v160ZM180-180h160v-160H180v160Zm440 0h160v-160H620v160Z\"/>\n",
              "  </svg>\n",
              "    </button>\n",
              "\n",
              "  <style>\n",
              "    .colab-df-container {\n",
              "      display:flex;\n",
              "      gap: 12px;\n",
              "    }\n",
              "\n",
              "    .colab-df-convert {\n",
              "      background-color: #E8F0FE;\n",
              "      border: none;\n",
              "      border-radius: 50%;\n",
              "      cursor: pointer;\n",
              "      display: none;\n",
              "      fill: #1967D2;\n",
              "      height: 32px;\n",
              "      padding: 0 0 0 0;\n",
              "      width: 32px;\n",
              "    }\n",
              "\n",
              "    .colab-df-convert:hover {\n",
              "      background-color: #E2EBFA;\n",
              "      box-shadow: 0px 1px 2px rgba(60, 64, 67, 0.3), 0px 1px 3px 1px rgba(60, 64, 67, 0.15);\n",
              "      fill: #174EA6;\n",
              "    }\n",
              "\n",
              "    .colab-df-buttons div {\n",
              "      margin-bottom: 4px;\n",
              "    }\n",
              "\n",
              "    [theme=dark] .colab-df-convert {\n",
              "      background-color: #3B4455;\n",
              "      fill: #D2E3FC;\n",
              "    }\n",
              "\n",
              "    [theme=dark] .colab-df-convert:hover {\n",
              "      background-color: #434B5C;\n",
              "      box-shadow: 0px 1px 3px 1px rgba(0, 0, 0, 0.15);\n",
              "      filter: drop-shadow(0px 1px 2px rgba(0, 0, 0, 0.3));\n",
              "      fill: #FFFFFF;\n",
              "    }\n",
              "  </style>\n",
              "\n",
              "    <script>\n",
              "      const buttonEl =\n",
              "        document.querySelector('#df-e566ccdf-d9c3-4ea4-a403-b462a10e424c button.colab-df-convert');\n",
              "      buttonEl.style.display =\n",
              "        google.colab.kernel.accessAllowed ? 'block' : 'none';\n",
              "\n",
              "      async function convertToInteractive(key) {\n",
              "        const element = document.querySelector('#df-e566ccdf-d9c3-4ea4-a403-b462a10e424c');\n",
              "        const dataTable =\n",
              "          await google.colab.kernel.invokeFunction('convertToInteractive',\n",
              "                                                    [key], {});\n",
              "        if (!dataTable) return;\n",
              "\n",
              "        const docLinkHtml = 'Like what you see? Visit the ' +\n",
              "          '<a target=\"_blank\" href=https://colab.research.google.com/notebooks/data_table.ipynb>data table notebook</a>'\n",
              "          + ' to learn more about interactive tables.';\n",
              "        element.innerHTML = '';\n",
              "        dataTable['output_type'] = 'display_data';\n",
              "        await google.colab.output.renderOutput(dataTable, element);\n",
              "        const docLink = document.createElement('div');\n",
              "        docLink.innerHTML = docLinkHtml;\n",
              "        element.appendChild(docLink);\n",
              "      }\n",
              "    </script>\n",
              "  </div>\n",
              "\n",
              "\n",
              "<div id=\"df-11d15e6f-09ae-4d79-b029-9cc8177d8950\">\n",
              "  <button class=\"colab-df-quickchart\" onclick=\"quickchart('df-11d15e6f-09ae-4d79-b029-9cc8177d8950')\"\n",
              "            title=\"Suggest charts\"\n",
              "            style=\"display:none;\">\n",
              "\n",
              "<svg xmlns=\"http://www.w3.org/2000/svg\" height=\"24px\"viewBox=\"0 0 24 24\"\n",
              "     width=\"24px\">\n",
              "    <g>\n",
              "        <path d=\"M19 3H5c-1.1 0-2 .9-2 2v14c0 1.1.9 2 2 2h14c1.1 0 2-.9 2-2V5c0-1.1-.9-2-2-2zM9 17H7v-7h2v7zm4 0h-2V7h2v10zm4 0h-2v-4h2v4z\"/>\n",
              "    </g>\n",
              "</svg>\n",
              "  </button>\n",
              "\n",
              "<style>\n",
              "  .colab-df-quickchart {\n",
              "      --bg-color: #E8F0FE;\n",
              "      --fill-color: #1967D2;\n",
              "      --hover-bg-color: #E2EBFA;\n",
              "      --hover-fill-color: #174EA6;\n",
              "      --disabled-fill-color: #AAA;\n",
              "      --disabled-bg-color: #DDD;\n",
              "  }\n",
              "\n",
              "  [theme=dark] .colab-df-quickchart {\n",
              "      --bg-color: #3B4455;\n",
              "      --fill-color: #D2E3FC;\n",
              "      --hover-bg-color: #434B5C;\n",
              "      --hover-fill-color: #FFFFFF;\n",
              "      --disabled-bg-color: #3B4455;\n",
              "      --disabled-fill-color: #666;\n",
              "  }\n",
              "\n",
              "  .colab-df-quickchart {\n",
              "    background-color: var(--bg-color);\n",
              "    border: none;\n",
              "    border-radius: 50%;\n",
              "    cursor: pointer;\n",
              "    display: none;\n",
              "    fill: var(--fill-color);\n",
              "    height: 32px;\n",
              "    padding: 0;\n",
              "    width: 32px;\n",
              "  }\n",
              "\n",
              "  .colab-df-quickchart:hover {\n",
              "    background-color: var(--hover-bg-color);\n",
              "    box-shadow: 0 1px 2px rgba(60, 64, 67, 0.3), 0 1px 3px 1px rgba(60, 64, 67, 0.15);\n",
              "    fill: var(--button-hover-fill-color);\n",
              "  }\n",
              "\n",
              "  .colab-df-quickchart-complete:disabled,\n",
              "  .colab-df-quickchart-complete:disabled:hover {\n",
              "    background-color: var(--disabled-bg-color);\n",
              "    fill: var(--disabled-fill-color);\n",
              "    box-shadow: none;\n",
              "  }\n",
              "\n",
              "  .colab-df-spinner {\n",
              "    border: 2px solid var(--fill-color);\n",
              "    border-color: transparent;\n",
              "    border-bottom-color: var(--fill-color);\n",
              "    animation:\n",
              "      spin 1s steps(1) infinite;\n",
              "  }\n",
              "\n",
              "  @keyframes spin {\n",
              "    0% {\n",
              "      border-color: transparent;\n",
              "      border-bottom-color: var(--fill-color);\n",
              "      border-left-color: var(--fill-color);\n",
              "    }\n",
              "    20% {\n",
              "      border-color: transparent;\n",
              "      border-left-color: var(--fill-color);\n",
              "      border-top-color: var(--fill-color);\n",
              "    }\n",
              "    30% {\n",
              "      border-color: transparent;\n",
              "      border-left-color: var(--fill-color);\n",
              "      border-top-color: var(--fill-color);\n",
              "      border-right-color: var(--fill-color);\n",
              "    }\n",
              "    40% {\n",
              "      border-color: transparent;\n",
              "      border-right-color: var(--fill-color);\n",
              "      border-top-color: var(--fill-color);\n",
              "    }\n",
              "    60% {\n",
              "      border-color: transparent;\n",
              "      border-right-color: var(--fill-color);\n",
              "    }\n",
              "    80% {\n",
              "      border-color: transparent;\n",
              "      border-right-color: var(--fill-color);\n",
              "      border-bottom-color: var(--fill-color);\n",
              "    }\n",
              "    90% {\n",
              "      border-color: transparent;\n",
              "      border-bottom-color: var(--fill-color);\n",
              "    }\n",
              "  }\n",
              "</style>\n",
              "\n",
              "  <script>\n",
              "    async function quickchart(key) {\n",
              "      const quickchartButtonEl =\n",
              "        document.querySelector('#' + key + ' button');\n",
              "      quickchartButtonEl.disabled = true;  // To prevent multiple clicks.\n",
              "      quickchartButtonEl.classList.add('colab-df-spinner');\n",
              "      try {\n",
              "        const charts = await google.colab.kernel.invokeFunction(\n",
              "            'suggestCharts', [key], {});\n",
              "      } catch (error) {\n",
              "        console.error('Error during call to suggestCharts:', error);\n",
              "      }\n",
              "      quickchartButtonEl.classList.remove('colab-df-spinner');\n",
              "      quickchartButtonEl.classList.add('colab-df-quickchart-complete');\n",
              "    }\n",
              "    (() => {\n",
              "      let quickchartButtonEl =\n",
              "        document.querySelector('#df-11d15e6f-09ae-4d79-b029-9cc8177d8950 button');\n",
              "      quickchartButtonEl.style.display =\n",
              "        google.colab.kernel.accessAllowed ? 'block' : 'none';\n",
              "    })();\n",
              "  </script>\n",
              "</div>\n",
              "\n",
              "    </div>\n",
              "  </div>\n"
            ],
            "application/vnd.google.colaboratory.intrinsic+json": {
              "type": "dataframe",
              "variable_name": "df_emb",
              "summary": "{\n  \"name\": \"df_emb\",\n  \"rows\": 16000,\n  \"fields\": [\n    {\n      \"column\": \"X\",\n      \"properties\": {\n        \"dtype\": \"float32\",\n        \"num_unique_values\": 15996,\n        \"samples\": [\n          4.762826442718506,\n          0.4458364248275757,\n          -1.165486454963684\n        ],\n        \"semantic_type\": \"\",\n        \"description\": \"\"\n      }\n    },\n    {\n      \"column\": \"Y\",\n      \"properties\": {\n        \"dtype\": \"float32\",\n        \"num_unique_values\": 15991,\n        \"samples\": [\n          4.3024725914001465,\n          3.8614468574523926,\n          8.03684139251709\n        ],\n        \"semantic_type\": \"\",\n        \"description\": \"\"\n      }\n    },\n    {\n      \"column\": \"label\",\n      \"properties\": {\n        \"dtype\": \"number\",\n        \"std\": 1,\n        \"min\": 0,\n        \"max\": 5,\n        \"num_unique_values\": 6,\n        \"samples\": [\n          0,\n          3,\n          1\n        ],\n        \"semantic_type\": \"\",\n        \"description\": \"\"\n      }\n    }\n  ]\n}"
            }
          },
          "metadata": {},
          "execution_count": 43
        }
      ],
      "source": [
        "from umap import UMAP\n",
        "\n",
        "from sklearn.preprocessing import MinMaxScaler\n",
        "\n",
        "# Scale features to [0,1] range\n",
        "X_scaled = MinMaxScaler().fit_transform(X_train)\n",
        "# Initialize and fit UMAP\n",
        "mapper = UMAP(n_components=2, metric=\"cosine\").fit(X_scaled)\n",
        "# Create a DataFrame of 2D embeddings\n",
        "df_emb = pd.DataFrame(mapper.embedding_, columns=[\"X\", \"Y\"])\n",
        "df_emb[\"label\"] = y_train\n",
        "df_emb.head()"
      ]
    },
    {
      "cell_type": "markdown",
      "metadata": {
        "id": "9rxRPuVPoM3v"
      },
      "source": [
        "The result is an array with the same number of training samples, but with only 2 features instead of the 768 we started with! Let's investigate the compressed data a little bit further and plot the density of points for each category separately:"
      ]
    },
    {
      "cell_type": "code",
      "execution_count": 44,
      "metadata": {
        "id": "XsQ-rWueoM3w",
        "outputId": "0e9efc33-de86-4c87-eca5-90c44bec71ac",
        "colab": {
          "base_uri": "https://localhost:8080/",
          "height": 507
        }
      },
      "outputs": [
        {
          "output_type": "display_data",
          "data": {
            "text/plain": [
              "<Figure size 700x500 with 6 Axes>"
            ],
            "image/png": "[encoded data removed]"
          },
          "metadata": {}
        }
      ],
      "source": [
        "fig, axes = plt.subplots(2, 3, figsize=(7,5))\n",
        "axes = axes.flatten()\n",
        "cmaps = [\"Greys\", \"Blues\", \"Oranges\", \"Reds\", \"Purples\", \"Greens\"]\n",
        "labels = emotions[\"train\"].features[\"label\"].names\n",
        "\n",
        "for i, (label, cmap) in enumerate(zip(labels, cmaps)):\n",
        "    df_emb_sub = df_emb.query(f\"label == {i}\")\n",
        "    axes[i].hexbin(df_emb_sub[\"X\"], df_emb_sub[\"Y\"], cmap=cmap,\n",
        "                   gridsize=20, linewidths=(0,))\n",
        "    axes[i].set_title(label)\n",
        "    axes[i].set_xticks([]), axes[i].set_yticks([])\n",
        "\n",
        "plt.tight_layout()\n",
        "plt.show()"
      ]
    },
    {
      "cell_type": "markdown",
      "metadata": {
        "id": "L6IHADvQoM3w"
      },
      "source": [
        "\n",
        ">note: These are only projections onto a lower-dimensional space. Just because some categories overlap does not mean that they are not separable in the original space. Conversely, if they are separable in the projected space they will be separable in the original space.\n",
        "\n",
        "From this plot we can see some clear patterns: the negative feelings such as `sadness`, `anger`, and `fear` all occupy similar regions with slightly varying distributions. On the other hand, `joy` and `love` are well separated from the negative emotions and also share a similar space. Finally, `surprise` is scattered all over the place. Although we may have hoped for some separation, this is in no way guaranteed since the model was not trained to know the difference between these emotions. It only learned them implicitly by guessing the masked words in texts.\n",
        "\n",
        "Now that we've gained some insight into the features of our dataset, let's finally train a model on it!"
      ]
    },
    {
      "cell_type": "markdown",
      "metadata": {
        "id": "c-moNN-GoM3w"
      },
      "source": [
        "#### Training a simple classifier【训练模型】\n"
      ]
    },
    {
      "cell_type": "markdown",
      "metadata": {
        "id": "nGBSHS_ZoM3w"
      },
      "source": [
        "We've seen that the hidden states are somewhat different between the emotions, although for several of them there is no obvious boundary. Let's use these hidden states to train a **logistic regression model** with Scikit-Learn. Training such a simple model is fast and does not require a GPU:"
      ]
    },
    {
      "cell_type": "code",
      "execution_count": 45,
      "metadata": {
        "id": "Nxg5pN58oM3w",
        "outputId": "11fa60cf-b440-4b73-b38e-a38a9f127e0d",
        "colab": {
          "base_uri": "https://localhost:8080/",
          "height": 75
        }
      },
      "outputs": [
        {
          "output_type": "execute_result",
          "data": {
            "text/plain": [
              "LogisticRegression(max_iter=3000)"
            ],
            "text/html": [
              "<style>#sk-container-id-1 {color: black;background-color: white;}#sk-container-id-1 pre{padding: 0;}#sk-container-id-1 div.sk-toggleable {background-color: white;}#sk-container-id-1 label.sk-toggleable__label {cursor: pointer;display: block;width: 100%;margin-bottom: 0;padding: 0.3em;box-sizing: border-box;text-align: center;}#sk-container-id-1 label.sk-toggleable__label-arrow:before {content: \"▸\";float: left;margin-right: 0.25em;color: #696969;}#sk-container-id-1 label.sk-toggleable__label-arrow:hover:before {color: black;}#sk-container-id-1 div.sk-estimator:hover label.sk-toggleable__label-arrow:before {color: black;}#sk-container-id-1 div.sk-toggleable__content {max-height: 0;max-width: 0;overflow: hidden;text-align: left;background-color: #f0f8ff;}#sk-container-id-1 div.sk-toggleable__content pre {margin: 0.2em;color: black;border-radius: 0.25em;background-color: #f0f8ff;}#sk-container-id-1 input.sk-toggleable__control:checked~div.sk-toggleable__content {max-height: 200px;max-width: 100%;overflow: auto;}#sk-container-id-1 input.sk-toggleable__control:checked~label.sk-toggleable__label-arrow:before {content: \"▾\";}#sk-container-id-1 div.sk-estimator input.sk-toggleable__control:checked~label.sk-toggleable__label {background-color: #d4ebff;}#sk-container-id-1 div.sk-label input.sk-toggleable__control:checked~label.sk-toggleable__label {background-color: #d4ebff;}#sk-container-id-1 input.sk-hidden--visually {border: 0;clip: rect(1px 1px 1px 1px);clip: rect(1px, 1px, 1px, 1px);height: 1px;margin: -1px;overflow: hidden;padding: 0;position: absolute;width: 1px;}#sk-container-id-1 div.sk-estimator {font-family: monospace;background-color: #f0f8ff;border: 1px dotted black;border-radius: 0.25em;box-sizing: border-box;margin-bottom: 0.5em;}#sk-container-id-1 div.sk-estimator:hover {background-color: #d4ebff;}#sk-container-id-1 div.sk-parallel-item::after {content: \"\";width: 100%;border-bottom: 1px solid gray;flex-grow: 1;}#sk-container-id-1 div.sk-label:hover label.sk-toggleable__label {background-color: #d4ebff;}#sk-container-id-1 div.sk-serial::before {content: \"\";position: absolute;border-left: 1px solid gray;box-sizing: border-box;top: 0;bottom: 0;left: 50%;z-index: 0;}#sk-container-id-1 div.sk-serial {display: flex;flex-direction: column;align-items: center;background-color: white;padding-right: 0.2em;padding-left: 0.2em;position: relative;}#sk-container-id-1 div.sk-item {position: relative;z-index: 1;}#sk-container-id-1 div.sk-parallel {display: flex;align-items: stretch;justify-content: center;background-color: white;position: relative;}#sk-container-id-1 div.sk-item::before, #sk-container-id-1 div.sk-parallel-item::before {content: \"\";position: absolute;border-left: 1px solid gray;box-sizing: border-box;top: 0;bottom: 0;left: 50%;z-index: -1;}#sk-container-id-1 div.sk-parallel-item {display: flex;flex-direction: column;z-index: 1;position: relative;background-color: white;}#sk-container-id-1 div.sk-parallel-item:first-child::after {align-self: flex-end;width: 50%;}#sk-container-id-1 div.sk-parallel-item:last-child::after {align-self: flex-start;width: 50%;}#sk-container-id-1 div.sk-parallel-item:only-child::after {width: 0;}#sk-container-id-1 div.sk-dashed-wrapped {border: 1px dashed gray;margin: 0 0.4em 0.5em 0.4em;box-sizing: border-box;padding-bottom: 0.4em;background-color: white;}#sk-container-id-1 div.sk-label label {font-family: monospace;font-weight: bold;display: inline-block;line-height: 1.2em;}#sk-container-id-1 div.sk-label-container {text-align: center;}#sk-container-id-1 div.sk-container {/* jupyter's `normalize.less` sets `[hidden] { display: none; }` but bootstrap.min.css set `[hidden] { display: none !important; }` so we also need the `!important` here to be able to override the default hidden behavior on the sphinx rendered scikit-learn.org. See: https://github.com/scikit-learn/scikit-learn/issues/21755 */display: inline-block !important;position: relative;}#sk-container-id-1 div.sk-text-repr-fallback {display: none;}</style><div id=\"sk-container-id-1\" class=\"sk-top-container\"><div class=\"sk-text-repr-fallback\"><pre>LogisticRegression(max_iter=3000)</pre><b>In a Jupyter environment, please rerun this cell to show the HTML representation or trust the notebook. <br />On GitHub, the HTML representation is unable to render, please try loading this page with nbviewer.org.</b></div><div class=\"sk-container\" hidden><div class=\"sk-item\"><div class=\"sk-estimator sk-toggleable\"><input class=\"sk-toggleable__control sk-hidden--visually\" id=\"sk-estimator-id-1\" type=\"checkbox\" checked><label for=\"sk-estimator-id-1\" class=\"sk-toggleable__label sk-toggleable__label-arrow\">LogisticRegression</label><div class=\"sk-toggleable__content\"><pre>LogisticRegression(max_iter=3000)</pre></div></div></div></div></div>"
            ]
          },
          "metadata": {},
          "execution_count": 45
        }
      ],
      "source": [
        "#hide_output\n",
        "# We increase `max_iter` to guarantee convergence\n",
        "from sklearn.linear_model import LogisticRegression\n",
        "\n",
        "lr_clf = LogisticRegression(max_iter=3000)\n",
        "lr_clf.fit(X_train, y_train)"
      ]
    },
    {
      "cell_type": "code",
      "execution_count": 46,
      "metadata": {
        "id": "VQ68WrZxoM3w",
        "outputId": "ead99841-8196-4581-f0d3-e3e21fd18a9e",
        "colab": {
          "base_uri": "https://localhost:8080/"
        }
      },
      "outputs": [
        {
          "output_type": "execute_result",
          "data": {
            "text/plain": [
              "0.6335"
            ]
          },
          "metadata": {},
          "execution_count": 46
        }
      ],
      "source": [
        "lr_clf.score(X_valid, y_valid)"
      ]
    },
    {
      "cell_type": "markdown",
      "metadata": {
        "id": "euJHCe0IoM3x"
      },
      "source": [
        "Looking at the accuracy, it might appear that our model is just a bit better than random—but since we are dealing with an unbalanced multiclass dataset, it's actually significantly better. We can examine whether our model is any good by comparing it against a simple baseline. In Scikit-Learn there is a `DummyClassifier` that can be used to build a classifier with simple heuristics such as always choosing the majority class or always drawing a random class. In this case the best-performing heuristic is to always choose the most frequent class, which yields an accuracy of about 35%:"
      ]
    },
    {
      "cell_type": "code",
      "execution_count": 47,
      "metadata": {
        "id": "kquUUzPkoM3x",
        "outputId": "bbd151d9-beab-4555-d534-397320dc654f",
        "colab": {
          "base_uri": "https://localhost:8080/"
        }
      },
      "outputs": [
        {
          "output_type": "execute_result",
          "data": {
            "text/plain": [
              "0.352"
            ]
          },
          "metadata": {},
          "execution_count": 47
        }
      ],
      "source": [
        "# 用于性能比较的基准。\n",
        "# 如果您的模型的得分低于 DummyClassifier 的得分，这可能表明您的模型并没有有效地从数据中学习。\n",
        "\n",
        "from sklearn.dummy import DummyClassifier\n",
        "\n",
        "dummy_clf = DummyClassifier(strategy=\"most_frequent\")\n",
        "dummy_clf.fit(X_train, y_train)\n",
        "dummy_clf.score(X_valid, y_valid)"
      ]
    },
    {
      "cell_type": "markdown",
      "metadata": {
        "id": "Ycr_P8Z6oM3x"
      },
      "source": [
        "So, our simple classifier with DistilBERT embeddings is significantly better than our baseline. We can further investigate the performance of the model by looking at the confusion matrix of the classifier, which tells us the relationship between the true and predicted labels:"
      ]
    },
    {
      "cell_type": "code",
      "execution_count": null,
      "metadata": {
        "id": "NgnVWI4AoM3x",
        "outputId": "a41cb046-8d61-4ddb-a62e-5314b35db7de"
      },
      "outputs": [
        {
          "data": {
            "application/pdf": "[encoded data removed]",
            "image/svg+xml": "<?xml version=\"1.0\" encoding=\"utf-8\" standalone=\"no\"?>\n<!DOCTYPE svg PUBLIC \"-//W3C//DTD SVG 1.1//EN\"\n  \"http://www.w3.org/Graphics/SVG/1.1/DTD/svg11.dtd\">\n<svg height=\"390.3305pt\" version=\"1.1\" viewBox=\"0 0 396.3425 390.3305\" width=\"396.3425pt\" xmlns=\"http://www.w3.org/2000/svg\" xmlns:xlink=\"http://www.w3.org/1999/xlink\">\n <metadata>\n  <rdf:RDF xmlns:cc=\"http://creativecommons.org/ns#\" xmlns:dc=\"http://purl.org/dc/elements/1.1/\" xmlns:rdf=\"http://www.w3.org/1999/02/22-rdf-syntax-ns#\">\n   <cc:Work>\n    <dc:type rdf:resource=\"http://purl.org/dc/dcmitype/StillImage\"/>\n    <dc:date>2021-12-07T11:46:25.597214</dc:date>\n    <dc:format>image/svg+xml</dc:format>\n    <dc:creator>\n     <cc:Agent>\n      <dc:title>Matplotlib v3.4.3, https://matplotlib.org/</dc:title>\n     </cc:Agent>\n    </dc:creator>\n   </cc:Work>\n  </rdf:RDF>\n </metadata>\n <defs>\n  <style type=\"text/css\">*{stroke-linecap:butt;stroke-linejoin:round;}</style>\n </defs>\n <g id=\"figure_1\">\n  <g id=\"patch_1\">\n   <path d=\"M 0 390.3305 \nL 396.3425 390.3305 \nL 396.3425 0 \nL 0 0 \nz\n\" style=\"fill:none;\"/>\n  </g>\n  <g id=\"axes_1\">\n   <g id=\"patch_2\">\n    <path d=\"M 62.9825 349.9305 \nL 389.1425 349.9305 \nL 389.1425 23.7705 \nL 62.9825 23.7705 \nz\n\" style=\"fill:#ffffff;\"/>\n   </g>\n   <g clip-path=\"url(#pca8d197dee)\">\n    <image height=\"327\" id=\"image90e306daad\" transform=\"scale(1 -1)translate(0 -327)\" width=\"327\" x=\"62.9825\" xlink:href=\"data:image/png;base64,\niVBORw0KGgoAAAANSUhEUgAAAUcAAAFHCAYAAAAySY5rAAAFNklEQVR4nO3WP4qVVwCH4XtnxusMQ0AtbCxil2YkYCfYuwArQRegvUW2YBVBLF1EQHEBJhAsRBFsBP8wjSCBqCQZMFw38DYihyOX51nB73D43u8sn7z5sF5soNu/v5o9YZg7l8/NnjDEp/8+z54wzOFf/86ewFfamj0A4HskjgBBHAGCOAIEcQQI4ggQxBEgiCNAEEeAII4AQRwBgjgCBHEECOIIEMQRIIgjQBBHgCCOAEEcAYI4AgRxBAjiCBDEESCII0AQR4AgjgBBHAGCOAIEcQQI4ggQxBEgiCNAEEeAII4AQRwBgjgCBHEECOIIEMQRIIgjQBBHgCCOAEEcAYI4AgRxBAjiCBDEESCII0AQR4AgjgBBHAGCOAIEcQQI4ggQlg+ev1vPHjHCT6d/mD1hmFP7q9kThvh09Hn2hGGu3Hs8e8IQv12/MHvCMF6OAEEcAYI4AgRxBAjiCBDEESCII0AQR4AgjgBBHAGCOAIEcQQI4ggQxBEgiCNAEEeAII4AQRwBgjgCBHEECOIIEMQRIIgjQBBHgCCOAEEcAYI4AgRxBAjiCBDEESCII0AQR4AgjgBBHAGCOAIEcQQI4ggQxBEgiCNAEEeAII4AQRwBgjgCBHEECOIIEMQRIIgjQBBHgCCOAEEcAYI4AgRxBAjiCBB2/jz8e/aGIc6e3J89YZitreXsCUPc+eP17AnD3Lt6fvaEIfZW27MnDOPlCBDEESCII0AQR4AgjgBBHAGCOAIEcQQI4ggQxBEgiCNAEEeAII4AQRwBgjgCBHEECOIIEMQRIIgjQBBHgCCOAEEcAYI4AgRxBAjiCBDEESCII0AQR4AgjgBBHAGCOAIEcQQI4ggQxBEgiCNAEEeAII4AQRwBgjgCBHEECOIIEMQRIIgjQBBHgCCOAEEcAYI4AgRxBAjiCBDEESCII0AQR4AgjgBBHAHC8unbD+vZI0b45f6L2ROGuXHxx9kThvj5zInZE4bZO7Y9e8IQu6vNPNdi4eUIkMQRIIgjQBBHgCCOAEEcAYI4AgRxBAjiCBDEESCII0AQR4AgjgBBHAGCOAIEcQQI4ggQxBEgiCNAEEeAII4AQRwBgjgCBHEECOIIEMQRIIgjQBBHgCCOAEEcAYI4AgRxBAjiCBDEESCII0AQR4AgjgBBHAGCOAIEcQQI4ggQxBEgiCNAEEeAII4AQRwBgjgCBHEECOIIEMQRIIgjQBBHgCCOAGH58t0/69kjRji4dHP2hGEOH/06e8IQq+3N/Vf/v97Iz2xxfGdz72xzTwbwDcQRIIgjQBBHgCCOAEEcAYI4AgRxBAjiCBDEESCII0AQR4AgjgBBHAGCOAIEcQQI4ggQxBEgiCNAEEeAII4AQRwBgjgCBHEECOIIEMQRIIgjQBBHgCCOAEEcAYI4AgRxBAjiCBDEESCII0AQR4AgjgBBHAGCOAIEcQQI4ggQxBEgiCNAEEeAII4AQRwBgjgCBHEECOIIEMQRIIgjQBBHgCCOAEEcAcLOwbW7szcM8ezhrdkThtk7tj17whDvPx7NnjDM8Q29s90NPddi4eUIkMQRIIgjQBBHgCCOAEEcAYI4AgRxBAjiCBDEESCII0AQR4AgjgBBHAGCOAIEcQQI4ggQxBEgiCNAEEeAII4AQRwBgjgCBHEECOIIEMQRIIgjQBBHgCCOAEEcAYI4AgRxBAjiCBDEESCII0AQR4AgjgBBHAGCOAIEcQQI4ggQxBEgiCNAEEeAII4AQRwBgjgCBHEECOIIEMQRIIgjQBBHgCCOAOEL9KI2cZSbwkgAAAAASUVORK5CYII=\" y=\"-22.9305\"/>\n   </g>\n   <g id=\"matplotlib.axis_1\">\n    <g id=\"xtick_1\">\n     <g id=\"line2d_1\">\n      <defs>\n       <path d=\"M 0 0 \nL 0 3.5 \n\" id=\"mf04b106fd2\" style=\"stroke:#000000;stroke-width:0.8;\"/>\n      </defs>\n      <g>\n       <use style=\"stroke:#000000;stroke-width:0.8;\" x=\"90.1625\" xlink:href=\"#mf04b106fd2\" y=\"349.9305\"/>\n      </g>\n     </g>\n     <g id=\"text_1\">\n      <!-- sadness -->\n      <g transform=\"translate(73.374687 365.73925)scale(0.12 -0.12)\">\n       <defs>\n        <path d=\"M 992 -51 \nC 1658 -51 2054 307 2054 947 \nC 2054 1485 1818 1709 1306 1888 \nL 1050 1978 \nC 768 2074 659 2195 659 2451 \nC 659 2771 864 2893 1222 2893 \nC 1517 2893 1760 2810 1914 2739 \nL 1914 3168 \nC 1773 3251 1568 3334 1197 3334 \nC 531 3334 160 2982 160 2406 \nC 160 1901 422 1658 826 1517 \nL 1082 1427 \nC 1408 1312 1536 1184 1536 896 \nC 1536 582 1370 390 934 390 \nC 582 390 358 480 154 563 \nL 154 141 \nC 358 19 640 -51 992 -51 \nz\n\" id=\"GuardianSansCond-Regular-73\" transform=\"scale(0.015625)\"/>\n        <path d=\"M 1082 -51 \nC 1395 -51 1638 77 1779 230 \nL 1811 230 \nL 1862 0 \nL 2291 0 \nL 2291 2413 \nC 2291 3027 1958 3334 1293 3334 \nC 915 3334 634 3258 410 3155 \nL 410 2771 \nC 576 2829 806 2886 1094 2886 \nC 1600 2886 1766 2739 1766 2278 \nL 1766 1958 \nL 1088 1856 \nC 480 1766 160 1466 160 883 \nC 160 250 525 -51 1082 -51 \nz\nM 1222 358 \nC 877 358 704 544 704 915 \nC 704 1274 877 1440 1242 1485 \nL 1766 1549 \nL 1766 525 \nC 1658 435 1459 358 1222 358 \nz\n\" id=\"GuardianSansCond-Regular-61\" transform=\"scale(0.015625)\"/>\n        <path d=\"M 1357 -51 \nC 1690 -51 1965 77 2125 243 \nL 2150 243 \nL 2195 0 \nL 2637 0 \nL 2637 4698 \nL 2118 4698 \nL 2118 3174 \nC 1978 3264 1734 3334 1466 3334 \nC 634 3334 198 2739 198 1670 \nL 198 1523 \nC 198 339 723 -51 1357 -51 \nz\nM 1504 378 \nC 992 378 742 749 742 1542 \nL 742 1728 \nC 742 2541 979 2893 1536 2893 \nC 1779 2893 2003 2835 2118 2758 \nL 2118 595 \nC 1984 493 1773 378 1504 378 \nz\n\" id=\"GuardianSansCond-Regular-64\" transform=\"scale(0.015625)\"/>\n        <path d=\"M 346 0 \nL 870 0 \nL 870 2688 \nC 1037 2778 1306 2886 1587 2886 \nC 1965 2886 2093 2765 2093 2458 \nL 2093 0 \nL 2611 0 \nL 2611 2528 \nC 2611 3085 2342 3334 1811 3334 \nC 1440 3334 1107 3194 870 3021 \nL 845 3021 \nL 845 3283 \nL 346 3283 \nL 346 0 \nz\n\" id=\"GuardianSansCond-Regular-6e\" transform=\"scale(0.015625)\"/>\n        <path d=\"M 1555 -51 \nC 1984 -51 2317 102 2470 243 \nL 2470 627 \nC 2240 499 1965 397 1613 397 \nC 1037 397 742 698 723 1466 \nL 2554 1466 \nL 2554 1798 \nC 2554 2893 2176 3334 1402 3334 \nC 659 3334 186 2810 186 1722 \nL 186 1549 \nC 186 499 634 -51 1555 -51 \nz\nM 1382 2906 \nC 1830 2906 2010 2611 2010 1894 \nL 723 1894 \nC 736 2630 992 2906 1382 2906 \nz\n\" id=\"GuardianSansCond-Regular-65\" transform=\"scale(0.015625)\"/>\n       </defs>\n       <use xlink:href=\"#GuardianSansCond-Regular-73\"/>\n       <use x=\"34.499985\" xlink:href=\"#GuardianSansCond-Regular-61\"/>\n       <use x=\"75.399979\" xlink:href=\"#GuardianSansCond-Regular-64\"/>\n       <use x=\"121.999969\" xlink:href=\"#GuardianSansCond-Regular-6e\"/>\n       <use x=\"168.09996\" xlink:href=\"#GuardianSansCond-Regular-65\"/>\n       <use x=\"210.799957\" xlink:href=\"#GuardianSansCond-Regular-73\"/>\n       <use x=\"245.299942\" xlink:href=\"#GuardianSansCond-Regular-73\"/>\n      </g>\n     </g>\n    </g>\n    <g id=\"xtick_2\">\n     <g id=\"line2d_2\">\n      <g>\n       <use style=\"stroke:#000000;stroke-width:0.8;\" x=\"144.5225\" xlink:href=\"#mf04b106fd2\" y=\"349.9305\"/>\n      </g>\n     </g>\n     <g id=\"text_2\">\n      <!-- joy -->\n      <g transform=\"translate(138.150312 365.666125)scale(0.12 -0.12)\">\n       <defs>\n        <path d=\"M 83 -1261 \nC 666 -1261 870 -870 870 -352 \nL 870 3283 \nL 352 3283 \nL 352 -326 \nC 352 -678 218 -826 -58 -826 \nC -160 -826 -262 -806 -339 -794 \nL -339 -1158 \nC -237 -1222 -109 -1261 83 -1261 \nz\nM 346 3910 \nL 877 3910 \nL 877 4474 \nL 346 4474 \nL 346 3910 \nz\n\" id=\"GuardianSansCond-Regular-6a\" transform=\"scale(0.015625)\"/>\n        <path d=\"M 1459 -51 \nC 2272 -51 2733 570 2733 1542 \nL 2733 1747 \nC 2733 2771 2291 3334 1459 3334 \nC 659 3334 186 2714 186 1741 \nL 186 1530 \nC 186 531 614 -51 1459 -51 \nz\nM 1466 378 \nC 992 378 723 762 723 1472 \nL 723 1818 \nC 723 2451 947 2906 1453 2906 \nC 1920 2906 2195 2560 2195 1805 \nL 2195 1466 \nC 2195 826 1958 378 1466 378 \nz\n\" id=\"GuardianSansCond-Regular-6f\" transform=\"scale(0.015625)\"/>\n        <path d=\"M 570 -1261 \nC 1082 -1261 1306 -960 1485 -365 \nL 2592 3283 \nL 2067 3283 \nL 1485 1197 \nC 1421 992 1376 787 1376 787 \nL 1363 787 \nC 1363 787 1331 928 1248 1203 \nL 621 3283 \nL 51 3283 \nL 1120 13 \nL 1018 -294 \nC 896 -698 749 -826 480 -826 \nC 384 -826 262 -813 186 -800 \nL 186 -1171 \nC 282 -1222 435 -1261 570 -1261 \nz\n\" id=\"GuardianSansCond-Regular-79\" transform=\"scale(0.015625)\"/>\n       </defs>\n       <use xlink:href=\"#GuardianSansCond-Regular-6a\"/>\n       <use x=\"19.199997\" xlink:href=\"#GuardianSansCond-Regular-6f\"/>\n       <use x=\"64.799988\" xlink:href=\"#GuardianSansCond-Regular-79\"/>\n      </g>\n     </g>\n    </g>\n    <g id=\"xtick_3\">\n     <g id=\"line2d_3\">\n      <g>\n       <use style=\"stroke:#000000;stroke-width:0.8;\" x=\"198.8825\" xlink:href=\"#mf04b106fd2\" y=\"349.9305\"/>\n      </g>\n     </g>\n     <g id=\"text_3\">\n      <!-- love -->\n      <g transform=\"translate(189.9125 365.73925)scale(0.12 -0.12)\">\n       <defs>\n        <path d=\"M 358 0 \nL 877 0 \nL 877 4698 \nL 358 4698 \nL 358 0 \nz\n\" id=\"GuardianSansCond-Regular-6c\" transform=\"scale(0.015625)\"/>\n        <path d=\"M 1075 0 \nL 1613 0 \nL 2605 3283 \nL 2093 3283 \nL 1504 1190 \nC 1421 870 1370 653 1370 653 \nL 1344 653 \nC 1344 653 1299 877 1216 1190 \nL 627 3283 \nL 70 3283 \nL 1075 0 \nz\n\" id=\"GuardianSansCond-Regular-76\" transform=\"scale(0.015625)\"/>\n       </defs>\n       <use xlink:href=\"#GuardianSansCond-Regular-6c\"/>\n       <use x=\"19.299988\" xlink:href=\"#GuardianSansCond-Regular-6f\"/>\n       <use x=\"64.899979\" xlink:href=\"#GuardianSansCond-Regular-76\"/>\n       <use x=\"106.799973\" xlink:href=\"#GuardianSansCond-Regular-65\"/>\n      </g>\n     </g>\n    </g>\n    <g id=\"xtick_4\">\n     <g id=\"line2d_4\">\n      <g>\n       <use style=\"stroke:#000000;stroke-width:0.8;\" x=\"253.2425\" xlink:href=\"#mf04b106fd2\" y=\"349.9305\"/>\n      </g>\n     </g>\n     <g id=\"text_4\">\n      <!-- anger -->\n      <g transform=\"translate(241.170312 365.714875)scale(0.12 -0.12)\">\n       <defs>\n        <path d=\"M 1325 -1235 \nC 2240 -1235 2675 -787 2675 -179 \nC 2675 416 2336 704 1696 704 \nL 1069 704 \nC 858 704 774 806 774 966 \nC 774 1069 826 1178 890 1242 \nC 1018 1197 1171 1178 1331 1178 \nC 1939 1178 2413 1530 2413 2208 \nL 2413 2304 \nC 2413 2560 2336 2739 2234 2874 \nL 2682 2874 \nL 2682 3283 \nL 1747 3283 \nC 1626 3315 1485 3334 1325 3334 \nC 704 3334 250 2944 250 2278 \nL 250 2182 \nC 250 1786 429 1510 634 1376 \nC 422 1210 294 1024 294 787 \nC 294 544 442 403 627 333 \nL 627 307 \nC 320 192 64 -38 64 -422 \nC 64 -915 506 -1235 1325 -1235 \nz\nM 1312 -819 \nC 832 -819 595 -640 595 -326 \nC 595 -51 762 141 966 218 \nL 1632 218 \nC 2022 218 2150 45 2150 -237 \nC 2150 -602 1926 -819 1312 -819 \nz\nM 1331 1581 \nC 998 1581 762 1773 762 2189 \nL 762 2323 \nC 762 2726 973 2931 1331 2931 \nC 1670 2931 1901 2746 1901 2310 \nL 1901 2176 \nC 1901 1779 1683 1581 1331 1581 \nz\n\" id=\"GuardianSansCond-Regular-67\" transform=\"scale(0.015625)\"/>\n        <path d=\"M 346 0 \nL 870 0 \nL 870 2605 \nC 1062 2752 1306 2842 1587 2842 \nC 1638 2842 1728 2835 1786 2829 \nL 1786 3302 \nC 1747 3315 1677 3328 1606 3328 \nC 1306 3328 1030 3142 870 2938 \nL 845 2938 \nL 845 3283 \nL 346 3283 \nL 346 0 \nz\n\" id=\"GuardianSansCond-Regular-72\" transform=\"scale(0.015625)\"/>\n       </defs>\n       <use xlink:href=\"#GuardianSansCond-Regular-61\"/>\n       <use x=\"40.899994\" xlink:href=\"#GuardianSansCond-Regular-6e\"/>\n       <use x=\"86.999985\" xlink:href=\"#GuardianSansCond-Regular-67\"/>\n       <use x=\"129.699982\" xlink:href=\"#GuardianSansCond-Regular-65\"/>\n       <use x=\"172.399979\" xlink:href=\"#GuardianSansCond-Regular-72\"/>\n      </g>\n     </g>\n    </g>\n    <g id=\"xtick_5\">\n     <g id=\"line2d_5\">\n      <g>\n       <use style=\"stroke:#000000;stroke-width:0.8;\" x=\"307.6025\" xlink:href=\"#mf04b106fd2\" y=\"349.9305\"/>\n      </g>\n     </g>\n     <g id=\"text_5\">\n      <!-- fear -->\n      <g transform=\"translate(299.255937 365.73925)scale(0.12 -0.12)\">\n       <defs>\n        <path d=\"M 493 0 \nL 1018 0 \nL 1018 2848 \nL 1626 2848 \nL 1626 3283 \nL 1018 3283 \nL 1018 3712 \nC 1018 4115 1146 4307 1478 4307 \nC 1632 4307 1754 4282 1837 4262 \nL 1837 4640 \nC 1747 4685 1587 4742 1363 4742 \nC 826 4742 493 4429 493 3757 \nL 493 3283 \nL 96 3283 \nL 96 2848 \nL 493 2848 \nL 493 0 \nz\n\" id=\"GuardianSansCond-Regular-66\" transform=\"scale(0.015625)\"/>\n       </defs>\n       <use xlink:href=\"#GuardianSansCond-Regular-66\"/>\n       <use x=\"26.699997\" xlink:href=\"#GuardianSansCond-Regular-65\"/>\n       <use x=\"69.399994\" xlink:href=\"#GuardianSansCond-Regular-61\"/>\n       <use x=\"110.299988\" xlink:href=\"#GuardianSansCond-Regular-72\"/>\n      </g>\n     </g>\n    </g>\n    <g id=\"xtick_6\">\n     <g id=\"line2d_6\">\n      <g>\n       <use style=\"stroke:#000000;stroke-width:0.8;\" x=\"361.9625\" xlink:href=\"#mf04b106fd2\" y=\"349.9305\"/>\n      </g>\n     </g>\n     <g id=\"text_6\">\n      <!-- surprise -->\n      <g transform=\"translate(345.12125 365.73925)scale(0.12 -0.12)\">\n       <defs>\n        <path d=\"M 1158 -51 \nC 1523 -51 1824 109 2042 262 \nL 2067 262 \nL 2118 0 \nL 2566 0 \nL 2566 3283 \nL 2042 3283 \nL 2042 602 \nC 1888 512 1626 397 1350 397 \nC 947 397 858 557 858 838 \nL 858 3283 \nL 333 3283 \nL 333 826 \nC 333 301 576 -51 1158 -51 \nz\n\" id=\"GuardianSansCond-Regular-75\" transform=\"scale(0.015625)\"/>\n        <path d=\"M 346 -1222 \nL 870 -1222 \nL 870 128 \nC 1005 38 1242 -51 1542 -51 \nC 2374 -51 2784 525 2784 1600 \nL 2784 1818 \nC 2784 2912 2342 3334 1670 3334 \nC 1318 3334 1030 3187 870 3034 \nL 845 3034 \nL 845 3283 \nL 346 3283 \nL 346 -1222 \nz\nM 1466 378 \nC 1210 378 973 461 870 538 \nL 870 2688 \nC 992 2784 1229 2893 1523 2893 \nC 2035 2893 2246 2573 2246 1798 \nL 2246 1549 \nC 2246 742 2003 378 1466 378 \nz\n\" id=\"GuardianSansCond-Regular-70\" transform=\"scale(0.015625)\"/>\n        <path d=\"M 358 0 \nL 883 0 \nL 883 3283 \nL 358 3283 \nL 358 0 \nz\nM 352 3910 \nL 883 3910 \nL 883 4474 \nL 352 4474 \nL 352 3910 \nz\n\" id=\"GuardianSansCond-Regular-69\" transform=\"scale(0.015625)\"/>\n       </defs>\n       <use xlink:href=\"#GuardianSansCond-Regular-73\"/>\n       <use x=\"34.499985\" xlink:href=\"#GuardianSansCond-Regular-75\"/>\n       <use x=\"79.999969\" xlink:href=\"#GuardianSansCond-Regular-72\"/>\n       <use x=\"108.799957\" xlink:href=\"#GuardianSansCond-Regular-70\"/>\n       <use x=\"155.399948\" xlink:href=\"#GuardianSansCond-Regular-72\"/>\n       <use x=\"184.199936\" xlink:href=\"#GuardianSansCond-Regular-69\"/>\n       <use x=\"203.499924\" xlink:href=\"#GuardianSansCond-Regular-73\"/>\n       <use x=\"237.999908\" xlink:href=\"#GuardianSansCond-Regular-65\"/>\n      </g>\n     </g>\n    </g>\n    <g id=\"text_7\">\n     <!-- Predicted label -->\n     <g transform=\"translate(194.557813 380.83925)scale(0.12 -0.12)\">\n      <defs>\n       <path d=\"M 416 0 \nL 954 0 \nL 954 1766 \nL 1555 1766 \nC 2362 1766 2854 2246 2854 3117 \nC 2854 4026 2413 4435 1536 4435 \nL 416 4435 \nL 416 0 \nz\nM 954 2221 \nL 954 3974 \nL 1478 3974 \nC 2061 3974 2285 3750 2285 3098 \nC 2285 2496 2054 2221 1472 2221 \nL 954 2221 \nz\n\" id=\"GuardianSansCond-Regular-50\" transform=\"scale(0.015625)\"/>\n       <path d=\"M 1498 -51 \nC 1869 -51 2125 51 2298 173 \nL 2298 595 \nC 2163 518 1907 390 1555 390 \nC 1005 390 723 704 723 1542 \nL 723 1798 \nC 723 2464 941 2893 1510 2893 \nC 1856 2893 2054 2803 2259 2714 \nL 2259 3149 \nC 2093 3258 1875 3334 1542 3334 \nC 768 3334 186 2886 186 1741 \nL 186 1536 \nC 186 416 685 -51 1498 -51 \nz\n\" id=\"GuardianSansCond-Regular-63\" transform=\"scale(0.015625)\"/>\n       <path d=\"M 1222 -38 \nC 1466 -38 1619 26 1722 90 \nL 1722 442 \nC 1632 416 1517 390 1382 390 \nC 1107 390 1005 480 1005 781 \nL 1005 2848 \nL 1683 2848 \nL 1683 3283 \nL 1005 3283 \nL 1005 4051 \nL 486 4051 \nL 486 3283 \nL 96 3283 \nL 96 2848 \nL 486 2848 \nL 486 710 \nC 486 160 774 -38 1222 -38 \nz\n\" id=\"GuardianSansCond-Regular-74\" transform=\"scale(0.015625)\"/>\n       <path id=\"GuardianSansCond-Regular-20\" transform=\"scale(0.015625)\"/>\n       <path d=\"M 1382 -64 \nC 2317 -64 2784 531 2784 1619 \nL 2784 1843 \nC 2784 2995 2285 3334 1702 3334 \nC 1338 3334 1075 3219 896 3104 \nL 870 3104 \nL 870 4698 \nL 346 4698 \nL 346 102 \nC 557 19 1005 -64 1382 -64 \nz\nM 1408 378 \nC 1165 378 979 416 870 454 \nL 870 2733 \nC 992 2790 1216 2893 1491 2893 \nC 2003 2893 2246 2650 2246 1818 \nL 2246 1549 \nC 2246 627 1875 378 1408 378 \nz\n\" id=\"GuardianSansCond-Regular-62\" transform=\"scale(0.015625)\"/>\n      </defs>\n      <use xlink:href=\"#GuardianSansCond-Regular-50\"/>\n      <use x=\"46.999985\" xlink:href=\"#GuardianSansCond-Regular-72\"/>\n      <use x=\"75.799973\" xlink:href=\"#GuardianSansCond-Regular-65\"/>\n      <use x=\"118.499969\" xlink:href=\"#GuardianSansCond-Regular-64\"/>\n      <use x=\"165.09996\" xlink:href=\"#GuardianSansCond-Regular-69\"/>\n      <use x=\"184.399948\" xlink:href=\"#GuardianSansCond-Regular-63\"/>\n      <use x=\"222.199936\" xlink:href=\"#GuardianSansCond-Regular-74\"/>\n      <use x=\"251.199921\" xlink:href=\"#GuardianSansCond-Regular-65\"/>\n      <use x=\"293.899918\" xlink:href=\"#GuardianSansCond-Regular-64\"/>\n      <use x=\"340.499908\" xlink:href=\"#GuardianSansCond-Regular-20\"/>\n      <use x=\"356.299896\" xlink:href=\"#GuardianSansCond-Regular-6c\"/>\n      <use x=\"375.599884\" xlink:href=\"#GuardianSansCond-Regular-61\"/>\n      <use x=\"416.499878\" xlink:href=\"#GuardianSansCond-Regular-62\"/>\n      <use x=\"463.099869\" xlink:href=\"#GuardianSansCond-Regular-65\"/>\n      <use x=\"505.799866\" xlink:href=\"#GuardianSansCond-Regular-6c\"/>\n     </g>\n    </g>\n   </g>\n   <g id=\"matplotlib.axis_2\">\n    <g id=\"ytick_1\">\n     <g id=\"line2d_7\">\n      <defs>\n       <path d=\"M 0 0 \nL -3.5 0 \n\" id=\"mb9c515ecf2\" style=\"stroke:#000000;stroke-width:0.8;\"/>\n      </defs>\n      <g>\n       <use style=\"stroke:#000000;stroke-width:0.8;\" x=\"62.9825\" xlink:href=\"#mb9c515ecf2\" y=\"50.9505\"/>\n      </g>\n     </g>\n     <g id=\"text_8\">\n      <!-- sadness -->\n      <g transform=\"translate(22.406875 55.354875)scale(0.12 -0.12)\">\n       <use xlink:href=\"#GuardianSansCond-Regular-73\"/>\n       <use x=\"34.499985\" xlink:href=\"#GuardianSansCond-Regular-61\"/>\n       <use x=\"75.399979\" xlink:href=\"#GuardianSansCond-Regular-64\"/>\n       <use x=\"121.999969\" xlink:href=\"#GuardianSansCond-Regular-6e\"/>\n       <use x=\"168.09996\" xlink:href=\"#GuardianSansCond-Regular-65\"/>\n       <use x=\"210.799957\" xlink:href=\"#GuardianSansCond-Regular-73\"/>\n       <use x=\"245.299942\" xlink:href=\"#GuardianSansCond-Regular-73\"/>\n      </g>\n     </g>\n    </g>\n    <g id=\"ytick_2\">\n     <g id=\"line2d_8\">\n      <g>\n       <use style=\"stroke:#000000;stroke-width:0.8;\" x=\"62.9825\" xlink:href=\"#mb9c515ecf2\" y=\"105.3105\"/>\n      </g>\n     </g>\n     <g id=\"text_9\">\n      <!-- joy -->\n      <g transform=\"translate(43.238125 109.678312)scale(0.12 -0.12)\">\n       <use xlink:href=\"#GuardianSansCond-Regular-6a\"/>\n       <use x=\"19.199997\" xlink:href=\"#GuardianSansCond-Regular-6f\"/>\n       <use x=\"64.799988\" xlink:href=\"#GuardianSansCond-Regular-79\"/>\n      </g>\n     </g>\n    </g>\n    <g id=\"ytick_3\">\n     <g id=\"line2d_9\">\n      <g>\n       <use style=\"stroke:#000000;stroke-width:0.8;\" x=\"62.9825\" xlink:href=\"#mb9c515ecf2\" y=\"159.6705\"/>\n      </g>\n     </g>\n     <g id=\"text_10\">\n      <!-- love -->\n      <g transform=\"translate(38.0425 164.074875)scale(0.12 -0.12)\">\n       <use xlink:href=\"#GuardianSansCond-Regular-6c\"/>\n       <use x=\"19.299988\" xlink:href=\"#GuardianSansCond-Regular-6f\"/>\n       <use x=\"64.899979\" xlink:href=\"#GuardianSansCond-Regular-76\"/>\n       <use x=\"106.799973\" xlink:href=\"#GuardianSansCond-Regular-65\"/>\n      </g>\n     </g>\n    </g>\n    <g id=\"ytick_4\">\n     <g id=\"line2d_10\">\n      <g>\n       <use style=\"stroke:#000000;stroke-width:0.8;\" x=\"62.9825\" xlink:href=\"#mb9c515ecf2\" y=\"214.0305\"/>\n      </g>\n     </g>\n     <g id=\"text_11\">\n      <!-- anger -->\n      <g transform=\"translate(31.838125 218.422687)scale(0.12 -0.12)\">\n       <use xlink:href=\"#GuardianSansCond-Regular-61\"/>\n       <use x=\"40.899994\" xlink:href=\"#GuardianSansCond-Regular-6e\"/>\n       <use x=\"86.999985\" xlink:href=\"#GuardianSansCond-Regular-67\"/>\n       <use x=\"129.699982\" xlink:href=\"#GuardianSansCond-Regular-65\"/>\n       <use x=\"172.399979\" xlink:href=\"#GuardianSansCond-Regular-72\"/>\n      </g>\n     </g>\n    </g>\n    <g id=\"ytick_5\">\n     <g id=\"line2d_11\">\n      <g>\n       <use style=\"stroke:#000000;stroke-width:0.8;\" x=\"62.9825\" xlink:href=\"#mb9c515ecf2\" y=\"268.3905\"/>\n      </g>\n     </g>\n     <g id=\"text_12\">\n      <!-- fear -->\n      <g transform=\"translate(39.289375 272.794875)scale(0.12 -0.12)\">\n       <use xlink:href=\"#GuardianSansCond-Regular-66\"/>\n       <use x=\"26.699997\" xlink:href=\"#GuardianSansCond-Regular-65\"/>\n       <use x=\"69.399994\" xlink:href=\"#GuardianSansCond-Regular-61\"/>\n       <use x=\"110.299988\" xlink:href=\"#GuardianSansCond-Regular-72\"/>\n      </g>\n     </g>\n    </g>\n    <g id=\"ytick_6\">\n     <g id=\"line2d_12\">\n      <g>\n       <use style=\"stroke:#000000;stroke-width:0.8;\" x=\"62.9825\" xlink:href=\"#mb9c515ecf2\" y=\"322.7505\"/>\n      </g>\n     </g>\n     <g id=\"text_13\">\n      <!-- surprise -->\n      <g transform=\"translate(22.3 327.154875)scale(0.12 -0.12)\">\n       <use xlink:href=\"#GuardianSansCond-Regular-73\"/>\n       <use x=\"34.499985\" xlink:href=\"#GuardianSansCond-Regular-75\"/>\n       <use x=\"79.999969\" xlink:href=\"#GuardianSansCond-Regular-72\"/>\n       <use x=\"108.799957\" xlink:href=\"#GuardianSansCond-Regular-70\"/>\n       <use x=\"155.399948\" xlink:href=\"#GuardianSansCond-Regular-72\"/>\n       <use x=\"184.199936\" xlink:href=\"#GuardianSansCond-Regular-69\"/>\n       <use x=\"203.499924\" xlink:href=\"#GuardianSansCond-Regular-73\"/>\n       <use x=\"237.999908\" xlink:href=\"#GuardianSansCond-Regular-65\"/>\n      </g>\n     </g>\n    </g>\n    <g id=\"text_14\">\n     <!-- True label -->\n     <g transform=\"translate(16.00875 207.616125)rotate(-90)scale(0.12 -0.12)\">\n      <defs>\n       <path d=\"M 1152 0 \nL 1690 0 \nL 1690 3974 \nL 2746 3974 \nL 2746 4435 \nL 90 4435 \nL 90 3974 \nL 1152 3974 \nL 1152 0 \nz\n\" id=\"GuardianSansCond-Regular-54\" transform=\"scale(0.015625)\"/>\n      </defs>\n      <use xlink:href=\"#GuardianSansCond-Regular-54\"/>\n      <use x=\"44.499985\" xlink:href=\"#GuardianSansCond-Regular-72\"/>\n      <use x=\"73.299973\" xlink:href=\"#GuardianSansCond-Regular-75\"/>\n      <use x=\"118.799957\" xlink:href=\"#GuardianSansCond-Regular-65\"/>\n      <use x=\"161.499954\" xlink:href=\"#GuardianSansCond-Regular-20\"/>\n      <use x=\"177.299942\" xlink:href=\"#GuardianSansCond-Regular-6c\"/>\n      <use x=\"196.59993\" xlink:href=\"#GuardianSansCond-Regular-61\"/>\n      <use x=\"237.499924\" xlink:href=\"#GuardianSansCond-Regular-62\"/>\n      <use x=\"284.099915\" xlink:href=\"#GuardianSansCond-Regular-65\"/>\n      <use x=\"326.799911\" xlink:href=\"#GuardianSansCond-Regular-6c\"/>\n     </g>\n    </g>\n   </g>\n   <g id=\"patch_3\">\n    <path d=\"M 62.9825 349.9305 \nL 62.9825 23.7705 \n\" style=\"fill:none;stroke:#000000;stroke-linecap:square;stroke-linejoin:miter;stroke-width:0.8;\"/>\n   </g>\n   <g id=\"patch_4\">\n    <path d=\"M 389.1425 349.9305 \nL 389.1425 23.7705 \n\" style=\"fill:none;stroke:#000000;stroke-linecap:square;stroke-linejoin:miter;stroke-width:0.8;\"/>\n   </g>\n   <g id=\"patch_5\">\n    <path d=\"M 62.9825 349.9305 \nL 389.1425 349.9305 \n\" style=\"fill:none;stroke:#000000;stroke-linecap:square;stroke-linejoin:miter;stroke-width:0.8;\"/>\n   </g>\n   <g id=\"patch_6\">\n    <path d=\"M 62.9825 23.7705 \nL 389.1425 23.7705 \n\" style=\"fill:none;stroke:#000000;stroke-linecap:square;stroke-linejoin:miter;stroke-width:0.8;\"/>\n   </g>\n   <g id=\"text_15\">\n    <!-- 0.72 -->\n    <g style=\"fill:#f7fbff;\" transform=\"translate(80.7725 54.20925)scale(0.12 -0.12)\">\n     <defs>\n      <path d=\"M 1722 -70 \nC 2656 -70 3155 646 3155 2061 \nL 3155 2406 \nC 3155 3891 2598 4499 1715 4499 \nC 819 4499 269 3834 269 2368 \nL 269 2042 \nC 269 499 845 -70 1722 -70 \nz\nM 1728 384 \nC 1069 384 845 979 845 2016 \nL 845 2490 \nC 845 3494 1088 4051 1709 4051 \nC 2336 4051 2592 3514 2592 2458 \nL 2592 1978 \nC 2592 934 2374 384 1728 384 \nz\n\" id=\"GuardianSansCond-Regular-30\" transform=\"scale(0.015625)\"/>\n      <path d=\"M 397 0 \nL 986 0 \nL 986 621 \nL 397 621 \nL 397 0 \nz\n\" id=\"GuardianSansCond-Regular-2e\" transform=\"scale(0.015625)\"/>\n      <path d=\"M 461 0 \nL 1018 0 \nL 2387 3994 \nL 2387 4435 \nL 109 4435 \nL 109 3974 \nL 1850 3974 \nL 1850 3949 \nL 461 0 \nz\n\" id=\"GuardianSansCond-Regular-37\" transform=\"scale(0.015625)\"/>\n      <path d=\"M 173 0 \nL 2470 0 \nL 2470 461 \nL 800 461 \nL 800 480 \nL 1574 1421 \nC 2067 2035 2419 2528 2419 3264 \nC 2419 4026 2029 4499 1222 4499 \nC 806 4499 499 4410 269 4282 \nL 269 3853 \nC 467 3949 730 4032 1056 4032 \nC 1619 4032 1850 3750 1850 3213 \nC 1850 2630 1542 2189 1152 1670 \nL 173 397 \nL 173 0 \nz\n\" id=\"GuardianSansCond-Regular-32\" transform=\"scale(0.015625)\"/>\n     </defs>\n     <use xlink:href=\"#GuardianSansCond-Regular-30\"/>\n     <use x=\"53.499985\" xlink:href=\"#GuardianSansCond-Regular-2e\"/>\n     <use x=\"75.099976\" xlink:href=\"#GuardianSansCond-Regular-37\"/>\n     <use x=\"113.999969\" xlink:href=\"#GuardianSansCond-Regular-32\"/>\n    </g>\n   </g>\n   <g id=\"text_16\">\n    <!-- 0.12 -->\n    <g style=\"fill:#08306b;\" transform=\"translate(135.739062 54.20925)scale(0.12 -0.12)\">\n     <defs>\n      <path d=\"M 832 0 \nL 1363 0 \nL 1363 4474 \nL 1171 4474 \nL 141 4083 \nL 141 3776 \nL 832 3846 \nL 832 0 \nz\n\" id=\"GuardianSansCond-Regular-31\" transform=\"scale(0.015625)\"/>\n     </defs>\n     <use xlink:href=\"#GuardianSansCond-Regular-30\"/>\n     <use x=\"53.499985\" xlink:href=\"#GuardianSansCond-Regular-2e\"/>\n     <use x=\"75.099976\" xlink:href=\"#GuardianSansCond-Regular-31\"/>\n     <use x=\"103.899963\" xlink:href=\"#GuardianSansCond-Regular-32\"/>\n    </g>\n   </g>\n   <g id=\"text_17\">\n    <!-- 0.01 -->\n    <g style=\"fill:#08306b;\" transform=\"translate(189.439063 54.20925)scale(0.12 -0.12)\">\n     <use xlink:href=\"#GuardianSansCond-Regular-30\"/>\n     <use x=\"53.499985\" xlink:href=\"#GuardianSansCond-Regular-2e\"/>\n     <use x=\"75.099976\" xlink:href=\"#GuardianSansCond-Regular-30\"/>\n     <use x=\"128.59996\" xlink:href=\"#GuardianSansCond-Regular-31\"/>\n    </g>\n   </g>\n   <g id=\"text_18\">\n    <!-- 0.09 -->\n    <g style=\"fill:#08306b;\" transform=\"translate(242.5925 54.20925)scale(0.12 -0.12)\">\n     <defs>\n      <path d=\"M 1171 -70 \nC 2176 -70 2854 448 2854 2221 \nL 2854 2586 \nC 2854 3795 2432 4499 1523 4499 \nC 691 4499 243 3917 243 3021 \nC 243 2202 653 1683 1389 1683 \nC 1766 1683 2074 1818 2285 1984 \nC 2266 608 1798 397 1107 397 \nC 851 397 563 467 429 518 \nL 429 96 \nC 563 0 858 -70 1171 -70 \nz\nM 1542 2150 \nC 1056 2150 806 2445 806 3072 \nC 806 3712 1043 4045 1523 4045 \nC 2048 4045 2285 3558 2285 2592 \nL 2285 2374 \nC 2138 2272 1882 2150 1542 2150 \nz\n\" id=\"GuardianSansCond-Regular-39\" transform=\"scale(0.015625)\"/>\n     </defs>\n     <use xlink:href=\"#GuardianSansCond-Regular-30\"/>\n     <use x=\"53.499985\" xlink:href=\"#GuardianSansCond-Regular-2e\"/>\n     <use x=\"75.099976\" xlink:href=\"#GuardianSansCond-Regular-30\"/>\n     <use x=\"128.59996\" xlink:href=\"#GuardianSansCond-Regular-39\"/>\n    </g>\n   </g>\n   <g id=\"text_19\">\n    <!-- 0.06 -->\n    <g style=\"fill:#08306b;\" transform=\"translate(296.9525 54.20925)scale(0.12 -0.12)\">\n     <defs>\n      <path d=\"M 1632 384 \nC 1082 384 845 915 845 1837 \nL 845 2054 \nC 992 2150 1254 2278 1594 2278 \nC 2086 2278 2323 1984 2323 1357 \nC 2323 742 2086 384 1632 384 \nz\nM 1632 -70 \nC 2438 -70 2886 544 2886 1408 \nC 2886 2234 2490 2746 1754 2746 \nC 1363 2746 1056 2611 845 2445 \nC 877 3853 1440 4038 2029 4038 \nC 2291 4038 2554 3974 2688 3930 \nL 2688 4352 \nC 2547 4442 2272 4499 1958 4499 \nC 1043 4499 275 3981 275 2208 \nL 275 1843 \nC 275 691 717 -70 1632 -70 \nz\n\" id=\"GuardianSansCond-Regular-36\" transform=\"scale(0.015625)\"/>\n     </defs>\n     <use xlink:href=\"#GuardianSansCond-Regular-30\"/>\n     <use x=\"53.499985\" xlink:href=\"#GuardianSansCond-Regular-2e\"/>\n     <use x=\"75.099976\" xlink:href=\"#GuardianSansCond-Regular-30\"/>\n     <use x=\"128.59996\" xlink:href=\"#GuardianSansCond-Regular-36\"/>\n    </g>\n   </g>\n   <g id=\"text_20\">\n    <!-- 0.00 -->\n    <g style=\"fill:#08306b;\" transform=\"translate(351.036875 54.20925)scale(0.12 -0.12)\">\n     <use xlink:href=\"#GuardianSansCond-Regular-30\"/>\n     <use x=\"53.499985\" xlink:href=\"#GuardianSansCond-Regular-2e\"/>\n     <use x=\"75.099976\" xlink:href=\"#GuardianSansCond-Regular-30\"/>\n     <use x=\"128.59996\" xlink:href=\"#GuardianSansCond-Regular-30\"/>\n    </g>\n   </g>\n   <g id=\"text_21\">\n    <!-- 0.11 -->\n    <g style=\"fill:#08306b;\" transform=\"translate(82.20125 108.56925)scale(0.12 -0.12)\">\n     <use xlink:href=\"#GuardianSansCond-Regular-30\"/>\n     <use x=\"53.499985\" xlink:href=\"#GuardianSansCond-Regular-2e\"/>\n     <use x=\"75.099976\" xlink:href=\"#GuardianSansCond-Regular-31\"/>\n     <use x=\"103.899963\" xlink:href=\"#GuardianSansCond-Regular-31\"/>\n    </g>\n   </g>\n   <g id=\"text_22\">\n    <!-- 0.79 -->\n    <g style=\"fill:#f7fbff;\" transform=\"translate(134.748125 108.56925)scale(0.12 -0.12)\">\n     <use xlink:href=\"#GuardianSansCond-Regular-30\"/>\n     <use x=\"53.499985\" xlink:href=\"#GuardianSansCond-Regular-2e\"/>\n     <use x=\"75.099976\" xlink:href=\"#GuardianSansCond-Regular-37\"/>\n     <use x=\"113.999969\" xlink:href=\"#GuardianSansCond-Regular-39\"/>\n    </g>\n   </g>\n   <g id=\"text_23\">\n    <!-- 0.04 -->\n    <g style=\"fill:#08306b;\" transform=\"translate(188.3225 108.56925)scale(0.12 -0.12)\">\n     <defs>\n      <path d=\"M 1805 0 \nL 2330 0 \nL 2330 1107 \nL 2957 1107 \nL 2957 1562 \nL 2330 1562 \nL 2330 4435 \nL 1869 4435 \nL 70 1504 \nL 70 1107 \nL 1805 1107 \nL 1805 0 \nz\nM 608 1562 \nL 608 1581 \nL 1779 3475 \nL 1805 3475 \nL 1805 1562 \nL 608 1562 \nz\n\" id=\"GuardianSansCond-Regular-34\" transform=\"scale(0.015625)\"/>\n     </defs>\n     <use xlink:href=\"#GuardianSansCond-Regular-30\"/>\n     <use x=\"53.499985\" xlink:href=\"#GuardianSansCond-Regular-2e\"/>\n     <use x=\"75.099976\" xlink:href=\"#GuardianSansCond-Regular-30\"/>\n     <use x=\"128.59996\" xlink:href=\"#GuardianSansCond-Regular-34\"/>\n    </g>\n   </g>\n   <g id=\"text_24\">\n    <!-- 0.02 -->\n    <g style=\"fill:#08306b;\" transform=\"translate(242.976875 108.56925)scale(0.12 -0.12)\">\n     <use xlink:href=\"#GuardianSansCond-Regular-30\"/>\n     <use x=\"53.499985\" xlink:href=\"#GuardianSansCond-Regular-2e\"/>\n     <use x=\"75.099976\" xlink:href=\"#GuardianSansCond-Regular-30\"/>\n     <use x=\"128.59996\" xlink:href=\"#GuardianSansCond-Regular-32\"/>\n    </g>\n   </g>\n   <g id=\"text_25\">\n    <!-- 0.03 -->\n    <g style=\"fill:#08306b;\" transform=\"translate(297.354687 108.56925)scale(0.12 -0.12)\">\n     <defs>\n      <path d=\"M 1094 -64 \nC 1920 -64 2432 416 2432 1248 \nC 2432 1939 2112 2253 1606 2362 \nL 1606 2381 \nC 2042 2515 2310 2803 2310 3405 \nC 2310 4096 1882 4499 1158 4499 \nC 787 4499 486 4429 275 4320 \nL 275 3891 \nC 461 3968 678 4038 998 4038 \nC 1478 4038 1754 3866 1754 3302 \nC 1754 2797 1478 2547 1018 2547 \nL 717 2547 \nL 717 2086 \nL 1056 2086 \nC 1600 2086 1869 1837 1869 1267 \nC 1869 646 1517 403 947 403 \nC 646 403 358 493 147 608 \nL 147 166 \nC 358 32 640 -64 1094 -64 \nz\n\" id=\"GuardianSansCond-Regular-33\" transform=\"scale(0.015625)\"/>\n     </defs>\n     <use xlink:href=\"#GuardianSansCond-Regular-30\"/>\n     <use x=\"53.499985\" xlink:href=\"#GuardianSansCond-Regular-2e\"/>\n     <use x=\"75.099976\" xlink:href=\"#GuardianSansCond-Regular-30\"/>\n     <use x=\"128.59996\" xlink:href=\"#GuardianSansCond-Regular-33\"/>\n    </g>\n   </g>\n   <g id=\"text_26\">\n    <!-- 0.01 -->\n    <g style=\"fill:#08306b;\" transform=\"translate(352.519062 108.56925)scale(0.12 -0.12)\">\n     <use xlink:href=\"#GuardianSansCond-Regular-30\"/>\n     <use x=\"53.499985\" xlink:href=\"#GuardianSansCond-Regular-2e\"/>\n     <use x=\"75.099976\" xlink:href=\"#GuardianSansCond-Regular-30\"/>\n     <use x=\"128.59996\" xlink:href=\"#GuardianSansCond-Regular-31\"/>\n    </g>\n   </g>\n   <g id=\"text_27\">\n    <!-- 0.15 -->\n    <g style=\"fill:#08306b;\" transform=\"translate(81.403437 162.92925)scale(0.12 -0.12)\">\n     <defs>\n      <path d=\"M 1094 -64 \nC 1971 -64 2445 512 2445 1363 \nC 2445 2298 1997 2707 1165 2707 \nC 1011 2707 890 2694 794 2675 \nL 877 3974 \nL 2342 3974 \nL 2342 4435 \nL 429 4435 \nL 294 2170 \nC 467 2208 710 2246 966 2246 \nC 1587 2246 1875 1990 1875 1363 \nC 1875 717 1587 397 954 397 \nC 627 397 365 474 154 582 \nL 154 147 \nC 352 26 672 -64 1094 -64 \nz\n\" id=\"GuardianSansCond-Regular-35\" transform=\"scale(0.015625)\"/>\n     </defs>\n     <use xlink:href=\"#GuardianSansCond-Regular-30\"/>\n     <use x=\"53.499985\" xlink:href=\"#GuardianSansCond-Regular-2e\"/>\n     <use x=\"75.099976\" xlink:href=\"#GuardianSansCond-Regular-31\"/>\n     <use x=\"103.899963\" xlink:href=\"#GuardianSansCond-Regular-35\"/>\n    </g>\n   </g>\n   <g id=\"text_28\">\n    <!-- 0.47 -->\n    <g style=\"fill:#f7fbff;\" transform=\"translate(134.838125 162.92925)scale(0.12 -0.12)\">\n     <use xlink:href=\"#GuardianSansCond-Regular-30\"/>\n     <use x=\"53.499985\" xlink:href=\"#GuardianSansCond-Regular-2e\"/>\n     <use x=\"75.099976\" xlink:href=\"#GuardianSansCond-Regular-34\"/>\n     <use x=\"122.499969\" xlink:href=\"#GuardianSansCond-Regular-37\"/>\n    </g>\n   </g>\n   <g id=\"text_29\">\n    <!-- 0.24 -->\n    <g style=\"fill:#08306b;\" transform=\"translate(188.9825 162.92925)scale(0.12 -0.12)\">\n     <use xlink:href=\"#GuardianSansCond-Regular-30\"/>\n     <use x=\"53.499985\" xlink:href=\"#GuardianSansCond-Regular-2e\"/>\n     <use x=\"75.099976\" xlink:href=\"#GuardianSansCond-Regular-32\"/>\n     <use x=\"117.59996\" xlink:href=\"#GuardianSansCond-Regular-34\"/>\n    </g>\n   </g>\n   <g id=\"text_30\">\n    <!-- 0.08 -->\n    <g style=\"fill:#08306b;\" transform=\"translate(242.5625 162.92925)scale(0.12 -0.12)\">\n     <defs>\n      <path d=\"M 1581 -64 \nC 2445 -64 2931 467 2931 1139 \nC 2931 1760 2592 2074 2106 2330 \nC 2490 2541 2822 2899 2822 3424 \nC 2822 4077 2394 4499 1606 4499 \nC 819 4499 384 4013 384 3398 \nC 384 2848 678 2509 1069 2285 \nC 602 2054 230 1683 230 1082 \nC 230 384 710 -64 1581 -64 \nz\nM 1587 390 \nC 1082 390 768 678 768 1126 \nC 768 1581 1037 1894 1414 2080 \nC 2029 1792 2387 1574 2387 1082 \nC 2387 614 2054 390 1587 390 \nz\nM 1754 2522 \nC 1210 2778 928 3021 928 3430 \nC 928 3821 1171 4051 1606 4051 \nC 2067 4051 2285 3782 2285 3398 \nC 2285 3008 2099 2765 1754 2522 \nz\n\" id=\"GuardianSansCond-Regular-38\" transform=\"scale(0.015625)\"/>\n     </defs>\n     <use xlink:href=\"#GuardianSansCond-Regular-30\"/>\n     <use x=\"53.499985\" xlink:href=\"#GuardianSansCond-Regular-2e\"/>\n     <use x=\"75.099976\" xlink:href=\"#GuardianSansCond-Regular-30\"/>\n     <use x=\"128.59996\" xlink:href=\"#GuardianSansCond-Regular-38\"/>\n    </g>\n   </g>\n   <g id=\"text_31\">\n    <!-- 0.04 -->\n    <g style=\"fill:#08306b;\" transform=\"translate(297.0425 162.92925)scale(0.12 -0.12)\">\n     <use xlink:href=\"#GuardianSansCond-Regular-30\"/>\n     <use x=\"53.499985\" xlink:href=\"#GuardianSansCond-Regular-2e\"/>\n     <use x=\"75.099976\" xlink:href=\"#GuardianSansCond-Regular-30\"/>\n     <use x=\"128.59996\" xlink:href=\"#GuardianSansCond-Regular-34\"/>\n    </g>\n   </g>\n   <g id=\"text_32\">\n    <!-- 0.01 -->\n    <g style=\"fill:#08306b;\" transform=\"translate(352.519062 162.92925)scale(0.12 -0.12)\">\n     <use xlink:href=\"#GuardianSansCond-Regular-30\"/>\n     <use x=\"53.499985\" xlink:href=\"#GuardianSansCond-Regular-2e\"/>\n     <use x=\"75.099976\" xlink:href=\"#GuardianSansCond-Regular-30\"/>\n     <use x=\"128.59996\" xlink:href=\"#GuardianSansCond-Regular-31\"/>\n    </g>\n   </g>\n   <g id=\"text_33\">\n    <!-- 0.36 -->\n    <g style=\"fill:#08306b;\" transform=\"translate(80.190312 217.28925)scale(0.12 -0.12)\">\n     <use xlink:href=\"#GuardianSansCond-Regular-30\"/>\n     <use x=\"53.499985\" xlink:href=\"#GuardianSansCond-Regular-2e\"/>\n     <use x=\"75.099976\" xlink:href=\"#GuardianSansCond-Regular-33\"/>\n     <use x=\"117.299973\" xlink:href=\"#GuardianSansCond-Regular-36\"/>\n    </g>\n   </g>\n   <g id=\"text_34\">\n    <!-- 0.13 -->\n    <g style=\"fill:#08306b;\" transform=\"translate(135.756875 217.28925)scale(0.12 -0.12)\">\n     <use xlink:href=\"#GuardianSansCond-Regular-30\"/>\n     <use x=\"53.499985\" xlink:href=\"#GuardianSansCond-Regular-2e\"/>\n     <use x=\"75.099976\" xlink:href=\"#GuardianSansCond-Regular-31\"/>\n     <use x=\"103.899963\" xlink:href=\"#GuardianSansCond-Regular-33\"/>\n    </g>\n   </g>\n   <g id=\"text_35\">\n    <!-- 0.03 -->\n    <g style=\"fill:#08306b;\" transform=\"translate(188.634687 217.28925)scale(0.12 -0.12)\">\n     <use xlink:href=\"#GuardianSansCond-Regular-30\"/>\n     <use x=\"53.499985\" xlink:href=\"#GuardianSansCond-Regular-2e\"/>\n     <use x=\"75.099976\" xlink:href=\"#GuardianSansCond-Regular-30\"/>\n     <use x=\"128.59996\" xlink:href=\"#GuardianSansCond-Regular-33\"/>\n    </g>\n   </g>\n   <g id=\"text_36\">\n    <!-- 0.37 -->\n    <g style=\"fill:#08306b;\" transform=\"translate(243.870312 217.28925)scale(0.12 -0.12)\">\n     <use xlink:href=\"#GuardianSansCond-Regular-30\"/>\n     <use x=\"53.499985\" xlink:href=\"#GuardianSansCond-Regular-2e\"/>\n     <use x=\"75.099976\" xlink:href=\"#GuardianSansCond-Regular-33\"/>\n     <use x=\"117.299973\" xlink:href=\"#GuardianSansCond-Regular-37\"/>\n    </g>\n   </g>\n   <g id=\"text_37\">\n    <!-- 0.11 -->\n    <g style=\"fill:#08306b;\" transform=\"translate(299.64125 217.28925)scale(0.12 -0.12)\">\n     <use xlink:href=\"#GuardianSansCond-Regular-30\"/>\n     <use x=\"53.499985\" xlink:href=\"#GuardianSansCond-Regular-2e\"/>\n     <use x=\"75.099976\" xlink:href=\"#GuardianSansCond-Regular-31\"/>\n     <use x=\"103.899963\" xlink:href=\"#GuardianSansCond-Regular-31\"/>\n    </g>\n   </g>\n   <g id=\"text_38\">\n    <!-- 0.00 -->\n    <g style=\"fill:#08306b;\" transform=\"translate(351.036875 217.28925)scale(0.12 -0.12)\">\n     <use xlink:href=\"#GuardianSansCond-Regular-30\"/>\n     <use x=\"53.499985\" xlink:href=\"#GuardianSansCond-Regular-2e\"/>\n     <use x=\"75.099976\" xlink:href=\"#GuardianSansCond-Regular-30\"/>\n     <use x=\"128.59996\" xlink:href=\"#GuardianSansCond-Regular-30\"/>\n    </g>\n   </g>\n   <g id=\"text_39\">\n    <!-- 0.24 -->\n    <g style=\"fill:#08306b;\" transform=\"translate(80.2625 271.64925)scale(0.12 -0.12)\">\n     <use xlink:href=\"#GuardianSansCond-Regular-30\"/>\n     <use x=\"53.499985\" xlink:href=\"#GuardianSansCond-Regular-2e\"/>\n     <use x=\"75.099976\" xlink:href=\"#GuardianSansCond-Regular-32\"/>\n     <use x=\"117.59996\" xlink:href=\"#GuardianSansCond-Regular-34\"/>\n    </g>\n   </g>\n   <g id=\"text_40\">\n    <!-- 0.10 -->\n    <g style=\"fill:#08306b;\" transform=\"translate(135.079062 271.64925)scale(0.12 -0.12)\">\n     <use xlink:href=\"#GuardianSansCond-Regular-30\"/>\n     <use x=\"53.499985\" xlink:href=\"#GuardianSansCond-Regular-2e\"/>\n     <use x=\"75.099976\" xlink:href=\"#GuardianSansCond-Regular-31\"/>\n     <use x=\"103.899963\" xlink:href=\"#GuardianSansCond-Regular-30\"/>\n    </g>\n   </g>\n   <g id=\"text_41\">\n    <!-- 0.03 -->\n    <g style=\"fill:#08306b;\" transform=\"translate(188.634687 271.64925)scale(0.12 -0.12)\">\n     <use xlink:href=\"#GuardianSansCond-Regular-30\"/>\n     <use x=\"53.499985\" xlink:href=\"#GuardianSansCond-Regular-2e\"/>\n     <use x=\"75.099976\" xlink:href=\"#GuardianSansCond-Regular-30\"/>\n     <use x=\"128.59996\" xlink:href=\"#GuardianSansCond-Regular-33\"/>\n    </g>\n   </g>\n   <g id=\"text_42\">\n    <!-- 0.08 -->\n    <g style=\"fill:#08306b;\" transform=\"translate(242.5625 271.64925)scale(0.12 -0.12)\">\n     <use xlink:href=\"#GuardianSansCond-Regular-30\"/>\n     <use x=\"53.499985\" xlink:href=\"#GuardianSansCond-Regular-2e\"/>\n     <use x=\"75.099976\" xlink:href=\"#GuardianSansCond-Regular-30\"/>\n     <use x=\"128.59996\" xlink:href=\"#GuardianSansCond-Regular-38\"/>\n    </g>\n   </g>\n   <g id=\"text_43\">\n    <!-- 0.51 -->\n    <g style=\"fill:#f7fbff;\" transform=\"translate(298.843437 271.64925)scale(0.12 -0.12)\">\n     <use xlink:href=\"#GuardianSansCond-Regular-30\"/>\n     <use x=\"53.499985\" xlink:href=\"#GuardianSansCond-Regular-2e\"/>\n     <use x=\"75.099976\" xlink:href=\"#GuardianSansCond-Regular-35\"/>\n     <use x=\"117.199966\" xlink:href=\"#GuardianSansCond-Regular-31\"/>\n    </g>\n   </g>\n   <g id=\"text_44\">\n    <!-- 0.04 -->\n    <g style=\"fill:#08306b;\" transform=\"translate(351.4025 271.64925)scale(0.12 -0.12)\">\n     <use xlink:href=\"#GuardianSansCond-Regular-30\"/>\n     <use x=\"53.499985\" xlink:href=\"#GuardianSansCond-Regular-2e\"/>\n     <use x=\"75.099976\" xlink:href=\"#GuardianSansCond-Regular-30\"/>\n     <use x=\"128.59996\" xlink:href=\"#GuardianSansCond-Regular-34\"/>\n    </g>\n   </g>\n   <g id=\"text_45\">\n    <!-- 0.16 -->\n    <g style=\"fill:#08306b;\" transform=\"translate(80.994687 326.00925)scale(0.12 -0.12)\">\n     <use xlink:href=\"#GuardianSansCond-Regular-30\"/>\n     <use x=\"53.499985\" xlink:href=\"#GuardianSansCond-Regular-2e\"/>\n     <use x=\"75.099976\" xlink:href=\"#GuardianSansCond-Regular-31\"/>\n     <use x=\"103.899963\" xlink:href=\"#GuardianSansCond-Regular-36\"/>\n    </g>\n   </g>\n   <g id=\"text_46\">\n    <!-- 0.42 -->\n    <g style=\"fill:#f7fbff;\" transform=\"translate(134.6225 326.00925)scale(0.12 -0.12)\">\n     <use xlink:href=\"#GuardianSansCond-Regular-30\"/>\n     <use x=\"53.499985\" xlink:href=\"#GuardianSansCond-Regular-2e\"/>\n     <use x=\"75.099976\" xlink:href=\"#GuardianSansCond-Regular-34\"/>\n     <use x=\"122.499969\" xlink:href=\"#GuardianSansCond-Regular-32\"/>\n    </g>\n   </g>\n   <g id=\"text_47\">\n    <!-- 0.01 -->\n    <g style=\"fill:#08306b;\" transform=\"translate(189.439063 326.00925)scale(0.12 -0.12)\">\n     <use xlink:href=\"#GuardianSansCond-Regular-30\"/>\n     <use x=\"53.499985\" xlink:href=\"#GuardianSansCond-Regular-2e\"/>\n     <use x=\"75.099976\" xlink:href=\"#GuardianSansCond-Regular-30\"/>\n     <use x=\"128.59996\" xlink:href=\"#GuardianSansCond-Regular-31\"/>\n    </g>\n   </g>\n   <g id=\"text_48\">\n    <!-- 0.06 -->\n    <g style=\"fill:#08306b;\" transform=\"translate(242.5925 326.00925)scale(0.12 -0.12)\">\n     <use xlink:href=\"#GuardianSansCond-Regular-30\"/>\n     <use x=\"53.499985\" xlink:href=\"#GuardianSansCond-Regular-2e\"/>\n     <use x=\"75.099976\" xlink:href=\"#GuardianSansCond-Regular-30\"/>\n     <use x=\"128.59996\" xlink:href=\"#GuardianSansCond-Regular-36\"/>\n    </g>\n   </g>\n   <g id=\"text_49\">\n    <!-- 0.17 -->\n    <g style=\"fill:#08306b;\" transform=\"translate(299.034687 326.00925)scale(0.12 -0.12)\">\n     <use xlink:href=\"#GuardianSansCond-Regular-30\"/>\n     <use x=\"53.499985\" xlink:href=\"#GuardianSansCond-Regular-2e\"/>\n     <use x=\"75.099976\" xlink:href=\"#GuardianSansCond-Regular-31\"/>\n     <use x=\"103.899963\" xlink:href=\"#GuardianSansCond-Regular-37\"/>\n    </g>\n   </g>\n   <g id=\"text_50\">\n    <!-- 0.17 -->\n    <g style=\"fill:#08306b;\" transform=\"translate(353.394687 326.00925)scale(0.12 -0.12)\">\n     <use xlink:href=\"#GuardianSansCond-Regular-30\"/>\n     <use x=\"53.499985\" xlink:href=\"#GuardianSansCond-Regular-2e\"/>\n     <use x=\"75.099976\" xlink:href=\"#GuardianSansCond-Regular-31\"/>\n     <use x=\"103.899963\" xlink:href=\"#GuardianSansCond-Regular-37\"/>\n    </g>\n   </g>\n   <g id=\"text_51\">\n    <!-- Normalized confusion matrix -->\n    <g transform=\"translate(153.087125 17.7705)scale(0.144 -0.144)\">\n     <defs>\n      <path d=\"M 416 0 \nL 909 0 \nL 909 2912 \nC 909 3424 877 3757 877 3757 \nL 896 3757 \nC 896 3757 1050 3322 1274 2822 \nL 2547 0 \nL 3155 0 \nL 3155 4435 \nL 2662 4435 \nL 2662 1568 \nC 2662 1114 2694 762 2694 762 \nL 2682 762 \nC 2682 762 2502 1254 2330 1626 \nL 1094 4435 \nL 416 4435 \nL 416 0 \nz\n\" id=\"GuardianSansCond-Regular-4e\" transform=\"scale(0.015625)\"/>\n      <path d=\"M 346 0 \nL 870 0 \nL 870 2688 \nC 1050 2790 1267 2886 1523 2886 \nC 1856 2886 1971 2758 1971 2464 \nL 1971 0 \nL 2490 0 \nL 2490 2688 \nC 2682 2797 2912 2886 3136 2886 \nC 3488 2886 3590 2746 3590 2464 \nL 3590 0 \nL 4115 0 \nL 4115 2528 \nC 4115 3104 3821 3334 3347 3334 \nC 2995 3334 2688 3187 2419 2995 \nL 2394 2995 \nC 2266 3226 2061 3334 1722 3334 \nC 1395 3334 1088 3181 870 3021 \nL 845 3021 \nL 845 3283 \nL 346 3283 \nL 346 0 \nz\n\" id=\"GuardianSansCond-Regular-6d\" transform=\"scale(0.015625)\"/>\n      <path d=\"M 179 0 \nL 2246 0 \nL 2246 435 \nL 794 435 \nL 794 454 \nL 2259 2918 \nL 2259 3283 \nL 256 3283 \nL 256 2854 \nL 1626 2854 \nL 1626 2835 \nL 179 384 \nL 179 0 \nz\n\" id=\"GuardianSansCond-Regular-7a\" transform=\"scale(0.015625)\"/>\n      <path d=\"M 83 0 \nL 634 0 \nL 1056 813 \nC 1203 1069 1293 1248 1293 1248 \nL 1299 1248 \nC 1299 1248 1376 1114 1523 819 \nL 1939 0 \nL 2515 0 \nL 1613 1670 \nL 2451 3283 \nL 1920 3283 \nL 1549 2515 \nL 1350 2086 \nL 1338 2086 \nC 1338 2086 1274 2208 1120 2509 \nL 717 3283 \nL 128 3283 \nL 1011 1658 \nL 83 0 \nz\n\" id=\"GuardianSansCond-Regular-78\" transform=\"scale(0.015625)\"/>\n     </defs>\n     <use xlink:href=\"#GuardianSansCond-Regular-4e\"/>\n     <use x=\"55.799988\" xlink:href=\"#GuardianSansCond-Regular-6f\"/>\n     <use x=\"101.399979\" xlink:href=\"#GuardianSansCond-Regular-72\"/>\n     <use x=\"130.199966\" xlink:href=\"#GuardianSansCond-Regular-6d\"/>\n     <use x=\"199.699951\" xlink:href=\"#GuardianSansCond-Regular-61\"/>\n     <use x=\"240.599945\" xlink:href=\"#GuardianSansCond-Regular-6c\"/>\n     <use x=\"259.899933\" xlink:href=\"#GuardianSansCond-Regular-69\"/>\n     <use x=\"279.199921\" xlink:href=\"#GuardianSansCond-Regular-7a\"/>\n     <use x=\"317.399918\" xlink:href=\"#GuardianSansCond-Regular-65\"/>\n     <use x=\"360.099915\" xlink:href=\"#GuardianSansCond-Regular-64\"/>\n     <use x=\"406.699905\" xlink:href=\"#GuardianSansCond-Regular-20\"/>\n     <use x=\"422.499893\" xlink:href=\"#GuardianSansCond-Regular-63\"/>\n     <use x=\"460.299881\" xlink:href=\"#GuardianSansCond-Regular-6f\"/>\n     <use x=\"505.899872\" xlink:href=\"#GuardianSansCond-Regular-6e\"/>\n     <use x=\"551.999863\" xlink:href=\"#GuardianSansCond-Regular-66\"/>\n     <use x=\"578.69986\" xlink:href=\"#GuardianSansCond-Regular-75\"/>\n     <use x=\"624.199844\" xlink:href=\"#GuardianSansCond-Regular-73\"/>\n     <use x=\"658.699829\" xlink:href=\"#GuardianSansCond-Regular-69\"/>\n     <use x=\"677.999817\" xlink:href=\"#GuardianSansCond-Regular-6f\"/>\n     <use x=\"723.599808\" xlink:href=\"#GuardianSansCond-Regular-6e\"/>\n     <use x=\"769.699799\" xlink:href=\"#GuardianSansCond-Regular-20\"/>\n     <use x=\"785.499786\" xlink:href=\"#GuardianSansCond-Regular-6d\"/>\n     <use x=\"854.999771\" xlink:href=\"#GuardianSansCond-Regular-61\"/>\n     <use x=\"895.899765\" xlink:href=\"#GuardianSansCond-Regular-74\"/>\n     <use x=\"924.89975\" xlink:href=\"#GuardianSansCond-Regular-72\"/>\n     <use x=\"953.699738\" xlink:href=\"#GuardianSansCond-Regular-69\"/>\n     <use x=\"972.999725\" xlink:href=\"#GuardianSansCond-Regular-78\"/>\n    </g>\n   </g>\n  </g>\n </g>\n <defs>\n  <clipPath id=\"pca8d197dee\">\n   <rect height=\"326.16\" width=\"326.16\" x=\"62.9825\" y=\"23.7705\"/>\n  </clipPath>\n </defs>\n</svg>\n",
            "text/plain": [
              "<Figure size 432x432 with 1 Axes>"
            ]
          },
          "metadata": {
            "needs_background": "light"
          },
          "output_type": "display_data"
        }
      ],
      "source": [
        "from sklearn.metrics import ConfusionMatrixDisplay, confusion_matrix\n",
        "\n",
        "def plot_confusion_matrix(y_preds, y_true, labels):\n",
        "    cm = confusion_matrix(y_true, y_preds, normalize=\"true\")\n",
        "    fig, ax = plt.subplots(figsize=(6, 6))\n",
        "    disp = ConfusionMatrixDisplay(confusion_matrix=cm, display_labels=labels)\n",
        "    disp.plot(cmap=\"Blues\", values_format=\".2f\", ax=ax, colorbar=False)\n",
        "    plt.title(\"Normalized confusion matrix\")\n",
        "    plt.show()\n",
        "\n",
        "y_preds = lr_clf.predict(X_valid)\n",
        "plot_confusion_matrix(y_preds, y_valid, labels)"
      ]
    },
    {
      "cell_type": "markdown",
      "metadata": {
        "id": "qVZPKWAmoM3x"
      },
      "source": [
        "We can see that `anger` and `fear` are most often confused with `sadness`, which agrees with the observation we made when visualizing the embeddings. Also, `love` and `surprise` are frequently mistaken for `joy`."
      ]
    },
    {
      "cell_type": "markdown",
      "metadata": {
        "id": "58GKWVjHoM3x"
      },
      "source": [
        "In the next section we will explore the fine-tuning approach, which leads to superior classification performance. It is, however, important to note that doing this requires more computational resources, such as GPUs, that might not be available in your organization. In cases like these, a feature-based approach can be a good compromise between doing traditional machine learning and deep learning."
      ]
    },
    {
      "cell_type": "markdown",
      "metadata": {
        "id": "RtDHQ9hloM3x"
      },
      "source": [
        "### Fine-Tuning Transformers【微调】\n",
        "\n",
        "\n",
        "*   优点：更好\n",
        "*   缺点：需要GPU\n",
        "\n"
      ]
    },
    {
      "cell_type": "markdown",
      "metadata": {
        "id": "SJRRnqUYoM3x"
      },
      "source": [
        "\n",
        "Let's now explore what it takes to fine-tune a transformer end-to-end. With the fine-tuning approach we do not use the hidden states as fixed features, but instead train them as shown in <<encoder-tuning>>. This requires the classification head to be differentiable, which is why this method usually uses a neural network for classification.\n",
        "\n",
        "<img alt=\"encoder-tuning\" caption=\"When using the fine-tuning approach the whole DistilBERT model is trained along with the classification head\" src=\"https://github.com/nlp-with-transformers/notebooks/blob/main/images/chapter02_encoder-fine-tuning.png?raw=1\" id=\"encoder-tuning\"/>"
      ]
    },
    {
      "cell_type": "markdown",
      "metadata": {
        "id": "D4r11F-koM3x"
      },
      "source": [
        "Training the hidden states that serve as inputs to the classification model will help us avoid the problem of working with data that may not be well suited for the classification task. Instead, the initial hidden states adapt during training to decrease the model loss and thus increase its performance.\n",
        "\n",
        "We'll be using the `Trainer` API from image:images/logo.png[hf,13,13] Transformers to simplify the training loop. Let's look at the ingredients we need to set one up!"
      ]
    },
    {
      "cell_type": "markdown",
      "metadata": {
        "id": "kp55uU9roM3x"
      },
      "source": [
        "#### Loading a pretrained model"
      ]
    },
    {
      "cell_type": "markdown",
      "metadata": {
        "id": "ivQUmr3xoM3y"
      },
      "source": [
        "The first thing we need is a pretrained DistilBERT model like the one we used in the feature-based approach. The only slight modification is that we use the `AutoModelForSequenceClassification` model instead of `AutoModel`. The difference is that the `AutoModelForSequenceClassification` model has a classification head on top of the pretrained model outputs, which can be easily trained with the base model. We **just need to specify how many labels** the model has to predict (six in our case), since this dictates the number of outputs the classification head has:"
      ]
    },
    {
      "cell_type": "code",
      "execution_count": 48,
      "metadata": {
        "id": "Bdja4gBHoM3y",
        "outputId": "a8dd1017-93f9-4a79-9110-4b7657087007",
        "colab": {
          "base_uri": "https://localhost:8080/"
        }
      },
      "outputs": [
        {
          "output_type": "stream",
          "name": "stderr",
          "text": [
            "/usr/local/lib/python3.10/dist-packages/huggingface_hub/file_download.py:1132: FutureWarning: `resume_download` is deprecated and will be removed in version 1.0.0. Downloads always resume when possible. If you want to force a new download, use `force_download=True`.\n",
            "  warnings.warn(\n",
            "Some weights of DistilBertForSequenceClassification were not initialized from the model checkpoint at distilbert-base-uncased and are newly initialized: ['classifier.bias', 'classifier.weight', 'pre_classifier.bias', 'pre_classifier.weight']\n",
            "You should probably TRAIN this model on a down-stream task to be able to use it for predictions and inference.\n"
          ]
        }
      ],
      "source": [
        "# hide_output\n",
        "from transformers import AutoModelForSequenceClassification\n",
        "\n",
        "num_labels = 6\n",
        "model = (AutoModelForSequenceClassification\n",
        "         .from_pretrained(model_ckpt, num_labels=num_labels)\n",
        "         .to(device))"
      ]
    },
    {
      "cell_type": "markdown",
      "metadata": {
        "id": "34Nnw2LYoM3y"
      },
      "source": [
        "You will see a warning that some parts of the model are randomly initialized. This is normal since the classification head has not yet been trained. The next step is to define the metrics that we'll use to evaluate our model's performance during fine-tuning."
      ]
    },
    {
      "cell_type": "markdown",
      "metadata": {
        "id": "XNIMi4ZpoM3y"
      },
      "source": [
        "#### Defining the performance metrics【定义性能指标】"
      ]
    },
    {
      "cell_type": "markdown",
      "metadata": {
        "id": "44KIXtcsoM3y"
      },
      "source": [
        "\n",
        "To monitor metrics during training, we need to define a `compute_metrics()` function for the `Trainer`.  This function receives an `EvalPrediction` object (which is a named tuple with `predictions` and `label_ids` attributes) and needs to return a dictionary that maps each metric's name to its value. For our application, we'll compute the $F_1$-score and the accuracy of the model as follows:"
      ]
    },
    {
      "cell_type": "code",
      "execution_count": 49,
      "metadata": {
        "id": "P4THGzwJoM3y"
      },
      "outputs": [],
      "source": [
        "from sklearn.metrics import accuracy_score, f1_score\n",
        "\n",
        "def compute_metrics(pred):\n",
        "    labels = pred.label_ids\n",
        "    preds = pred.predictions.argmax(-1)\n",
        "    f1 = f1_score(labels, preds, average=\"weighted\")\n",
        "    acc = accuracy_score(labels, preds)\n",
        "    return {\"accuracy\": acc, \"f1\": f1}"
      ]
    },
    {
      "cell_type": "markdown",
      "metadata": {
        "id": "y7Hjwo_-oM3y"
      },
      "source": [
        "With the dataset and metrics ready, we just have two final things to take care of before we define the `Trainer` class:\n",
        "\n",
        "1. Log in to our account on the Hugging Face Hub. This will allow us to push our fine-tuned model to our account on the Hub and share it with the community.\n",
        "2. Define all the hyperparameters for the training run.\n",
        "\n",
        "We'll tackle these steps in the next section."
      ]
    },
    {
      "cell_type": "markdown",
      "metadata": {
        "id": "w12VYwPXoM3y"
      },
      "source": [
        "#### Training the model【训练模型】"
      ]
    },
    {
      "cell_type": "markdown",
      "metadata": {
        "id": "6MhE3I7EoM3y"
      },
      "source": [
        "If you're running this code in a Jupyter notebook, you can **log in to the Hub** with the following helper function:"
      ]
    },
    {
      "cell_type": "code",
      "execution_count": 50,
      "metadata": {
        "id": "Ay1UqGGIoM3y",
        "outputId": "a6a452e2-f965-42fb-f040-e80d418bcfd9",
        "colab": {
          "base_uri": "https://localhost:8080/",
          "height": 167,
          "referenced_widgets": [
            "ee6ba1d48aa445b0921d9be4f2ed0783",
            "85ad111163e14df8becb3e4c2da779f3",
            "3e3e5a5faba3491d882fe0519ba1c601",
            "598dcd14a885402fb09fc27fdfcc0f69",
            "92e2d1330b394097a7f3708327c94e64",
            "8637a54bcb604e99a2dad26260e3ad35",
            "fe98a852df734bfebc02cf0d52d248e3",
            "4e12ae4809174b18ac82dfac7d8d1554",
            "8dc72d7f6da94d2aa8cb0773461792e3",
            "1428eff62e2249f3bd0b4c5b2d15ba5e",
            "887ced12df704e46b0d8670c13c5088b",
            "66142e5d9eb34c9487161127b2035350",
            "3cd5bc1b7d744fa5b2ba9a2405b04da0",
            "1c8d6a0164fc42cb91b2f801828c3245",
            "af4fbdeff8ba4dc8b28aa1e02784bbfc",
            "d0fc4890d74d4322b81ce2906ed15ecd",
            "bafadc07f1b948769c9b3a11d66df969",
            "a8c92b1e80b74b46bd1999c895246153",
            "32fe461b631745e9be90d339cca1f89e",
            "256261bf62c745159745fe2d7daaa086",
            "622f3cddc40b4d3cb8cc6377f57dc25d",
            "1c923b82ec194055b93cc3fc61bf37d8",
            "3cf674e4b4e6476d9f41a2501c11f4ec",
            "65031a7385aa452f80c10e21502e4822",
            "b78feac8f7ac491c8e18d6566dc86654",
            "213c979928e24540a051788f4132e0e0",
            "cb3744d444074b4e9250cbfb6c797635",
            "c99edb385d6741de8dee6694f5749da9",
            "a3b3a46306c745aba9cf02b378d70ab6",
            "8a788c64e8c24f27bb051dd740e3e53c",
            "02a2e8dbbf5747faaa1e5023c6c43678",
            "afec062703154425963c1943567095c4"
          ]
        }
      },
      "outputs": [
        {
          "output_type": "display_data",
          "data": {
            "text/plain": [
              "VBox(children=(HTML(value='<center> <img\\nsrc=https://huggingface.co/front/assets/huggingface_logo-noborder.sv…"
            ],
            "application/vnd.jupyter.widget-view+json": {
              "version_major": 2,
              "version_minor": 0,
              "model_id": "ee6ba1d48aa445b0921d9be4f2ed0783"
            }
          },
          "metadata": {}
        }
      ],
      "source": [
        "from huggingface_hub import notebook_login\n",
        "\n",
        "notebook_login()"
      ]
    },
    {
      "cell_type": "markdown",
      "metadata": {
        "id": "hSGEpvI6oM3z"
      },
      "source": [
        "This will display a widget in which you can enter your username and password, or an access token with write privileges. You can find details on how to create access tokens in the [Hub documentation](https://huggingface.co/docs/hub/security#user-access-tokens). If you're working in the terminal, you can log in by running the following command:\n",
        "\n",
        "```bash\n",
        "$ huggingface-cli login\n",
        "```"
      ]
    },
    {
      "cell_type": "markdown",
      "metadata": {
        "id": "FVjsNK35oM3z"
      },
      "source": [
        "To define the training parameters, we use the `TrainingArguments` class. This class stores a lot of information and gives you fine-grained control over the training and evaluation. The most important argument to specify is `output_dir`, which is where all the artifacts from training are stored. Here is an example of `TrainingArguments` in all its glory:"
      ]
    },
    {
      "cell_type": "code",
      "execution_count": null,
      "metadata": {
        "id": "8IH8AQEgoM3z"
      },
      "outputs": [],
      "source": [
        "from transformers import Trainer, TrainingArguments\n",
        "\n",
        "batch_size = 64\n",
        "logging_steps = len(emotions_encoded[\"train\"]) // batch_size\n",
        "model_name = f\"{model_ckpt}-finetuned-emotion\"\n",
        "training_args = TrainingArguments(output_dir=model_name,\n",
        "                                  num_train_epochs=2,\n",
        "                                  learning_rate=2e-5,\n",
        "                                  per_device_train_batch_size=batch_size,\n",
        "                                  per_device_eval_batch_size=batch_size,\n",
        "                                  weight_decay=0.01,\n",
        "                                  evaluation_strategy=\"epoch\",\n",
        "                                  disable_tqdm=False,\n",
        "                                  logging_steps=logging_steps,\n",
        "                                  push_to_hub=True,\n",
        "                                  log_level=\"error\")"
      ]
    },
    {
      "cell_type": "markdown",
      "metadata": {
        "id": "Y5wnbkUOoM3z"
      },
      "source": [
        "Here we also set the batch size, learning rate, and number of epochs, and specify to load the best model at the end of the training run. With this final ingredient, we can instantiate and fine-tune our model with the `Trainer`:"
      ]
    },
    {
      "cell_type": "code",
      "execution_count": null,
      "metadata": {
        "id": "_2tDjcL1oM3z",
        "outputId": "a22ff2ca-0e37-4259-8319-70589139b9a6"
      },
      "outputs": [
        {
          "data": {
            "text/html": [
              "\n",
              "    <div>\n",
              "      \n",
              "      <progress value='500' max='500' style='width:300px; height:20px; vertical-align: middle;'></progress>\n",
              "      [500/500 01:48, Epoch 2/2]\n",
              "    </div>\n",
              "    <table border=\"1\" class=\"dataframe\">\n",
              "  <thead>\n",
              "    <tr style=\"text-align: left;\">\n",
              "      <th>Epoch</th>\n",
              "      <th>Training Loss</th>\n",
              "      <th>Validation Loss</th>\n",
              "      <th>Accuracy</th>\n",
              "      <th>F1</th>\n",
              "    </tr>\n",
              "  </thead>\n",
              "  <tbody>\n",
              "    <tr>\n",
              "      <td>1</td>\n",
              "      <td>0.840900</td>\n",
              "      <td>0.327445</td>\n",
              "      <td>0.896500</td>\n",
              "      <td>0.892285</td>\n",
              "    </tr>\n",
              "    <tr>\n",
              "      <td>2</td>\n",
              "      <td>0.255000</td>\n",
              "      <td>0.220472</td>\n",
              "      <td>0.922500</td>\n",
              "      <td>0.922550</td>\n",
              "    </tr>\n",
              "  </tbody>\n",
              "</table><p>"
            ],
            "text/plain": [
              "<IPython.core.display.HTML object>"
            ]
          },
          "metadata": {},
          "output_type": "display_data"
        }
      ],
      "source": [
        "from transformers import Trainer\n",
        "\n",
        "trainer = Trainer(model=model, args=training_args,\n",
        "                  compute_metrics=compute_metrics,\n",
        "                  train_dataset=emotions_encoded[\"train\"],\n",
        "                  eval_dataset=emotions_encoded[\"validation\"],\n",
        "                  tokenizer=tokenizer)\n",
        "trainer.train();"
      ]
    },
    {
      "cell_type": "markdown",
      "metadata": {
        "id": "c939-LpfoM3z"
      },
      "source": [
        "Looking at the logs, we can see that our model has an $F_1$-score on the validation set of around 92% - this is a significant improvement over the feature-based approach!\n",
        "\n",
        "We can take a more detailed look at the training metrics by calculating the confusion matrix. To visualize the confusion matrix, we first need to get the predictions on the validation set. The `predict()` method of the `Trainer` class returns several useful objects we can use for evaluation:"
      ]
    },
    {
      "cell_type": "code",
      "execution_count": null,
      "metadata": {
        "id": "rQDPfE1ToM3z",
        "outputId": "2064d880-2e1a-4c8d-a7fb-f0a0d0427e88"
      },
      "outputs": [
        {
          "data": {
            "text/html": [
              "\n",
              "    <div>\n",
              "      \n",
              "      <progress value='32' max='32' style='width:300px; height:20px; vertical-align: middle;'></progress>\n",
              "      [32/32 00:01]\n",
              "    </div>\n",
              "    "
            ],
            "text/plain": [
              "<IPython.core.display.HTML object>"
            ]
          },
          "metadata": {},
          "output_type": "display_data"
        }
      ],
      "source": [
        "# hide_output\n",
        "preds_output = trainer.predict(emotions_encoded[\"validation\"])"
      ]
    },
    {
      "cell_type": "markdown",
      "metadata": {
        "id": "62OLN3MwoM3z"
      },
      "source": [
        "The output of the `predict()` method is a `PredictionOutput` object that contains arrays of `predictions` and `label_ids`, along with the metrics we passed to the trainer. For example, the metrics on the validation set can be accessed as follows:"
      ]
    },
    {
      "cell_type": "code",
      "execution_count": null,
      "metadata": {
        "id": "aAcQo6YZoM30",
        "outputId": "597fc84d-b9b9-4ed1-eccc-60a8a51bbaa3"
      },
      "outputs": [
        {
          "data": {
            "text/plain": [
              "{'test_loss': 0.22047173976898193,\n",
              " 'test_accuracy': 0.9225,\n",
              " 'test_f1': 0.9225500751072866,\n",
              " 'test_runtime': 1.6357,\n",
              " 'test_samples_per_second': 1222.725,\n",
              " 'test_steps_per_second': 19.564}"
            ]
          },
          "execution_count": null,
          "metadata": {},
          "output_type": "execute_result"
        }
      ],
      "source": [
        "preds_output.metrics"
      ]
    },
    {
      "cell_type": "markdown",
      "metadata": {
        "id": "0N0AsMewoM30"
      },
      "source": [
        "It also contains the raw predictions for each class. We can decode the predictions greedily using `np.argmax()`. This yields the predicted labels and has the same format as the labels returned by the Scikit-Learn models in the feature-based approach:"
      ]
    },
    {
      "cell_type": "code",
      "execution_count": null,
      "metadata": {
        "id": "rcZX5oyKoM30"
      },
      "outputs": [],
      "source": [
        "y_preds = np.argmax(preds_output.predictions, axis=1)"
      ]
    },
    {
      "cell_type": "markdown",
      "metadata": {
        "id": "6fnMjl0eoM30"
      },
      "source": [
        "With the predictions, we can plot the confusion matrix again:"
      ]
    },
    {
      "cell_type": "code",
      "execution_count": null,
      "metadata": {
        "id": "ZOpNjm5GoM30",
        "outputId": "b913f96c-6174-4463-a0ce-96b6ef206114"
      },
      "outputs": [
        {
          "data": {
            "application/pdf": "[encoded data removed]",
            "image/svg+xml": "<?xml version=\"1.0\" encoding=\"utf-8\" standalone=\"no\"?>\n<!DOCTYPE svg PUBLIC \"-//W3C//DTD SVG 1.1//EN\"\n  \"http://www.w3.org/Graphics/SVG/1.1/DTD/svg11.dtd\">\n<svg height=\"390.3305pt\" version=\"1.1\" viewBox=\"0 0 396.3425 390.3305\" width=\"396.3425pt\" xmlns=\"http://www.w3.org/2000/svg\" xmlns:xlink=\"http://www.w3.org/1999/xlink\">\n <metadata>\n  <rdf:RDF xmlns:cc=\"http://creativecommons.org/ns#\" xmlns:dc=\"http://purl.org/dc/elements/1.1/\" xmlns:rdf=\"http://www.w3.org/1999/02/22-rdf-syntax-ns#\">\n   <cc:Work>\n    <dc:type rdf:resource=\"http://purl.org/dc/dcmitype/StillImage\"/>\n    <dc:date>2021-12-07T11:59:17.791697</dc:date>\n    <dc:format>image/svg+xml</dc:format>\n    <dc:creator>\n     <cc:Agent>\n      <dc:title>Matplotlib v3.4.3, https://matplotlib.org/</dc:title>\n     </cc:Agent>\n    </dc:creator>\n   </cc:Work>\n  </rdf:RDF>\n </metadata>\n <defs>\n  <style type=\"text/css\">*{stroke-linecap:butt;stroke-linejoin:round;}</style>\n </defs>\n <g id=\"figure_1\">\n  <g id=\"patch_1\">\n   <path d=\"M 0 390.3305 \nL 396.3425 390.3305 \nL 396.3425 0 \nL 0 0 \nz\n\" style=\"fill:none;\"/>\n  </g>\n  <g id=\"axes_1\">\n   <g id=\"patch_2\">\n    <path d=\"M 62.9825 349.9305 \nL 389.1425 349.9305 \nL 389.1425 23.7705 \nL 62.9825 23.7705 \nz\n\" style=\"fill:#ffffff;\"/>\n   </g>\n   <g clip-path=\"url(#pc9634a6614)\">\n    <image height=\"327\" id=\"image6c6be2331e\" transform=\"scale(1 -1)translate(0 -327)\" width=\"327\" x=\"62.9825\" xlink:href=\"data:image/png;base64,\niVBORw0KGgoAAAANSUhEUgAAAUcAAAFHCAYAAAAySY5rAAAFE0lEQVR4nO3WPWpVURiG0ZybBIKVYJnOEQi2Fo7AzlGkDU5BELQRHIWFQ7ARwYEoFvEHY0hIvMcJPI3IZutlrRG8BzbP+Zbzq+26t4O+XVzPnjDM7VuHsycMsb9ZZk8Y5vP3y9kThrh/+mb2hGE2swcA/IvEESCII0AQR4AgjgBBHAGCOAIEcQQI4ggQxBEgiCNAEEeAII4AQRwBgjgCBHEECOIIEMQRIIgjQBBHgCCOAEEcAYI4AgRxBAjiCBDEESCII0AQR4AgjgBBHAGCOAIEcQQI4ggQxBEgiCNAEEeAII4AQRwBgjgCBHEECOIIEMQRIIgjQBBHgCCOAEEcAYI4AgRxBAjiCBDEESCII0AQR4AgjgBBHAHCcnZ+vc4eMcLR4f7sCcNsNsvsCUNcXN3MnjDM8eNXsycM8en1yewJw7gcAYI4AgRxBAjiCBDEESCII0AQR4AgjgBBHAGCOAIEcQQI4ggQxBEgiCNAEEeAII4AQRwBgjgCBHEECOIIEMQRIIgjQBBHgCCOAEEcAYI4AgRxBAjiCBDEESCII0AQR4AgjgBBHAGCOAIEcQQI4ggQxBEgiCNAEEeAII4AQRwBgjgCBHEECOIIEMQRIIgjQBBHgCCOAEEcAYI4AgRxBAjiCBDEESAcHOzvZh+36zp7wjCbvWX2hCGOHz6ZPWGYs3fPZ08YYrPZzbe4t+dyBEjiCBDEESCII0AQR4AgjgBBHAGCOAIEcQQI4ggQxBEgiCNAEEeAII4AQRwBgjgCBHEECOIIEMQRIIgjQBBHgCCOAEEcAYI4AgRxBAjiCBDEESCII0AQR4AgjgBBHAGCOAIEcQQI4ggQxBEgiCNAEEeAII4AQRwBgjgCBHEECOIIEMQRIIgjQBBHgCCOAEEcAYI4AgRxBAjiCBDEESCII0AQR4AgjgDhYLPMnjDGj8ub2ROGufvo6ewJQ3x9/2L2BP7Quq6zJwzjcgQI4ggQxBEgiCNAEEeAII4AQRwBgjgCBHEECOIIEMQRIIgjQBBHgCCOAEEcAYI4AgRxBAjiCBDEESCII0AQR4AgjgBBHAGCOAIEcQQI4ggQxBEgiCNAEEeAII4AQRwBgjgCBHEECOIIEMQRIIgjQBBHgCCOAEEcAYI4AgRxBAjiCBDEESCII0AQR4AgjgBBHAGCOAIEcQQI4ggQxBEgiCNAEEeAsPy82q6zR4xw58Hp7AnDfHz7bPaEIY4O/av/N8uyzJ4wjNcIEMQRIIgjQBBHgCCOAEEcAYI4AgRxBAjiCBDEESCII0AQR4AgjgBBHAGCOAIEcQQI4ggQxBEgiCNAEEeAII4AQRwBgjgCBHEECOIIEMQRIIgjQBBHgCCOAEEcAYI4AgRxBAjiCBDEESCII0AQR4AgjgBBHAGCOAIEcQQI4ggQxBEgiCNAEEeAII4AQRwBgjgCBHEECOIIEMQRIIgjQBBHgCCOAEEcAcJydO9knT1ihC8fXs6eMMyyLLMnDHHzazt7An/oYH9376vd/TKAvyCOAEEcAYI4AgRxBAjiCBDEESCII0AQR4AgjgBBHAGCOAIEcQQI4ggQxBEgiCNAEEeAII4AQRwBgjgCBHEECOIIEMQRIIgjQBBHgCCOAEEcAYI4AgRxBAjiCBDEESCII0AQR4AgjgBBHAGCOAIEcQQI4ggQxBEgiCNAEEeAII4AQRwBgjgCBHEECOIIEMQRIIgjQBBHgCCOAEEcAYI4AgRxBAi/AWIRNKaI+vAvAAAAAElFTkSuQmCC\" y=\"-22.9305\"/>\n   </g>\n   <g id=\"matplotlib.axis_1\">\n    <g id=\"xtick_1\">\n     <g id=\"line2d_1\">\n      <defs>\n       <path d=\"M 0 0 \nL 0 3.5 \n\" id=\"me546b011c1\" style=\"stroke:#000000;stroke-width:0.8;\"/>\n      </defs>\n      <g>\n       <use style=\"stroke:#000000;stroke-width:0.8;\" x=\"90.1625\" xlink:href=\"#me546b011c1\" y=\"349.9305\"/>\n      </g>\n     </g>\n     <g id=\"text_1\">\n      <!-- sadness -->\n      <g transform=\"translate(73.374687 365.73925)scale(0.12 -0.12)\">\n       <defs>\n        <path d=\"M 992 -51 \nC 1658 -51 2054 307 2054 947 \nC 2054 1485 1818 1709 1306 1888 \nL 1050 1978 \nC 768 2074 659 2195 659 2451 \nC 659 2771 864 2893 1222 2893 \nC 1517 2893 1760 2810 1914 2739 \nL 1914 3168 \nC 1773 3251 1568 3334 1197 3334 \nC 531 3334 160 2982 160 2406 \nC 160 1901 422 1658 826 1517 \nL 1082 1427 \nC 1408 1312 1536 1184 1536 896 \nC 1536 582 1370 390 934 390 \nC 582 390 358 480 154 563 \nL 154 141 \nC 358 19 640 -51 992 -51 \nz\n\" id=\"GuardianSansCond-Regular-73\" transform=\"scale(0.015625)\"/>\n        <path d=\"M 1082 -51 \nC 1395 -51 1638 77 1779 230 \nL 1811 230 \nL 1862 0 \nL 2291 0 \nL 2291 2413 \nC 2291 3027 1958 3334 1293 3334 \nC 915 3334 634 3258 410 3155 \nL 410 2771 \nC 576 2829 806 2886 1094 2886 \nC 1600 2886 1766 2739 1766 2278 \nL 1766 1958 \nL 1088 1856 \nC 480 1766 160 1466 160 883 \nC 160 250 525 -51 1082 -51 \nz\nM 1222 358 \nC 877 358 704 544 704 915 \nC 704 1274 877 1440 1242 1485 \nL 1766 1549 \nL 1766 525 \nC 1658 435 1459 358 1222 358 \nz\n\" id=\"GuardianSansCond-Regular-61\" transform=\"scale(0.015625)\"/>\n        <path d=\"M 1357 -51 \nC 1690 -51 1965 77 2125 243 \nL 2150 243 \nL 2195 0 \nL 2637 0 \nL 2637 4698 \nL 2118 4698 \nL 2118 3174 \nC 1978 3264 1734 3334 1466 3334 \nC 634 3334 198 2739 198 1670 \nL 198 1523 \nC 198 339 723 -51 1357 -51 \nz\nM 1504 378 \nC 992 378 742 749 742 1542 \nL 742 1728 \nC 742 2541 979 2893 1536 2893 \nC 1779 2893 2003 2835 2118 2758 \nL 2118 595 \nC 1984 493 1773 378 1504 378 \nz\n\" id=\"GuardianSansCond-Regular-64\" transform=\"scale(0.015625)\"/>\n        <path d=\"M 346 0 \nL 870 0 \nL 870 2688 \nC 1037 2778 1306 2886 1587 2886 \nC 1965 2886 2093 2765 2093 2458 \nL 2093 0 \nL 2611 0 \nL 2611 2528 \nC 2611 3085 2342 3334 1811 3334 \nC 1440 3334 1107 3194 870 3021 \nL 845 3021 \nL 845 3283 \nL 346 3283 \nL 346 0 \nz\n\" id=\"GuardianSansCond-Regular-6e\" transform=\"scale(0.015625)\"/>\n        <path d=\"M 1555 -51 \nC 1984 -51 2317 102 2470 243 \nL 2470 627 \nC 2240 499 1965 397 1613 397 \nC 1037 397 742 698 723 1466 \nL 2554 1466 \nL 2554 1798 \nC 2554 2893 2176 3334 1402 3334 \nC 659 3334 186 2810 186 1722 \nL 186 1549 \nC 186 499 634 -51 1555 -51 \nz\nM 1382 2906 \nC 1830 2906 2010 2611 2010 1894 \nL 723 1894 \nC 736 2630 992 2906 1382 2906 \nz\n\" id=\"GuardianSansCond-Regular-65\" transform=\"scale(0.015625)\"/>\n       </defs>\n       <use xlink:href=\"#GuardianSansCond-Regular-73\"/>\n       <use x=\"34.499985\" xlink:href=\"#GuardianSansCond-Regular-61\"/>\n       <use x=\"75.399979\" xlink:href=\"#GuardianSansCond-Regular-64\"/>\n       <use x=\"121.999969\" xlink:href=\"#GuardianSansCond-Regular-6e\"/>\n       <use x=\"168.09996\" xlink:href=\"#GuardianSansCond-Regular-65\"/>\n       <use x=\"210.799957\" xlink:href=\"#GuardianSansCond-Regular-73\"/>\n       <use x=\"245.299942\" xlink:href=\"#GuardianSansCond-Regular-73\"/>\n      </g>\n     </g>\n    </g>\n    <g id=\"xtick_2\">\n     <g id=\"line2d_2\">\n      <g>\n       <use style=\"stroke:#000000;stroke-width:0.8;\" x=\"144.5225\" xlink:href=\"#me546b011c1\" y=\"349.9305\"/>\n      </g>\n     </g>\n     <g id=\"text_2\">\n      <!-- joy -->\n      <g transform=\"translate(138.150312 365.666125)scale(0.12 -0.12)\">\n       <defs>\n        <path d=\"M 83 -1261 \nC 666 -1261 870 -870 870 -352 \nL 870 3283 \nL 352 3283 \nL 352 -326 \nC 352 -678 218 -826 -58 -826 \nC -160 -826 -262 -806 -339 -794 \nL -339 -1158 \nC -237 -1222 -109 -1261 83 -1261 \nz\nM 346 3910 \nL 877 3910 \nL 877 4474 \nL 346 4474 \nL 346 3910 \nz\n\" id=\"GuardianSansCond-Regular-6a\" transform=\"scale(0.015625)\"/>\n        <path d=\"M 1459 -51 \nC 2272 -51 2733 570 2733 1542 \nL 2733 1747 \nC 2733 2771 2291 3334 1459 3334 \nC 659 3334 186 2714 186 1741 \nL 186 1530 \nC 186 531 614 -51 1459 -51 \nz\nM 1466 378 \nC 992 378 723 762 723 1472 \nL 723 1818 \nC 723 2451 947 2906 1453 2906 \nC 1920 2906 2195 2560 2195 1805 \nL 2195 1466 \nC 2195 826 1958 378 1466 378 \nz\n\" id=\"GuardianSansCond-Regular-6f\" transform=\"scale(0.015625)\"/>\n        <path d=\"M 570 -1261 \nC 1082 -1261 1306 -960 1485 -365 \nL 2592 3283 \nL 2067 3283 \nL 1485 1197 \nC 1421 992 1376 787 1376 787 \nL 1363 787 \nC 1363 787 1331 928 1248 1203 \nL 621 3283 \nL 51 3283 \nL 1120 13 \nL 1018 -294 \nC 896 -698 749 -826 480 -826 \nC 384 -826 262 -813 186 -800 \nL 186 -1171 \nC 282 -1222 435 -1261 570 -1261 \nz\n\" id=\"GuardianSansCond-Regular-79\" transform=\"scale(0.015625)\"/>\n       </defs>\n       <use xlink:href=\"#GuardianSansCond-Regular-6a\"/>\n       <use x=\"19.199997\" xlink:href=\"#GuardianSansCond-Regular-6f\"/>\n       <use x=\"64.799988\" xlink:href=\"#GuardianSansCond-Regular-79\"/>\n      </g>\n     </g>\n    </g>\n    <g id=\"xtick_3\">\n     <g id=\"line2d_3\">\n      <g>\n       <use style=\"stroke:#000000;stroke-width:0.8;\" x=\"198.8825\" xlink:href=\"#me546b011c1\" y=\"349.9305\"/>\n      </g>\n     </g>\n     <g id=\"text_3\">\n      <!-- love -->\n      <g transform=\"translate(189.9125 365.73925)scale(0.12 -0.12)\">\n       <defs>\n        <path d=\"M 358 0 \nL 877 0 \nL 877 4698 \nL 358 4698 \nL 358 0 \nz\n\" id=\"GuardianSansCond-Regular-6c\" transform=\"scale(0.015625)\"/>\n        <path d=\"M 1075 0 \nL 1613 0 \nL 2605 3283 \nL 2093 3283 \nL 1504 1190 \nC 1421 870 1370 653 1370 653 \nL 1344 653 \nC 1344 653 1299 877 1216 1190 \nL 627 3283 \nL 70 3283 \nL 1075 0 \nz\n\" id=\"GuardianSansCond-Regular-76\" transform=\"scale(0.015625)\"/>\n       </defs>\n       <use xlink:href=\"#GuardianSansCond-Regular-6c\"/>\n       <use x=\"19.299988\" xlink:href=\"#GuardianSansCond-Regular-6f\"/>\n       <use x=\"64.899979\" xlink:href=\"#GuardianSansCond-Regular-76\"/>\n       <use x=\"106.799973\" xlink:href=\"#GuardianSansCond-Regular-65\"/>\n      </g>\n     </g>\n    </g>\n    <g id=\"xtick_4\">\n     <g id=\"line2d_4\">\n      <g>\n       <use style=\"stroke:#000000;stroke-width:0.8;\" x=\"253.2425\" xlink:href=\"#me546b011c1\" y=\"349.9305\"/>\n      </g>\n     </g>\n     <g id=\"text_4\">\n      <!-- anger -->\n      <g transform=\"translate(241.170312 365.714875)scale(0.12 -0.12)\">\n       <defs>\n        <path d=\"M 1325 -1235 \nC 2240 -1235 2675 -787 2675 -179 \nC 2675 416 2336 704 1696 704 \nL 1069 704 \nC 858 704 774 806 774 966 \nC 774 1069 826 1178 890 1242 \nC 1018 1197 1171 1178 1331 1178 \nC 1939 1178 2413 1530 2413 2208 \nL 2413 2304 \nC 2413 2560 2336 2739 2234 2874 \nL 2682 2874 \nL 2682 3283 \nL 1747 3283 \nC 1626 3315 1485 3334 1325 3334 \nC 704 3334 250 2944 250 2278 \nL 250 2182 \nC 250 1786 429 1510 634 1376 \nC 422 1210 294 1024 294 787 \nC 294 544 442 403 627 333 \nL 627 307 \nC 320 192 64 -38 64 -422 \nC 64 -915 506 -1235 1325 -1235 \nz\nM 1312 -819 \nC 832 -819 595 -640 595 -326 \nC 595 -51 762 141 966 218 \nL 1632 218 \nC 2022 218 2150 45 2150 -237 \nC 2150 -602 1926 -819 1312 -819 \nz\nM 1331 1581 \nC 998 1581 762 1773 762 2189 \nL 762 2323 \nC 762 2726 973 2931 1331 2931 \nC 1670 2931 1901 2746 1901 2310 \nL 1901 2176 \nC 1901 1779 1683 1581 1331 1581 \nz\n\" id=\"GuardianSansCond-Regular-67\" transform=\"scale(0.015625)\"/>\n        <path d=\"M 346 0 \nL 870 0 \nL 870 2605 \nC 1062 2752 1306 2842 1587 2842 \nC 1638 2842 1728 2835 1786 2829 \nL 1786 3302 \nC 1747 3315 1677 3328 1606 3328 \nC 1306 3328 1030 3142 870 2938 \nL 845 2938 \nL 845 3283 \nL 346 3283 \nL 346 0 \nz\n\" id=\"GuardianSansCond-Regular-72\" transform=\"scale(0.015625)\"/>\n       </defs>\n       <use xlink:href=\"#GuardianSansCond-Regular-61\"/>\n       <use x=\"40.899994\" xlink:href=\"#GuardianSansCond-Regular-6e\"/>\n       <use x=\"86.999985\" xlink:href=\"#GuardianSansCond-Regular-67\"/>\n       <use x=\"129.699982\" xlink:href=\"#GuardianSansCond-Regular-65\"/>\n       <use x=\"172.399979\" xlink:href=\"#GuardianSansCond-Regular-72\"/>\n      </g>\n     </g>\n    </g>\n    <g id=\"xtick_5\">\n     <g id=\"line2d_5\">\n      <g>\n       <use style=\"stroke:#000000;stroke-width:0.8;\" x=\"307.6025\" xlink:href=\"#me546b011c1\" y=\"349.9305\"/>\n      </g>\n     </g>\n     <g id=\"text_5\">\n      <!-- fear -->\n      <g transform=\"translate(299.255937 365.73925)scale(0.12 -0.12)\">\n       <defs>\n        <path d=\"M 493 0 \nL 1018 0 \nL 1018 2848 \nL 1626 2848 \nL 1626 3283 \nL 1018 3283 \nL 1018 3712 \nC 1018 4115 1146 4307 1478 4307 \nC 1632 4307 1754 4282 1837 4262 \nL 1837 4640 \nC 1747 4685 1587 4742 1363 4742 \nC 826 4742 493 4429 493 3757 \nL 493 3283 \nL 96 3283 \nL 96 2848 \nL 493 2848 \nL 493 0 \nz\n\" id=\"GuardianSansCond-Regular-66\" transform=\"scale(0.015625)\"/>\n       </defs>\n       <use xlink:href=\"#GuardianSansCond-Regular-66\"/>\n       <use x=\"26.699997\" xlink:href=\"#GuardianSansCond-Regular-65\"/>\n       <use x=\"69.399994\" xlink:href=\"#GuardianSansCond-Regular-61\"/>\n       <use x=\"110.299988\" xlink:href=\"#GuardianSansCond-Regular-72\"/>\n      </g>\n     </g>\n    </g>\n    <g id=\"xtick_6\">\n     <g id=\"line2d_6\">\n      <g>\n       <use style=\"stroke:#000000;stroke-width:0.8;\" x=\"361.9625\" xlink:href=\"#me546b011c1\" y=\"349.9305\"/>\n      </g>\n     </g>\n     <g id=\"text_6\">\n      <!-- surprise -->\n      <g transform=\"translate(345.12125 365.73925)scale(0.12 -0.12)\">\n       <defs>\n        <path d=\"M 1158 -51 \nC 1523 -51 1824 109 2042 262 \nL 2067 262 \nL 2118 0 \nL 2566 0 \nL 2566 3283 \nL 2042 3283 \nL 2042 602 \nC 1888 512 1626 397 1350 397 \nC 947 397 858 557 858 838 \nL 858 3283 \nL 333 3283 \nL 333 826 \nC 333 301 576 -51 1158 -51 \nz\n\" id=\"GuardianSansCond-Regular-75\" transform=\"scale(0.015625)\"/>\n        <path d=\"M 346 -1222 \nL 870 -1222 \nL 870 128 \nC 1005 38 1242 -51 1542 -51 \nC 2374 -51 2784 525 2784 1600 \nL 2784 1818 \nC 2784 2912 2342 3334 1670 3334 \nC 1318 3334 1030 3187 870 3034 \nL 845 3034 \nL 845 3283 \nL 346 3283 \nL 346 -1222 \nz\nM 1466 378 \nC 1210 378 973 461 870 538 \nL 870 2688 \nC 992 2784 1229 2893 1523 2893 \nC 2035 2893 2246 2573 2246 1798 \nL 2246 1549 \nC 2246 742 2003 378 1466 378 \nz\n\" id=\"GuardianSansCond-Regular-70\" transform=\"scale(0.015625)\"/>\n        <path d=\"M 358 0 \nL 883 0 \nL 883 3283 \nL 358 3283 \nL 358 0 \nz\nM 352 3910 \nL 883 3910 \nL 883 4474 \nL 352 4474 \nL 352 3910 \nz\n\" id=\"GuardianSansCond-Regular-69\" transform=\"scale(0.015625)\"/>\n       </defs>\n       <use xlink:href=\"#GuardianSansCond-Regular-73\"/>\n       <use x=\"34.499985\" xlink:href=\"#GuardianSansCond-Regular-75\"/>\n       <use x=\"79.999969\" xlink:href=\"#GuardianSansCond-Regular-72\"/>\n       <use x=\"108.799957\" xlink:href=\"#GuardianSansCond-Regular-70\"/>\n       <use x=\"155.399948\" xlink:href=\"#GuardianSansCond-Regular-72\"/>\n       <use x=\"184.199936\" xlink:href=\"#GuardianSansCond-Regular-69\"/>\n       <use x=\"203.499924\" xlink:href=\"#GuardianSansCond-Regular-73\"/>\n       <use x=\"237.999908\" xlink:href=\"#GuardianSansCond-Regular-65\"/>\n      </g>\n     </g>\n    </g>\n    <g id=\"text_7\">\n     <!-- Predicted label -->\n     <g transform=\"translate(194.557813 380.83925)scale(0.12 -0.12)\">\n      <defs>\n       <path d=\"M 416 0 \nL 954 0 \nL 954 1766 \nL 1555 1766 \nC 2362 1766 2854 2246 2854 3117 \nC 2854 4026 2413 4435 1536 4435 \nL 416 4435 \nL 416 0 \nz\nM 954 2221 \nL 954 3974 \nL 1478 3974 \nC 2061 3974 2285 3750 2285 3098 \nC 2285 2496 2054 2221 1472 2221 \nL 954 2221 \nz\n\" id=\"GuardianSansCond-Regular-50\" transform=\"scale(0.015625)\"/>\n       <path d=\"M 1498 -51 \nC 1869 -51 2125 51 2298 173 \nL 2298 595 \nC 2163 518 1907 390 1555 390 \nC 1005 390 723 704 723 1542 \nL 723 1798 \nC 723 2464 941 2893 1510 2893 \nC 1856 2893 2054 2803 2259 2714 \nL 2259 3149 \nC 2093 3258 1875 3334 1542 3334 \nC 768 3334 186 2886 186 1741 \nL 186 1536 \nC 186 416 685 -51 1498 -51 \nz\n\" id=\"GuardianSansCond-Regular-63\" transform=\"scale(0.015625)\"/>\n       <path d=\"M 1222 -38 \nC 1466 -38 1619 26 1722 90 \nL 1722 442 \nC 1632 416 1517 390 1382 390 \nC 1107 390 1005 480 1005 781 \nL 1005 2848 \nL 1683 2848 \nL 1683 3283 \nL 1005 3283 \nL 1005 4051 \nL 486 4051 \nL 486 3283 \nL 96 3283 \nL 96 2848 \nL 486 2848 \nL 486 710 \nC 486 160 774 -38 1222 -38 \nz\n\" id=\"GuardianSansCond-Regular-74\" transform=\"scale(0.015625)\"/>\n       <path id=\"GuardianSansCond-Regular-20\" transform=\"scale(0.015625)\"/>\n       <path d=\"M 1382 -64 \nC 2317 -64 2784 531 2784 1619 \nL 2784 1843 \nC 2784 2995 2285 3334 1702 3334 \nC 1338 3334 1075 3219 896 3104 \nL 870 3104 \nL 870 4698 \nL 346 4698 \nL 346 102 \nC 557 19 1005 -64 1382 -64 \nz\nM 1408 378 \nC 1165 378 979 416 870 454 \nL 870 2733 \nC 992 2790 1216 2893 1491 2893 \nC 2003 2893 2246 2650 2246 1818 \nL 2246 1549 \nC 2246 627 1875 378 1408 378 \nz\n\" id=\"GuardianSansCond-Regular-62\" transform=\"scale(0.015625)\"/>\n      </defs>\n      <use xlink:href=\"#GuardianSansCond-Regular-50\"/>\n      <use x=\"46.999985\" xlink:href=\"#GuardianSansCond-Regular-72\"/>\n      <use x=\"75.799973\" xlink:href=\"#GuardianSansCond-Regular-65\"/>\n      <use x=\"118.499969\" xlink:href=\"#GuardianSansCond-Regular-64\"/>\n      <use x=\"165.09996\" xlink:href=\"#GuardianSansCond-Regular-69\"/>\n      <use x=\"184.399948\" xlink:href=\"#GuardianSansCond-Regular-63\"/>\n      <use x=\"222.199936\" xlink:href=\"#GuardianSansCond-Regular-74\"/>\n      <use x=\"251.199921\" xlink:href=\"#GuardianSansCond-Regular-65\"/>\n      <use x=\"293.899918\" xlink:href=\"#GuardianSansCond-Regular-64\"/>\n      <use x=\"340.499908\" xlink:href=\"#GuardianSansCond-Regular-20\"/>\n      <use x=\"356.299896\" xlink:href=\"#GuardianSansCond-Regular-6c\"/>\n      <use x=\"375.599884\" xlink:href=\"#GuardianSansCond-Regular-61\"/>\n      <use x=\"416.499878\" xlink:href=\"#GuardianSansCond-Regular-62\"/>\n      <use x=\"463.099869\" xlink:href=\"#GuardianSansCond-Regular-65\"/>\n      <use x=\"505.799866\" xlink:href=\"#GuardianSansCond-Regular-6c\"/>\n     </g>\n    </g>\n   </g>\n   <g id=\"matplotlib.axis_2\">\n    <g id=\"ytick_1\">\n     <g id=\"line2d_7\">\n      <defs>\n       <path d=\"M 0 0 \nL -3.5 0 \n\" id=\"m2d67810c5f\" style=\"stroke:#000000;stroke-width:0.8;\"/>\n      </defs>\n      <g>\n       <use style=\"stroke:#000000;stroke-width:0.8;\" x=\"62.9825\" xlink:href=\"#m2d67810c5f\" y=\"50.9505\"/>\n      </g>\n     </g>\n     <g id=\"text_8\">\n      <!-- sadness -->\n      <g transform=\"translate(22.406875 55.354875)scale(0.12 -0.12)\">\n       <use xlink:href=\"#GuardianSansCond-Regular-73\"/>\n       <use x=\"34.499985\" xlink:href=\"#GuardianSansCond-Regular-61\"/>\n       <use x=\"75.399979\" xlink:href=\"#GuardianSansCond-Regular-64\"/>\n       <use x=\"121.999969\" xlink:href=\"#GuardianSansCond-Regular-6e\"/>\n       <use x=\"168.09996\" xlink:href=\"#GuardianSansCond-Regular-65\"/>\n       <use x=\"210.799957\" xlink:href=\"#GuardianSansCond-Regular-73\"/>\n       <use x=\"245.299942\" xlink:href=\"#GuardianSansCond-Regular-73\"/>\n      </g>\n     </g>\n    </g>\n    <g id=\"ytick_2\">\n     <g id=\"line2d_8\">\n      <g>\n       <use style=\"stroke:#000000;stroke-width:0.8;\" x=\"62.9825\" xlink:href=\"#m2d67810c5f\" y=\"105.3105\"/>\n      </g>\n     </g>\n     <g id=\"text_9\">\n      <!-- joy -->\n      <g transform=\"translate(43.238125 109.678312)scale(0.12 -0.12)\">\n       <use xlink:href=\"#GuardianSansCond-Regular-6a\"/>\n       <use x=\"19.199997\" xlink:href=\"#GuardianSansCond-Regular-6f\"/>\n       <use x=\"64.799988\" xlink:href=\"#GuardianSansCond-Regular-79\"/>\n      </g>\n     </g>\n    </g>\n    <g id=\"ytick_3\">\n     <g id=\"line2d_9\">\n      <g>\n       <use style=\"stroke:#000000;stroke-width:0.8;\" x=\"62.9825\" xlink:href=\"#m2d67810c5f\" y=\"159.6705\"/>\n      </g>\n     </g>\n     <g id=\"text_10\">\n      <!-- love -->\n      <g transform=\"translate(38.0425 164.074875)scale(0.12 -0.12)\">\n       <use xlink:href=\"#GuardianSansCond-Regular-6c\"/>\n       <use x=\"19.299988\" xlink:href=\"#GuardianSansCond-Regular-6f\"/>\n       <use x=\"64.899979\" xlink:href=\"#GuardianSansCond-Regular-76\"/>\n       <use x=\"106.799973\" xlink:href=\"#GuardianSansCond-Regular-65\"/>\n      </g>\n     </g>\n    </g>\n    <g id=\"ytick_4\">\n     <g id=\"line2d_10\">\n      <g>\n       <use style=\"stroke:#000000;stroke-width:0.8;\" x=\"62.9825\" xlink:href=\"#m2d67810c5f\" y=\"214.0305\"/>\n      </g>\n     </g>\n     <g id=\"text_11\">\n      <!-- anger -->\n      <g transform=\"translate(31.838125 218.422687)scale(0.12 -0.12)\">\n       <use xlink:href=\"#GuardianSansCond-Regular-61\"/>\n       <use x=\"40.899994\" xlink:href=\"#GuardianSansCond-Regular-6e\"/>\n       <use x=\"86.999985\" xlink:href=\"#GuardianSansCond-Regular-67\"/>\n       <use x=\"129.699982\" xlink:href=\"#GuardianSansCond-Regular-65\"/>\n       <use x=\"172.399979\" xlink:href=\"#GuardianSansCond-Regular-72\"/>\n      </g>\n     </g>\n    </g>\n    <g id=\"ytick_5\">\n     <g id=\"line2d_11\">\n      <g>\n       <use style=\"stroke:#000000;stroke-width:0.8;\" x=\"62.9825\" xlink:href=\"#m2d67810c5f\" y=\"268.3905\"/>\n      </g>\n     </g>\n     <g id=\"text_12\">\n      <!-- fear -->\n      <g transform=\"translate(39.289375 272.794875)scale(0.12 -0.12)\">\n       <use xlink:href=\"#GuardianSansCond-Regular-66\"/>\n       <use x=\"26.699997\" xlink:href=\"#GuardianSansCond-Regular-65\"/>\n       <use x=\"69.399994\" xlink:href=\"#GuardianSansCond-Regular-61\"/>\n       <use x=\"110.299988\" xlink:href=\"#GuardianSansCond-Regular-72\"/>\n      </g>\n     </g>\n    </g>\n    <g id=\"ytick_6\">\n     <g id=\"line2d_12\">\n      <g>\n       <use style=\"stroke:#000000;stroke-width:0.8;\" x=\"62.9825\" xlink:href=\"#m2d67810c5f\" y=\"322.7505\"/>\n      </g>\n     </g>\n     <g id=\"text_13\">\n      <!-- surprise -->\n      <g transform=\"translate(22.3 327.154875)scale(0.12 -0.12)\">\n       <use xlink:href=\"#GuardianSansCond-Regular-73\"/>\n       <use x=\"34.499985\" xlink:href=\"#GuardianSansCond-Regular-75\"/>\n       <use x=\"79.999969\" xlink:href=\"#GuardianSansCond-Regular-72\"/>\n       <use x=\"108.799957\" xlink:href=\"#GuardianSansCond-Regular-70\"/>\n       <use x=\"155.399948\" xlink:href=\"#GuardianSansCond-Regular-72\"/>\n       <use x=\"184.199936\" xlink:href=\"#GuardianSansCond-Regular-69\"/>\n       <use x=\"203.499924\" xlink:href=\"#GuardianSansCond-Regular-73\"/>\n       <use x=\"237.999908\" xlink:href=\"#GuardianSansCond-Regular-65\"/>\n      </g>\n     </g>\n    </g>\n    <g id=\"text_14\">\n     <!-- True label -->\n     <g transform=\"translate(16.00875 207.616125)rotate(-90)scale(0.12 -0.12)\">\n      <defs>\n       <path d=\"M 1152 0 \nL 1690 0 \nL 1690 3974 \nL 2746 3974 \nL 2746 4435 \nL 90 4435 \nL 90 3974 \nL 1152 3974 \nL 1152 0 \nz\n\" id=\"GuardianSansCond-Regular-54\" transform=\"scale(0.015625)\"/>\n      </defs>\n      <use xlink:href=\"#GuardianSansCond-Regular-54\"/>\n      <use x=\"44.499985\" xlink:href=\"#GuardianSansCond-Regular-72\"/>\n      <use x=\"73.299973\" xlink:href=\"#GuardianSansCond-Regular-75\"/>\n      <use x=\"118.799957\" xlink:href=\"#GuardianSansCond-Regular-65\"/>\n      <use x=\"161.499954\" xlink:href=\"#GuardianSansCond-Regular-20\"/>\n      <use x=\"177.299942\" xlink:href=\"#GuardianSansCond-Regular-6c\"/>\n      <use x=\"196.59993\" xlink:href=\"#GuardianSansCond-Regular-61\"/>\n      <use x=\"237.499924\" xlink:href=\"#GuardianSansCond-Regular-62\"/>\n      <use x=\"284.099915\" xlink:href=\"#GuardianSansCond-Regular-65\"/>\n      <use x=\"326.799911\" xlink:href=\"#GuardianSansCond-Regular-6c\"/>\n     </g>\n    </g>\n   </g>\n   <g id=\"patch_3\">\n    <path d=\"M 62.9825 349.9305 \nL 62.9825 23.7705 \n\" style=\"fill:none;stroke:#000000;stroke-linecap:square;stroke-linejoin:miter;stroke-width:0.8;\"/>\n   </g>\n   <g id=\"patch_4\">\n    <path d=\"M 389.1425 349.9305 \nL 389.1425 23.7705 \n\" style=\"fill:none;stroke:#000000;stroke-linecap:square;stroke-linejoin:miter;stroke-width:0.8;\"/>\n   </g>\n   <g id=\"patch_5\">\n    <path d=\"M 62.9825 349.9305 \nL 389.1425 349.9305 \n\" style=\"fill:none;stroke:#000000;stroke-linecap:square;stroke-linejoin:miter;stroke-width:0.8;\"/>\n   </g>\n   <g id=\"patch_6\">\n    <path d=\"M 62.9825 23.7705 \nL 389.1425 23.7705 \n\" style=\"fill:none;stroke:#000000;stroke-linecap:square;stroke-linejoin:miter;stroke-width:0.8;\"/>\n   </g>\n   <g id=\"text_15\">\n    <!-- 0.95 -->\n    <g style=\"fill:#f7fbff;\" transform=\"translate(80.196875 54.20925)scale(0.12 -0.12)\">\n     <defs>\n      <path d=\"M 1722 -70 \nC 2656 -70 3155 646 3155 2061 \nL 3155 2406 \nC 3155 3891 2598 4499 1715 4499 \nC 819 4499 269 3834 269 2368 \nL 269 2042 \nC 269 499 845 -70 1722 -70 \nz\nM 1728 384 \nC 1069 384 845 979 845 2016 \nL 845 2490 \nC 845 3494 1088 4051 1709 4051 \nC 2336 4051 2592 3514 2592 2458 \nL 2592 1978 \nC 2592 934 2374 384 1728 384 \nz\n\" id=\"GuardianSansCond-Regular-30\" transform=\"scale(0.015625)\"/>\n      <path d=\"M 397 0 \nL 986 0 \nL 986 621 \nL 397 621 \nL 397 0 \nz\n\" id=\"GuardianSansCond-Regular-2e\" transform=\"scale(0.015625)\"/>\n      <path d=\"M 1171 -70 \nC 2176 -70 2854 448 2854 2221 \nL 2854 2586 \nC 2854 3795 2432 4499 1523 4499 \nC 691 4499 243 3917 243 3021 \nC 243 2202 653 1683 1389 1683 \nC 1766 1683 2074 1818 2285 1984 \nC 2266 608 1798 397 1107 397 \nC 851 397 563 467 429 518 \nL 429 96 \nC 563 0 858 -70 1171 -70 \nz\nM 1542 2150 \nC 1056 2150 806 2445 806 3072 \nC 806 3712 1043 4045 1523 4045 \nC 2048 4045 2285 3558 2285 2592 \nL 2285 2374 \nC 2138 2272 1882 2150 1542 2150 \nz\n\" id=\"GuardianSansCond-Regular-39\" transform=\"scale(0.015625)\"/>\n      <path d=\"M 1094 -64 \nC 1971 -64 2445 512 2445 1363 \nC 2445 2298 1997 2707 1165 2707 \nC 1011 2707 890 2694 794 2675 \nL 877 3974 \nL 2342 3974 \nL 2342 4435 \nL 429 4435 \nL 294 2170 \nC 467 2208 710 2246 966 2246 \nC 1587 2246 1875 1990 1875 1363 \nC 1875 717 1587 397 954 397 \nC 627 397 365 474 154 582 \nL 154 147 \nC 352 26 672 -64 1094 -64 \nz\n\" id=\"GuardianSansCond-Regular-35\" transform=\"scale(0.015625)\"/>\n     </defs>\n     <use xlink:href=\"#GuardianSansCond-Regular-30\"/>\n     <use x=\"53.499985\" xlink:href=\"#GuardianSansCond-Regular-2e\"/>\n     <use x=\"75.099976\" xlink:href=\"#GuardianSansCond-Regular-39\"/>\n     <use x=\"123.999969\" xlink:href=\"#GuardianSansCond-Regular-35\"/>\n    </g>\n   </g>\n   <g id=\"text_16\">\n    <!-- 0.01 -->\n    <g style=\"fill:#08306b;\" transform=\"translate(135.079062 54.20925)scale(0.12 -0.12)\">\n     <defs>\n      <path d=\"M 832 0 \nL 1363 0 \nL 1363 4474 \nL 1171 4474 \nL 141 4083 \nL 141 3776 \nL 832 3846 \nL 832 0 \nz\n\" id=\"GuardianSansCond-Regular-31\" transform=\"scale(0.015625)\"/>\n     </defs>\n     <use xlink:href=\"#GuardianSansCond-Regular-30\"/>\n     <use x=\"53.499985\" xlink:href=\"#GuardianSansCond-Regular-2e\"/>\n     <use x=\"75.099976\" xlink:href=\"#GuardianSansCond-Regular-30\"/>\n     <use x=\"128.59996\" xlink:href=\"#GuardianSansCond-Regular-31\"/>\n    </g>\n   </g>\n   <g id=\"text_17\">\n    <!-- 0.00 -->\n    <g style=\"fill:#08306b;\" transform=\"translate(187.956875 54.20925)scale(0.12 -0.12)\">\n     <use xlink:href=\"#GuardianSansCond-Regular-30\"/>\n     <use x=\"53.499985\" xlink:href=\"#GuardianSansCond-Regular-2e\"/>\n     <use x=\"75.099976\" xlink:href=\"#GuardianSansCond-Regular-30\"/>\n     <use x=\"128.59996\" xlink:href=\"#GuardianSansCond-Regular-30\"/>\n    </g>\n   </g>\n   <g id=\"text_18\">\n    <!-- 0.02 -->\n    <g style=\"fill:#08306b;\" transform=\"translate(242.976875 54.20925)scale(0.12 -0.12)\">\n     <defs>\n      <path d=\"M 173 0 \nL 2470 0 \nL 2470 461 \nL 800 461 \nL 800 480 \nL 1574 1421 \nC 2067 2035 2419 2528 2419 3264 \nC 2419 4026 2029 4499 1222 4499 \nC 806 4499 499 4410 269 4282 \nL 269 3853 \nC 467 3949 730 4032 1056 4032 \nC 1619 4032 1850 3750 1850 3213 \nC 1850 2630 1542 2189 1152 1670 \nL 173 397 \nL 173 0 \nz\n\" id=\"GuardianSansCond-Regular-32\" transform=\"scale(0.015625)\"/>\n     </defs>\n     <use xlink:href=\"#GuardianSansCond-Regular-30\"/>\n     <use x=\"53.499985\" xlink:href=\"#GuardianSansCond-Regular-2e\"/>\n     <use x=\"75.099976\" xlink:href=\"#GuardianSansCond-Regular-30\"/>\n     <use x=\"128.59996\" xlink:href=\"#GuardianSansCond-Regular-32\"/>\n    </g>\n   </g>\n   <g id=\"text_19\">\n    <!-- 0.02 -->\n    <g style=\"fill:#08306b;\" transform=\"translate(297.336875 54.20925)scale(0.12 -0.12)\">\n     <use xlink:href=\"#GuardianSansCond-Regular-30\"/>\n     <use x=\"53.499985\" xlink:href=\"#GuardianSansCond-Regular-2e\"/>\n     <use x=\"75.099976\" xlink:href=\"#GuardianSansCond-Regular-30\"/>\n     <use x=\"128.59996\" xlink:href=\"#GuardianSansCond-Regular-32\"/>\n    </g>\n   </g>\n   <g id=\"text_20\">\n    <!-- 0.00 -->\n    <g style=\"fill:#08306b;\" transform=\"translate(351.036875 54.20925)scale(0.12 -0.12)\">\n     <use xlink:href=\"#GuardianSansCond-Regular-30\"/>\n     <use x=\"53.499985\" xlink:href=\"#GuardianSansCond-Regular-2e\"/>\n     <use x=\"75.099976\" xlink:href=\"#GuardianSansCond-Regular-30\"/>\n     <use x=\"128.59996\" xlink:href=\"#GuardianSansCond-Regular-30\"/>\n    </g>\n   </g>\n   <g id=\"text_21\">\n    <!-- 0.01 -->\n    <g style=\"fill:#08306b;\" transform=\"translate(80.719062 108.56925)scale(0.12 -0.12)\">\n     <use xlink:href=\"#GuardianSansCond-Regular-30\"/>\n     <use x=\"53.499985\" xlink:href=\"#GuardianSansCond-Regular-2e\"/>\n     <use x=\"75.099976\" xlink:href=\"#GuardianSansCond-Regular-30\"/>\n     <use x=\"128.59996\" xlink:href=\"#GuardianSansCond-Regular-31\"/>\n    </g>\n   </g>\n   <g id=\"text_22\">\n    <!-- 0.93 -->\n    <g style=\"fill:#f7fbff;\" transform=\"translate(134.550312 108.56925)scale(0.12 -0.12)\">\n     <defs>\n      <path d=\"M 1094 -64 \nC 1920 -64 2432 416 2432 1248 \nC 2432 1939 2112 2253 1606 2362 \nL 1606 2381 \nC 2042 2515 2310 2803 2310 3405 \nC 2310 4096 1882 4499 1158 4499 \nC 787 4499 486 4429 275 4320 \nL 275 3891 \nC 461 3968 678 4038 998 4038 \nC 1478 4038 1754 3866 1754 3302 \nC 1754 2797 1478 2547 1018 2547 \nL 717 2547 \nL 717 2086 \nL 1056 2086 \nC 1600 2086 1869 1837 1869 1267 \nC 1869 646 1517 403 947 403 \nC 646 403 358 493 147 608 \nL 147 166 \nC 358 32 640 -64 1094 -64 \nz\n\" id=\"GuardianSansCond-Regular-33\" transform=\"scale(0.015625)\"/>\n     </defs>\n     <use xlink:href=\"#GuardianSansCond-Regular-30\"/>\n     <use x=\"53.499985\" xlink:href=\"#GuardianSansCond-Regular-2e\"/>\n     <use x=\"75.099976\" xlink:href=\"#GuardianSansCond-Regular-39\"/>\n     <use x=\"123.999969\" xlink:href=\"#GuardianSansCond-Regular-33\"/>\n    </g>\n   </g>\n   <g id=\"text_23\">\n    <!-- 0.04 -->\n    <g style=\"fill:#08306b;\" transform=\"translate(188.3225 108.56925)scale(0.12 -0.12)\">\n     <defs>\n      <path d=\"M 1805 0 \nL 2330 0 \nL 2330 1107 \nL 2957 1107 \nL 2957 1562 \nL 2330 1562 \nL 2330 4435 \nL 1869 4435 \nL 70 1504 \nL 70 1107 \nL 1805 1107 \nL 1805 0 \nz\nM 608 1562 \nL 608 1581 \nL 1779 3475 \nL 1805 3475 \nL 1805 1562 \nL 608 1562 \nz\n\" id=\"GuardianSansCond-Regular-34\" transform=\"scale(0.015625)\"/>\n     </defs>\n     <use xlink:href=\"#GuardianSansCond-Regular-30\"/>\n     <use x=\"53.499985\" xlink:href=\"#GuardianSansCond-Regular-2e\"/>\n     <use x=\"75.099976\" xlink:href=\"#GuardianSansCond-Regular-30\"/>\n     <use x=\"128.59996\" xlink:href=\"#GuardianSansCond-Regular-34\"/>\n    </g>\n   </g>\n   <g id=\"text_24\">\n    <!-- 0.01 -->\n    <g style=\"fill:#08306b;\" transform=\"translate(243.799062 108.56925)scale(0.12 -0.12)\">\n     <use xlink:href=\"#GuardianSansCond-Regular-30\"/>\n     <use x=\"53.499985\" xlink:href=\"#GuardianSansCond-Regular-2e\"/>\n     <use x=\"75.099976\" xlink:href=\"#GuardianSansCond-Regular-30\"/>\n     <use x=\"128.59996\" xlink:href=\"#GuardianSansCond-Regular-31\"/>\n    </g>\n   </g>\n   <g id=\"text_25\">\n    <!-- 0.01 -->\n    <g style=\"fill:#08306b;\" transform=\"translate(298.159062 108.56925)scale(0.12 -0.12)\">\n     <use xlink:href=\"#GuardianSansCond-Regular-30\"/>\n     <use x=\"53.499985\" xlink:href=\"#GuardianSansCond-Regular-2e\"/>\n     <use x=\"75.099976\" xlink:href=\"#GuardianSansCond-Regular-30\"/>\n     <use x=\"128.59996\" xlink:href=\"#GuardianSansCond-Regular-31\"/>\n    </g>\n   </g>\n   <g id=\"text_26\">\n    <!-- 0.00 -->\n    <g style=\"fill:#08306b;\" transform=\"translate(351.036875 108.56925)scale(0.12 -0.12)\">\n     <use xlink:href=\"#GuardianSansCond-Regular-30\"/>\n     <use x=\"53.499985\" xlink:href=\"#GuardianSansCond-Regular-2e\"/>\n     <use x=\"75.099976\" xlink:href=\"#GuardianSansCond-Regular-30\"/>\n     <use x=\"128.59996\" xlink:href=\"#GuardianSansCond-Regular-30\"/>\n    </g>\n   </g>\n   <g id=\"text_27\">\n    <!-- 0.02 -->\n    <g style=\"fill:#08306b;\" transform=\"translate(79.896875 162.92925)scale(0.12 -0.12)\">\n     <use xlink:href=\"#GuardianSansCond-Regular-30\"/>\n     <use x=\"53.499985\" xlink:href=\"#GuardianSansCond-Regular-2e\"/>\n     <use x=\"75.099976\" xlink:href=\"#GuardianSansCond-Regular-30\"/>\n     <use x=\"128.59996\" xlink:href=\"#GuardianSansCond-Regular-32\"/>\n    </g>\n   </g>\n   <g id=\"text_28\">\n    <!-- 0.08 -->\n    <g style=\"fill:#08306b;\" transform=\"translate(133.8425 162.92925)scale(0.12 -0.12)\">\n     <defs>\n      <path d=\"M 1581 -64 \nC 2445 -64 2931 467 2931 1139 \nC 2931 1760 2592 2074 2106 2330 \nC 2490 2541 2822 2899 2822 3424 \nC 2822 4077 2394 4499 1606 4499 \nC 819 4499 384 4013 384 3398 \nC 384 2848 678 2509 1069 2285 \nC 602 2054 230 1683 230 1082 \nC 230 384 710 -64 1581 -64 \nz\nM 1587 390 \nC 1082 390 768 678 768 1126 \nC 768 1581 1037 1894 1414 2080 \nC 2029 1792 2387 1574 2387 1082 \nC 2387 614 2054 390 1587 390 \nz\nM 1754 2522 \nC 1210 2778 928 3021 928 3430 \nC 928 3821 1171 4051 1606 4051 \nC 2067 4051 2285 3782 2285 3398 \nC 2285 3008 2099 2765 1754 2522 \nz\n\" id=\"GuardianSansCond-Regular-38\" transform=\"scale(0.015625)\"/>\n     </defs>\n     <use xlink:href=\"#GuardianSansCond-Regular-30\"/>\n     <use x=\"53.499985\" xlink:href=\"#GuardianSansCond-Regular-2e\"/>\n     <use x=\"75.099976\" xlink:href=\"#GuardianSansCond-Regular-30\"/>\n     <use x=\"128.59996\" xlink:href=\"#GuardianSansCond-Regular-38\"/>\n    </g>\n   </g>\n   <g id=\"text_29\">\n    <!-- 0.90 -->\n    <g style=\"fill:#f7fbff;\" transform=\"translate(188.2325 162.92925)scale(0.12 -0.12)\">\n     <use xlink:href=\"#GuardianSansCond-Regular-30\"/>\n     <use x=\"53.499985\" xlink:href=\"#GuardianSansCond-Regular-2e\"/>\n     <use x=\"75.099976\" xlink:href=\"#GuardianSansCond-Regular-39\"/>\n     <use x=\"123.999969\" xlink:href=\"#GuardianSansCond-Regular-30\"/>\n    </g>\n   </g>\n   <g id=\"text_30\">\n    <!-- 0.00 -->\n    <g style=\"fill:#08306b;\" transform=\"translate(242.316875 162.92925)scale(0.12 -0.12)\">\n     <use xlink:href=\"#GuardianSansCond-Regular-30\"/>\n     <use x=\"53.499985\" xlink:href=\"#GuardianSansCond-Regular-2e\"/>\n     <use x=\"75.099976\" xlink:href=\"#GuardianSansCond-Regular-30\"/>\n     <use x=\"128.59996\" xlink:href=\"#GuardianSansCond-Regular-30\"/>\n    </g>\n   </g>\n   <g id=\"text_31\">\n    <!-- 0.00 -->\n    <g style=\"fill:#08306b;\" transform=\"translate(296.676875 162.92925)scale(0.12 -0.12)\">\n     <use xlink:href=\"#GuardianSansCond-Regular-30\"/>\n     <use x=\"53.499985\" xlink:href=\"#GuardianSansCond-Regular-2e\"/>\n     <use x=\"75.099976\" xlink:href=\"#GuardianSansCond-Regular-30\"/>\n     <use x=\"128.59996\" xlink:href=\"#GuardianSansCond-Regular-30\"/>\n    </g>\n   </g>\n   <g id=\"text_32\">\n    <!-- 0.01 -->\n    <g style=\"fill:#08306b;\" transform=\"translate(352.519062 162.92925)scale(0.12 -0.12)\">\n     <use xlink:href=\"#GuardianSansCond-Regular-30\"/>\n     <use x=\"53.499985\" xlink:href=\"#GuardianSansCond-Regular-2e\"/>\n     <use x=\"75.099976\" xlink:href=\"#GuardianSansCond-Regular-30\"/>\n     <use x=\"128.59996\" xlink:href=\"#GuardianSansCond-Regular-31\"/>\n    </g>\n   </g>\n   <g id=\"text_33\">\n    <!-- 0.03 -->\n    <g style=\"fill:#08306b;\" transform=\"translate(79.914687 217.28925)scale(0.12 -0.12)\">\n     <use xlink:href=\"#GuardianSansCond-Regular-30\"/>\n     <use x=\"53.499985\" xlink:href=\"#GuardianSansCond-Regular-2e\"/>\n     <use x=\"75.099976\" xlink:href=\"#GuardianSansCond-Regular-30\"/>\n     <use x=\"128.59996\" xlink:href=\"#GuardianSansCond-Regular-33\"/>\n    </g>\n   </g>\n   <g id=\"text_34\">\n    <!-- 0.02 -->\n    <g style=\"fill:#08306b;\" transform=\"translate(134.256875 217.28925)scale(0.12 -0.12)\">\n     <use xlink:href=\"#GuardianSansCond-Regular-30\"/>\n     <use x=\"53.499985\" xlink:href=\"#GuardianSansCond-Regular-2e\"/>\n     <use x=\"75.099976\" xlink:href=\"#GuardianSansCond-Regular-30\"/>\n     <use x=\"128.59996\" xlink:href=\"#GuardianSansCond-Regular-32\"/>\n    </g>\n   </g>\n   <g id=\"text_35\">\n    <!-- 0.00 -->\n    <g style=\"fill:#08306b;\" transform=\"translate(187.956875 217.28925)scale(0.12 -0.12)\">\n     <use xlink:href=\"#GuardianSansCond-Regular-30\"/>\n     <use x=\"53.499985\" xlink:href=\"#GuardianSansCond-Regular-2e\"/>\n     <use x=\"75.099976\" xlink:href=\"#GuardianSansCond-Regular-30\"/>\n     <use x=\"128.59996\" xlink:href=\"#GuardianSansCond-Regular-30\"/>\n    </g>\n   </g>\n   <g id=\"text_36\">\n    <!-- 0.94 -->\n    <g style=\"fill:#f7fbff;\" transform=\"translate(242.958125 217.28925)scale(0.12 -0.12)\">\n     <use xlink:href=\"#GuardianSansCond-Regular-30\"/>\n     <use x=\"53.499985\" xlink:href=\"#GuardianSansCond-Regular-2e\"/>\n     <use x=\"75.099976\" xlink:href=\"#GuardianSansCond-Regular-39\"/>\n     <use x=\"123.999969\" xlink:href=\"#GuardianSansCond-Regular-34\"/>\n    </g>\n   </g>\n   <g id=\"text_37\">\n    <!-- 0.01 -->\n    <g style=\"fill:#08306b;\" transform=\"translate(298.159062 217.28925)scale(0.12 -0.12)\">\n     <use xlink:href=\"#GuardianSansCond-Regular-30\"/>\n     <use x=\"53.499985\" xlink:href=\"#GuardianSansCond-Regular-2e\"/>\n     <use x=\"75.099976\" xlink:href=\"#GuardianSansCond-Regular-30\"/>\n     <use x=\"128.59996\" xlink:href=\"#GuardianSansCond-Regular-31\"/>\n    </g>\n   </g>\n   <g id=\"text_38\">\n    <!-- 0.00 -->\n    <g style=\"fill:#08306b;\" transform=\"translate(351.036875 217.28925)scale(0.12 -0.12)\">\n     <use xlink:href=\"#GuardianSansCond-Regular-30\"/>\n     <use x=\"53.499985\" xlink:href=\"#GuardianSansCond-Regular-2e\"/>\n     <use x=\"75.099976\" xlink:href=\"#GuardianSansCond-Regular-30\"/>\n     <use x=\"128.59996\" xlink:href=\"#GuardianSansCond-Regular-30\"/>\n    </g>\n   </g>\n   <g id=\"text_39\">\n    <!-- 0.05 -->\n    <g style=\"fill:#08306b;\" transform=\"translate(79.92125 271.64925)scale(0.12 -0.12)\">\n     <use xlink:href=\"#GuardianSansCond-Regular-30\"/>\n     <use x=\"53.499985\" xlink:href=\"#GuardianSansCond-Regular-2e\"/>\n     <use x=\"75.099976\" xlink:href=\"#GuardianSansCond-Regular-30\"/>\n     <use x=\"128.59996\" xlink:href=\"#GuardianSansCond-Regular-35\"/>\n    </g>\n   </g>\n   <g id=\"text_40\">\n    <!-- 0.01 -->\n    <g style=\"fill:#08306b;\" transform=\"translate(135.079062 271.64925)scale(0.12 -0.12)\">\n     <use xlink:href=\"#GuardianSansCond-Regular-30\"/>\n     <use x=\"53.499985\" xlink:href=\"#GuardianSansCond-Regular-2e\"/>\n     <use x=\"75.099976\" xlink:href=\"#GuardianSansCond-Regular-30\"/>\n     <use x=\"128.59996\" xlink:href=\"#GuardianSansCond-Regular-31\"/>\n    </g>\n   </g>\n   <g id=\"text_41\">\n    <!-- 0.00 -->\n    <g style=\"fill:#08306b;\" transform=\"translate(187.956875 271.64925)scale(0.12 -0.12)\">\n     <use xlink:href=\"#GuardianSansCond-Regular-30\"/>\n     <use x=\"53.499985\" xlink:href=\"#GuardianSansCond-Regular-2e\"/>\n     <use x=\"75.099976\" xlink:href=\"#GuardianSansCond-Regular-30\"/>\n     <use x=\"128.59996\" xlink:href=\"#GuardianSansCond-Regular-30\"/>\n    </g>\n   </g>\n   <g id=\"text_42\">\n    <!-- 0.05 -->\n    <g style=\"fill:#08306b;\" transform=\"translate(243.00125 271.64925)scale(0.12 -0.12)\">\n     <use xlink:href=\"#GuardianSansCond-Regular-30\"/>\n     <use x=\"53.499985\" xlink:href=\"#GuardianSansCond-Regular-2e\"/>\n     <use x=\"75.099976\" xlink:href=\"#GuardianSansCond-Regular-30\"/>\n     <use x=\"128.59996\" xlink:href=\"#GuardianSansCond-Regular-35\"/>\n    </g>\n   </g>\n   <g id=\"text_43\">\n    <!-- 0.86 -->\n    <g style=\"fill:#f7fbff;\" transform=\"translate(297.198125 271.64925)scale(0.12 -0.12)\">\n     <defs>\n      <path d=\"M 1632 384 \nC 1082 384 845 915 845 1837 \nL 845 2054 \nC 992 2150 1254 2278 1594 2278 \nC 2086 2278 2323 1984 2323 1357 \nC 2323 742 2086 384 1632 384 \nz\nM 1632 -70 \nC 2438 -70 2886 544 2886 1408 \nC 2886 2234 2490 2746 1754 2746 \nC 1363 2746 1056 2611 845 2445 \nC 877 3853 1440 4038 2029 4038 \nC 2291 4038 2554 3974 2688 3930 \nL 2688 4352 \nC 2547 4442 2272 4499 1958 4499 \nC 1043 4499 275 3981 275 2208 \nL 275 1843 \nC 275 691 717 -70 1632 -70 \nz\n\" id=\"GuardianSansCond-Regular-36\" transform=\"scale(0.015625)\"/>\n     </defs>\n     <use xlink:href=\"#GuardianSansCond-Regular-30\"/>\n     <use x=\"53.499985\" xlink:href=\"#GuardianSansCond-Regular-2e\"/>\n     <use x=\"75.099976\" xlink:href=\"#GuardianSansCond-Regular-38\"/>\n     <use x=\"124.499969\" xlink:href=\"#GuardianSansCond-Regular-36\"/>\n    </g>\n   </g>\n   <g id=\"text_44\">\n    <!-- 0.04 -->\n    <g style=\"fill:#08306b;\" transform=\"translate(351.4025 271.64925)scale(0.12 -0.12)\">\n     <use xlink:href=\"#GuardianSansCond-Regular-30\"/>\n     <use x=\"53.499985\" xlink:href=\"#GuardianSansCond-Regular-2e\"/>\n     <use x=\"75.099976\" xlink:href=\"#GuardianSansCond-Regular-30\"/>\n     <use x=\"128.59996\" xlink:href=\"#GuardianSansCond-Regular-34\"/>\n    </g>\n   </g>\n   <g id=\"text_45\">\n    <!-- 0.01 -->\n    <g style=\"fill:#08306b;\" transform=\"translate(80.719062 326.00925)scale(0.12 -0.12)\">\n     <use xlink:href=\"#GuardianSansCond-Regular-30\"/>\n     <use x=\"53.499985\" xlink:href=\"#GuardianSansCond-Regular-2e\"/>\n     <use x=\"75.099976\" xlink:href=\"#GuardianSansCond-Regular-30\"/>\n     <use x=\"128.59996\" xlink:href=\"#GuardianSansCond-Regular-31\"/>\n    </g>\n   </g>\n   <g id=\"text_46\">\n    <!-- 0.09 -->\n    <g style=\"fill:#08306b;\" transform=\"translate(133.8725 326.00925)scale(0.12 -0.12)\">\n     <use xlink:href=\"#GuardianSansCond-Regular-30\"/>\n     <use x=\"53.499985\" xlink:href=\"#GuardianSansCond-Regular-2e\"/>\n     <use x=\"75.099976\" xlink:href=\"#GuardianSansCond-Regular-30\"/>\n     <use x=\"128.59996\" xlink:href=\"#GuardianSansCond-Regular-39\"/>\n    </g>\n   </g>\n   <g id=\"text_47\">\n    <!-- 0.01 -->\n    <g style=\"fill:#08306b;\" transform=\"translate(189.439063 326.00925)scale(0.12 -0.12)\">\n     <use xlink:href=\"#GuardianSansCond-Regular-30\"/>\n     <use x=\"53.499985\" xlink:href=\"#GuardianSansCond-Regular-2e\"/>\n     <use x=\"75.099976\" xlink:href=\"#GuardianSansCond-Regular-30\"/>\n     <use x=\"128.59996\" xlink:href=\"#GuardianSansCond-Regular-31\"/>\n    </g>\n   </g>\n   <g id=\"text_48\">\n    <!-- 0.00 -->\n    <g style=\"fill:#08306b;\" transform=\"translate(242.316875 326.00925)scale(0.12 -0.12)\">\n     <use xlink:href=\"#GuardianSansCond-Regular-30\"/>\n     <use x=\"53.499985\" xlink:href=\"#GuardianSansCond-Regular-2e\"/>\n     <use x=\"75.099976\" xlink:href=\"#GuardianSansCond-Regular-30\"/>\n     <use x=\"128.59996\" xlink:href=\"#GuardianSansCond-Regular-30\"/>\n    </g>\n   </g>\n   <g id=\"text_49\">\n    <!-- 0.11 -->\n    <g style=\"fill:#08306b;\" transform=\"translate(299.64125 326.00925)scale(0.12 -0.12)\">\n     <use xlink:href=\"#GuardianSansCond-Regular-30\"/>\n     <use x=\"53.499985\" xlink:href=\"#GuardianSansCond-Regular-2e\"/>\n     <use x=\"75.099976\" xlink:href=\"#GuardianSansCond-Regular-31\"/>\n     <use x=\"103.899963\" xlink:href=\"#GuardianSansCond-Regular-31\"/>\n    </g>\n   </g>\n   <g id=\"text_50\">\n    <!-- 0.78 -->\n    <g style=\"fill:#f7fbff;\" transform=\"translate(352.158125 326.00925)scale(0.12 -0.12)\">\n     <defs>\n      <path d=\"M 461 0 \nL 1018 0 \nL 2387 3994 \nL 2387 4435 \nL 109 4435 \nL 109 3974 \nL 1850 3974 \nL 1850 3949 \nL 461 0 \nz\n\" id=\"GuardianSansCond-Regular-37\" transform=\"scale(0.015625)\"/>\n     </defs>\n     <use xlink:href=\"#GuardianSansCond-Regular-30\"/>\n     <use x=\"53.499985\" xlink:href=\"#GuardianSansCond-Regular-2e\"/>\n     <use x=\"75.099976\" xlink:href=\"#GuardianSansCond-Regular-37\"/>\n     <use x=\"113.999969\" xlink:href=\"#GuardianSansCond-Regular-38\"/>\n    </g>\n   </g>\n   <g id=\"text_51\">\n    <!-- Normalized confusion matrix -->\n    <g transform=\"translate(153.087125 17.7705)scale(0.144 -0.144)\">\n     <defs>\n      <path d=\"M 416 0 \nL 909 0 \nL 909 2912 \nC 909 3424 877 3757 877 3757 \nL 896 3757 \nC 896 3757 1050 3322 1274 2822 \nL 2547 0 \nL 3155 0 \nL 3155 4435 \nL 2662 4435 \nL 2662 1568 \nC 2662 1114 2694 762 2694 762 \nL 2682 762 \nC 2682 762 2502 1254 2330 1626 \nL 1094 4435 \nL 416 4435 \nL 416 0 \nz\n\" id=\"GuardianSansCond-Regular-4e\" transform=\"scale(0.015625)\"/>\n      <path d=\"M 346 0 \nL 870 0 \nL 870 2688 \nC 1050 2790 1267 2886 1523 2886 \nC 1856 2886 1971 2758 1971 2464 \nL 1971 0 \nL 2490 0 \nL 2490 2688 \nC 2682 2797 2912 2886 3136 2886 \nC 3488 2886 3590 2746 3590 2464 \nL 3590 0 \nL 4115 0 \nL 4115 2528 \nC 4115 3104 3821 3334 3347 3334 \nC 2995 3334 2688 3187 2419 2995 \nL 2394 2995 \nC 2266 3226 2061 3334 1722 3334 \nC 1395 3334 1088 3181 870 3021 \nL 845 3021 \nL 845 3283 \nL 346 3283 \nL 346 0 \nz\n\" id=\"GuardianSansCond-Regular-6d\" transform=\"scale(0.015625)\"/>\n      <path d=\"M 179 0 \nL 2246 0 \nL 2246 435 \nL 794 435 \nL 794 454 \nL 2259 2918 \nL 2259 3283 \nL 256 3283 \nL 256 2854 \nL 1626 2854 \nL 1626 2835 \nL 179 384 \nL 179 0 \nz\n\" id=\"GuardianSansCond-Regular-7a\" transform=\"scale(0.015625)\"/>\n      <path d=\"M 83 0 \nL 634 0 \nL 1056 813 \nC 1203 1069 1293 1248 1293 1248 \nL 1299 1248 \nC 1299 1248 1376 1114 1523 819 \nL 1939 0 \nL 2515 0 \nL 1613 1670 \nL 2451 3283 \nL 1920 3283 \nL 1549 2515 \nL 1350 2086 \nL 1338 2086 \nC 1338 2086 1274 2208 1120 2509 \nL 717 3283 \nL 128 3283 \nL 1011 1658 \nL 83 0 \nz\n\" id=\"GuardianSansCond-Regular-78\" transform=\"scale(0.015625)\"/>\n     </defs>\n     <use xlink:href=\"#GuardianSansCond-Regular-4e\"/>\n     <use x=\"55.799988\" xlink:href=\"#GuardianSansCond-Regular-6f\"/>\n     <use x=\"101.399979\" xlink:href=\"#GuardianSansCond-Regular-72\"/>\n     <use x=\"130.199966\" xlink:href=\"#GuardianSansCond-Regular-6d\"/>\n     <use x=\"199.699951\" xlink:href=\"#GuardianSansCond-Regular-61\"/>\n     <use x=\"240.599945\" xlink:href=\"#GuardianSansCond-Regular-6c\"/>\n     <use x=\"259.899933\" xlink:href=\"#GuardianSansCond-Regular-69\"/>\n     <use x=\"279.199921\" xlink:href=\"#GuardianSansCond-Regular-7a\"/>\n     <use x=\"317.399918\" xlink:href=\"#GuardianSansCond-Regular-65\"/>\n     <use x=\"360.099915\" xlink:href=\"#GuardianSansCond-Regular-64\"/>\n     <use x=\"406.699905\" xlink:href=\"#GuardianSansCond-Regular-20\"/>\n     <use x=\"422.499893\" xlink:href=\"#GuardianSansCond-Regular-63\"/>\n     <use x=\"460.299881\" xlink:href=\"#GuardianSansCond-Regular-6f\"/>\n     <use x=\"505.899872\" xlink:href=\"#GuardianSansCond-Regular-6e\"/>\n     <use x=\"551.999863\" xlink:href=\"#GuardianSansCond-Regular-66\"/>\n     <use x=\"578.69986\" xlink:href=\"#GuardianSansCond-Regular-75\"/>\n     <use x=\"624.199844\" xlink:href=\"#GuardianSansCond-Regular-73\"/>\n     <use x=\"658.699829\" xlink:href=\"#GuardianSansCond-Regular-69\"/>\n     <use x=\"677.999817\" xlink:href=\"#GuardianSansCond-Regular-6f\"/>\n     <use x=\"723.599808\" xlink:href=\"#GuardianSansCond-Regular-6e\"/>\n     <use x=\"769.699799\" xlink:href=\"#GuardianSansCond-Regular-20\"/>\n     <use x=\"785.499786\" xlink:href=\"#GuardianSansCond-Regular-6d\"/>\n     <use x=\"854.999771\" xlink:href=\"#GuardianSansCond-Regular-61\"/>\n     <use x=\"895.899765\" xlink:href=\"#GuardianSansCond-Regular-74\"/>\n     <use x=\"924.89975\" xlink:href=\"#GuardianSansCond-Regular-72\"/>\n     <use x=\"953.699738\" xlink:href=\"#GuardianSansCond-Regular-69\"/>\n     <use x=\"972.999725\" xlink:href=\"#GuardianSansCond-Regular-78\"/>\n    </g>\n   </g>\n  </g>\n </g>\n <defs>\n  <clipPath id=\"pc9634a6614\">\n   <rect height=\"326.16\" width=\"326.16\" x=\"62.9825\" y=\"23.7705\"/>\n  </clipPath>\n </defs>\n</svg>\n",
            "text/plain": [
              "<Figure size 432x432 with 1 Axes>"
            ]
          },
          "metadata": {
            "needs_background": "light"
          },
          "output_type": "display_data"
        }
      ],
      "source": [
        "plot_confusion_matrix(y_preds, y_valid, labels)"
      ]
    },
    {
      "cell_type": "markdown",
      "metadata": {
        "id": "DHkHJIr7oM30"
      },
      "source": [
        "This is much closer to the ideal diagonal confusion matrix.  The `love` category is still often confused with `joy`, which seems natural. `surprise` is also frequently mistaken for `joy`, or confused with `fear`. Overall the performance of the model seems quite good, but before we call it a day, let's dive a little deeper into the types of errors our model is likely to make."
      ]
    },
    {
      "cell_type": "markdown",
      "metadata": {
        "id": "p-jHUCvAoM30"
      },
      "source": [
        "### Sidebar: Fine-Tuning with Keras"
      ]
    },
    {
      "cell_type": "markdown",
      "metadata": {
        "id": "7OpqXXkGoM30"
      },
      "source": [
        "If you are using TensorFlow, it's also possible to fine-tune your models using the Keras API. The main difference from the PyTorch API is that there is no `Trainer` class, since Keras models already provide a built-in `fit()` method. To see how this works, let's first load  DistilBERT as a TensorFlow model:"
      ]
    },
    {
      "cell_type": "code",
      "execution_count": null,
      "metadata": {
        "id": "hIuYhsEkoM30",
        "outputId": "48e9fe8b-2ade-4e1f-bf2f-bd4bda1e9fd8"
      },
      "outputs": [
        {
          "name": "stderr",
          "output_type": "stream",
          "text": [
            "2021-10-29 15:33:36.938811: W tensorflow/stream_executor/platform/default/dso_loader.cc:64] Could not load dynamic library 'libcudnn.so.8'; dlerror: libcudnn.so.8: cannot open shared object file: No such file or directory\n",
            "2021-10-29 15:33:36.938844: W tensorflow/core/common_runtime/gpu/gpu_device.cc:1835] Cannot dlopen some GPU libraries. Please make sure the missing libraries mentioned above are installed properly if you would like to use GPU. Follow the guide at https://www.tensorflow.org/install/gpu for how to download and setup the required libraries for your platform.\n",
            "Skipping registering GPU devices...\n",
            "2021-10-29 15:33:36.939933: I tensorflow/core/platform/cpu_feature_guard.cc:142] This TensorFlow binary is optimized with oneAPI Deep Neural Network Library (oneDNN) to use the following CPU instructions in performance-critical operations:  AVX2 AVX512F FMA\n",
            "To enable them in other operations, rebuild TensorFlow with the appropriate compiler flags.\n",
            "2021-10-29 15:33:36.962642: W tensorflow/python/util/util.cc:348] Sets are not currently considered sequences, but this may change in the future, so consider avoiding using them.\n"
          ]
        }
      ],
      "source": [
        "#hide_output\n",
        "from transformers import TFAutoModelForSequenceClassification\n",
        "\n",
        "tf_model = (TFAutoModelForSequenceClassification\n",
        "            .from_pretrained(model_ckpt, num_labels=num_labels))"
      ]
    },
    {
      "cell_type": "markdown",
      "metadata": {
        "id": "TC4Mk8yxoM31"
      },
      "source": [
        "Next, we'll convert our datasets into the `tf.data.Dataset` format. Since we have already padded our tokenized inputs, we can do this easily by applying the `to_tf_dataset()` method to `emotions_encoded`:"
      ]
    },
    {
      "cell_type": "code",
      "execution_count": null,
      "metadata": {
        "id": "FGaKolmwoM31"
      },
      "outputs": [],
      "source": [
        "# The column names to convert to TensorFlow tensors\n",
        "tokenizer_columns = tokenizer.model_input_names\n",
        "\n",
        "tf_train_dataset = emotions_encoded[\"train\"].to_tf_dataset(\n",
        "    columns=tokenizer_columns, label_cols=[\"label\"], shuffle=True,\n",
        "    batch_size=batch_size)\n",
        "tf_eval_dataset = emotions_encoded[\"validation\"].to_tf_dataset(\n",
        "    columns=tokenizer_columns, label_cols=[\"label\"], shuffle=False,\n",
        "    batch_size=batch_size)"
      ]
    },
    {
      "cell_type": "markdown",
      "metadata": {
        "id": "0HRFZtRdoM31"
      },
      "source": [
        "Here we've also shuffled the training set, and defined the batch size for it and the validation set. The last thing to do is compile and train the model:"
      ]
    },
    {
      "cell_type": "code",
      "execution_count": null,
      "metadata": {
        "id": "1yP8vNXzoM31",
        "outputId": "1839e375-5e5e-4ea7-8cff-8053b0e6f90e"
      },
      "outputs": [
        {
          "name": "stderr",
          "output_type": "stream",
          "text": [
            "2021-10-29 15:36:00.548707: I tensorflow/compiler/mlir/mlir_graph_optimization_pass.cc:185] None of the MLIR Optimization Passes are enabled (registered 2)\n"
          ]
        },
        {
          "name": "stdout",
          "output_type": "stream",
          "text": [
            "Epoch 1/2\n",
            "250/250 [==============================] - 478s 2s/step - loss: 0.5379 - sparse_categorical_accuracy: 0.8138 - val_loss: 0.1452 - val_sparse_categorical_accuracy: 0.9430\n",
            "Epoch 2/2\n",
            "250/250 [==============================] - 471s 2s/step - loss: 0.1424 - sparse_categorical_accuracy: 0.9415 - val_loss: 0.1512 - val_sparse_categorical_accuracy: 0.9335\n"
          ]
        },
        {
          "data": {
            "text/plain": [
              "<keras.callbacks.History>"
            ]
          },
          "execution_count": null,
          "metadata": {},
          "output_type": "execute_result"
        }
      ],
      "source": [
        "#hide_output\n",
        "import tensorflow as tf\n",
        "\n",
        "tf_model.compile(\n",
        "    optimizer=tf.keras.optimizers.Adam(learning_rate=5e-5),\n",
        "    loss=tf.keras.losses.SparseCategoricalCrossentropy(from_logits=True),\n",
        "    metrics=tf.metrics.SparseCategoricalAccuracy())\n",
        "\n",
        "tf_model.fit(tf_train_dataset, validation_data=tf_eval_dataset, epochs=2)"
      ]
    },
    {
      "cell_type": "markdown",
      "metadata": {
        "id": "jTMeGdN0oM31"
      },
      "source": [
        "### End sidebar"
      ]
    },
    {
      "cell_type": "markdown",
      "metadata": {
        "id": "iPRl_MXxoM31"
      },
      "source": [
        "#### Error analysis"
      ]
    },
    {
      "cell_type": "markdown",
      "metadata": {
        "id": "O9sp9AK9oM32"
      },
      "source": [
        "Before moving on, we should investigate our model's predictions a little bit further. A simple yet powerful technique is to sort the validation samples by the model loss. When we pass the label during the forward pass, the loss is automatically calculated and returned. Here's a function that returns the loss along with the predicted label:"
      ]
    },
    {
      "cell_type": "code",
      "execution_count": null,
      "metadata": {
        "id": "rEB7QmxloM32"
      },
      "outputs": [],
      "source": [
        "from torch.nn.functional import cross_entropy\n",
        "\n",
        "def forward_pass_with_label(batch):\n",
        "    # Place all input tensors on the same device as the model\n",
        "    inputs = {k:v.to(device) for k,v in batch.items()\n",
        "              if k in tokenizer.model_input_names}\n",
        "\n",
        "    with torch.no_grad():\n",
        "        output = model(**inputs)\n",
        "        pred_label = torch.argmax(output.logits, axis=-1)\n",
        "        loss = cross_entropy(output.logits, batch[\"label\"].to(device),\n",
        "                             reduction=\"none\")\n",
        "\n",
        "    # Place outputs on CPU for compatibility with other dataset columns\n",
        "    return {\"loss\": loss.cpu().numpy(),\n",
        "            \"predicted_label\": pred_label.cpu().numpy()}"
      ]
    },
    {
      "cell_type": "markdown",
      "metadata": {
        "id": "BcL4OdZWoM32"
      },
      "source": [
        "Using the `map()` method once more, we can apply this function to get the losses for all the samples:"
      ]
    },
    {
      "cell_type": "code",
      "execution_count": null,
      "metadata": {
        "id": "7NY7hzRMoM32",
        "outputId": "6c65fd93-bfcd-4850-f189-583e31fa754a",
        "colab": {
          "referenced_widgets": [
            "6004443ac1344ee18d40c8a90c1178f4"
          ]
        }
      },
      "outputs": [
        {
          "data": {
            "application/vnd.jupyter.widget-view+json": {
              "model_id": "6004443ac1344ee18d40c8a90c1178f4",
              "version_major": 2,
              "version_minor": 0
            },
            "text/plain": [
              "  0%|          | 0/125 [00:00<?, ?ba/s]"
            ]
          },
          "metadata": {},
          "output_type": "display_data"
        }
      ],
      "source": [
        "#hide_output\n",
        "# Convert our dataset back to PyTorch tensors\n",
        "emotions_encoded.set_format(\"torch\",\n",
        "                            columns=[\"input_ids\", \"attention_mask\", \"label\"])\n",
        "# Compute loss values\n",
        "emotions_encoded[\"validation\"] = emotions_encoded[\"validation\"].map(\n",
        "    forward_pass_with_label, batched=True, batch_size=16)"
      ]
    },
    {
      "cell_type": "markdown",
      "metadata": {
        "id": "dTB4Phg9oM32"
      },
      "source": [
        "Finally, we create a `DataFrame` with the texts, losses, and predicted/true labels:"
      ]
    },
    {
      "cell_type": "code",
      "execution_count": null,
      "metadata": {
        "id": "nCLNAlmqoM32"
      },
      "outputs": [],
      "source": [
        "emotions_encoded.set_format(\"pandas\")\n",
        "cols = [\"text\", \"label\", \"predicted_label\", \"loss\"]\n",
        "df_test = emotions_encoded[\"validation\"][:][cols]\n",
        "df_test[\"label\"] = df_test[\"label\"].apply(label_int2str)\n",
        "df_test[\"predicted_label\"] = (df_test[\"predicted_label\"]\n",
        "                              .apply(label_int2str))"
      ]
    },
    {
      "cell_type": "markdown",
      "metadata": {
        "id": "hAyDG0MWoM32"
      },
      "source": [
        "We can now easily sort `emotions_encoded` by the losses in either ascending or descending order. The goal of this exercise is to detect one of the following:\n",
        "\n",
        "- _Wrong labels_:: Every process that adds labels to data can be flawed. Annotators can make mistakes or disagree, while labels that are inferred from other features can be wrong. If it was easy to automatically annotate data, then we would not need a model to do it. Thus, it is normal that there are some wrongly labeled examples. With this approach, we can quickly find and correct them.\n",
        "\n",
        "- _Quirks of the dataset_:: Datasets in the real world are always a bit messy. When working with text, special characters or strings in the inputs can have a big impact on the model's predictions. Inspecting the model's weakest predictions can help identify such features, and cleaning the data or injecting similar examples can make the model more robust.\n",
        "\n",
        "Let's first have a look at the data samples with the highest losses:"
      ]
    },
    {
      "cell_type": "code",
      "execution_count": null,
      "metadata": {
        "id": "t7lrl1QToM32",
        "outputId": "9ace9c0b-d208-4f0e-b74d-8c829fe841ee"
      },
      "outputs": [
        {
          "data": {
            "text/html": [
              "<div>\n",
              "<style scoped>\n",
              "    .dataframe tbody tr th:only-of-type {\n",
              "        vertical-align: middle;\n",
              "    }\n",
              "\n",
              "    .dataframe tbody tr th {\n",
              "        vertical-align: top;\n",
              "    }\n",
              "\n",
              "    .dataframe thead th {\n",
              "        text-align: right;\n",
              "    }\n",
              "</style>\n",
              "<table border=\"1\" class=\"dataframe\">\n",
              "  <thead>\n",
              "    <tr style=\"text-align: right;\">\n",
              "      <th></th>\n",
              "      <th>text</th>\n",
              "      <th>label</th>\n",
              "      <th>predicted_label</th>\n",
              "      <th>loss</th>\n",
              "    </tr>\n",
              "  </thead>\n",
              "  <tbody>\n",
              "    <tr>\n",
              "      <th>1801</th>\n",
              "      <td>i feel that he was being overshadowed by the s...</td>\n",
              "      <td>love</td>\n",
              "      <td>sadness</td>\n",
              "      <td>5.704531</td>\n",
              "    </tr>\n",
              "    <tr>\n",
              "      <th>1963</th>\n",
              "      <td>i called myself pro life and voted for perry w...</td>\n",
              "      <td>joy</td>\n",
              "      <td>sadness</td>\n",
              "      <td>5.484461</td>\n",
              "    </tr>\n",
              "    <tr>\n",
              "      <th>1870</th>\n",
              "      <td>i guess i feel betrayed because i admired him ...</td>\n",
              "      <td>joy</td>\n",
              "      <td>sadness</td>\n",
              "      <td>5.434768</td>\n",
              "    </tr>\n",
              "    <tr>\n",
              "      <th>882</th>\n",
              "      <td>i feel badly about reneging on my commitment t...</td>\n",
              "      <td>love</td>\n",
              "      <td>sadness</td>\n",
              "      <td>5.257482</td>\n",
              "    </tr>\n",
              "    <tr>\n",
              "      <th>1950</th>\n",
              "      <td>i as representative of everything thats wrong ...</td>\n",
              "      <td>surprise</td>\n",
              "      <td>sadness</td>\n",
              "      <td>4.827708</td>\n",
              "    </tr>\n",
              "    <tr>\n",
              "      <th>1509</th>\n",
              "      <td>i guess this is a memoir so it feels like that...</td>\n",
              "      <td>joy</td>\n",
              "      <td>fear</td>\n",
              "      <td>4.713047</td>\n",
              "    </tr>\n",
              "    <tr>\n",
              "      <th>1274</th>\n",
              "      <td>i am going to several holiday parties and i ca...</td>\n",
              "      <td>joy</td>\n",
              "      <td>sadness</td>\n",
              "      <td>4.704955</td>\n",
              "    </tr>\n",
              "    <tr>\n",
              "      <th>318</th>\n",
              "      <td>i felt ashamed of these feelings and was scare...</td>\n",
              "      <td>fear</td>\n",
              "      <td>sadness</td>\n",
              "      <td>4.656096</td>\n",
              "    </tr>\n",
              "    <tr>\n",
              "      <th>1500</th>\n",
              "      <td>i guess we would naturally feel a sense of lon...</td>\n",
              "      <td>anger</td>\n",
              "      <td>sadness</td>\n",
              "      <td>4.593202</td>\n",
              "    </tr>\n",
              "    <tr>\n",
              "      <th>1111</th>\n",
              "      <td>im lazy my characters fall into categories of ...</td>\n",
              "      <td>joy</td>\n",
              "      <td>fear</td>\n",
              "      <td>4.311287</td>\n",
              "    </tr>\n",
              "  </tbody>\n",
              "</table>\n",
              "</div>"
            ],
            "text/plain": [
              "                                                   text     label  \\\n",
              "1801  i feel that he was being overshadowed by the s...      love   \n",
              "1963  i called myself pro life and voted for perry w...       joy   \n",
              "1870  i guess i feel betrayed because i admired him ...       joy   \n",
              "882   i feel badly about reneging on my commitment t...      love   \n",
              "1950  i as representative of everything thats wrong ...  surprise   \n",
              "1509  i guess this is a memoir so it feels like that...       joy   \n",
              "1274  i am going to several holiday parties and i ca...       joy   \n",
              "318   i felt ashamed of these feelings and was scare...      fear   \n",
              "1500  i guess we would naturally feel a sense of lon...     anger   \n",
              "1111  im lazy my characters fall into categories of ...       joy   \n",
              "\n",
              "     predicted_label      loss  \n",
              "1801         sadness  5.704531  \n",
              "1963         sadness  5.484461  \n",
              "1870         sadness  5.434768  \n",
              "882          sadness  5.257482  \n",
              "1950         sadness  4.827708  \n",
              "1509            fear  4.713047  \n",
              "1274         sadness  4.704955  \n",
              "318          sadness  4.656096  \n",
              "1500         sadness  4.593202  \n",
              "1111            fear  4.311287  "
            ]
          },
          "execution_count": null,
          "metadata": {},
          "output_type": "execute_result"
        }
      ],
      "source": [
        "#hide_output\n",
        "df_test.sort_values(\"loss\", ascending=False).head(10)"
      ]
    },
    {
      "cell_type": "markdown",
      "metadata": {
        "id": "x5BwZ4fdoM32"
      },
      "source": [
        "We can clearly see that the model predicted some of the labels incorrectly. On the other hand, it seems that there are quite a few examples with no clear class, which might be either mislabeled or require a new class altogether. In particular, `joy` seems to be mislabeled several times. With this information we can refine the dataset, which often can lead to as big a performance gain (or more) as having more data or larger models!"
      ]
    },
    {
      "cell_type": "markdown",
      "metadata": {
        "id": "23eKD_cDoM33"
      },
      "source": [
        "When looking at the samples with the lowest losses, we observe that the model seems to be most confident when predicting the `sadness` class. Deep learning models are exceptionally good at finding and exploiting shortcuts to get to a prediction. For this reason, it is also worth investing time into looking at the examples that the model is most confident about, so that we can be confident that the model does not improperly exploit certain features of the text. So, let's also look at the predictions with the smallest loss:"
      ]
    },
    {
      "cell_type": "code",
      "execution_count": null,
      "metadata": {
        "id": "u6NdjVcsoM33",
        "outputId": "1f8d16de-9e78-4da9-f5b9-ac85a579be9b"
      },
      "outputs": [
        {
          "data": {
            "text/html": [
              "<div>\n",
              "<style scoped>\n",
              "    .dataframe tbody tr th:only-of-type {\n",
              "        vertical-align: middle;\n",
              "    }\n",
              "\n",
              "    .dataframe tbody tr th {\n",
              "        vertical-align: top;\n",
              "    }\n",
              "\n",
              "    .dataframe thead th {\n",
              "        text-align: right;\n",
              "    }\n",
              "</style>\n",
              "<table border=\"1\" class=\"dataframe\">\n",
              "  <thead>\n",
              "    <tr style=\"text-align: right;\">\n",
              "      <th></th>\n",
              "      <th>text</th>\n",
              "      <th>label</th>\n",
              "      <th>predicted_label</th>\n",
              "      <th>loss</th>\n",
              "    </tr>\n",
              "  </thead>\n",
              "  <tbody>\n",
              "    <tr>\n",
              "      <th>21</th>\n",
              "      <td>i feel try to tell me im ungrateful tell me im...</td>\n",
              "      <td>sadness</td>\n",
              "      <td>sadness</td>\n",
              "      <td>0.017331</td>\n",
              "    </tr>\n",
              "    <tr>\n",
              "      <th>244</th>\n",
              "      <td>im kinda relieve but at the same time i feel d...</td>\n",
              "      <td>sadness</td>\n",
              "      <td>sadness</td>\n",
              "      <td>0.017392</td>\n",
              "    </tr>\n",
              "    <tr>\n",
              "      <th>133</th>\n",
              "      <td>i and feel quite ungrateful for it but i m loo...</td>\n",
              "      <td>sadness</td>\n",
              "      <td>sadness</td>\n",
              "      <td>0.017400</td>\n",
              "    </tr>\n",
              "    <tr>\n",
              "      <th>392</th>\n",
              "      <td>i remember feeling disheartened one day when w...</td>\n",
              "      <td>sadness</td>\n",
              "      <td>sadness</td>\n",
              "      <td>0.017461</td>\n",
              "    </tr>\n",
              "    <tr>\n",
              "      <th>1310</th>\n",
              "      <td>i feel like an ungrateful asshole</td>\n",
              "      <td>sadness</td>\n",
              "      <td>sadness</td>\n",
              "      <td>0.017485</td>\n",
              "    </tr>\n",
              "    <tr>\n",
              "      <th>189</th>\n",
              "      <td>i leave the meeting feeling more than a little...</td>\n",
              "      <td>sadness</td>\n",
              "      <td>sadness</td>\n",
              "      <td>0.017670</td>\n",
              "    </tr>\n",
              "    <tr>\n",
              "      <th>1120</th>\n",
              "      <td>i am feeling a little disheartened</td>\n",
              "      <td>sadness</td>\n",
              "      <td>sadness</td>\n",
              "      <td>0.017685</td>\n",
              "    </tr>\n",
              "    <tr>\n",
              "      <th>783</th>\n",
              "      <td>i feel like i deserve to be broke with how fri...</td>\n",
              "      <td>sadness</td>\n",
              "      <td>sadness</td>\n",
              "      <td>0.017888</td>\n",
              "    </tr>\n",
              "    <tr>\n",
              "      <th>1368</th>\n",
              "      <td>i started this blog with pure intentions i mus...</td>\n",
              "      <td>sadness</td>\n",
              "      <td>sadness</td>\n",
              "      <td>0.017899</td>\n",
              "    </tr>\n",
              "    <tr>\n",
              "      <th>1466</th>\n",
              "      <td>i feel so ungrateful to be wishing this pregna...</td>\n",
              "      <td>sadness</td>\n",
              "      <td>sadness</td>\n",
              "      <td>0.017913</td>\n",
              "    </tr>\n",
              "  </tbody>\n",
              "</table>\n",
              "</div>"
            ],
            "text/plain": [
              "                                                   text    label  \\\n",
              "21    i feel try to tell me im ungrateful tell me im...  sadness   \n",
              "244   im kinda relieve but at the same time i feel d...  sadness   \n",
              "133   i and feel quite ungrateful for it but i m loo...  sadness   \n",
              "392   i remember feeling disheartened one day when w...  sadness   \n",
              "1310                  i feel like an ungrateful asshole  sadness   \n",
              "189   i leave the meeting feeling more than a little...  sadness   \n",
              "1120                 i am feeling a little disheartened  sadness   \n",
              "783   i feel like i deserve to be broke with how fri...  sadness   \n",
              "1368  i started this blog with pure intentions i mus...  sadness   \n",
              "1466  i feel so ungrateful to be wishing this pregna...  sadness   \n",
              "\n",
              "     predicted_label      loss  \n",
              "21           sadness  0.017331  \n",
              "244          sadness  0.017392  \n",
              "133          sadness  0.017400  \n",
              "392          sadness  0.017461  \n",
              "1310         sadness  0.017485  \n",
              "189          sadness  0.017670  \n",
              "1120         sadness  0.017685  \n",
              "783          sadness  0.017888  \n",
              "1368         sadness  0.017899  \n",
              "1466         sadness  0.017913  "
            ]
          },
          "execution_count": null,
          "metadata": {},
          "output_type": "execute_result"
        }
      ],
      "source": [
        "#hide_output\n",
        "df_test.sort_values(\"loss\", ascending=True).head(10)"
      ]
    },
    {
      "cell_type": "markdown",
      "metadata": {
        "id": "g3aiqDsEoM33"
      },
      "source": [
        "We now know that the `joy` is sometimes mislabeled and that the model is most confident about predicting the label `sadness`. With this information we can make targeted improvements to our dataset, and also keep an eye on the class the model seems to be very confident about.\n",
        "\n",
        "The last step before serving the trained model is to save it for later usage. image:images/logo.png[hf,13,13] Transformers allows us to do this in a few steps, which we'll show you in the next section."
      ]
    },
    {
      "cell_type": "markdown",
      "metadata": {
        "id": "5itiYmtAoM33"
      },
      "source": [
        "#### Saving and sharing the model"
      ]
    },
    {
      "cell_type": "markdown",
      "metadata": {
        "id": "vUi_Ufc9oM33"
      },
      "source": [
        "\n",
        "The NLP community benefits greatly from sharing pretrained and fine-tuned models, and everybody can share their models with others via the Hugging Face Hub. Any community-generated model can be downloaded from the Hub just like we downloaded the DistilBERT model. With the `Trainer` API, saving and sharing a model is simple:"
      ]
    },
    {
      "cell_type": "code",
      "execution_count": null,
      "metadata": {
        "id": "GYL625O8oM33",
        "outputId": "80311cec-82fa-4acd-95b9-e75f078911b9"
      },
      "outputs": [
        {
          "data": {
            "text/plain": [
              "'https://huggingface.co/lewtun/distilbert-base-uncased-finetuned-emotion/commit/352c4147e4754f73a0b41f7b175f4a907270c9c9'"
            ]
          },
          "execution_count": null,
          "metadata": {},
          "output_type": "execute_result"
        }
      ],
      "source": [
        "#hide_output\n",
        "trainer.push_to_hub(commit_message=\"Training completed!\")"
      ]
    },
    {
      "cell_type": "markdown",
      "metadata": {
        "id": "HnhXyROGoM33"
      },
      "source": [
        "We can also use the fine-tuned model to make predictions on new tweets. Since we've pushed our model to the Hub, we can now use it with the `pipeline()` function, just like we did in <<chapter_introduction>>. First, let's load the pipeline:"
      ]
    },
    {
      "cell_type": "code",
      "execution_count": null,
      "metadata": {
        "id": "PuqGSqyRoM33"
      },
      "outputs": [],
      "source": [
        "#hide_output\n",
        "from transformers import pipeline\n",
        "\n",
        "# Change `transformersbook` to your Hub username\n",
        "model_id = \"transformersbook/distilbert-base-uncased-finetuned-emotion\"\n",
        "classifier = pipeline(\"text-classification\", model=model_id)"
      ]
    },
    {
      "cell_type": "markdown",
      "metadata": {
        "id": "a5Ymn77toM33"
      },
      "source": [
        "Then let's test the pipeline with a sample tweet:"
      ]
    },
    {
      "cell_type": "code",
      "execution_count": null,
      "metadata": {
        "id": "-QdMYSfvoM33"
      },
      "outputs": [],
      "source": [
        "custom_tweet = \"I saw a movie today and it was really good.\"\n",
        "preds = classifier(custom_tweet, return_all_scores=True)"
      ]
    },
    {
      "cell_type": "markdown",
      "metadata": {
        "id": "lgcXG3yJoM34"
      },
      "source": [
        "Finally, we can plot the probability for each class in a bar plot. Clearly, the model estimates that the most likely class is `joy`, which appears to be reasonable given the tweet:"
      ]
    },
    {
      "cell_type": "code",
      "execution_count": null,
      "metadata": {
        "id": "HMfRRlVgoM34",
        "outputId": "cde78152-bd64-4254-f1fc-9ec7480c6ae8"
      },
      "outputs": [
        {
          "data": {
            "application/pdf": "[encoded data removed]",
            "image/svg+xml": "<?xml version=\"1.0\" encoding=\"utf-8\" standalone=\"no\"?>\n<!DOCTYPE svg PUBLIC \"-//W3C//DTD SVG 1.1//EN\"\n  \"http://www.w3.org/Graphics/SVG/1.1/DTD/svg11.dtd\">\n<svg height=\"266.5105pt\" version=\"1.1\" viewBox=\"0 0 387.66875 266.5105\" width=\"387.66875pt\" xmlns=\"http://www.w3.org/2000/svg\" xmlns:xlink=\"http://www.w3.org/1999/xlink\">\n <metadata>\n  <rdf:RDF xmlns:cc=\"http://creativecommons.org/ns#\" xmlns:dc=\"http://purl.org/dc/elements/1.1/\" xmlns:rdf=\"http://www.w3.org/1999/02/22-rdf-syntax-ns#\">\n   <cc:Work>\n    <dc:type rdf:resource=\"http://purl.org/dc/dcmitype/StillImage\"/>\n    <dc:date>2021-10-23T17:10:05.056089</dc:date>\n    <dc:format>image/svg+xml</dc:format>\n    <dc:creator>\n     <cc:Agent>\n      <dc:title>Matplotlib v3.4.3, https://matplotlib.org/</dc:title>\n     </cc:Agent>\n    </dc:creator>\n   </cc:Work>\n  </rdf:RDF>\n </metadata>\n <defs>\n  <style type=\"text/css\">*{stroke-linecap:butt;stroke-linejoin:round;}</style>\n </defs>\n <g id=\"figure_1\">\n  <g id=\"patch_1\">\n   <path d=\"M 0 266.5105 \nL 387.66875 266.5105 \nL 387.66875 0 \nL 0 0 \nz\n\" style=\"fill:none;\"/>\n  </g>\n  <g id=\"axes_1\">\n   <g id=\"patch_2\">\n    <path d=\"M 45.66875 241.2105 \nL 380.46875 241.2105 \nL 380.46875 23.7705 \nL 45.66875 23.7705 \nz\n\" style=\"fill:#ffffff;\"/>\n   </g>\n   <g id=\"patch_3\">\n    <path clip-path=\"url(#p0277c6ab7c)\" d=\"M 60.886932 241.2105 \nL 102.868123 241.2105 \nL 102.868123 238.565264 \nL 60.886932 238.565264 \nz\n\" style=\"fill:#0071bc;\"/>\n   </g>\n   <g id=\"patch_4\">\n    <path clip-path=\"url(#p0277c6ab7c)\" d=\"M 113.363421 241.2105 \nL 155.344612 241.2105 \nL 155.344612 34.124786 \nL 113.363421 34.124786 \nz\n\" style=\"fill:#0071bc;\"/>\n   </g>\n   <g id=\"patch_5\">\n    <path clip-path=\"url(#p0277c6ab7c)\" d=\"M 165.83991 241.2105 \nL 207.821101 241.2105 \nL 207.821101 238.348227 \nL 165.83991 238.348227 \nz\n\" style=\"fill:#0071bc;\"/>\n   </g>\n   <g id=\"patch_6\">\n    <path clip-path=\"url(#p0277c6ab7c)\" d=\"M 218.316399 241.2105 \nL 260.29759 241.2105 \nL 260.29759 240.022391 \nL 218.316399 240.022391 \nz\n\" style=\"fill:#0071bc;\"/>\n   </g>\n   <g id=\"patch_7\">\n    <path clip-path=\"url(#p0277c6ab7c)\" d=\"M 270.792888 241.2105 \nL 312.774079 241.2105 \nL 312.774079 239.92348 \nL 270.792888 239.92348 \nz\n\" style=\"fill:#0071bc;\"/>\n   </g>\n   <g id=\"patch_8\">\n    <path clip-path=\"url(#p0277c6ab7c)\" d=\"M 323.269377 241.2105 \nL 365.250568 241.2105 \nL 365.250568 239.080111 \nL 323.269377 239.080111 \nz\n\" style=\"fill:#0071bc;\"/>\n   </g>\n   <g id=\"matplotlib.axis_1\">\n    <g id=\"xtick_1\">\n     <g id=\"line2d_1\">\n      <defs>\n       <path d=\"M 0 0 \nL 0 3.5 \n\" id=\"m1a205a24a8\" style=\"stroke:#000000;stroke-width:0.8;\"/>\n      </defs>\n      <g>\n       <use style=\"stroke:#000000;stroke-width:0.8;\" x=\"81.877527\" xlink:href=\"#m1a205a24a8\" y=\"241.2105\"/>\n      </g>\n     </g>\n     <g id=\"text_1\">\n      <!-- sadness -->\n      <g transform=\"translate(65.089715 257.01925)scale(0.12 -0.12)\">\n       <defs>\n        <path d=\"M 992 -51 \nC 1658 -51 2054 307 2054 947 \nC 2054 1485 1818 1709 1306 1888 \nL 1050 1978 \nC 768 2074 659 2195 659 2451 \nC 659 2771 864 2893 1222 2893 \nC 1517 2893 1760 2810 1914 2739 \nL 1914 3168 \nC 1773 3251 1568 3334 1197 3334 \nC 531 3334 160 2982 160 2406 \nC 160 1901 422 1658 826 1517 \nL 1082 1427 \nC 1408 1312 1536 1184 1536 896 \nC 1536 582 1370 390 934 390 \nC 582 390 358 480 154 563 \nL 154 141 \nC 358 19 640 -51 992 -51 \nz\n\" id=\"GuardianSansCond-Regular-73\" transform=\"scale(0.015625)\"/>\n        <path d=\"M 1082 -51 \nC 1395 -51 1638 77 1779 230 \nL 1811 230 \nL 1862 0 \nL 2291 0 \nL 2291 2413 \nC 2291 3027 1958 3334 1293 3334 \nC 915 3334 634 3258 410 3155 \nL 410 2771 \nC 576 2829 806 2886 1094 2886 \nC 1600 2886 1766 2739 1766 2278 \nL 1766 1958 \nL 1088 1856 \nC 480 1766 160 1466 160 883 \nC 160 250 525 -51 1082 -51 \nz\nM 1222 358 \nC 877 358 704 544 704 915 \nC 704 1274 877 1440 1242 1485 \nL 1766 1549 \nL 1766 525 \nC 1658 435 1459 358 1222 358 \nz\n\" id=\"GuardianSansCond-Regular-61\" transform=\"scale(0.015625)\"/>\n        <path d=\"M 1357 -51 \nC 1690 -51 1965 77 2125 243 \nL 2150 243 \nL 2195 0 \nL 2637 0 \nL 2637 4698 \nL 2118 4698 \nL 2118 3174 \nC 1978 3264 1734 3334 1466 3334 \nC 634 3334 198 2739 198 1670 \nL 198 1523 \nC 198 339 723 -51 1357 -51 \nz\nM 1504 378 \nC 992 378 742 749 742 1542 \nL 742 1728 \nC 742 2541 979 2893 1536 2893 \nC 1779 2893 2003 2835 2118 2758 \nL 2118 595 \nC 1984 493 1773 378 1504 378 \nz\n\" id=\"GuardianSansCond-Regular-64\" transform=\"scale(0.015625)\"/>\n        <path d=\"M 346 0 \nL 870 0 \nL 870 2688 \nC 1037 2778 1306 2886 1587 2886 \nC 1965 2886 2093 2765 2093 2458 \nL 2093 0 \nL 2611 0 \nL 2611 2528 \nC 2611 3085 2342 3334 1811 3334 \nC 1440 3334 1107 3194 870 3021 \nL 845 3021 \nL 845 3283 \nL 346 3283 \nL 346 0 \nz\n\" id=\"GuardianSansCond-Regular-6e\" transform=\"scale(0.015625)\"/>\n        <path d=\"M 1555 -51 \nC 1984 -51 2317 102 2470 243 \nL 2470 627 \nC 2240 499 1965 397 1613 397 \nC 1037 397 742 698 723 1466 \nL 2554 1466 \nL 2554 1798 \nC 2554 2893 2176 3334 1402 3334 \nC 659 3334 186 2810 186 1722 \nL 186 1549 \nC 186 499 634 -51 1555 -51 \nz\nM 1382 2906 \nC 1830 2906 2010 2611 2010 1894 \nL 723 1894 \nC 736 2630 992 2906 1382 2906 \nz\n\" id=\"GuardianSansCond-Regular-65\" transform=\"scale(0.015625)\"/>\n       </defs>\n       <use xlink:href=\"#GuardianSansCond-Regular-73\"/>\n       <use x=\"34.499985\" xlink:href=\"#GuardianSansCond-Regular-61\"/>\n       <use x=\"75.399979\" xlink:href=\"#GuardianSansCond-Regular-64\"/>\n       <use x=\"121.999969\" xlink:href=\"#GuardianSansCond-Regular-6e\"/>\n       <use x=\"168.09996\" xlink:href=\"#GuardianSansCond-Regular-65\"/>\n       <use x=\"210.799957\" xlink:href=\"#GuardianSansCond-Regular-73\"/>\n       <use x=\"245.299942\" xlink:href=\"#GuardianSansCond-Regular-73\"/>\n      </g>\n     </g>\n    </g>\n    <g id=\"xtick_2\">\n     <g id=\"line2d_2\">\n      <g>\n       <use style=\"stroke:#000000;stroke-width:0.8;\" x=\"134.354016\" xlink:href=\"#m1a205a24a8\" y=\"241.2105\"/>\n      </g>\n     </g>\n     <g id=\"text_2\">\n      <!-- joy -->\n      <g transform=\"translate(127.981829 256.946125)scale(0.12 -0.12)\">\n       <defs>\n        <path d=\"M 83 -1261 \nC 666 -1261 870 -870 870 -352 \nL 870 3283 \nL 352 3283 \nL 352 -326 \nC 352 -678 218 -826 -58 -826 \nC -160 -826 -262 -806 -339 -794 \nL -339 -1158 \nC -237 -1222 -109 -1261 83 -1261 \nz\nM 346 3910 \nL 877 3910 \nL 877 4474 \nL 346 4474 \nL 346 3910 \nz\n\" id=\"GuardianSansCond-Regular-6a\" transform=\"scale(0.015625)\"/>\n        <path d=\"M 1459 -51 \nC 2272 -51 2733 570 2733 1542 \nL 2733 1747 \nC 2733 2771 2291 3334 1459 3334 \nC 659 3334 186 2714 186 1741 \nL 186 1530 \nC 186 531 614 -51 1459 -51 \nz\nM 1466 378 \nC 992 378 723 762 723 1472 \nL 723 1818 \nC 723 2451 947 2906 1453 2906 \nC 1920 2906 2195 2560 2195 1805 \nL 2195 1466 \nC 2195 826 1958 378 1466 378 \nz\n\" id=\"GuardianSansCond-Regular-6f\" transform=\"scale(0.015625)\"/>\n        <path d=\"M 570 -1261 \nC 1082 -1261 1306 -960 1485 -365 \nL 2592 3283 \nL 2067 3283 \nL 1485 1197 \nC 1421 992 1376 787 1376 787 \nL 1363 787 \nC 1363 787 1331 928 1248 1203 \nL 621 3283 \nL 51 3283 \nL 1120 13 \nL 1018 -294 \nC 896 -698 749 -826 480 -826 \nC 384 -826 262 -813 186 -800 \nL 186 -1171 \nC 282 -1222 435 -1261 570 -1261 \nz\n\" id=\"GuardianSansCond-Regular-79\" transform=\"scale(0.015625)\"/>\n       </defs>\n       <use xlink:href=\"#GuardianSansCond-Regular-6a\"/>\n       <use x=\"19.199997\" xlink:href=\"#GuardianSansCond-Regular-6f\"/>\n       <use x=\"64.799988\" xlink:href=\"#GuardianSansCond-Regular-79\"/>\n      </g>\n     </g>\n    </g>\n    <g id=\"xtick_3\">\n     <g id=\"line2d_3\">\n      <g>\n       <use style=\"stroke:#000000;stroke-width:0.8;\" x=\"186.830505\" xlink:href=\"#m1a205a24a8\" y=\"241.2105\"/>\n      </g>\n     </g>\n     <g id=\"text_3\">\n      <!-- love -->\n      <g transform=\"translate(177.860505 257.01925)scale(0.12 -0.12)\">\n       <defs>\n        <path d=\"M 358 0 \nL 877 0 \nL 877 4698 \nL 358 4698 \nL 358 0 \nz\n\" id=\"GuardianSansCond-Regular-6c\" transform=\"scale(0.015625)\"/>\n        <path d=\"M 1075 0 \nL 1613 0 \nL 2605 3283 \nL 2093 3283 \nL 1504 1190 \nC 1421 870 1370 653 1370 653 \nL 1344 653 \nC 1344 653 1299 877 1216 1190 \nL 627 3283 \nL 70 3283 \nL 1075 0 \nz\n\" id=\"GuardianSansCond-Regular-76\" transform=\"scale(0.015625)\"/>\n       </defs>\n       <use xlink:href=\"#GuardianSansCond-Regular-6c\"/>\n       <use x=\"19.299988\" xlink:href=\"#GuardianSansCond-Regular-6f\"/>\n       <use x=\"64.899979\" xlink:href=\"#GuardianSansCond-Regular-76\"/>\n       <use x=\"106.799973\" xlink:href=\"#GuardianSansCond-Regular-65\"/>\n      </g>\n     </g>\n    </g>\n    <g id=\"xtick_4\">\n     <g id=\"line2d_4\">\n      <g>\n       <use style=\"stroke:#000000;stroke-width:0.8;\" x=\"239.306995\" xlink:href=\"#m1a205a24a8\" y=\"241.2105\"/>\n      </g>\n     </g>\n     <g id=\"text_4\">\n      <!-- anger -->\n      <g transform=\"translate(227.234807 256.994875)scale(0.12 -0.12)\">\n       <defs>\n        <path d=\"M 1325 -1235 \nC 2240 -1235 2675 -787 2675 -179 \nC 2675 416 2336 704 1696 704 \nL 1069 704 \nC 858 704 774 806 774 966 \nC 774 1069 826 1178 890 1242 \nC 1018 1197 1171 1178 1331 1178 \nC 1939 1178 2413 1530 2413 2208 \nL 2413 2304 \nC 2413 2560 2336 2739 2234 2874 \nL 2682 2874 \nL 2682 3283 \nL 1747 3283 \nC 1626 3315 1485 3334 1325 3334 \nC 704 3334 250 2944 250 2278 \nL 250 2182 \nC 250 1786 429 1510 634 1376 \nC 422 1210 294 1024 294 787 \nC 294 544 442 403 627 333 \nL 627 307 \nC 320 192 64 -38 64 -422 \nC 64 -915 506 -1235 1325 -1235 \nz\nM 1312 -819 \nC 832 -819 595 -640 595 -326 \nC 595 -51 762 141 966 218 \nL 1632 218 \nC 2022 218 2150 45 2150 -237 \nC 2150 -602 1926 -819 1312 -819 \nz\nM 1331 1581 \nC 998 1581 762 1773 762 2189 \nL 762 2323 \nC 762 2726 973 2931 1331 2931 \nC 1670 2931 1901 2746 1901 2310 \nL 1901 2176 \nC 1901 1779 1683 1581 1331 1581 \nz\n\" id=\"GuardianSansCond-Regular-67\" transform=\"scale(0.015625)\"/>\n        <path d=\"M 346 0 \nL 870 0 \nL 870 2605 \nC 1062 2752 1306 2842 1587 2842 \nC 1638 2842 1728 2835 1786 2829 \nL 1786 3302 \nC 1747 3315 1677 3328 1606 3328 \nC 1306 3328 1030 3142 870 2938 \nL 845 2938 \nL 845 3283 \nL 346 3283 \nL 346 0 \nz\n\" id=\"GuardianSansCond-Regular-72\" transform=\"scale(0.015625)\"/>\n       </defs>\n       <use xlink:href=\"#GuardianSansCond-Regular-61\"/>\n       <use x=\"40.899994\" xlink:href=\"#GuardianSansCond-Regular-6e\"/>\n       <use x=\"86.999985\" xlink:href=\"#GuardianSansCond-Regular-67\"/>\n       <use x=\"129.699982\" xlink:href=\"#GuardianSansCond-Regular-65\"/>\n       <use x=\"172.399979\" xlink:href=\"#GuardianSansCond-Regular-72\"/>\n      </g>\n     </g>\n    </g>\n    <g id=\"xtick_5\">\n     <g id=\"line2d_5\">\n      <g>\n       <use style=\"stroke:#000000;stroke-width:0.8;\" x=\"291.783484\" xlink:href=\"#m1a205a24a8\" y=\"241.2105\"/>\n      </g>\n     </g>\n     <g id=\"text_5\">\n      <!-- fear -->\n      <g transform=\"translate(283.436921 257.01925)scale(0.12 -0.12)\">\n       <defs>\n        <path d=\"M 493 0 \nL 1018 0 \nL 1018 2848 \nL 1626 2848 \nL 1626 3283 \nL 1018 3283 \nL 1018 3712 \nC 1018 4115 1146 4307 1478 4307 \nC 1632 4307 1754 4282 1837 4262 \nL 1837 4640 \nC 1747 4685 1587 4742 1363 4742 \nC 826 4742 493 4429 493 3757 \nL 493 3283 \nL 96 3283 \nL 96 2848 \nL 493 2848 \nL 493 0 \nz\n\" id=\"GuardianSansCond-Regular-66\" transform=\"scale(0.015625)\"/>\n       </defs>\n       <use xlink:href=\"#GuardianSansCond-Regular-66\"/>\n       <use x=\"26.699997\" xlink:href=\"#GuardianSansCond-Regular-65\"/>\n       <use x=\"69.399994\" xlink:href=\"#GuardianSansCond-Regular-61\"/>\n       <use x=\"110.299988\" xlink:href=\"#GuardianSansCond-Regular-72\"/>\n      </g>\n     </g>\n    </g>\n    <g id=\"xtick_6\">\n     <g id=\"line2d_6\">\n      <g>\n       <use style=\"stroke:#000000;stroke-width:0.8;\" x=\"344.259973\" xlink:href=\"#m1a205a24a8\" y=\"241.2105\"/>\n      </g>\n     </g>\n     <g id=\"text_6\">\n      <!-- surprise -->\n      <g transform=\"translate(327.418723 257.01925)scale(0.12 -0.12)\">\n       <defs>\n        <path d=\"M 1158 -51 \nC 1523 -51 1824 109 2042 262 \nL 2067 262 \nL 2118 0 \nL 2566 0 \nL 2566 3283 \nL 2042 3283 \nL 2042 602 \nC 1888 512 1626 397 1350 397 \nC 947 397 858 557 858 838 \nL 858 3283 \nL 333 3283 \nL 333 826 \nC 333 301 576 -51 1158 -51 \nz\n\" id=\"GuardianSansCond-Regular-75\" transform=\"scale(0.015625)\"/>\n        <path d=\"M 346 -1222 \nL 870 -1222 \nL 870 128 \nC 1005 38 1242 -51 1542 -51 \nC 2374 -51 2784 525 2784 1600 \nL 2784 1818 \nC 2784 2912 2342 3334 1670 3334 \nC 1318 3334 1030 3187 870 3034 \nL 845 3034 \nL 845 3283 \nL 346 3283 \nL 346 -1222 \nz\nM 1466 378 \nC 1210 378 973 461 870 538 \nL 870 2688 \nC 992 2784 1229 2893 1523 2893 \nC 2035 2893 2246 2573 2246 1798 \nL 2246 1549 \nC 2246 742 2003 378 1466 378 \nz\n\" id=\"GuardianSansCond-Regular-70\" transform=\"scale(0.015625)\"/>\n        <path d=\"M 358 0 \nL 883 0 \nL 883 3283 \nL 358 3283 \nL 358 0 \nz\nM 352 3910 \nL 883 3910 \nL 883 4474 \nL 352 4474 \nL 352 3910 \nz\n\" id=\"GuardianSansCond-Regular-69\" transform=\"scale(0.015625)\"/>\n       </defs>\n       <use xlink:href=\"#GuardianSansCond-Regular-73\"/>\n       <use x=\"34.499985\" xlink:href=\"#GuardianSansCond-Regular-75\"/>\n       <use x=\"79.999969\" xlink:href=\"#GuardianSansCond-Regular-72\"/>\n       <use x=\"108.799957\" xlink:href=\"#GuardianSansCond-Regular-70\"/>\n       <use x=\"155.399948\" xlink:href=\"#GuardianSansCond-Regular-72\"/>\n       <use x=\"184.199936\" xlink:href=\"#GuardianSansCond-Regular-69\"/>\n       <use x=\"203.499924\" xlink:href=\"#GuardianSansCond-Regular-73\"/>\n       <use x=\"237.999908\" xlink:href=\"#GuardianSansCond-Regular-65\"/>\n      </g>\n     </g>\n    </g>\n   </g>\n   <g id=\"matplotlib.axis_2\">\n    <g id=\"ytick_1\">\n     <g id=\"line2d_7\">\n      <defs>\n       <path d=\"M 0 0 \nL -3.5 0 \n\" id=\"mf31c67d87c\" style=\"stroke:#000000;stroke-width:0.8;\"/>\n      </defs>\n      <g>\n       <use style=\"stroke:#000000;stroke-width:0.8;\" x=\"45.66875\" xlink:href=\"#mf31c67d87c\" y=\"241.2105\"/>\n      </g>\n     </g>\n     <g id=\"text_7\">\n      <!-- 0 -->\n      <g transform=\"translate(32.24875 245.614875)scale(0.12 -0.12)\">\n       <defs>\n        <path d=\"M 1722 -70 \nC 2656 -70 3155 646 3155 2061 \nL 3155 2406 \nC 3155 3891 2598 4499 1715 4499 \nC 819 4499 269 3834 269 2368 \nL 269 2042 \nC 269 499 845 -70 1722 -70 \nz\nM 1728 384 \nC 1069 384 845 979 845 2016 \nL 845 2490 \nC 845 3494 1088 4051 1709 4051 \nC 2336 4051 2592 3514 2592 2458 \nL 2592 1978 \nC 2592 934 2374 384 1728 384 \nz\n\" id=\"GuardianSansCond-Regular-30\" transform=\"scale(0.015625)\"/>\n       </defs>\n       <use xlink:href=\"#GuardianSansCond-Regular-30\"/>\n      </g>\n     </g>\n    </g>\n    <g id=\"ytick_2\">\n     <g id=\"line2d_8\">\n      <g>\n       <use style=\"stroke:#000000;stroke-width:0.8;\" x=\"45.66875\" xlink:href=\"#mf31c67d87c\" y=\"197.770746\"/>\n      </g>\n     </g>\n     <g id=\"text_8\">\n      <!-- 20 -->\n      <g transform=\"translate(27.14875 202.175121)scale(0.12 -0.12)\">\n       <defs>\n        <path d=\"M 173 0 \nL 2470 0 \nL 2470 461 \nL 800 461 \nL 800 480 \nL 1574 1421 \nC 2067 2035 2419 2528 2419 3264 \nC 2419 4026 2029 4499 1222 4499 \nC 806 4499 499 4410 269 4282 \nL 269 3853 \nC 467 3949 730 4032 1056 4032 \nC 1619 4032 1850 3750 1850 3213 \nC 1850 2630 1542 2189 1152 1670 \nL 173 397 \nL 173 0 \nz\n\" id=\"GuardianSansCond-Regular-32\" transform=\"scale(0.015625)\"/>\n       </defs>\n       <use xlink:href=\"#GuardianSansCond-Regular-32\"/>\n       <use x=\"42.499985\" xlink:href=\"#GuardianSansCond-Regular-30\"/>\n      </g>\n     </g>\n    </g>\n    <g id=\"ytick_3\">\n     <g id=\"line2d_9\">\n      <g>\n       <use style=\"stroke:#000000;stroke-width:0.8;\" x=\"45.66875\" xlink:href=\"#mf31c67d87c\" y=\"154.330991\"/>\n      </g>\n     </g>\n     <g id=\"text_9\">\n      <!-- 40 -->\n      <g transform=\"translate(26.56 158.735366)scale(0.12 -0.12)\">\n       <defs>\n        <path d=\"M 1805 0 \nL 2330 0 \nL 2330 1107 \nL 2957 1107 \nL 2957 1562 \nL 2330 1562 \nL 2330 4435 \nL 1869 4435 \nL 70 1504 \nL 70 1107 \nL 1805 1107 \nL 1805 0 \nz\nM 608 1562 \nL 608 1581 \nL 1779 3475 \nL 1805 3475 \nL 1805 1562 \nL 608 1562 \nz\n\" id=\"GuardianSansCond-Regular-34\" transform=\"scale(0.015625)\"/>\n       </defs>\n       <use xlink:href=\"#GuardianSansCond-Regular-34\"/>\n       <use x=\"47.399994\" xlink:href=\"#GuardianSansCond-Regular-30\"/>\n      </g>\n     </g>\n    </g>\n    <g id=\"ytick_4\">\n     <g id=\"line2d_10\">\n      <g>\n       <use style=\"stroke:#000000;stroke-width:0.8;\" x=\"45.66875\" xlink:href=\"#mf31c67d87c\" y=\"110.891237\"/>\n      </g>\n     </g>\n     <g id=\"text_10\">\n      <!-- 60 -->\n      <g transform=\"translate(26.38 115.295612)scale(0.12 -0.12)\">\n       <defs>\n        <path d=\"M 1632 384 \nC 1082 384 845 915 845 1837 \nL 845 2054 \nC 992 2150 1254 2278 1594 2278 \nC 2086 2278 2323 1984 2323 1357 \nC 2323 742 2086 384 1632 384 \nz\nM 1632 -70 \nC 2438 -70 2886 544 2886 1408 \nC 2886 2234 2490 2746 1754 2746 \nC 1363 2746 1056 2611 845 2445 \nC 877 3853 1440 4038 2029 4038 \nC 2291 4038 2554 3974 2688 3930 \nL 2688 4352 \nC 2547 4442 2272 4499 1958 4499 \nC 1043 4499 275 3981 275 2208 \nL 275 1843 \nC 275 691 717 -70 1632 -70 \nz\n\" id=\"GuardianSansCond-Regular-36\" transform=\"scale(0.015625)\"/>\n       </defs>\n       <use xlink:href=\"#GuardianSansCond-Regular-36\"/>\n       <use x=\"48.899994\" xlink:href=\"#GuardianSansCond-Regular-30\"/>\n      </g>\n     </g>\n    </g>\n    <g id=\"ytick_5\">\n     <g id=\"line2d_11\">\n      <g>\n       <use style=\"stroke:#000000;stroke-width:0.8;\" x=\"45.66875\" xlink:href=\"#mf31c67d87c\" y=\"67.451483\"/>\n      </g>\n     </g>\n     <g id=\"text_11\">\n      <!-- 80 -->\n      <g transform=\"translate(26.32 71.855858)scale(0.12 -0.12)\">\n       <defs>\n        <path d=\"M 1581 -64 \nC 2445 -64 2931 467 2931 1139 \nC 2931 1760 2592 2074 2106 2330 \nC 2490 2541 2822 2899 2822 3424 \nC 2822 4077 2394 4499 1606 4499 \nC 819 4499 384 4013 384 3398 \nC 384 2848 678 2509 1069 2285 \nC 602 2054 230 1683 230 1082 \nC 230 384 710 -64 1581 -64 \nz\nM 1587 390 \nC 1082 390 768 678 768 1126 \nC 768 1581 1037 1894 1414 2080 \nC 2029 1792 2387 1574 2387 1082 \nC 2387 614 2054 390 1587 390 \nz\nM 1754 2522 \nC 1210 2778 928 3021 928 3430 \nC 928 3821 1171 4051 1606 4051 \nC 2067 4051 2285 3782 2285 3398 \nC 2285 3008 2099 2765 1754 2522 \nz\n\" id=\"GuardianSansCond-Regular-38\" transform=\"scale(0.015625)\"/>\n       </defs>\n       <use xlink:href=\"#GuardianSansCond-Regular-38\"/>\n       <use x=\"49.399994\" xlink:href=\"#GuardianSansCond-Regular-30\"/>\n      </g>\n     </g>\n    </g>\n    <g id=\"ytick_6\">\n     <g id=\"line2d_12\">\n      <g>\n       <use style=\"stroke:#000000;stroke-width:0.8;\" x=\"45.66875\" xlink:href=\"#mf31c67d87c\" y=\"24.011728\"/>\n      </g>\n     </g>\n     <g id=\"text_12\">\n      <!-- 100 -->\n      <g transform=\"translate(22.373125 28.416103)scale(0.12 -0.12)\">\n       <defs>\n        <path d=\"M 832 0 \nL 1363 0 \nL 1363 4474 \nL 1171 4474 \nL 141 4083 \nL 141 3776 \nL 832 3846 \nL 832 0 \nz\n\" id=\"GuardianSansCond-Regular-31\" transform=\"scale(0.015625)\"/>\n       </defs>\n       <use xlink:href=\"#GuardianSansCond-Regular-31\"/>\n       <use x=\"28.799988\" xlink:href=\"#GuardianSansCond-Regular-30\"/>\n       <use x=\"82.299973\" xlink:href=\"#GuardianSansCond-Regular-30\"/>\n      </g>\n     </g>\n    </g>\n    <g id=\"text_13\">\n     <!-- Class probability (%) -->\n     <g transform=\"translate(16.00875 175.635187)rotate(-90)scale(0.12 -0.12)\">\n      <defs>\n       <path d=\"M 1882 -64 \nC 2304 -64 2637 38 2874 186 \nL 2874 640 \nC 2643 518 2342 397 1946 397 \nC 1114 397 806 986 806 2042 \nL 806 2445 \nC 806 3648 1267 4038 1920 4038 \nC 2278 4038 2541 3955 2822 3840 \nL 2822 4288 \nC 2618 4410 2336 4499 1952 4499 \nC 1005 4499 237 3994 237 2387 \nL 237 2042 \nC 237 563 851 -64 1882 -64 \nz\n\" id=\"GuardianSansCond-Regular-43\" transform=\"scale(0.015625)\"/>\n       <path id=\"GuardianSansCond-Regular-20\" transform=\"scale(0.015625)\"/>\n       <path d=\"M 1382 -64 \nC 2317 -64 2784 531 2784 1619 \nL 2784 1843 \nC 2784 2995 2285 3334 1702 3334 \nC 1338 3334 1075 3219 896 3104 \nL 870 3104 \nL 870 4698 \nL 346 4698 \nL 346 102 \nC 557 19 1005 -64 1382 -64 \nz\nM 1408 378 \nC 1165 378 979 416 870 454 \nL 870 2733 \nC 992 2790 1216 2893 1491 2893 \nC 2003 2893 2246 2650 2246 1818 \nL 2246 1549 \nC 2246 627 1875 378 1408 378 \nz\n\" id=\"GuardianSansCond-Regular-62\" transform=\"scale(0.015625)\"/>\n       <path d=\"M 1222 -38 \nC 1466 -38 1619 26 1722 90 \nL 1722 442 \nC 1632 416 1517 390 1382 390 \nC 1107 390 1005 480 1005 781 \nL 1005 2848 \nL 1683 2848 \nL 1683 3283 \nL 1005 3283 \nL 1005 4051 \nL 486 4051 \nL 486 3283 \nL 96 3283 \nL 96 2848 \nL 486 2848 \nL 486 710 \nC 486 160 774 -38 1222 -38 \nz\n\" id=\"GuardianSansCond-Regular-74\" transform=\"scale(0.015625)\"/>\n       <path d=\"M 1318 -768 \nL 1760 -768 \nC 1267 -166 826 877 826 1869 \nL 826 2086 \nC 826 3117 1267 4102 1760 4698 \nL 1318 4698 \nC 800 4160 275 3187 275 2029 \nL 275 1882 \nC 275 723 800 -237 1318 -768 \nz\n\" id=\"GuardianSansCond-Regular-28\" transform=\"scale(0.015625)\"/>\n       <path d=\"M 755 -256 \nL 1210 -256 \nL 3770 4563 \nL 3309 4563 \nL 755 -256 \nz\nM 1082 2176 \nC 1677 2176 1984 2637 1984 3315 \nL 1984 3411 \nC 1984 4109 1664 4499 1075 4499 \nC 493 4499 173 4064 173 3392 \nL 173 3290 \nC 173 2560 493 2176 1082 2176 \nz\nM 1088 2547 \nC 794 2547 640 2739 640 3264 \nL 640 3437 \nC 640 3942 800 4134 1082 4134 \nC 1357 4134 1517 3936 1517 3430 \nL 1517 3258 \nC 1517 2739 1376 2547 1088 2547 \nz\nM 3501 -58 \nC 4090 -58 4403 403 4403 1082 \nL 4403 1178 \nC 4403 1875 4083 2266 3494 2266 \nC 2912 2266 2592 1830 2592 1158 \nL 2592 1056 \nC 2592 326 2912 -58 3501 -58 \nz\nM 3507 307 \nC 3213 307 3059 506 3059 1030 \nL 3059 1203 \nC 3059 1709 3219 1901 3501 1901 \nC 3776 1901 3936 1702 3936 1197 \nL 3936 1024 \nC 3936 506 3795 307 3507 307 \nz\n\" id=\"GuardianSansCond-Regular-25\" transform=\"scale(0.015625)\"/>\n       <path d=\"M 32 -768 \nL 480 -768 \nC 992 -237 1517 717 1517 1882 \nL 1517 2029 \nC 1517 3181 992 4160 480 4698 \nL 32 4698 \nC 531 4096 973 3053 973 2035 \nL 973 1818 \nC 973 813 531 -166 32 -768 \nz\n\" id=\"GuardianSansCond-Regular-29\" transform=\"scale(0.015625)\"/>\n      </defs>\n      <use xlink:href=\"#GuardianSansCond-Regular-43\"/>\n      <use x=\"47.399994\" xlink:href=\"#GuardianSansCond-Regular-6c\"/>\n      <use x=\"66.699982\" xlink:href=\"#GuardianSansCond-Regular-61\"/>\n      <use x=\"107.599976\" xlink:href=\"#GuardianSansCond-Regular-73\"/>\n      <use x=\"142.09996\" xlink:href=\"#GuardianSansCond-Regular-73\"/>\n      <use x=\"176.599945\" xlink:href=\"#GuardianSansCond-Regular-20\"/>\n      <use x=\"192.399933\" xlink:href=\"#GuardianSansCond-Regular-70\"/>\n      <use x=\"238.999924\" xlink:href=\"#GuardianSansCond-Regular-72\"/>\n      <use x=\"267.799911\" xlink:href=\"#GuardianSansCond-Regular-6f\"/>\n      <use x=\"313.399902\" xlink:href=\"#GuardianSansCond-Regular-62\"/>\n      <use x=\"359.999893\" xlink:href=\"#GuardianSansCond-Regular-61\"/>\n      <use x=\"400.899887\" xlink:href=\"#GuardianSansCond-Regular-62\"/>\n      <use x=\"447.499878\" xlink:href=\"#GuardianSansCond-Regular-69\"/>\n      <use x=\"466.799866\" xlink:href=\"#GuardianSansCond-Regular-6c\"/>\n      <use x=\"486.099854\" xlink:href=\"#GuardianSansCond-Regular-69\"/>\n      <use x=\"505.399841\" xlink:href=\"#GuardianSansCond-Regular-74\"/>\n      <use x=\"534.399826\" xlink:href=\"#GuardianSansCond-Regular-79\"/>\n      <use x=\"575.79982\" xlink:href=\"#GuardianSansCond-Regular-20\"/>\n      <use x=\"591.599808\" xlink:href=\"#GuardianSansCond-Regular-28\"/>\n      <use x=\"619.599792\" xlink:href=\"#GuardianSansCond-Regular-25\"/>\n      <use x=\"691.099777\" xlink:href=\"#GuardianSansCond-Regular-29\"/>\n     </g>\n    </g>\n   </g>\n   <g id=\"patch_9\">\n    <path d=\"M 45.66875 241.2105 \nL 45.66875 23.7705 \n\" style=\"fill:none;stroke:#000000;stroke-linecap:square;stroke-linejoin:miter;stroke-width:0.8;\"/>\n   </g>\n   <g id=\"patch_10\">\n    <path d=\"M 380.46875 241.2105 \nL 380.46875 23.7705 \n\" style=\"fill:none;stroke:#000000;stroke-linecap:square;stroke-linejoin:miter;stroke-width:0.8;\"/>\n   </g>\n   <g id=\"patch_11\">\n    <path d=\"M 45.66875 241.2105 \nL 380.46875 241.2105 \n\" style=\"fill:none;stroke:#000000;stroke-linecap:square;stroke-linejoin:miter;stroke-width:0.8;\"/>\n   </g>\n   <g id=\"patch_12\">\n    <path d=\"M 45.66875 23.7705 \nL 380.46875 23.7705 \n\" style=\"fill:none;stroke:#000000;stroke-linecap:square;stroke-linejoin:miter;stroke-width:0.8;\"/>\n   </g>\n   <g id=\"text_14\">\n    <!-- \"I saw a movie today and it was really good.\" -->\n    <g transform=\"translate(102.0965 17.7705)scale(0.144 -0.144)\">\n     <defs>\n      <path d=\"M 339 3264 \nL 768 3264 \nL 832 4435 \nL 275 4435 \nL 339 3264 \nz\nM 1222 3264 \nL 1651 3264 \nL 1715 4435 \nL 1158 4435 \nL 1222 3264 \nz\n\" id=\"GuardianSansCond-Regular-22\" transform=\"scale(0.015625)\"/>\n      <path d=\"M 429 0 \nL 966 0 \nL 966 4435 \nL 429 4435 \nL 429 0 \nz\n\" id=\"GuardianSansCond-Regular-49\" transform=\"scale(0.015625)\"/>\n      <path d=\"M 858 0 \nL 1402 0 \nL 1818 1696 \nC 1920 2099 1984 2426 1984 2426 \nL 2003 2426 \nC 2003 2426 2074 2093 2170 1696 \nL 2586 0 \nL 3136 0 \nL 3898 3283 \nL 3398 3283 \nL 3002 1344 \nC 2931 966 2874 704 2874 704 \nL 2854 704 \nC 2854 704 2803 954 2707 1350 \nL 2253 3283 \nL 1773 3283 \nL 1325 1350 \nC 1242 979 1178 704 1178 704 \nL 1158 704 \nC 1158 704 1107 973 1030 1350 \nL 627 3283 \nL 83 3283 \nL 858 0 \nz\n\" id=\"GuardianSansCond-Regular-77\" transform=\"scale(0.015625)\"/>\n      <path d=\"M 346 0 \nL 870 0 \nL 870 2688 \nC 1050 2790 1267 2886 1523 2886 \nC 1856 2886 1971 2758 1971 2464 \nL 1971 0 \nL 2490 0 \nL 2490 2688 \nC 2682 2797 2912 2886 3136 2886 \nC 3488 2886 3590 2746 3590 2464 \nL 3590 0 \nL 4115 0 \nL 4115 2528 \nC 4115 3104 3821 3334 3347 3334 \nC 2995 3334 2688 3187 2419 2995 \nL 2394 2995 \nC 2266 3226 2061 3334 1722 3334 \nC 1395 3334 1088 3181 870 3021 \nL 845 3021 \nL 845 3283 \nL 346 3283 \nL 346 0 \nz\n\" id=\"GuardianSansCond-Regular-6d\" transform=\"scale(0.015625)\"/>\n      <path d=\"M 397 0 \nL 986 0 \nL 986 621 \nL 397 621 \nL 397 0 \nz\n\" id=\"GuardianSansCond-Regular-2e\" transform=\"scale(0.015625)\"/>\n     </defs>\n     <use xlink:href=\"#GuardianSansCond-Regular-22\"/>\n     <use x=\"31.199997\" xlink:href=\"#GuardianSansCond-Regular-49\"/>\n     <use x=\"52.899994\" xlink:href=\"#GuardianSansCond-Regular-20\"/>\n     <use x=\"68.699982\" xlink:href=\"#GuardianSansCond-Regular-73\"/>\n     <use x=\"103.199966\" xlink:href=\"#GuardianSansCond-Regular-61\"/>\n     <use x=\"144.09996\" xlink:href=\"#GuardianSansCond-Regular-77\"/>\n     <use x=\"206.299957\" xlink:href=\"#GuardianSansCond-Regular-20\"/>\n     <use x=\"222.099945\" xlink:href=\"#GuardianSansCond-Regular-61\"/>\n     <use x=\"262.999939\" xlink:href=\"#GuardianSansCond-Regular-20\"/>\n     <use x=\"278.799927\" xlink:href=\"#GuardianSansCond-Regular-6d\"/>\n     <use x=\"348.299911\" xlink:href=\"#GuardianSansCond-Regular-6f\"/>\n     <use x=\"393.899902\" xlink:href=\"#GuardianSansCond-Regular-76\"/>\n     <use x=\"435.799896\" xlink:href=\"#GuardianSansCond-Regular-69\"/>\n     <use x=\"455.099884\" xlink:href=\"#GuardianSansCond-Regular-65\"/>\n     <use x=\"497.799881\" xlink:href=\"#GuardianSansCond-Regular-20\"/>\n     <use x=\"513.599869\" xlink:href=\"#GuardianSansCond-Regular-74\"/>\n     <use x=\"542.599854\" xlink:href=\"#GuardianSansCond-Regular-6f\"/>\n     <use x=\"588.199844\" xlink:href=\"#GuardianSansCond-Regular-64\"/>\n     <use x=\"634.799835\" xlink:href=\"#GuardianSansCond-Regular-61\"/>\n     <use x=\"675.699829\" xlink:href=\"#GuardianSansCond-Regular-79\"/>\n     <use x=\"717.099823\" xlink:href=\"#GuardianSansCond-Regular-20\"/>\n     <use x=\"732.899811\" xlink:href=\"#GuardianSansCond-Regular-61\"/>\n     <use x=\"773.799805\" xlink:href=\"#GuardianSansCond-Regular-6e\"/>\n     <use x=\"819.899796\" xlink:href=\"#GuardianSansCond-Regular-64\"/>\n     <use x=\"866.499786\" xlink:href=\"#GuardianSansCond-Regular-20\"/>\n     <use x=\"882.299774\" xlink:href=\"#GuardianSansCond-Regular-69\"/>\n     <use x=\"901.599762\" xlink:href=\"#GuardianSansCond-Regular-74\"/>\n     <use x=\"930.599747\" xlink:href=\"#GuardianSansCond-Regular-20\"/>\n     <use x=\"946.399734\" xlink:href=\"#GuardianSansCond-Regular-77\"/>\n     <use x=\"1008.599731\" xlink:href=\"#GuardianSansCond-Regular-61\"/>\n     <use x=\"1049.499725\" xlink:href=\"#GuardianSansCond-Regular-73\"/>\n     <use x=\"1083.99971\" xlink:href=\"#GuardianSansCond-Regular-20\"/>\n     <use x=\"1099.799698\" xlink:href=\"#GuardianSansCond-Regular-72\"/>\n     <use x=\"1128.599686\" xlink:href=\"#GuardianSansCond-Regular-65\"/>\n     <use x=\"1171.299683\" xlink:href=\"#GuardianSansCond-Regular-61\"/>\n     <use x=\"1212.199677\" xlink:href=\"#GuardianSansCond-Regular-6c\"/>\n     <use x=\"1231.499664\" xlink:href=\"#GuardianSansCond-Regular-6c\"/>\n     <use x=\"1250.799652\" xlink:href=\"#GuardianSansCond-Regular-79\"/>\n     <use x=\"1292.199646\" xlink:href=\"#GuardianSansCond-Regular-20\"/>\n     <use x=\"1307.999634\" xlink:href=\"#GuardianSansCond-Regular-67\"/>\n     <use x=\"1350.699631\" xlink:href=\"#GuardianSansCond-Regular-6f\"/>\n     <use x=\"1396.299622\" xlink:href=\"#GuardianSansCond-Regular-6f\"/>\n     <use x=\"1441.899612\" xlink:href=\"#GuardianSansCond-Regular-64\"/>\n     <use x=\"1488.499603\" xlink:href=\"#GuardianSansCond-Regular-2e\"/>\n     <use x=\"1510.099594\" xlink:href=\"#GuardianSansCond-Regular-22\"/>\n    </g>\n   </g>\n  </g>\n </g>\n <defs>\n  <clipPath id=\"p0277c6ab7c\">\n   <rect height=\"217.44\" width=\"334.8\" x=\"45.66875\" y=\"23.7705\"/>\n  </clipPath>\n </defs>\n</svg>\n",
            "text/plain": [
              "<Figure size 432x288 with 1 Axes>"
            ]
          },
          "metadata": {
            "needs_background": "light"
          },
          "output_type": "display_data"
        }
      ],
      "source": [
        "preds_df = pd.DataFrame(preds[0])\n",
        "plt.bar(labels, 100 * preds_df[\"score\"], color='C0')\n",
        "plt.title(f'\"{custom_tweet}\"')\n",
        "plt.ylabel(\"Class probability (%)\")\n",
        "plt.show()"
      ]
    },
    {
      "cell_type": "markdown",
      "metadata": {
        "id": "T7nxcunZoM34"
      },
      "source": [
        "## Conclusion"
      ]
    },
    {
      "cell_type": "markdown",
      "metadata": {
        "id": "hIc1GTpNoM34"
      },
      "source": [
        "Congratulations, you now know how to train a transformer model to classify the emotions in tweets! We have seen two complementary approaches based on features and fine-tuning, and investigated their strengths and weaknesses.\n",
        "\n",
        "However, this is just the first step in building a real-world application with transformer models, and we have a lot more ground to cover. Here's a list of challenges you're likely to experience in your NLP journey:\n",
        "\n",
        "My boss wants my model in production yesterday!::\n",
        "In most applications, your model doesn't just sit somewhere gathering dust - you want to make sure it's serving predictions! When a model is pushed to the Hub, an inference endpoint is automatically created that can be called with HTTP requests. We recommend checking out the [documentation](https://api-inference.huggingface.co/docs/python/html/index.html) of the Inference API if you want to learn more.\n",
        "\n",
        "My users want faster predictions!::\n",
        "We've already seen one approach to this problem: using DistilBERT. In <<chapter_compression>> we'll dive into knowledge distillation (the process by which DistilBERT was created), along with other tricks to speed up your transformer models.\n",
        "\n",
        "\n",
        "Can your model also do X?::\n",
        "As we've alluded to in this chapter, transformers are extremely versatile. In the rest of the book we will be exploring a range of tasks, like question answering and named entity recognition, all using the same basic architecture.\n",
        "\n",
        "None of my texts are in English!::\n",
        "It turns out that transformers also come in a multilingual variety, and we'll use them in <<chapter_ner>> to tackle several languages at once.\n",
        "\n",
        "I don't have any labels!::\n",
        "If there is very little labeled data available, fine-tuning may not be an option. In <<chapter_fewlabels>>, we'll explore some techniques to deal with this situation.\n",
        "\n",
        "Now that we've seen what's involved in training and sharing a transformer, in the next chapter we'll explore implementing our very own transformer model from scratch."
      ]
    },
    {
      "cell_type": "code",
      "execution_count": null,
      "metadata": {
        "id": "PlU5Ee40oM34"
      },
      "outputs": [],
      "source": []
    }
  ],
  "metadata": {
    "kernelspec": {
      "display_name": "Python 3",
      "name": "python3"
    },
    "colab": {
      "provenance": [],
      "gpuType": "T4"
    },
    "accelerator": "GPU",
    "widgets": {
      "application/vnd.jupyter.widget-state+json": {
        "d8f919a209ae42a88f98cb57b4f8febe": {
          "model_module": "@jupyter-widgets/controls",
          "model_name": "HBoxModel",
          "model_module_version": "1.5.0",
          "state": {
            "_dom_classes": [],
            "_model_module": "@jupyter-widgets/controls",
            "_model_module_version": "1.5.0",
            "_model_name": "HBoxModel",
            "_view_count": null,
            "_view_module": "@jupyter-widgets/controls",
            "_view_module_version": "1.5.0",
            "_view_name": "HBoxView",
            "box_style": "",
            "children": [
              "IPY_MODEL_b044ad412d404999b7cb9e495b51d6e6",
              "IPY_MODEL_f82ef47b35b14d2897db9c5b72c43260",
              "IPY_MODEL_88d3a8d5d0a14eacac1f2a6c4c433a9d"
            ],
            "layout": "IPY_MODEL_ca3212e206084c6a9cc6cc7b7becec6a"
          }
        },
        "b044ad412d404999b7cb9e495b51d6e6": {
          "model_module": "@jupyter-widgets/controls",
          "model_name": "HTMLModel",
          "model_module_version": "1.5.0",
          "state": {
            "_dom_classes": [],
            "_model_module": "@jupyter-widgets/controls",
            "_model_module_version": "1.5.0",
            "_model_name": "HTMLModel",
            "_view_count": null,
            "_view_module": "@jupyter-widgets/controls",
            "_view_module_version": "1.5.0",
            "_view_name": "HTMLView",
            "description": "",
            "description_tooltip": null,
            "layout": "IPY_MODEL_cb81855e8ba54a0eb14d88ae0e60a63e",
            "placeholder": "​",
            "style": "IPY_MODEL_dbcb99e039a4481eb867c559a67214c6",
            "value": "Map: 100%"
          }
        },
        "f82ef47b35b14d2897db9c5b72c43260": {
          "model_module": "@jupyter-widgets/controls",
          "model_name": "FloatProgressModel",
          "model_module_version": "1.5.0",
          "state": {
            "_dom_classes": [],
            "_model_module": "@jupyter-widgets/controls",
            "_model_module_version": "1.5.0",
            "_model_name": "FloatProgressModel",
            "_view_count": null,
            "_view_module": "@jupyter-widgets/controls",
            "_view_module_version": "1.5.0",
            "_view_name": "ProgressView",
            "bar_style": "success",
            "description": "",
            "description_tooltip": null,
            "layout": "IPY_MODEL_0bdff71508344c08829cd186cda2870f",
            "max": 16000,
            "min": 0,
            "orientation": "horizontal",
            "style": "IPY_MODEL_aafcfee67f8e4839a7e243c9baf42b4a",
            "value": 16000
          }
        },
        "88d3a8d5d0a14eacac1f2a6c4c433a9d": {
          "model_module": "@jupyter-widgets/controls",
          "model_name": "HTMLModel",
          "model_module_version": "1.5.0",
          "state": {
            "_dom_classes": [],
            "_model_module": "@jupyter-widgets/controls",
            "_model_module_version": "1.5.0",
            "_model_name": "HTMLModel",
            "_view_count": null,
            "_view_module": "@jupyter-widgets/controls",
            "_view_module_version": "1.5.0",
            "_view_name": "HTMLView",
            "description": "",
            "description_tooltip": null,
            "layout": "IPY_MODEL_49fbd184caa14b3ea8ca9c032c71a1fd",
            "placeholder": "​",
            "style": "IPY_MODEL_b8e2475a81104555acdd5f519decb54d",
            "value": " 16000/16000 [00:02&lt;00:00, 7468.36 examples/s]"
          }
        },
        "ca3212e206084c6a9cc6cc7b7becec6a": {
          "model_module": "@jupyter-widgets/base",
          "model_name": "LayoutModel",
          "model_module_version": "1.2.0",
          "state": {
            "_model_module": "@jupyter-widgets/base",
            "_model_module_version": "1.2.0",
            "_model_name": "LayoutModel",
            "_view_count": null,
            "_view_module": "@jupyter-widgets/base",
            "_view_module_version": "1.2.0",
            "_view_name": "LayoutView",
            "align_content": null,
            "align_items": null,
            "align_self": null,
            "border": null,
            "bottom": null,
            "display": null,
            "flex": null,
            "flex_flow": null,
            "grid_area": null,
            "grid_auto_columns": null,
            "grid_auto_flow": null,
            "grid_auto_rows": null,
            "grid_column": null,
            "grid_gap": null,
            "grid_row": null,
            "grid_template_areas": null,
            "grid_template_columns": null,
            "grid_template_rows": null,
            "height": null,
            "justify_content": null,
            "justify_items": null,
            "left": null,
            "margin": null,
            "max_height": null,
            "max_width": null,
            "min_height": null,
            "min_width": null,
            "object_fit": null,
            "object_position": null,
            "order": null,
            "overflow": null,
            "overflow_x": null,
            "overflow_y": null,
            "padding": null,
            "right": null,
            "top": null,
            "visibility": null,
            "width": null
          }
        },
        "cb81855e8ba54a0eb14d88ae0e60a63e": {
          "model_module": "@jupyter-widgets/base",
          "model_name": "LayoutModel",
          "model_module_version": "1.2.0",
          "state": {
            "_model_module": "@jupyter-widgets/base",
            "_model_module_version": "1.2.0",
            "_model_name": "LayoutModel",
            "_view_count": null,
            "_view_module": "@jupyter-widgets/base",
            "_view_module_version": "1.2.0",
            "_view_name": "LayoutView",
            "align_content": null,
            "align_items": null,
            "align_self": null,
            "border": null,
            "bottom": null,
            "display": null,
            "flex": null,
            "flex_flow": null,
            "grid_area": null,
            "grid_auto_columns": null,
            "grid_auto_flow": null,
            "grid_auto_rows": null,
            "grid_column": null,
            "grid_gap": null,
            "grid_row": null,
            "grid_template_areas": null,
            "grid_template_columns": null,
            "grid_template_rows": null,
            "height": null,
            "justify_content": null,
            "justify_items": null,
            "left": null,
            "margin": null,
            "max_height": null,
            "max_width": null,
            "min_height": null,
            "min_width": null,
            "object_fit": null,
            "object_position": null,
            "order": null,
            "overflow": null,
            "overflow_x": null,
            "overflow_y": null,
            "padding": null,
            "right": null,
            "top": null,
            "visibility": null,
            "width": null
          }
        },
        "dbcb99e039a4481eb867c559a67214c6": {
          "model_module": "@jupyter-widgets/controls",
          "model_name": "DescriptionStyleModel",
          "model_module_version": "1.5.0",
          "state": {
            "_model_module": "@jupyter-widgets/controls",
            "_model_module_version": "1.5.0",
            "_model_name": "DescriptionStyleModel",
            "_view_count": null,
            "_view_module": "@jupyter-widgets/base",
            "_view_module_version": "1.2.0",
            "_view_name": "StyleView",
            "description_width": ""
          }
        },
        "0bdff71508344c08829cd186cda2870f": {
          "model_module": "@jupyter-widgets/base",
          "model_name": "LayoutModel",
          "model_module_version": "1.2.0",
          "state": {
            "_model_module": "@jupyter-widgets/base",
            "_model_module_version": "1.2.0",
            "_model_name": "LayoutModel",
            "_view_count": null,
            "_view_module": "@jupyter-widgets/base",
            "_view_module_version": "1.2.0",
            "_view_name": "LayoutView",
            "align_content": null,
            "align_items": null,
            "align_self": null,
            "border": null,
            "bottom": null,
            "display": null,
            "flex": null,
            "flex_flow": null,
            "grid_area": null,
            "grid_auto_columns": null,
            "grid_auto_flow": null,
            "grid_auto_rows": null,
            "grid_column": null,
            "grid_gap": null,
            "grid_row": null,
            "grid_template_areas": null,
            "grid_template_columns": null,
            "grid_template_rows": null,
            "height": null,
            "justify_content": null,
            "justify_items": null,
            "left": null,
            "margin": null,
            "max_height": null,
            "max_width": null,
            "min_height": null,
            "min_width": null,
            "object_fit": null,
            "object_position": null,
            "order": null,
            "overflow": null,
            "overflow_x": null,
            "overflow_y": null,
            "padding": null,
            "right": null,
            "top": null,
            "visibility": null,
            "width": null
          }
        },
        "aafcfee67f8e4839a7e243c9baf42b4a": {
          "model_module": "@jupyter-widgets/controls",
          "model_name": "ProgressStyleModel",
          "model_module_version": "1.5.0",
          "state": {
            "_model_module": "@jupyter-widgets/controls",
            "_model_module_version": "1.5.0",
            "_model_name": "ProgressStyleModel",
            "_view_count": null,
            "_view_module": "@jupyter-widgets/base",
            "_view_module_version": "1.2.0",
            "_view_name": "StyleView",
            "bar_color": null,
            "description_width": ""
          }
        },
        "49fbd184caa14b3ea8ca9c032c71a1fd": {
          "model_module": "@jupyter-widgets/base",
          "model_name": "LayoutModel",
          "model_module_version": "1.2.0",
          "state": {
            "_model_module": "@jupyter-widgets/base",
            "_model_module_version": "1.2.0",
            "_model_name": "LayoutModel",
            "_view_count": null,
            "_view_module": "@jupyter-widgets/base",
            "_view_module_version": "1.2.0",
            "_view_name": "LayoutView",
            "align_content": null,
            "align_items": null,
            "align_self": null,
            "border": null,
            "bottom": null,
            "display": null,
            "flex": null,
            "flex_flow": null,
            "grid_area": null,
            "grid_auto_columns": null,
            "grid_auto_flow": null,
            "grid_auto_rows": null,
            "grid_column": null,
            "grid_gap": null,
            "grid_row": null,
            "grid_template_areas": null,
            "grid_template_columns": null,
            "grid_template_rows": null,
            "height": null,
            "justify_content": null,
            "justify_items": null,
            "left": null,
            "margin": null,
            "max_height": null,
            "max_width": null,
            "min_height": null,
            "min_width": null,
            "object_fit": null,
            "object_position": null,
            "order": null,
            "overflow": null,
            "overflow_x": null,
            "overflow_y": null,
            "padding": null,
            "right": null,
            "top": null,
            "visibility": null,
            "width": null
          }
        },
        "b8e2475a81104555acdd5f519decb54d": {
          "model_module": "@jupyter-widgets/controls",
          "model_name": "DescriptionStyleModel",
          "model_module_version": "1.5.0",
          "state": {
            "_model_module": "@jupyter-widgets/controls",
            "_model_module_version": "1.5.0",
            "_model_name": "DescriptionStyleModel",
            "_view_count": null,
            "_view_module": "@jupyter-widgets/base",
            "_view_module_version": "1.2.0",
            "_view_name": "StyleView",
            "description_width": ""
          }
        },
        "cedc3f61e483466a910400c2a5974b61": {
          "model_module": "@jupyter-widgets/controls",
          "model_name": "HBoxModel",
          "model_module_version": "1.5.0",
          "state": {
            "_dom_classes": [],
            "_model_module": "@jupyter-widgets/controls",
            "_model_module_version": "1.5.0",
            "_model_name": "HBoxModel",
            "_view_count": null,
            "_view_module": "@jupyter-widgets/controls",
            "_view_module_version": "1.5.0",
            "_view_name": "HBoxView",
            "box_style": "",
            "children": [
              "IPY_MODEL_09ccc9e4ae8440c88e0e84b4284cb7d8",
              "IPY_MODEL_75a0de4207e740d991178f2562533c86",
              "IPY_MODEL_fa6f4c888f78413db1aa428d6f5f6f73"
            ],
            "layout": "IPY_MODEL_8c1df4bc43694e6abfaea28c30c8056b"
          }
        },
        "09ccc9e4ae8440c88e0e84b4284cb7d8": {
          "model_module": "@jupyter-widgets/controls",
          "model_name": "HTMLModel",
          "model_module_version": "1.5.0",
          "state": {
            "_dom_classes": [],
            "_model_module": "@jupyter-widgets/controls",
            "_model_module_version": "1.5.0",
            "_model_name": "HTMLModel",
            "_view_count": null,
            "_view_module": "@jupyter-widgets/controls",
            "_view_module_version": "1.5.0",
            "_view_name": "HTMLView",
            "description": "",
            "description_tooltip": null,
            "layout": "IPY_MODEL_e1a428b9660846be9b8df39ddf93f12d",
            "placeholder": "​",
            "style": "IPY_MODEL_a0ce297764e546aba11f8b6db5733712",
            "value": "Map: 100%"
          }
        },
        "75a0de4207e740d991178f2562533c86": {
          "model_module": "@jupyter-widgets/controls",
          "model_name": "FloatProgressModel",
          "model_module_version": "1.5.0",
          "state": {
            "_dom_classes": [],
            "_model_module": "@jupyter-widgets/controls",
            "_model_module_version": "1.5.0",
            "_model_name": "FloatProgressModel",
            "_view_count": null,
            "_view_module": "@jupyter-widgets/controls",
            "_view_module_version": "1.5.0",
            "_view_name": "ProgressView",
            "bar_style": "success",
            "description": "",
            "description_tooltip": null,
            "layout": "IPY_MODEL_228af2f0b62d45cda341c36e26cd902f",
            "max": 2000,
            "min": 0,
            "orientation": "horizontal",
            "style": "IPY_MODEL_087226b9fb32410797fb314188cc3c61",
            "value": 2000
          }
        },
        "fa6f4c888f78413db1aa428d6f5f6f73": {
          "model_module": "@jupyter-widgets/controls",
          "model_name": "HTMLModel",
          "model_module_version": "1.5.0",
          "state": {
            "_dom_classes": [],
            "_model_module": "@jupyter-widgets/controls",
            "_model_module_version": "1.5.0",
            "_model_name": "HTMLModel",
            "_view_count": null,
            "_view_module": "@jupyter-widgets/controls",
            "_view_module_version": "1.5.0",
            "_view_name": "HTMLView",
            "description": "",
            "description_tooltip": null,
            "layout": "IPY_MODEL_7bc92cc9aca44d2b9abe9428c7ce5a8c",
            "placeholder": "​",
            "style": "IPY_MODEL_d1b3be3f591e4245a3fc2215e4af21cf",
            "value": " 2000/2000 [00:00&lt;00:00, 8809.71 examples/s]"
          }
        },
        "8c1df4bc43694e6abfaea28c30c8056b": {
          "model_module": "@jupyter-widgets/base",
          "model_name": "LayoutModel",
          "model_module_version": "1.2.0",
          "state": {
            "_model_module": "@jupyter-widgets/base",
            "_model_module_version": "1.2.0",
            "_model_name": "LayoutModel",
            "_view_count": null,
            "_view_module": "@jupyter-widgets/base",
            "_view_module_version": "1.2.0",
            "_view_name": "LayoutView",
            "align_content": null,
            "align_items": null,
            "align_self": null,
            "border": null,
            "bottom": null,
            "display": null,
            "flex": null,
            "flex_flow": null,
            "grid_area": null,
            "grid_auto_columns": null,
            "grid_auto_flow": null,
            "grid_auto_rows": null,
            "grid_column": null,
            "grid_gap": null,
            "grid_row": null,
            "grid_template_areas": null,
            "grid_template_columns": null,
            "grid_template_rows": null,
            "height": null,
            "justify_content": null,
            "justify_items": null,
            "left": null,
            "margin": null,
            "max_height": null,
            "max_width": null,
            "min_height": null,
            "min_width": null,
            "object_fit": null,
            "object_position": null,
            "order": null,
            "overflow": null,
            "overflow_x": null,
            "overflow_y": null,
            "padding": null,
            "right": null,
            "top": null,
            "visibility": null,
            "width": null
          }
        },
        "e1a428b9660846be9b8df39ddf93f12d": {
          "model_module": "@jupyter-widgets/base",
          "model_name": "LayoutModel",
          "model_module_version": "1.2.0",
          "state": {
            "_model_module": "@jupyter-widgets/base",
            "_model_module_version": "1.2.0",
            "_model_name": "LayoutModel",
            "_view_count": null,
            "_view_module": "@jupyter-widgets/base",
            "_view_module_version": "1.2.0",
            "_view_name": "LayoutView",
            "align_content": null,
            "align_items": null,
            "align_self": null,
            "border": null,
            "bottom": null,
            "display": null,
            "flex": null,
            "flex_flow": null,
            "grid_area": null,
            "grid_auto_columns": null,
            "grid_auto_flow": null,
            "grid_auto_rows": null,
            "grid_column": null,
            "grid_gap": null,
            "grid_row": null,
            "grid_template_areas": null,
            "grid_template_columns": null,
            "grid_template_rows": null,
            "height": null,
            "justify_content": null,
            "justify_items": null,
            "left": null,
            "margin": null,
            "max_height": null,
            "max_width": null,
            "min_height": null,
            "min_width": null,
            "object_fit": null,
            "object_position": null,
            "order": null,
            "overflow": null,
            "overflow_x": null,
            "overflow_y": null,
            "padding": null,
            "right": null,
            "top": null,
            "visibility": null,
            "width": null
          }
        },
        "a0ce297764e546aba11f8b6db5733712": {
          "model_module": "@jupyter-widgets/controls",
          "model_name": "DescriptionStyleModel",
          "model_module_version": "1.5.0",
          "state": {
            "_model_module": "@jupyter-widgets/controls",
            "_model_module_version": "1.5.0",
            "_model_name": "DescriptionStyleModel",
            "_view_count": null,
            "_view_module": "@jupyter-widgets/base",
            "_view_module_version": "1.2.0",
            "_view_name": "StyleView",
            "description_width": ""
          }
        },
        "228af2f0b62d45cda341c36e26cd902f": {
          "model_module": "@jupyter-widgets/base",
          "model_name": "LayoutModel",
          "model_module_version": "1.2.0",
          "state": {
            "_model_module": "@jupyter-widgets/base",
            "_model_module_version": "1.2.0",
            "_model_name": "LayoutModel",
            "_view_count": null,
            "_view_module": "@jupyter-widgets/base",
            "_view_module_version": "1.2.0",
            "_view_name": "LayoutView",
            "align_content": null,
            "align_items": null,
            "align_self": null,
            "border": null,
            "bottom": null,
            "display": null,
            "flex": null,
            "flex_flow": null,
            "grid_area": null,
            "grid_auto_columns": null,
            "grid_auto_flow": null,
            "grid_auto_rows": null,
            "grid_column": null,
            "grid_gap": null,
            "grid_row": null,
            "grid_template_areas": null,
            "grid_template_columns": null,
            "grid_template_rows": null,
            "height": null,
            "justify_content": null,
            "justify_items": null,
            "left": null,
            "margin": null,
            "max_height": null,
            "max_width": null,
            "min_height": null,
            "min_width": null,
            "object_fit": null,
            "object_position": null,
            "order": null,
            "overflow": null,
            "overflow_x": null,
            "overflow_y": null,
            "padding": null,
            "right": null,
            "top": null,
            "visibility": null,
            "width": null
          }
        },
        "087226b9fb32410797fb314188cc3c61": {
          "model_module": "@jupyter-widgets/controls",
          "model_name": "ProgressStyleModel",
          "model_module_version": "1.5.0",
          "state": {
            "_model_module": "@jupyter-widgets/controls",
            "_model_module_version": "1.5.0",
            "_model_name": "ProgressStyleModel",
            "_view_count": null,
            "_view_module": "@jupyter-widgets/base",
            "_view_module_version": "1.2.0",
            "_view_name": "StyleView",
            "bar_color": null,
            "description_width": ""
          }
        },
        "7bc92cc9aca44d2b9abe9428c7ce5a8c": {
          "model_module": "@jupyter-widgets/base",
          "model_name": "LayoutModel",
          "model_module_version": "1.2.0",
          "state": {
            "_model_module": "@jupyter-widgets/base",
            "_model_module_version": "1.2.0",
            "_model_name": "LayoutModel",
            "_view_count": null,
            "_view_module": "@jupyter-widgets/base",
            "_view_module_version": "1.2.0",
            "_view_name": "LayoutView",
            "align_content": null,
            "align_items": null,
            "align_self": null,
            "border": null,
            "bottom": null,
            "display": null,
            "flex": null,
            "flex_flow": null,
            "grid_area": null,
            "grid_auto_columns": null,
            "grid_auto_flow": null,
            "grid_auto_rows": null,
            "grid_column": null,
            "grid_gap": null,
            "grid_row": null,
            "grid_template_areas": null,
            "grid_template_columns": null,
            "grid_template_rows": null,
            "height": null,
            "justify_content": null,
            "justify_items": null,
            "left": null,
            "margin": null,
            "max_height": null,
            "max_width": null,
            "min_height": null,
            "min_width": null,
            "object_fit": null,
            "object_position": null,
            "order": null,
            "overflow": null,
            "overflow_x": null,
            "overflow_y": null,
            "padding": null,
            "right": null,
            "top": null,
            "visibility": null,
            "width": null
          }
        },
        "d1b3be3f591e4245a3fc2215e4af21cf": {
          "model_module": "@jupyter-widgets/controls",
          "model_name": "DescriptionStyleModel",
          "model_module_version": "1.5.0",
          "state": {
            "_model_module": "@jupyter-widgets/controls",
            "_model_module_version": "1.5.0",
            "_model_name": "DescriptionStyleModel",
            "_view_count": null,
            "_view_module": "@jupyter-widgets/base",
            "_view_module_version": "1.2.0",
            "_view_name": "StyleView",
            "description_width": ""
          }
        },
        "b1a8d64a68b541e8b79035e687c8a541": {
          "model_module": "@jupyter-widgets/controls",
          "model_name": "HBoxModel",
          "model_module_version": "1.5.0",
          "state": {
            "_dom_classes": [],
            "_model_module": "@jupyter-widgets/controls",
            "_model_module_version": "1.5.0",
            "_model_name": "HBoxModel",
            "_view_count": null,
            "_view_module": "@jupyter-widgets/controls",
            "_view_module_version": "1.5.0",
            "_view_name": "HBoxView",
            "box_style": "",
            "children": [
              "IPY_MODEL_6358b1833bb643aa85022991ddc55cea",
              "IPY_MODEL_773e81562091453bb24989da1255be62",
              "IPY_MODEL_52ff82b10d914a88be1c040d87e6ec52"
            ],
            "layout": "IPY_MODEL_35de2223b230428d8e67c96ff96b9af7"
          }
        },
        "6358b1833bb643aa85022991ddc55cea": {
          "model_module": "@jupyter-widgets/controls",
          "model_name": "HTMLModel",
          "model_module_version": "1.5.0",
          "state": {
            "_dom_classes": [],
            "_model_module": "@jupyter-widgets/controls",
            "_model_module_version": "1.5.0",
            "_model_name": "HTMLModel",
            "_view_count": null,
            "_view_module": "@jupyter-widgets/controls",
            "_view_module_version": "1.5.0",
            "_view_name": "HTMLView",
            "description": "",
            "description_tooltip": null,
            "layout": "IPY_MODEL_9b7e0df770734b0f91c01b0857916685",
            "placeholder": "​",
            "style": "IPY_MODEL_f194914c2de04b2a9e62c7ce89b70dac",
            "value": "Map: 100%"
          }
        },
        "773e81562091453bb24989da1255be62": {
          "model_module": "@jupyter-widgets/controls",
          "model_name": "FloatProgressModel",
          "model_module_version": "1.5.0",
          "state": {
            "_dom_classes": [],
            "_model_module": "@jupyter-widgets/controls",
            "_model_module_version": "1.5.0",
            "_model_name": "FloatProgressModel",
            "_view_count": null,
            "_view_module": "@jupyter-widgets/controls",
            "_view_module_version": "1.5.0",
            "_view_name": "ProgressView",
            "bar_style": "success",
            "description": "",
            "description_tooltip": null,
            "layout": "IPY_MODEL_e4377531368745229c5e2cec5542c77e",
            "max": 2000,
            "min": 0,
            "orientation": "horizontal",
            "style": "IPY_MODEL_abc40f878d09491a809176fe6c1c8984",
            "value": 2000
          }
        },
        "52ff82b10d914a88be1c040d87e6ec52": {
          "model_module": "@jupyter-widgets/controls",
          "model_name": "HTMLModel",
          "model_module_version": "1.5.0",
          "state": {
            "_dom_classes": [],
            "_model_module": "@jupyter-widgets/controls",
            "_model_module_version": "1.5.0",
            "_model_name": "HTMLModel",
            "_view_count": null,
            "_view_module": "@jupyter-widgets/controls",
            "_view_module_version": "1.5.0",
            "_view_name": "HTMLView",
            "description": "",
            "description_tooltip": null,
            "layout": "IPY_MODEL_8d732677293740dfb5b916556fb46cee",
            "placeholder": "​",
            "style": "IPY_MODEL_0d0f3ebefacb47168222b5229ac940b3",
            "value": " 2000/2000 [00:00&lt;00:00, 8382.47 examples/s]"
          }
        },
        "35de2223b230428d8e67c96ff96b9af7": {
          "model_module": "@jupyter-widgets/base",
          "model_name": "LayoutModel",
          "model_module_version": "1.2.0",
          "state": {
            "_model_module": "@jupyter-widgets/base",
            "_model_module_version": "1.2.0",
            "_model_name": "LayoutModel",
            "_view_count": null,
            "_view_module": "@jupyter-widgets/base",
            "_view_module_version": "1.2.0",
            "_view_name": "LayoutView",
            "align_content": null,
            "align_items": null,
            "align_self": null,
            "border": null,
            "bottom": null,
            "display": null,
            "flex": null,
            "flex_flow": null,
            "grid_area": null,
            "grid_auto_columns": null,
            "grid_auto_flow": null,
            "grid_auto_rows": null,
            "grid_column": null,
            "grid_gap": null,
            "grid_row": null,
            "grid_template_areas": null,
            "grid_template_columns": null,
            "grid_template_rows": null,
            "height": null,
            "justify_content": null,
            "justify_items": null,
            "left": null,
            "margin": null,
            "max_height": null,
            "max_width": null,
            "min_height": null,
            "min_width": null,
            "object_fit": null,
            "object_position": null,
            "order": null,
            "overflow": null,
            "overflow_x": null,
            "overflow_y": null,
            "padding": null,
            "right": null,
            "top": null,
            "visibility": null,
            "width": null
          }
        },
        "9b7e0df770734b0f91c01b0857916685": {
          "model_module": "@jupyter-widgets/base",
          "model_name": "LayoutModel",
          "model_module_version": "1.2.0",
          "state": {
            "_model_module": "@jupyter-widgets/base",
            "_model_module_version": "1.2.0",
            "_model_name": "LayoutModel",
            "_view_count": null,
            "_view_module": "@jupyter-widgets/base",
            "_view_module_version": "1.2.0",
            "_view_name": "LayoutView",
            "align_content": null,
            "align_items": null,
            "align_self": null,
            "border": null,
            "bottom": null,
            "display": null,
            "flex": null,
            "flex_flow": null,
            "grid_area": null,
            "grid_auto_columns": null,
            "grid_auto_flow": null,
            "grid_auto_rows": null,
            "grid_column": null,
            "grid_gap": null,
            "grid_row": null,
            "grid_template_areas": null,
            "grid_template_columns": null,
            "grid_template_rows": null,
            "height": null,
            "justify_content": null,
            "justify_items": null,
            "left": null,
            "margin": null,
            "max_height": null,
            "max_width": null,
            "min_height": null,
            "min_width": null,
            "object_fit": null,
            "object_position": null,
            "order": null,
            "overflow": null,
            "overflow_x": null,
            "overflow_y": null,
            "padding": null,
            "right": null,
            "top": null,
            "visibility": null,
            "width": null
          }
        },
        "f194914c2de04b2a9e62c7ce89b70dac": {
          "model_module": "@jupyter-widgets/controls",
          "model_name": "DescriptionStyleModel",
          "model_module_version": "1.5.0",
          "state": {
            "_model_module": "@jupyter-widgets/controls",
            "_model_module_version": "1.5.0",
            "_model_name": "DescriptionStyleModel",
            "_view_count": null,
            "_view_module": "@jupyter-widgets/base",
            "_view_module_version": "1.2.0",
            "_view_name": "StyleView",
            "description_width": ""
          }
        },
        "e4377531368745229c5e2cec5542c77e": {
          "model_module": "@jupyter-widgets/base",
          "model_name": "LayoutModel",
          "model_module_version": "1.2.0",
          "state": {
            "_model_module": "@jupyter-widgets/base",
            "_model_module_version": "1.2.0",
            "_model_name": "LayoutModel",
            "_view_count": null,
            "_view_module": "@jupyter-widgets/base",
            "_view_module_version": "1.2.0",
            "_view_name": "LayoutView",
            "align_content": null,
            "align_items": null,
            "align_self": null,
            "border": null,
            "bottom": null,
            "display": null,
            "flex": null,
            "flex_flow": null,
            "grid_area": null,
            "grid_auto_columns": null,
            "grid_auto_flow": null,
            "grid_auto_rows": null,
            "grid_column": null,
            "grid_gap": null,
            "grid_row": null,
            "grid_template_areas": null,
            "grid_template_columns": null,
            "grid_template_rows": null,
            "height": null,
            "justify_content": null,
            "justify_items": null,
            "left": null,
            "margin": null,
            "max_height": null,
            "max_width": null,
            "min_height": null,
            "min_width": null,
            "object_fit": null,
            "object_position": null,
            "order": null,
            "overflow": null,
            "overflow_x": null,
            "overflow_y": null,
            "padding": null,
            "right": null,
            "top": null,
            "visibility": null,
            "width": null
          }
        },
        "abc40f878d09491a809176fe6c1c8984": {
          "model_module": "@jupyter-widgets/controls",
          "model_name": "ProgressStyleModel",
          "model_module_version": "1.5.0",
          "state": {
            "_model_module": "@jupyter-widgets/controls",
            "_model_module_version": "1.5.0",
            "_model_name": "ProgressStyleModel",
            "_view_count": null,
            "_view_module": "@jupyter-widgets/base",
            "_view_module_version": "1.2.0",
            "_view_name": "StyleView",
            "bar_color": null,
            "description_width": ""
          }
        },
        "8d732677293740dfb5b916556fb46cee": {
          "model_module": "@jupyter-widgets/base",
          "model_name": "LayoutModel",
          "model_module_version": "1.2.0",
          "state": {
            "_model_module": "@jupyter-widgets/base",
            "_model_module_version": "1.2.0",
            "_model_name": "LayoutModel",
            "_view_count": null,
            "_view_module": "@jupyter-widgets/base",
            "_view_module_version": "1.2.0",
            "_view_name": "LayoutView",
            "align_content": null,
            "align_items": null,
            "align_self": null,
            "border": null,
            "bottom": null,
            "display": null,
            "flex": null,
            "flex_flow": null,
            "grid_area": null,
            "grid_auto_columns": null,
            "grid_auto_flow": null,
            "grid_auto_rows": null,
            "grid_column": null,
            "grid_gap": null,
            "grid_row": null,
            "grid_template_areas": null,
            "grid_template_columns": null,
            "grid_template_rows": null,
            "height": null,
            "justify_content": null,
            "justify_items": null,
            "left": null,
            "margin": null,
            "max_height": null,
            "max_width": null,
            "min_height": null,
            "min_width": null,
            "object_fit": null,
            "object_position": null,
            "order": null,
            "overflow": null,
            "overflow_x": null,
            "overflow_y": null,
            "padding": null,
            "right": null,
            "top": null,
            "visibility": null,
            "width": null
          }
        },
        "0d0f3ebefacb47168222b5229ac940b3": {
          "model_module": "@jupyter-widgets/controls",
          "model_name": "DescriptionStyleModel",
          "model_module_version": "1.5.0",
          "state": {
            "_model_module": "@jupyter-widgets/controls",
            "_model_module_version": "1.5.0",
            "_model_name": "DescriptionStyleModel",
            "_view_count": null,
            "_view_module": "@jupyter-widgets/base",
            "_view_module_version": "1.2.0",
            "_view_name": "StyleView",
            "description_width": ""
          }
        },
        "8fc296193c8f475da0e2c9f07377f9da": {
          "model_module": "@jupyter-widgets/controls",
          "model_name": "HBoxModel",
          "model_module_version": "1.5.0",
          "state": {
            "_dom_classes": [],
            "_model_module": "@jupyter-widgets/controls",
            "_model_module_version": "1.5.0",
            "_model_name": "HBoxModel",
            "_view_count": null,
            "_view_module": "@jupyter-widgets/controls",
            "_view_module_version": "1.5.0",
            "_view_name": "HBoxView",
            "box_style": "",
            "children": [
              "IPY_MODEL_15f41d6a1306483c987e1581ddaf106c",
              "IPY_MODEL_ed56c09db48c42dca94aa86d7fa0a082",
              "IPY_MODEL_7ae5f7207de84063a9b332ad9b385056"
            ],
            "layout": "IPY_MODEL_a26ac4df0da0412da26128a0fdc9a058"
          }
        },
        "15f41d6a1306483c987e1581ddaf106c": {
          "model_module": "@jupyter-widgets/controls",
          "model_name": "HTMLModel",
          "model_module_version": "1.5.0",
          "state": {
            "_dom_classes": [],
            "_model_module": "@jupyter-widgets/controls",
            "_model_module_version": "1.5.0",
            "_model_name": "HTMLModel",
            "_view_count": null,
            "_view_module": "@jupyter-widgets/controls",
            "_view_module_version": "1.5.0",
            "_view_name": "HTMLView",
            "description": "",
            "description_tooltip": null,
            "layout": "IPY_MODEL_55817a47e0d747948c83ee6e2ab1cd28",
            "placeholder": "​",
            "style": "IPY_MODEL_db5c63c95aae42b5b979c6a9bcec0c22",
            "value": "Map: 100%"
          }
        },
        "ed56c09db48c42dca94aa86d7fa0a082": {
          "model_module": "@jupyter-widgets/controls",
          "model_name": "FloatProgressModel",
          "model_module_version": "1.5.0",
          "state": {
            "_dom_classes": [],
            "_model_module": "@jupyter-widgets/controls",
            "_model_module_version": "1.5.0",
            "_model_name": "FloatProgressModel",
            "_view_count": null,
            "_view_module": "@jupyter-widgets/controls",
            "_view_module_version": "1.5.0",
            "_view_name": "ProgressView",
            "bar_style": "success",
            "description": "",
            "description_tooltip": null,
            "layout": "IPY_MODEL_55b2f1161cb74071bf277ef52fc90564",
            "max": 16000,
            "min": 0,
            "orientation": "horizontal",
            "style": "IPY_MODEL_9864018f410b4568b485f20162f1c41e",
            "value": 16000
          }
        },
        "7ae5f7207de84063a9b332ad9b385056": {
          "model_module": "@jupyter-widgets/controls",
          "model_name": "HTMLModel",
          "model_module_version": "1.5.0",
          "state": {
            "_dom_classes": [],
            "_model_module": "@jupyter-widgets/controls",
            "_model_module_version": "1.5.0",
            "_model_name": "HTMLModel",
            "_view_count": null,
            "_view_module": "@jupyter-widgets/controls",
            "_view_module_version": "1.5.0",
            "_view_name": "HTMLView",
            "description": "",
            "description_tooltip": null,
            "layout": "IPY_MODEL_76fe35d56ee142828696ef6b38a3d3b5",
            "placeholder": "​",
            "style": "IPY_MODEL_9c1320fffea4407495ff4ba936f2fd66",
            "value": " 16000/16000 [00:33&lt;00:00, 482.19 examples/s]"
          }
        },
        "a26ac4df0da0412da26128a0fdc9a058": {
          "model_module": "@jupyter-widgets/base",
          "model_name": "LayoutModel",
          "model_module_version": "1.2.0",
          "state": {
            "_model_module": "@jupyter-widgets/base",
            "_model_module_version": "1.2.0",
            "_model_name": "LayoutModel",
            "_view_count": null,
            "_view_module": "@jupyter-widgets/base",
            "_view_module_version": "1.2.0",
            "_view_name": "LayoutView",
            "align_content": null,
            "align_items": null,
            "align_self": null,
            "border": null,
            "bottom": null,
            "display": null,
            "flex": null,
            "flex_flow": null,
            "grid_area": null,
            "grid_auto_columns": null,
            "grid_auto_flow": null,
            "grid_auto_rows": null,
            "grid_column": null,
            "grid_gap": null,
            "grid_row": null,
            "grid_template_areas": null,
            "grid_template_columns": null,
            "grid_template_rows": null,
            "height": null,
            "justify_content": null,
            "justify_items": null,
            "left": null,
            "margin": null,
            "max_height": null,
            "max_width": null,
            "min_height": null,
            "min_width": null,
            "object_fit": null,
            "object_position": null,
            "order": null,
            "overflow": null,
            "overflow_x": null,
            "overflow_y": null,
            "padding": null,
            "right": null,
            "top": null,
            "visibility": null,
            "width": null
          }
        },
        "55817a47e0d747948c83ee6e2ab1cd28": {
          "model_module": "@jupyter-widgets/base",
          "model_name": "LayoutModel",
          "model_module_version": "1.2.0",
          "state": {
            "_model_module": "@jupyter-widgets/base",
            "_model_module_version": "1.2.0",
            "_model_name": "LayoutModel",
            "_view_count": null,
            "_view_module": "@jupyter-widgets/base",
            "_view_module_version": "1.2.0",
            "_view_name": "LayoutView",
            "align_content": null,
            "align_items": null,
            "align_self": null,
            "border": null,
            "bottom": null,
            "display": null,
            "flex": null,
            "flex_flow": null,
            "grid_area": null,
            "grid_auto_columns": null,
            "grid_auto_flow": null,
            "grid_auto_rows": null,
            "grid_column": null,
            "grid_gap": null,
            "grid_row": null,
            "grid_template_areas": null,
            "grid_template_columns": null,
            "grid_template_rows": null,
            "height": null,
            "justify_content": null,
            "justify_items": null,
            "left": null,
            "margin": null,
            "max_height": null,
            "max_width": null,
            "min_height": null,
            "min_width": null,
            "object_fit": null,
            "object_position": null,
            "order": null,
            "overflow": null,
            "overflow_x": null,
            "overflow_y": null,
            "padding": null,
            "right": null,
            "top": null,
            "visibility": null,
            "width": null
          }
        },
        "db5c63c95aae42b5b979c6a9bcec0c22": {
          "model_module": "@jupyter-widgets/controls",
          "model_name": "DescriptionStyleModel",
          "model_module_version": "1.5.0",
          "state": {
            "_model_module": "@jupyter-widgets/controls",
            "_model_module_version": "1.5.0",
            "_model_name": "DescriptionStyleModel",
            "_view_count": null,
            "_view_module": "@jupyter-widgets/base",
            "_view_module_version": "1.2.0",
            "_view_name": "StyleView",
            "description_width": ""
          }
        },
        "55b2f1161cb74071bf277ef52fc90564": {
          "model_module": "@jupyter-widgets/base",
          "model_name": "LayoutModel",
          "model_module_version": "1.2.0",
          "state": {
            "_model_module": "@jupyter-widgets/base",
            "_model_module_version": "1.2.0",
            "_model_name": "LayoutModel",
            "_view_count": null,
            "_view_module": "@jupyter-widgets/base",
            "_view_module_version": "1.2.0",
            "_view_name": "LayoutView",
            "align_content": null,
            "align_items": null,
            "align_self": null,
            "border": null,
            "bottom": null,
            "display": null,
            "flex": null,
            "flex_flow": null,
            "grid_area": null,
            "grid_auto_columns": null,
            "grid_auto_flow": null,
            "grid_auto_rows": null,
            "grid_column": null,
            "grid_gap": null,
            "grid_row": null,
            "grid_template_areas": null,
            "grid_template_columns": null,
            "grid_template_rows": null,
            "height": null,
            "justify_content": null,
            "justify_items": null,
            "left": null,
            "margin": null,
            "max_height": null,
            "max_width": null,
            "min_height": null,
            "min_width": null,
            "object_fit": null,
            "object_position": null,
            "order": null,
            "overflow": null,
            "overflow_x": null,
            "overflow_y": null,
            "padding": null,
            "right": null,
            "top": null,
            "visibility": null,
            "width": null
          }
        },
        "9864018f410b4568b485f20162f1c41e": {
          "model_module": "@jupyter-widgets/controls",
          "model_name": "ProgressStyleModel",
          "model_module_version": "1.5.0",
          "state": {
            "_model_module": "@jupyter-widgets/controls",
            "_model_module_version": "1.5.0",
            "_model_name": "ProgressStyleModel",
            "_view_count": null,
            "_view_module": "@jupyter-widgets/base",
            "_view_module_version": "1.2.0",
            "_view_name": "StyleView",
            "bar_color": null,
            "description_width": ""
          }
        },
        "76fe35d56ee142828696ef6b38a3d3b5": {
          "model_module": "@jupyter-widgets/base",
          "model_name": "LayoutModel",
          "model_module_version": "1.2.0",
          "state": {
            "_model_module": "@jupyter-widgets/base",
            "_model_module_version": "1.2.0",
            "_model_name": "LayoutModel",
            "_view_count": null,
            "_view_module": "@jupyter-widgets/base",
            "_view_module_version": "1.2.0",
            "_view_name": "LayoutView",
            "align_content": null,
            "align_items": null,
            "align_self": null,
            "border": null,
            "bottom": null,
            "display": null,
            "flex": null,
            "flex_flow": null,
            "grid_area": null,
            "grid_auto_columns": null,
            "grid_auto_flow": null,
            "grid_auto_rows": null,
            "grid_column": null,
            "grid_gap": null,
            "grid_row": null,
            "grid_template_areas": null,
            "grid_template_columns": null,
            "grid_template_rows": null,
            "height": null,
            "justify_content": null,
            "justify_items": null,
            "left": null,
            "margin": null,
            "max_height": null,
            "max_width": null,
            "min_height": null,
            "min_width": null,
            "object_fit": null,
            "object_position": null,
            "order": null,
            "overflow": null,
            "overflow_x": null,
            "overflow_y": null,
            "padding": null,
            "right": null,
            "top": null,
            "visibility": null,
            "width": null
          }
        },
        "9c1320fffea4407495ff4ba936f2fd66": {
          "model_module": "@jupyter-widgets/controls",
          "model_name": "DescriptionStyleModel",
          "model_module_version": "1.5.0",
          "state": {
            "_model_module": "@jupyter-widgets/controls",
            "_model_module_version": "1.5.0",
            "_model_name": "DescriptionStyleModel",
            "_view_count": null,
            "_view_module": "@jupyter-widgets/base",
            "_view_module_version": "1.2.0",
            "_view_name": "StyleView",
            "description_width": ""
          }
        },
        "cb64ed1235b14014932474db0d34b392": {
          "model_module": "@jupyter-widgets/controls",
          "model_name": "HBoxModel",
          "model_module_version": "1.5.0",
          "state": {
            "_dom_classes": [],
            "_model_module": "@jupyter-widgets/controls",
            "_model_module_version": "1.5.0",
            "_model_name": "HBoxModel",
            "_view_count": null,
            "_view_module": "@jupyter-widgets/controls",
            "_view_module_version": "1.5.0",
            "_view_name": "HBoxView",
            "box_style": "",
            "children": [
              "IPY_MODEL_9eec545b3e31408d90d2f9da9703cc96",
              "IPY_MODEL_ae3d37bfc7be4822bcd8955e057c5891",
              "IPY_MODEL_89e060c6789e4bad8ca5db4452944073"
            ],
            "layout": "IPY_MODEL_c3267d1750254f1fbdee18952c4932a9"
          }
        },
        "9eec545b3e31408d90d2f9da9703cc96": {
          "model_module": "@jupyter-widgets/controls",
          "model_name": "HTMLModel",
          "model_module_version": "1.5.0",
          "state": {
            "_dom_classes": [],
            "_model_module": "@jupyter-widgets/controls",
            "_model_module_version": "1.5.0",
            "_model_name": "HTMLModel",
            "_view_count": null,
            "_view_module": "@jupyter-widgets/controls",
            "_view_module_version": "1.5.0",
            "_view_name": "HTMLView",
            "description": "",
            "description_tooltip": null,
            "layout": "IPY_MODEL_df8145b6bbab430184fa7cfa8aa19ea8",
            "placeholder": "​",
            "style": "IPY_MODEL_bdbc89cc48114bcea0f105fb7abea704",
            "value": "Map: 100%"
          }
        },
        "ae3d37bfc7be4822bcd8955e057c5891": {
          "model_module": "@jupyter-widgets/controls",
          "model_name": "FloatProgressModel",
          "model_module_version": "1.5.0",
          "state": {
            "_dom_classes": [],
            "_model_module": "@jupyter-widgets/controls",
            "_model_module_version": "1.5.0",
            "_model_name": "FloatProgressModel",
            "_view_count": null,
            "_view_module": "@jupyter-widgets/controls",
            "_view_module_version": "1.5.0",
            "_view_name": "ProgressView",
            "bar_style": "success",
            "description": "",
            "description_tooltip": null,
            "layout": "IPY_MODEL_586ddac17f364a69a80d69bec77ad10b",
            "max": 2000,
            "min": 0,
            "orientation": "horizontal",
            "style": "IPY_MODEL_7f82eaa463fc494c9665e755f9d191d2",
            "value": 2000
          }
        },
        "89e060c6789e4bad8ca5db4452944073": {
          "model_module": "@jupyter-widgets/controls",
          "model_name": "HTMLModel",
          "model_module_version": "1.5.0",
          "state": {
            "_dom_classes": [],
            "_model_module": "@jupyter-widgets/controls",
            "_model_module_version": "1.5.0",
            "_model_name": "HTMLModel",
            "_view_count": null,
            "_view_module": "@jupyter-widgets/controls",
            "_view_module_version": "1.5.0",
            "_view_name": "HTMLView",
            "description": "",
            "description_tooltip": null,
            "layout": "IPY_MODEL_6949374552d14272b388543ea7c97b38",
            "placeholder": "​",
            "style": "IPY_MODEL_82103e912ca944c9bec787c2a8b8de70",
            "value": " 2000/2000 [00:03&lt;00:00, 596.26 examples/s]"
          }
        },
        "c3267d1750254f1fbdee18952c4932a9": {
          "model_module": "@jupyter-widgets/base",
          "model_name": "LayoutModel",
          "model_module_version": "1.2.0",
          "state": {
            "_model_module": "@jupyter-widgets/base",
            "_model_module_version": "1.2.0",
            "_model_name": "LayoutModel",
            "_view_count": null,
            "_view_module": "@jupyter-widgets/base",
            "_view_module_version": "1.2.0",
            "_view_name": "LayoutView",
            "align_content": null,
            "align_items": null,
            "align_self": null,
            "border": null,
            "bottom": null,
            "display": null,
            "flex": null,
            "flex_flow": null,
            "grid_area": null,
            "grid_auto_columns": null,
            "grid_auto_flow": null,
            "grid_auto_rows": null,
            "grid_column": null,
            "grid_gap": null,
            "grid_row": null,
            "grid_template_areas": null,
            "grid_template_columns": null,
            "grid_template_rows": null,
            "height": null,
            "justify_content": null,
            "justify_items": null,
            "left": null,
            "margin": null,
            "max_height": null,
            "max_width": null,
            "min_height": null,
            "min_width": null,
            "object_fit": null,
            "object_position": null,
            "order": null,
            "overflow": null,
            "overflow_x": null,
            "overflow_y": null,
            "padding": null,
            "right": null,
            "top": null,
            "visibility": null,
            "width": null
          }
        },
        "df8145b6bbab430184fa7cfa8aa19ea8": {
          "model_module": "@jupyter-widgets/base",
          "model_name": "LayoutModel",
          "model_module_version": "1.2.0",
          "state": {
            "_model_module": "@jupyter-widgets/base",
            "_model_module_version": "1.2.0",
            "_model_name": "LayoutModel",
            "_view_count": null,
            "_view_module": "@jupyter-widgets/base",
            "_view_module_version": "1.2.0",
            "_view_name": "LayoutView",
            "align_content": null,
            "align_items": null,
            "align_self": null,
            "border": null,
            "bottom": null,
            "display": null,
            "flex": null,
            "flex_flow": null,
            "grid_area": null,
            "grid_auto_columns": null,
            "grid_auto_flow": null,
            "grid_auto_rows": null,
            "grid_column": null,
            "grid_gap": null,
            "grid_row": null,
            "grid_template_areas": null,
            "grid_template_columns": null,
            "grid_template_rows": null,
            "height": null,
            "justify_content": null,
            "justify_items": null,
            "left": null,
            "margin": null,
            "max_height": null,
            "max_width": null,
            "min_height": null,
            "min_width": null,
            "object_fit": null,
            "object_position": null,
            "order": null,
            "overflow": null,
            "overflow_x": null,
            "overflow_y": null,
            "padding": null,
            "right": null,
            "top": null,
            "visibility": null,
            "width": null
          }
        },
        "bdbc89cc48114bcea0f105fb7abea704": {
          "model_module": "@jupyter-widgets/controls",
          "model_name": "DescriptionStyleModel",
          "model_module_version": "1.5.0",
          "state": {
            "_model_module": "@jupyter-widgets/controls",
            "_model_module_version": "1.5.0",
            "_model_name": "DescriptionStyleModel",
            "_view_count": null,
            "_view_module": "@jupyter-widgets/base",
            "_view_module_version": "1.2.0",
            "_view_name": "StyleView",
            "description_width": ""
          }
        },
        "586ddac17f364a69a80d69bec77ad10b": {
          "model_module": "@jupyter-widgets/base",
          "model_name": "LayoutModel",
          "model_module_version": "1.2.0",
          "state": {
            "_model_module": "@jupyter-widgets/base",
            "_model_module_version": "1.2.0",
            "_model_name": "LayoutModel",
            "_view_count": null,
            "_view_module": "@jupyter-widgets/base",
            "_view_module_version": "1.2.0",
            "_view_name": "LayoutView",
            "align_content": null,
            "align_items": null,
            "align_self": null,
            "border": null,
            "bottom": null,
            "display": null,
            "flex": null,
            "flex_flow": null,
            "grid_area": null,
            "grid_auto_columns": null,
            "grid_auto_flow": null,
            "grid_auto_rows": null,
            "grid_column": null,
            "grid_gap": null,
            "grid_row": null,
            "grid_template_areas": null,
            "grid_template_columns": null,
            "grid_template_rows": null,
            "height": null,
            "justify_content": null,
            "justify_items": null,
            "left": null,
            "margin": null,
            "max_height": null,
            "max_width": null,
            "min_height": null,
            "min_width": null,
            "object_fit": null,
            "object_position": null,
            "order": null,
            "overflow": null,
            "overflow_x": null,
            "overflow_y": null,
            "padding": null,
            "right": null,
            "top": null,
            "visibility": null,
            "width": null
          }
        },
        "7f82eaa463fc494c9665e755f9d191d2": {
          "model_module": "@jupyter-widgets/controls",
          "model_name": "ProgressStyleModel",
          "model_module_version": "1.5.0",
          "state": {
            "_model_module": "@jupyter-widgets/controls",
            "_model_module_version": "1.5.0",
            "_model_name": "ProgressStyleModel",
            "_view_count": null,
            "_view_module": "@jupyter-widgets/base",
            "_view_module_version": "1.2.0",
            "_view_name": "StyleView",
            "bar_color": null,
            "description_width": ""
          }
        },
        "6949374552d14272b388543ea7c97b38": {
          "model_module": "@jupyter-widgets/base",
          "model_name": "LayoutModel",
          "model_module_version": "1.2.0",
          "state": {
            "_model_module": "@jupyter-widgets/base",
            "_model_module_version": "1.2.0",
            "_model_name": "LayoutModel",
            "_view_count": null,
            "_view_module": "@jupyter-widgets/base",
            "_view_module_version": "1.2.0",
            "_view_name": "LayoutView",
            "align_content": null,
            "align_items": null,
            "align_self": null,
            "border": null,
            "bottom": null,
            "display": null,
            "flex": null,
            "flex_flow": null,
            "grid_area": null,
            "grid_auto_columns": null,
            "grid_auto_flow": null,
            "grid_auto_rows": null,
            "grid_column": null,
            "grid_gap": null,
            "grid_row": null,
            "grid_template_areas": null,
            "grid_template_columns": null,
            "grid_template_rows": null,
            "height": null,
            "justify_content": null,
            "justify_items": null,
            "left": null,
            "margin": null,
            "max_height": null,
            "max_width": null,
            "min_height": null,
            "min_width": null,
            "object_fit": null,
            "object_position": null,
            "order": null,
            "overflow": null,
            "overflow_x": null,
            "overflow_y": null,
            "padding": null,
            "right": null,
            "top": null,
            "visibility": null,
            "width": null
          }
        },
        "82103e912ca944c9bec787c2a8b8de70": {
          "model_module": "@jupyter-widgets/controls",
          "model_name": "DescriptionStyleModel",
          "model_module_version": "1.5.0",
          "state": {
            "_model_module": "@jupyter-widgets/controls",
            "_model_module_version": "1.5.0",
            "_model_name": "DescriptionStyleModel",
            "_view_count": null,
            "_view_module": "@jupyter-widgets/base",
            "_view_module_version": "1.2.0",
            "_view_name": "StyleView",
            "description_width": ""
          }
        },
        "5413e63d424d4e05ad84b42410597051": {
          "model_module": "@jupyter-widgets/controls",
          "model_name": "HBoxModel",
          "model_module_version": "1.5.0",
          "state": {
            "_dom_classes": [],
            "_model_module": "@jupyter-widgets/controls",
            "_model_module_version": "1.5.0",
            "_model_name": "HBoxModel",
            "_view_count": null,
            "_view_module": "@jupyter-widgets/controls",
            "_view_module_version": "1.5.0",
            "_view_name": "HBoxView",
            "box_style": "",
            "children": [
              "IPY_MODEL_90dfde14734a4de3b1361fdee49eeb51",
              "IPY_MODEL_8e9f0312fac74b2fa016da6ef3f86a6d",
              "IPY_MODEL_180230d26740434fbc630170495fed31"
            ],
            "layout": "IPY_MODEL_27162f83c3f741aca5f118d2776d6a74"
          }
        },
        "90dfde14734a4de3b1361fdee49eeb51": {
          "model_module": "@jupyter-widgets/controls",
          "model_name": "HTMLModel",
          "model_module_version": "1.5.0",
          "state": {
            "_dom_classes": [],
            "_model_module": "@jupyter-widgets/controls",
            "_model_module_version": "1.5.0",
            "_model_name": "HTMLModel",
            "_view_count": null,
            "_view_module": "@jupyter-widgets/controls",
            "_view_module_version": "1.5.0",
            "_view_name": "HTMLView",
            "description": "",
            "description_tooltip": null,
            "layout": "IPY_MODEL_cdda209c64b443059ec46f214fe92508",
            "placeholder": "​",
            "style": "IPY_MODEL_f0f2a1c459f648fd9ec3c636073f80b2",
            "value": "Map: 100%"
          }
        },
        "8e9f0312fac74b2fa016da6ef3f86a6d": {
          "model_module": "@jupyter-widgets/controls",
          "model_name": "FloatProgressModel",
          "model_module_version": "1.5.0",
          "state": {
            "_dom_classes": [],
            "_model_module": "@jupyter-widgets/controls",
            "_model_module_version": "1.5.0",
            "_model_name": "FloatProgressModel",
            "_view_count": null,
            "_view_module": "@jupyter-widgets/controls",
            "_view_module_version": "1.5.0",
            "_view_name": "ProgressView",
            "bar_style": "success",
            "description": "",
            "description_tooltip": null,
            "layout": "IPY_MODEL_4e9070ec04f441d9a922a6a0b9c1c153",
            "max": 2000,
            "min": 0,
            "orientation": "horizontal",
            "style": "IPY_MODEL_5f6b6d541a1b435d92d7e904449cd135",
            "value": 2000
          }
        },
        "180230d26740434fbc630170495fed31": {
          "model_module": "@jupyter-widgets/controls",
          "model_name": "HTMLModel",
          "model_module_version": "1.5.0",
          "state": {
            "_dom_classes": [],
            "_model_module": "@jupyter-widgets/controls",
            "_model_module_version": "1.5.0",
            "_model_name": "HTMLModel",
            "_view_count": null,
            "_view_module": "@jupyter-widgets/controls",
            "_view_module_version": "1.5.0",
            "_view_name": "HTMLView",
            "description": "",
            "description_tooltip": null,
            "layout": "IPY_MODEL_930dad85df604fcc9281d0861c8aab81",
            "placeholder": "​",
            "style": "IPY_MODEL_fa2e6051f0d84dab918c3526c9322cc9",
            "value": " 2000/2000 [00:03&lt;00:00, 582.54 examples/s]"
          }
        },
        "27162f83c3f741aca5f118d2776d6a74": {
          "model_module": "@jupyter-widgets/base",
          "model_name": "LayoutModel",
          "model_module_version": "1.2.0",
          "state": {
            "_model_module": "@jupyter-widgets/base",
            "_model_module_version": "1.2.0",
            "_model_name": "LayoutModel",
            "_view_count": null,
            "_view_module": "@jupyter-widgets/base",
            "_view_module_version": "1.2.0",
            "_view_name": "LayoutView",
            "align_content": null,
            "align_items": null,
            "align_self": null,
            "border": null,
            "bottom": null,
            "display": null,
            "flex": null,
            "flex_flow": null,
            "grid_area": null,
            "grid_auto_columns": null,
            "grid_auto_flow": null,
            "grid_auto_rows": null,
            "grid_column": null,
            "grid_gap": null,
            "grid_row": null,
            "grid_template_areas": null,
            "grid_template_columns": null,
            "grid_template_rows": null,
            "height": null,
            "justify_content": null,
            "justify_items": null,
            "left": null,
            "margin": null,
            "max_height": null,
            "max_width": null,
            "min_height": null,
            "min_width": null,
            "object_fit": null,
            "object_position": null,
            "order": null,
            "overflow": null,
            "overflow_x": null,
            "overflow_y": null,
            "padding": null,
            "right": null,
            "top": null,
            "visibility": null,
            "width": null
          }
        },
        "cdda209c64b443059ec46f214fe92508": {
          "model_module": "@jupyter-widgets/base",
          "model_name": "LayoutModel",
          "model_module_version": "1.2.0",
          "state": {
            "_model_module": "@jupyter-widgets/base",
            "_model_module_version": "1.2.0",
            "_model_name": "LayoutModel",
            "_view_count": null,
            "_view_module": "@jupyter-widgets/base",
            "_view_module_version": "1.2.0",
            "_view_name": "LayoutView",
            "align_content": null,
            "align_items": null,
            "align_self": null,
            "border": null,
            "bottom": null,
            "display": null,
            "flex": null,
            "flex_flow": null,
            "grid_area": null,
            "grid_auto_columns": null,
            "grid_auto_flow": null,
            "grid_auto_rows": null,
            "grid_column": null,
            "grid_gap": null,
            "grid_row": null,
            "grid_template_areas": null,
            "grid_template_columns": null,
            "grid_template_rows": null,
            "height": null,
            "justify_content": null,
            "justify_items": null,
            "left": null,
            "margin": null,
            "max_height": null,
            "max_width": null,
            "min_height": null,
            "min_width": null,
            "object_fit": null,
            "object_position": null,
            "order": null,
            "overflow": null,
            "overflow_x": null,
            "overflow_y": null,
            "padding": null,
            "right": null,
            "top": null,
            "visibility": null,
            "width": null
          }
        },
        "f0f2a1c459f648fd9ec3c636073f80b2": {
          "model_module": "@jupyter-widgets/controls",
          "model_name": "DescriptionStyleModel",
          "model_module_version": "1.5.0",
          "state": {
            "_model_module": "@jupyter-widgets/controls",
            "_model_module_version": "1.5.0",
            "_model_name": "DescriptionStyleModel",
            "_view_count": null,
            "_view_module": "@jupyter-widgets/base",
            "_view_module_version": "1.2.0",
            "_view_name": "StyleView",
            "description_width": ""
          }
        },
        "4e9070ec04f441d9a922a6a0b9c1c153": {
          "model_module": "@jupyter-widgets/base",
          "model_name": "LayoutModel",
          "model_module_version": "1.2.0",
          "state": {
            "_model_module": "@jupyter-widgets/base",
            "_model_module_version": "1.2.0",
            "_model_name": "LayoutModel",
            "_view_count": null,
            "_view_module": "@jupyter-widgets/base",
            "_view_module_version": "1.2.0",
            "_view_name": "LayoutView",
            "align_content": null,
            "align_items": null,
            "align_self": null,
            "border": null,
            "bottom": null,
            "display": null,
            "flex": null,
            "flex_flow": null,
            "grid_area": null,
            "grid_auto_columns": null,
            "grid_auto_flow": null,
            "grid_auto_rows": null,
            "grid_column": null,
            "grid_gap": null,
            "grid_row": null,
            "grid_template_areas": null,
            "grid_template_columns": null,
            "grid_template_rows": null,
            "height": null,
            "justify_content": null,
            "justify_items": null,
            "left": null,
            "margin": null,
            "max_height": null,
            "max_width": null,
            "min_height": null,
            "min_width": null,
            "object_fit": null,
            "object_position": null,
            "order": null,
            "overflow": null,
            "overflow_x": null,
            "overflow_y": null,
            "padding": null,
            "right": null,
            "top": null,
            "visibility": null,
            "width": null
          }
        },
        "5f6b6d541a1b435d92d7e904449cd135": {
          "model_module": "@jupyter-widgets/controls",
          "model_name": "ProgressStyleModel",
          "model_module_version": "1.5.0",
          "state": {
            "_model_module": "@jupyter-widgets/controls",
            "_model_module_version": "1.5.0",
            "_model_name": "ProgressStyleModel",
            "_view_count": null,
            "_view_module": "@jupyter-widgets/base",
            "_view_module_version": "1.2.0",
            "_view_name": "StyleView",
            "bar_color": null,
            "description_width": ""
          }
        },
        "930dad85df604fcc9281d0861c8aab81": {
          "model_module": "@jupyter-widgets/base",
          "model_name": "LayoutModel",
          "model_module_version": "1.2.0",
          "state": {
            "_model_module": "@jupyter-widgets/base",
            "_model_module_version": "1.2.0",
            "_model_name": "LayoutModel",
            "_view_count": null,
            "_view_module": "@jupyter-widgets/base",
            "_view_module_version": "1.2.0",
            "_view_name": "LayoutView",
            "align_content": null,
            "align_items": null,
            "align_self": null,
            "border": null,
            "bottom": null,
            "display": null,
            "flex": null,
            "flex_flow": null,
            "grid_area": null,
            "grid_auto_columns": null,
            "grid_auto_flow": null,
            "grid_auto_rows": null,
            "grid_column": null,
            "grid_gap": null,
            "grid_row": null,
            "grid_template_areas": null,
            "grid_template_columns": null,
            "grid_template_rows": null,
            "height": null,
            "justify_content": null,
            "justify_items": null,
            "left": null,
            "margin": null,
            "max_height": null,
            "max_width": null,
            "min_height": null,
            "min_width": null,
            "object_fit": null,
            "object_position": null,
            "order": null,
            "overflow": null,
            "overflow_x": null,
            "overflow_y": null,
            "padding": null,
            "right": null,
            "top": null,
            "visibility": null,
            "width": null
          }
        },
        "fa2e6051f0d84dab918c3526c9322cc9": {
          "model_module": "@jupyter-widgets/controls",
          "model_name": "DescriptionStyleModel",
          "model_module_version": "1.5.0",
          "state": {
            "_model_module": "@jupyter-widgets/controls",
            "_model_module_version": "1.5.0",
            "_model_name": "DescriptionStyleModel",
            "_view_count": null,
            "_view_module": "@jupyter-widgets/base",
            "_view_module_version": "1.2.0",
            "_view_name": "StyleView",
            "description_width": ""
          }
        },
        "ee6ba1d48aa445b0921d9be4f2ed0783": {
          "model_module": "@jupyter-widgets/controls",
          "model_name": "VBoxModel",
          "model_module_version": "1.5.0",
          "state": {
            "_dom_classes": [],
            "_model_module": "@jupyter-widgets/controls",
            "_model_module_version": "1.5.0",
            "_model_name": "VBoxModel",
            "_view_count": null,
            "_view_module": "@jupyter-widgets/controls",
            "_view_module_version": "1.5.0",
            "_view_name": "VBoxView",
            "box_style": "",
            "children": [
              "IPY_MODEL_622f3cddc40b4d3cb8cc6377f57dc25d",
              "IPY_MODEL_1c923b82ec194055b93cc3fc61bf37d8",
              "IPY_MODEL_3cf674e4b4e6476d9f41a2501c11f4ec",
              "IPY_MODEL_65031a7385aa452f80c10e21502e4822"
            ],
            "layout": "IPY_MODEL_fe98a852df734bfebc02cf0d52d248e3"
          }
        },
        "85ad111163e14df8becb3e4c2da779f3": {
          "model_module": "@jupyter-widgets/controls",
          "model_name": "HTMLModel",
          "model_module_version": "1.5.0",
          "state": {
            "_dom_classes": [],
            "_model_module": "@jupyter-widgets/controls",
            "_model_module_version": "1.5.0",
            "_model_name": "HTMLModel",
            "_view_count": null,
            "_view_module": "@jupyter-widgets/controls",
            "_view_module_version": "1.5.0",
            "_view_name": "HTMLView",
            "description": "",
            "description_tooltip": null,
            "layout": "IPY_MODEL_4e12ae4809174b18ac82dfac7d8d1554",
            "placeholder": "​",
            "style": "IPY_MODEL_8dc72d7f6da94d2aa8cb0773461792e3",
            "value": "<center> <img\nsrc=https://huggingface.co/front/assets/huggingface_logo-noborder.svg\nalt='Hugging Face'> <br> Copy a token from <a\nhref=\"https://huggingface.co/settings/tokens\" target=\"_blank\">your Hugging Face\ntokens page</a> and paste it below. <br> Immediately click login after copying\nyour token or it might be stored in plain text in this notebook file. </center>"
          }
        },
        "3e3e5a5faba3491d882fe0519ba1c601": {
          "model_module": "@jupyter-widgets/controls",
          "model_name": "PasswordModel",
          "model_module_version": "1.5.0",
          "state": {
            "_dom_classes": [],
            "_model_module": "@jupyter-widgets/controls",
            "_model_module_version": "1.5.0",
            "_model_name": "PasswordModel",
            "_view_count": null,
            "_view_module": "@jupyter-widgets/controls",
            "_view_module_version": "1.5.0",
            "_view_name": "PasswordView",
            "continuous_update": true,
            "description": "Token:",
            "description_tooltip": null,
            "disabled": false,
            "layout": "IPY_MODEL_1428eff62e2249f3bd0b4c5b2d15ba5e",
            "placeholder": "​",
            "style": "IPY_MODEL_887ced12df704e46b0d8670c13c5088b",
            "value": ""
          }
        },
        "598dcd14a885402fb09fc27fdfcc0f69": {
          "model_module": "@jupyter-widgets/controls",
          "model_name": "CheckboxModel",
          "model_module_version": "1.5.0",
          "state": {
            "_dom_classes": [],
            "_model_module": "@jupyter-widgets/controls",
            "_model_module_version": "1.5.0",
            "_model_name": "CheckboxModel",
            "_view_count": null,
            "_view_module": "@jupyter-widgets/controls",
            "_view_module_version": "1.5.0",
            "_view_name": "CheckboxView",
            "description": "Add token as git credential?",
            "description_tooltip": null,
            "disabled": false,
            "indent": true,
            "layout": "IPY_MODEL_66142e5d9eb34c9487161127b2035350",
            "style": "IPY_MODEL_3cd5bc1b7d744fa5b2ba9a2405b04da0",
            "value": true
          }
        },
        "92e2d1330b394097a7f3708327c94e64": {
          "model_module": "@jupyter-widgets/controls",
          "model_name": "ButtonModel",
          "model_module_version": "1.5.0",
          "state": {
            "_dom_classes": [],
            "_model_module": "@jupyter-widgets/controls",
            "_model_module_version": "1.5.0",
            "_model_name": "ButtonModel",
            "_view_count": null,
            "_view_module": "@jupyter-widgets/controls",
            "_view_module_version": "1.5.0",
            "_view_name": "ButtonView",
            "button_style": "",
            "description": "Login",
            "disabled": false,
            "icon": "",
            "layout": "IPY_MODEL_1c8d6a0164fc42cb91b2f801828c3245",
            "style": "IPY_MODEL_af4fbdeff8ba4dc8b28aa1e02784bbfc",
            "tooltip": ""
          }
        },
        "8637a54bcb604e99a2dad26260e3ad35": {
          "model_module": "@jupyter-widgets/controls",
          "model_name": "HTMLModel",
          "model_module_version": "1.5.0",
          "state": {
            "_dom_classes": [],
            "_model_module": "@jupyter-widgets/controls",
            "_model_module_version": "1.5.0",
            "_model_name": "HTMLModel",
            "_view_count": null,
            "_view_module": "@jupyter-widgets/controls",
            "_view_module_version": "1.5.0",
            "_view_name": "HTMLView",
            "description": "",
            "description_tooltip": null,
            "layout": "IPY_MODEL_d0fc4890d74d4322b81ce2906ed15ecd",
            "placeholder": "​",
            "style": "IPY_MODEL_bafadc07f1b948769c9b3a11d66df969",
            "value": "\n<b>Pro Tip:</b> If you don't already have one, you can create a dedicated\n'notebooks' token with 'write' access, that you can then easily reuse for all\nnotebooks. </center>"
          }
        },
        "fe98a852df734bfebc02cf0d52d248e3": {
          "model_module": "@jupyter-widgets/base",
          "model_name": "LayoutModel",
          "model_module_version": "1.2.0",
          "state": {
            "_model_module": "@jupyter-widgets/base",
            "_model_module_version": "1.2.0",
            "_model_name": "LayoutModel",
            "_view_count": null,
            "_view_module": "@jupyter-widgets/base",
            "_view_module_version": "1.2.0",
            "_view_name": "LayoutView",
            "align_content": null,
            "align_items": "center",
            "align_self": null,
            "border": null,
            "bottom": null,
            "display": "flex",
            "flex": null,
            "flex_flow": "column",
            "grid_area": null,
            "grid_auto_columns": null,
            "grid_auto_flow": null,
            "grid_auto_rows": null,
            "grid_column": null,
            "grid_gap": null,
            "grid_row": null,
            "grid_template_areas": null,
            "grid_template_columns": null,
            "grid_template_rows": null,
            "height": null,
            "justify_content": null,
            "justify_items": null,
            "left": null,
            "margin": null,
            "max_height": null,
            "max_width": null,
            "min_height": null,
            "min_width": null,
            "object_fit": null,
            "object_position": null,
            "order": null,
            "overflow": null,
            "overflow_x": null,
            "overflow_y": null,
            "padding": null,
            "right": null,
            "top": null,
            "visibility": null,
            "width": "50%"
          }
        },
        "4e12ae4809174b18ac82dfac7d8d1554": {
          "model_module": "@jupyter-widgets/base",
          "model_name": "LayoutModel",
          "model_module_version": "1.2.0",
          "state": {
            "_model_module": "@jupyter-widgets/base",
            "_model_module_version": "1.2.0",
            "_model_name": "LayoutModel",
            "_view_count": null,
            "_view_module": "@jupyter-widgets/base",
            "_view_module_version": "1.2.0",
            "_view_name": "LayoutView",
            "align_content": null,
            "align_items": null,
            "align_self": null,
            "border": null,
            "bottom": null,
            "display": null,
            "flex": null,
            "flex_flow": null,
            "grid_area": null,
            "grid_auto_columns": null,
            "grid_auto_flow": null,
            "grid_auto_rows": null,
            "grid_column": null,
            "grid_gap": null,
            "grid_row": null,
            "grid_template_areas": null,
            "grid_template_columns": null,
            "grid_template_rows": null,
            "height": null,
            "justify_content": null,
            "justify_items": null,
            "left": null,
            "margin": null,
            "max_height": null,
            "max_width": null,
            "min_height": null,
            "min_width": null,
            "object_fit": null,
            "object_position": null,
            "order": null,
            "overflow": null,
            "overflow_x": null,
            "overflow_y": null,
            "padding": null,
            "right": null,
            "top": null,
            "visibility": null,
            "width": null
          }
        },
        "8dc72d7f6da94d2aa8cb0773461792e3": {
          "model_module": "@jupyter-widgets/controls",
          "model_name": "DescriptionStyleModel",
          "model_module_version": "1.5.0",
          "state": {
            "_model_module": "@jupyter-widgets/controls",
            "_model_module_version": "1.5.0",
            "_model_name": "DescriptionStyleModel",
            "_view_count": null,
            "_view_module": "@jupyter-widgets/base",
            "_view_module_version": "1.2.0",
            "_view_name": "StyleView",
            "description_width": ""
          }
        },
        "1428eff62e2249f3bd0b4c5b2d15ba5e": {
          "model_module": "@jupyter-widgets/base",
          "model_name": "LayoutModel",
          "model_module_version": "1.2.0",
          "state": {
            "_model_module": "@jupyter-widgets/base",
            "_model_module_version": "1.2.0",
            "_model_name": "LayoutModel",
            "_view_count": null,
            "_view_module": "@jupyter-widgets/base",
            "_view_module_version": "1.2.0",
            "_view_name": "LayoutView",
            "align_content": null,
            "align_items": null,
            "align_self": null,
            "border": null,
            "bottom": null,
            "display": null,
            "flex": null,
            "flex_flow": null,
            "grid_area": null,
            "grid_auto_columns": null,
            "grid_auto_flow": null,
            "grid_auto_rows": null,
            "grid_column": null,
            "grid_gap": null,
            "grid_row": null,
            "grid_template_areas": null,
            "grid_template_columns": null,
            "grid_template_rows": null,
            "height": null,
            "justify_content": null,
            "justify_items": null,
            "left": null,
            "margin": null,
            "max_height": null,
            "max_width": null,
            "min_height": null,
            "min_width": null,
            "object_fit": null,
            "object_position": null,
            "order": null,
            "overflow": null,
            "overflow_x": null,
            "overflow_y": null,
            "padding": null,
            "right": null,
            "top": null,
            "visibility": null,
            "width": null
          }
        },
        "887ced12df704e46b0d8670c13c5088b": {
          "model_module": "@jupyter-widgets/controls",
          "model_name": "DescriptionStyleModel",
          "model_module_version": "1.5.0",
          "state": {
            "_model_module": "@jupyter-widgets/controls",
            "_model_module_version": "1.5.0",
            "_model_name": "DescriptionStyleModel",
            "_view_count": null,
            "_view_module": "@jupyter-widgets/base",
            "_view_module_version": "1.2.0",
            "_view_name": "StyleView",
            "description_width": ""
          }
        },
        "66142e5d9eb34c9487161127b2035350": {
          "model_module": "@jupyter-widgets/base",
          "model_name": "LayoutModel",
          "model_module_version": "1.2.0",
          "state": {
            "_model_module": "@jupyter-widgets/base",
            "_model_module_version": "1.2.0",
            "_model_name": "LayoutModel",
            "_view_count": null,
            "_view_module": "@jupyter-widgets/base",
            "_view_module_version": "1.2.0",
            "_view_name": "LayoutView",
            "align_content": null,
            "align_items": null,
            "align_self": null,
            "border": null,
            "bottom": null,
            "display": null,
            "flex": null,
            "flex_flow": null,
            "grid_area": null,
            "grid_auto_columns": null,
            "grid_auto_flow": null,
            "grid_auto_rows": null,
            "grid_column": null,
            "grid_gap": null,
            "grid_row": null,
            "grid_template_areas": null,
            "grid_template_columns": null,
            "grid_template_rows": null,
            "height": null,
            "justify_content": null,
            "justify_items": null,
            "left": null,
            "margin": null,
            "max_height": null,
            "max_width": null,
            "min_height": null,
            "min_width": null,
            "object_fit": null,
            "object_position": null,
            "order": null,
            "overflow": null,
            "overflow_x": null,
            "overflow_y": null,
            "padding": null,
            "right": null,
            "top": null,
            "visibility": null,
            "width": null
          }
        },
        "3cd5bc1b7d744fa5b2ba9a2405b04da0": {
          "model_module": "@jupyter-widgets/controls",
          "model_name": "DescriptionStyleModel",
          "model_module_version": "1.5.0",
          "state": {
            "_model_module": "@jupyter-widgets/controls",
            "_model_module_version": "1.5.0",
            "_model_name": "DescriptionStyleModel",
            "_view_count": null,
            "_view_module": "@jupyter-widgets/base",
            "_view_module_version": "1.2.0",
            "_view_name": "StyleView",
            "description_width": ""
          }
        },
        "1c8d6a0164fc42cb91b2f801828c3245": {
          "model_module": "@jupyter-widgets/base",
          "model_name": "LayoutModel",
          "model_module_version": "1.2.0",
          "state": {
            "_model_module": "@jupyter-widgets/base",
            "_model_module_version": "1.2.0",
            "_model_name": "LayoutModel",
            "_view_count": null,
            "_view_module": "@jupyter-widgets/base",
            "_view_module_version": "1.2.0",
            "_view_name": "LayoutView",
            "align_content": null,
            "align_items": null,
            "align_self": null,
            "border": null,
            "bottom": null,
            "display": null,
            "flex": null,
            "flex_flow": null,
            "grid_area": null,
            "grid_auto_columns": null,
            "grid_auto_flow": null,
            "grid_auto_rows": null,
            "grid_column": null,
            "grid_gap": null,
            "grid_row": null,
            "grid_template_areas": null,
            "grid_template_columns": null,
            "grid_template_rows": null,
            "height": null,
            "justify_content": null,
            "justify_items": null,
            "left": null,
            "margin": null,
            "max_height": null,
            "max_width": null,
            "min_height": null,
            "min_width": null,
            "object_fit": null,
            "object_position": null,
            "order": null,
            "overflow": null,
            "overflow_x": null,
            "overflow_y": null,
            "padding": null,
            "right": null,
            "top": null,
            "visibility": null,
            "width": null
          }
        },
        "af4fbdeff8ba4dc8b28aa1e02784bbfc": {
          "model_module": "@jupyter-widgets/controls",
          "model_name": "ButtonStyleModel",
          "model_module_version": "1.5.0",
          "state": {
            "_model_module": "@jupyter-widgets/controls",
            "_model_module_version": "1.5.0",
            "_model_name": "ButtonStyleModel",
            "_view_count": null,
            "_view_module": "@jupyter-widgets/base",
            "_view_module_version": "1.2.0",
            "_view_name": "StyleView",
            "button_color": null,
            "font_weight": ""
          }
        },
        "d0fc4890d74d4322b81ce2906ed15ecd": {
          "model_module": "@jupyter-widgets/base",
          "model_name": "LayoutModel",
          "model_module_version": "1.2.0",
          "state": {
            "_model_module": "@jupyter-widgets/base",
            "_model_module_version": "1.2.0",
            "_model_name": "LayoutModel",
            "_view_count": null,
            "_view_module": "@jupyter-widgets/base",
            "_view_module_version": "1.2.0",
            "_view_name": "LayoutView",
            "align_content": null,
            "align_items": null,
            "align_self": null,
            "border": null,
            "bottom": null,
            "display": null,
            "flex": null,
            "flex_flow": null,
            "grid_area": null,
            "grid_auto_columns": null,
            "grid_auto_flow": null,
            "grid_auto_rows": null,
            "grid_column": null,
            "grid_gap": null,
            "grid_row": null,
            "grid_template_areas": null,
            "grid_template_columns": null,
            "grid_template_rows": null,
            "height": null,
            "justify_content": null,
            "justify_items": null,
            "left": null,
            "margin": null,
            "max_height": null,
            "max_width": null,
            "min_height": null,
            "min_width": null,
            "object_fit": null,
            "object_position": null,
            "order": null,
            "overflow": null,
            "overflow_x": null,
            "overflow_y": null,
            "padding": null,
            "right": null,
            "top": null,
            "visibility": null,
            "width": null
          }
        },
        "bafadc07f1b948769c9b3a11d66df969": {
          "model_module": "@jupyter-widgets/controls",
          "model_name": "DescriptionStyleModel",
          "model_module_version": "1.5.0",
          "state": {
            "_model_module": "@jupyter-widgets/controls",
            "_model_module_version": "1.5.0",
            "_model_name": "DescriptionStyleModel",
            "_view_count": null,
            "_view_module": "@jupyter-widgets/base",
            "_view_module_version": "1.2.0",
            "_view_name": "StyleView",
            "description_width": ""
          }
        },
        "a8c92b1e80b74b46bd1999c895246153": {
          "model_module": "@jupyter-widgets/controls",
          "model_name": "LabelModel",
          "model_module_version": "1.5.0",
          "state": {
            "_dom_classes": [],
            "_model_module": "@jupyter-widgets/controls",
            "_model_module_version": "1.5.0",
            "_model_name": "LabelModel",
            "_view_count": null,
            "_view_module": "@jupyter-widgets/controls",
            "_view_module_version": "1.5.0",
            "_view_name": "LabelView",
            "description": "",
            "description_tooltip": null,
            "layout": "IPY_MODEL_32fe461b631745e9be90d339cca1f89e",
            "placeholder": "​",
            "style": "IPY_MODEL_256261bf62c745159745fe2d7daaa086",
            "value": "Connecting..."
          }
        },
        "32fe461b631745e9be90d339cca1f89e": {
          "model_module": "@jupyter-widgets/base",
          "model_name": "LayoutModel",
          "model_module_version": "1.2.0",
          "state": {
            "_model_module": "@jupyter-widgets/base",
            "_model_module_version": "1.2.0",
            "_model_name": "LayoutModel",
            "_view_count": null,
            "_view_module": "@jupyter-widgets/base",
            "_view_module_version": "1.2.0",
            "_view_name": "LayoutView",
            "align_content": null,
            "align_items": null,
            "align_self": null,
            "border": null,
            "bottom": null,
            "display": null,
            "flex": null,
            "flex_flow": null,
            "grid_area": null,
            "grid_auto_columns": null,
            "grid_auto_flow": null,
            "grid_auto_rows": null,
            "grid_column": null,
            "grid_gap": null,
            "grid_row": null,
            "grid_template_areas": null,
            "grid_template_columns": null,
            "grid_template_rows": null,
            "height": null,
            "justify_content": null,
            "justify_items": null,
            "left": null,
            "margin": null,
            "max_height": null,
            "max_width": null,
            "min_height": null,
            "min_width": null,
            "object_fit": null,
            "object_position": null,
            "order": null,
            "overflow": null,
            "overflow_x": null,
            "overflow_y": null,
            "padding": null,
            "right": null,
            "top": null,
            "visibility": null,
            "width": null
          }
        },
        "256261bf62c745159745fe2d7daaa086": {
          "model_module": "@jupyter-widgets/controls",
          "model_name": "DescriptionStyleModel",
          "model_module_version": "1.5.0",
          "state": {
            "_model_module": "@jupyter-widgets/controls",
            "_model_module_version": "1.5.0",
            "_model_name": "DescriptionStyleModel",
            "_view_count": null,
            "_view_module": "@jupyter-widgets/base",
            "_view_module_version": "1.2.0",
            "_view_name": "StyleView",
            "description_width": ""
          }
        },
        "622f3cddc40b4d3cb8cc6377f57dc25d": {
          "model_module": "@jupyter-widgets/controls",
          "model_name": "LabelModel",
          "model_module_version": "1.5.0",
          "state": {
            "_dom_classes": [],
            "_model_module": "@jupyter-widgets/controls",
            "_model_module_version": "1.5.0",
            "_model_name": "LabelModel",
            "_view_count": null,
            "_view_module": "@jupyter-widgets/controls",
            "_view_module_version": "1.5.0",
            "_view_name": "LabelView",
            "description": "",
            "description_tooltip": null,
            "layout": "IPY_MODEL_b78feac8f7ac491c8e18d6566dc86654",
            "placeholder": "​",
            "style": "IPY_MODEL_213c979928e24540a051788f4132e0e0",
            "value": "Token is valid (permission: read)."
          }
        },
        "1c923b82ec194055b93cc3fc61bf37d8": {
          "model_module": "@jupyter-widgets/controls",
          "model_name": "LabelModel",
          "model_module_version": "1.5.0",
          "state": {
            "_dom_classes": [],
            "_model_module": "@jupyter-widgets/controls",
            "_model_module_version": "1.5.0",
            "_model_name": "LabelModel",
            "_view_count": null,
            "_view_module": "@jupyter-widgets/controls",
            "_view_module_version": "1.5.0",
            "_view_name": "LabelView",
            "description": "",
            "description_tooltip": null,
            "layout": "IPY_MODEL_cb3744d444074b4e9250cbfb6c797635",
            "placeholder": "​",
            "style": "IPY_MODEL_c99edb385d6741de8dee6694f5749da9",
            "value": "Your token has been saved in your configured git credential helpers (store)."
          }
        },
        "3cf674e4b4e6476d9f41a2501c11f4ec": {
          "model_module": "@jupyter-widgets/controls",
          "model_name": "LabelModel",
          "model_module_version": "1.5.0",
          "state": {
            "_dom_classes": [],
            "_model_module": "@jupyter-widgets/controls",
            "_model_module_version": "1.5.0",
            "_model_name": "LabelModel",
            "_view_count": null,
            "_view_module": "@jupyter-widgets/controls",
            "_view_module_version": "1.5.0",
            "_view_name": "LabelView",
            "description": "",
            "description_tooltip": null,
            "layout": "IPY_MODEL_a3b3a46306c745aba9cf02b378d70ab6",
            "placeholder": "​",
            "style": "IPY_MODEL_8a788c64e8c24f27bb051dd740e3e53c",
            "value": "Your token has been saved to /root/.cache/huggingface/token"
          }
        },
        "65031a7385aa452f80c10e21502e4822": {
          "model_module": "@jupyter-widgets/controls",
          "model_name": "LabelModel",
          "model_module_version": "1.5.0",
          "state": {
            "_dom_classes": [],
            "_model_module": "@jupyter-widgets/controls",
            "_model_module_version": "1.5.0",
            "_model_name": "LabelModel",
            "_view_count": null,
            "_view_module": "@jupyter-widgets/controls",
            "_view_module_version": "1.5.0",
            "_view_name": "LabelView",
            "description": "",
            "description_tooltip": null,
            "layout": "IPY_MODEL_02a2e8dbbf5747faaa1e5023c6c43678",
            "placeholder": "​",
            "style": "IPY_MODEL_afec062703154425963c1943567095c4",
            "value": "Login successful"
          }
        },
        "b78feac8f7ac491c8e18d6566dc86654": {
          "model_module": "@jupyter-widgets/base",
          "model_name": "LayoutModel",
          "model_module_version": "1.2.0",
          "state": {
            "_model_module": "@jupyter-widgets/base",
            "_model_module_version": "1.2.0",
            "_model_name": "LayoutModel",
            "_view_count": null,
            "_view_module": "@jupyter-widgets/base",
            "_view_module_version": "1.2.0",
            "_view_name": "LayoutView",
            "align_content": null,
            "align_items": null,
            "align_self": null,
            "border": null,
            "bottom": null,
            "display": null,
            "flex": null,
            "flex_flow": null,
            "grid_area": null,
            "grid_auto_columns": null,
            "grid_auto_flow": null,
            "grid_auto_rows": null,
            "grid_column": null,
            "grid_gap": null,
            "grid_row": null,
            "grid_template_areas": null,
            "grid_template_columns": null,
            "grid_template_rows": null,
            "height": null,
            "justify_content": null,
            "justify_items": null,
            "left": null,
            "margin": null,
            "max_height": null,
            "max_width": null,
            "min_height": null,
            "min_width": null,
            "object_fit": null,
            "object_position": null,
            "order": null,
            "overflow": null,
            "overflow_x": null,
            "overflow_y": null,
            "padding": null,
            "right": null,
            "top": null,
            "visibility": null,
            "width": null
          }
        },
        "213c979928e24540a051788f4132e0e0": {
          "model_module": "@jupyter-widgets/controls",
          "model_name": "DescriptionStyleModel",
          "model_module_version": "1.5.0",
          "state": {
            "_model_module": "@jupyter-widgets/controls",
            "_model_module_version": "1.5.0",
            "_model_name": "DescriptionStyleModel",
            "_view_count": null,
            "_view_module": "@jupyter-widgets/base",
            "_view_module_version": "1.2.0",
            "_view_name": "StyleView",
            "description_width": ""
          }
        },
        "cb3744d444074b4e9250cbfb6c797635": {
          "model_module": "@jupyter-widgets/base",
          "model_name": "LayoutModel",
          "model_module_version": "1.2.0",
          "state": {
            "_model_module": "@jupyter-widgets/base",
            "_model_module_version": "1.2.0",
            "_model_name": "LayoutModel",
            "_view_count": null,
            "_view_module": "@jupyter-widgets/base",
            "_view_module_version": "1.2.0",
            "_view_name": "LayoutView",
            "align_content": null,
            "align_items": null,
            "align_self": null,
            "border": null,
            "bottom": null,
            "display": null,
            "flex": null,
            "flex_flow": null,
            "grid_area": null,
            "grid_auto_columns": null,
            "grid_auto_flow": null,
            "grid_auto_rows": null,
            "grid_column": null,
            "grid_gap": null,
            "grid_row": null,
            "grid_template_areas": null,
            "grid_template_columns": null,
            "grid_template_rows": null,
            "height": null,
            "justify_content": null,
            "justify_items": null,
            "left": null,
            "margin": null,
            "max_height": null,
            "max_width": null,
            "min_height": null,
            "min_width": null,
            "object_fit": null,
            "object_position": null,
            "order": null,
            "overflow": null,
            "overflow_x": null,
            "overflow_y": null,
            "padding": null,
            "right": null,
            "top": null,
            "visibility": null,
            "width": null
          }
        },
        "c99edb385d6741de8dee6694f5749da9": {
          "model_module": "@jupyter-widgets/controls",
          "model_name": "DescriptionStyleModel",
          "model_module_version": "1.5.0",
          "state": {
            "_model_module": "@jupyter-widgets/controls",
            "_model_module_version": "1.5.0",
            "_model_name": "DescriptionStyleModel",
            "_view_count": null,
            "_view_module": "@jupyter-widgets/base",
            "_view_module_version": "1.2.0",
            "_view_name": "StyleView",
            "description_width": ""
          }
        },
        "a3b3a46306c745aba9cf02b378d70ab6": {
          "model_module": "@jupyter-widgets/base",
          "model_name": "LayoutModel",
          "model_module_version": "1.2.0",
          "state": {
            "_model_module": "@jupyter-widgets/base",
            "_model_module_version": "1.2.0",
            "_model_name": "LayoutModel",
            "_view_count": null,
            "_view_module": "@jupyter-widgets/base",
            "_view_module_version": "1.2.0",
            "_view_name": "LayoutView",
            "align_content": null,
            "align_items": null,
            "align_self": null,
            "border": null,
            "bottom": null,
            "display": null,
            "flex": null,
            "flex_flow": null,
            "grid_area": null,
            "grid_auto_columns": null,
            "grid_auto_flow": null,
            "grid_auto_rows": null,
            "grid_column": null,
            "grid_gap": null,
            "grid_row": null,
            "grid_template_areas": null,
            "grid_template_columns": null,
            "grid_template_rows": null,
            "height": null,
            "justify_content": null,
            "justify_items": null,
            "left": null,
            "margin": null,
            "max_height": null,
            "max_width": null,
            "min_height": null,
            "min_width": null,
            "object_fit": null,
            "object_position": null,
            "order": null,
            "overflow": null,
            "overflow_x": null,
            "overflow_y": null,
            "padding": null,
            "right": null,
            "top": null,
            "visibility": null,
            "width": null
          }
        },
        "8a788c64e8c24f27bb051dd740e3e53c": {
          "model_module": "@jupyter-widgets/controls",
          "model_name": "DescriptionStyleModel",
          "model_module_version": "1.5.0",
          "state": {
            "_model_module": "@jupyter-widgets/controls",
            "_model_module_version": "1.5.0",
            "_model_name": "DescriptionStyleModel",
            "_view_count": null,
            "_view_module": "@jupyter-widgets/base",
            "_view_module_version": "1.2.0",
            "_view_name": "StyleView",
            "description_width": ""
          }
        },
        "02a2e8dbbf5747faaa1e5023c6c43678": {
          "model_module": "@jupyter-widgets/base",
          "model_name": "LayoutModel",
          "model_module_version": "1.2.0",
          "state": {
            "_model_module": "@jupyter-widgets/base",
            "_model_module_version": "1.2.0",
            "_model_name": "LayoutModel",
            "_view_count": null,
            "_view_module": "@jupyter-widgets/base",
            "_view_module_version": "1.2.0",
            "_view_name": "LayoutView",
            "align_content": null,
            "align_items": null,
            "align_self": null,
            "border": null,
            "bottom": null,
            "display": null,
            "flex": null,
            "flex_flow": null,
            "grid_area": null,
            "grid_auto_columns": null,
            "grid_auto_flow": null,
            "grid_auto_rows": null,
            "grid_column": null,
            "grid_gap": null,
            "grid_row": null,
            "grid_template_areas": null,
            "grid_template_columns": null,
            "grid_template_rows": null,
            "height": null,
            "justify_content": null,
            "justify_items": null,
            "left": null,
            "margin": null,
            "max_height": null,
            "max_width": null,
            "min_height": null,
            "min_width": null,
            "object_fit": null,
            "object_position": null,
            "order": null,
            "overflow": null,
            "overflow_x": null,
            "overflow_y": null,
            "padding": null,
            "right": null,
            "top": null,
            "visibility": null,
            "width": null
          }
        },
        "afec062703154425963c1943567095c4": {
          "model_module": "@jupyter-widgets/controls",
          "model_name": "DescriptionStyleModel",
          "model_module_version": "1.5.0",
          "state": {
            "_model_module": "@jupyter-widgets/controls",
            "_model_module_version": "1.5.0",
            "_model_name": "DescriptionStyleModel",
            "_view_count": null,
            "_view_module": "@jupyter-widgets/base",
            "_view_module_version": "1.2.0",
            "_view_name": "StyleView",
            "description_width": ""
          }
        }
      }
    }
  },
  "nbformat": 4,
  "nbformat_minor": 0
}